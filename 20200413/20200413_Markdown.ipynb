{
 "cells": [
  {
   "cell_type": "code",
   "execution_count": null,
   "metadata": {},
   "outputs": [],
   "source": [
    "ESC : \n",
    "    h 단축키 모음집 \n",
    "    y code 작성\n",
    "    m 마크다운 작성\n",
    "    a 행추가\n",
    "    b 아래 행추가\n",
    "    dd 행 삭제\n",
    "    마크다운 상태에서 shift + enter"
   ]
  },
  {
   "cell_type": "markdown",
   "metadata": {},
   "source": [
    "# Markdown 연습"
   ]
  },
  {
   "cell_type": "markdown",
   "metadata": {},
   "source": [
    "제목 # #1~ #6"
   ]
  },
  {
   "cell_type": "markdown",
   "metadata": {},
   "source": [
    "---"
   ]
  },
  {
   "cell_type": "markdown",
   "metadata": {},
   "source": [
    "아무것도 붙이지 않으 \n",
    "fdsfsdfdsfdsfsdfsd\n",
    "fssdfdsfsdfsdf \n",
    "한줄로 붙는다  \n",
    "하지만 공백 한번은 br 태그 공백 두번은 p 태그가 붙는다.  \n",
    "그렇게 한칸 띄울수 있다"
   ]
  },
  {
   "cell_type": "markdown",
   "metadata": {},
   "source": [
    "1. 목록\n",
    "2. 목록\n",
    "3. 목록"
   ]
  },
  {
   "cell_type": "markdown",
   "metadata": {},
   "source": [
    "- 목록\n",
    "- 목록\n",
    "- 목록  \n",
    "######## - 는 동그라미 목록 나옴"
   ]
  },
  {
   "cell_type": "markdown",
   "metadata": {},
   "source": [
    "1. 목록\n",
    "  - 목록\n",
    "    1. 목록\n",
    "    2. 목록\n",
    "  - 목록\n",
    "2. 목록"
   ]
  },
  {
   "cell_type": "markdown",
   "metadata": {},
   "source": [
    "> 인용"
   ]
  },
  {
   "cell_type": "markdown",
   "metadata": {},
   "source": [
    "> www.naver.com"
   ]
  },
  {
   "cell_type": "markdown",
   "metadata": {},
   "source": [
    ">> www.naver.com"
   ]
  },
  {
   "cell_type": "markdown",
   "metadata": {},
   "source": [
    "**연습**입니다. "
   ]
  },
  {
   "cell_type": "markdown",
   "metadata": {},
   "source": [
    "__연습__입니다."
   ]
  },
  {
   "cell_type": "markdown",
   "metadata": {},
   "source": [
    "**__연습__** 입니다."
   ]
  },
  {
   "cell_type": "markdown",
   "metadata": {},
   "source": [
    "`연습` 입니다."
   ]
  },
  {
   "cell_type": "markdown",
   "metadata": {},
   "source": [
    "[다음](http://www.daum.net)\n",
    "## http 달아야 외부링크 연결"
   ]
  },
  {
   "cell_type": "markdown",
   "metadata": {},
   "source": [
    "``` python\n",
    "import python\n",
    "def x(selft):\n",
    "    return self.x\n",
    "## 파이썬 문법에 색이 생김\n",
    "```"
   ]
  },
  {
   "cell_type": "code",
   "execution_count": null,
   "metadata": {},
   "outputs": [],
   "source": []
  }
 ],
 "metadata": {
  "kernelspec": {
   "display_name": "Python 3",
   "language": "python",
   "name": "python3"
  },
  "language_info": {
   "codemirror_mode": {
    "name": "ipython",
    "version": 3
   },
   "file_extension": ".py",
   "mimetype": "text/x-python",
   "name": "python",
   "nbconvert_exporter": "python",
   "pygments_lexer": "ipython3",
   "version": "3.7.6"
  }
 },
 "nbformat": 4,
 "nbformat_minor": 4
}
