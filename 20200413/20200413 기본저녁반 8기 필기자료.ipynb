{
 "cells": [
  {
   "cell_type": "markdown",
   "metadata": {
    "toc": true
   },
   "source": [
    "<h1>Table of Contents<span class=\"tocSkip\"></span></h1>\n",
    "<div class=\"toc\"><ul class=\"toc-item\"><li><span><a href=\"#jupyter-notebook-기본-사용법\" data-toc-modified-id=\"jupyter-notebook-기본-사용법-1\"><span class=\"toc-item-num\">1&nbsp;&nbsp;</span>jupyter notebook 기본 사용법</a></span></li><li><span><a href=\"#Markdonw\" data-toc-modified-id=\"Markdonw-2\"><span class=\"toc-item-num\">2&nbsp;&nbsp;</span>Markdonw</a></span><ul class=\"toc-item\"><li><span><a href=\"#제목\" data-toc-modified-id=\"제목-2.1\"><span class=\"toc-item-num\">2.1&nbsp;&nbsp;</span>제목</a></span></li><li><span><a href=\"#구분선\" data-toc-modified-id=\"구분선-2.2\"><span class=\"toc-item-num\">2.2&nbsp;&nbsp;</span>구분선</a></span></li><li><span><a href=\"#줄바꿈\" data-toc-modified-id=\"줄바꿈-2.3\"><span class=\"toc-item-num\">2.3&nbsp;&nbsp;</span>줄바꿈</a></span></li><li><span><a href=\"#목록\" data-toc-modified-id=\"목록-2.4\"><span class=\"toc-item-num\">2.4&nbsp;&nbsp;</span>목록</a></span></li><li><span><a href=\"#인용\" data-toc-modified-id=\"인용-2.5\"><span class=\"toc-item-num\">2.5&nbsp;&nbsp;</span>인용</a></span></li><li><span><a href=\"#웹주소\" data-toc-modified-id=\"웹주소-2.6\"><span class=\"toc-item-num\">2.6&nbsp;&nbsp;</span>웹주소</a></span></li><li><span><a href=\"#강조\" data-toc-modified-id=\"강조-2.7\"><span class=\"toc-item-num\">2.7&nbsp;&nbsp;</span>강조</a></span></li><li><span><a href=\"#코드블럭\" data-toc-modified-id=\"코드블럭-2.8\"><span class=\"toc-item-num\">2.8&nbsp;&nbsp;</span>코드블럭</a></span></li><li><span><a href=\"#링크\" data-toc-modified-id=\"링크-2.9\"><span class=\"toc-item-num\">2.9&nbsp;&nbsp;</span>링크</a></span></li></ul></li><li><span><a href=\"#python\" data-toc-modified-id=\"python-3\"><span class=\"toc-item-num\">3&nbsp;&nbsp;</span>python</a></span><ul class=\"toc-item\"><li><span><a href=\"#antigravity\" data-toc-modified-id=\"antigravity-3.1\"><span class=\"toc-item-num\">3.1&nbsp;&nbsp;</span>antigravity</a></span></li><li><span><a href=\"#zen-of-python\" data-toc-modified-id=\"zen-of-python-3.2\"><span class=\"toc-item-num\">3.2&nbsp;&nbsp;</span>zen of python</a></span></li><li><span><a href=\"#할당\" data-toc-modified-id=\"할당-3.3\"><span class=\"toc-item-num\">3.3&nbsp;&nbsp;</span>할당</a></span></li><li><span><a href=\"#숫자형\" data-toc-modified-id=\"숫자형-3.4\"><span class=\"toc-item-num\">3.4&nbsp;&nbsp;</span>숫자형</a></span><ul class=\"toc-item\"><li><span><a href=\"#int\" data-toc-modified-id=\"int-3.4.1\"><span class=\"toc-item-num\">3.4.1&nbsp;&nbsp;</span>int</a></span></li><li><span><a href=\"#float\" data-toc-modified-id=\"float-3.4.2\"><span class=\"toc-item-num\">3.4.2&nbsp;&nbsp;</span>float</a></span></li><li><span><a href=\"#complex\" data-toc-modified-id=\"complex-3.4.3\"><span class=\"toc-item-num\">3.4.3&nbsp;&nbsp;</span>complex</a></span></li></ul></li><li><span><a href=\"#연산자\" data-toc-modified-id=\"연산자-3.5\"><span class=\"toc-item-num\">3.5&nbsp;&nbsp;</span>연산자</a></span><ul class=\"toc-item\"><li><span><a href=\"#진법\" data-toc-modified-id=\"진법-3.5.1\"><span class=\"toc-item-num\">3.5.1&nbsp;&nbsp;</span>진법</a></span></li></ul></li><li><span><a href=\"#도움말-보기\" data-toc-modified-id=\"도움말-보기-3.6\"><span class=\"toc-item-num\">3.6&nbsp;&nbsp;</span>도움말 보기</a></span></li><li><span><a href=\"#파일-저장\" data-toc-modified-id=\"파일-저장-3.7\"><span class=\"toc-item-num\">3.7&nbsp;&nbsp;</span>파일 저장</a></span></li><li><span><a href=\"#파이썬-내부의-숫자-시스템\" data-toc-modified-id=\"파이썬-내부의-숫자-시스템-3.8\"><span class=\"toc-item-num\">3.8&nbsp;&nbsp;</span>파이썬 내부의 숫자 시스템</a></span></li><li><span><a href=\"#복소수-연산\" data-toc-modified-id=\"복소수-연산-3.9\"><span class=\"toc-item-num\">3.9&nbsp;&nbsp;</span>복소수 연산</a></span></li></ul></li></ul></div>"
   ]
  },
  {
   "cell_type": "markdown",
   "metadata": {},
   "source": [
    "# [AI 오픈 이노베이션] 기본 저녁반<a class=\"tocSkip\">\n",
    "GitHub link: [https://github.com/realblack0/8th_ai_lecture_fundamental](https://github.com/realblack0/8th_ai_lecture_fundamental)  \n",
    "E-Mail: realblack0@gmail.com"
   ]
  },
  {
   "cell_type": "markdown",
   "metadata": {},
   "source": [
    "## jupyter notebook 기본 사용법"
   ]
  },
  {
   "cell_type": "markdown",
   "metadata": {},
   "source": [
    "- 셀 상태\n",
    "    - edit mode (입력 모드)\n",
    "        - Edit Mode는 셀 안에 코드를 입력할 수 있다. \n",
    "        - 셀 내부를 마우스 우클릭하거나 Command Mode에서 Edit Mode 진입 단축키(Enter)를 통해서 Mode를 전환할 수 있다.\n",
    "        - Edit Mode에서는 셀의 테두리가 초록색으로 바뀐다.\n",
    "    - command mode (명령형 모드)\n",
    "        - Command Mode는 셀 경계에서 단축키를 사용할 수 있다.  \n",
    "        - 셀 바깥의 여백에 대하여 마우스 우클릭하거나, Edit Mode에서 Command Mode 진입 단축키 (Esc 또는 Ctrl-m)를 통해서 Mode를 전환할 수 있다.\n",
    "        - Command Mode일 때는 셀의 테두리가 파란색으로 바뀐다."
   ]
  },
  {
   "cell_type": "markdown",
   "metadata": {},
   "source": [
    "- 셀 상태 변경 단축키 \n",
    "    - edit -> command 상태로 변경 : Esc \n",
    "\t- command -> edit 상태로 변경 : Enter"
   ]
  },
  {
   "cell_type": "markdown",
   "metadata": {},
   "source": [
    "## Markdonw"
   ]
  },
  {
   "cell_type": "markdown",
   "metadata": {},
   "source": [
    "Markdonw(마크다운)은 글을 쓸 때 간단한 서식을 자유롭게 사용할 수 있는 서식 문법이다.   \n",
    "markdown은 간단하고, 직관적이므로 필기하기 좋다.  \n",
    "jupyter notebook은 셀타입 변경을 통해 markdown을 이용할 수 있다."
   ]
  },
  {
   "cell_type": "markdown",
   "metadata": {},
   "source": [
    "- 셀 타입 \n",
    "    - code\n",
    "        - 코드를 입력할 수 있다. \n",
    "        - `shift` + `enter` 를 누르면 셀 내의 파이썬 코드가 실행된다.\n",
    "        - 셀 타입이 code일 때는 셀 좌측에 `In[ ]`이 보인다.\n",
    "        \n",
    "    - markdown\n",
    "        - 마크다운 문법을 입력할 수 있다. \n",
    "        - `shift` + `enter`를 누르면 셀 내의 코드가 마크다운 문법으로 렌더링된다.\n",
    "        - 셀 타입이 markdown일 때는 셀 좌측에 `In[ ]`이 안보인다.\n",
    "\n",
    "- 셀 타입 변경 단축기\n",
    "    - code → markdown : 명령형 모드에서 키보드 `m`키\n",
    "    - markdown → code : 명령형 모드에서 키보드 `y`키"
   ]
  },
  {
   "cell_type": "markdown",
   "metadata": {},
   "source": [
    "### 제목"
   ]
  },
  {
   "cell_type": "markdown",
   "metadata": {},
   "source": [
    "제목은 #1 ~ #6으로 6가지 형태로 표현할 수 있다."
   ]
  },
  {
   "cell_type": "raw",
   "metadata": {},
   "source": [
    "# 제목1\n",
    "## 제목2 \n",
    "### 제목3\n",
    "#### 제목4\n",
    "##### 제목5\n",
    "###### 제목 6"
   ]
  },
  {
   "cell_type": "markdown",
   "metadata": {},
   "source": [
    "위 코드를 마크다운 셀에 입력한 결과는 아래와 같다."
   ]
  },
  {
   "cell_type": "markdown",
   "metadata": {},
   "source": [
    "# 제목1<a class=\"tocSkip\">\n",
    "## 제목2 <a class=\"tocSkip\">\n",
    "### 제목3<a class=\"tocSkip\">\n",
    "#### 제목4<a class=\"tocSkip\">\n",
    "##### 제목5<a class=\"tocSkip\">\n",
    "###### 제목 6<a class=\"tocSkip\">"
   ]
  },
  {
   "cell_type": "markdown",
   "metadata": {},
   "source": [
    "### 구분선"
   ]
  },
  {
   "cell_type": "markdown",
   "metadata": {},
   "source": [
    "-를 세개 이상 쓰면 가로선을 그어 구분영역을 표시할 수 있다."
   ]
  },
  {
   "cell_type": "raw",
   "metadata": {},
   "source": [
    "---"
   ]
  },
  {
   "cell_type": "markdown",
   "metadata": {},
   "source": [
    "위 코드를 마크다운 셀에 입력한 결과는 아래와 같다."
   ]
  },
  {
   "cell_type": "markdown",
   "metadata": {},
   "source": [
    "---"
   ]
  },
  {
   "cell_type": "markdown",
   "metadata": {},
   "source": [
    "### 줄바꿈"
   ]
  },
  {
   "cell_type": "markdown",
   "metadata": {},
   "source": [
    "맨 끝에 공백문자 2개 이상(스페이스 등)을 사용하면 줄바꿈된다. \n",
    "\n",
    "- 공백 문자에 따른 차이\n",
    "    - enter 2번 : html의 < br >태그와 같음\n",
    "    - spacebar 2번 : html의 < p >태그와 같음"
   ]
  },
  {
   "cell_type": "raw",
   "metadata": {},
   "source": [
    "엔터\n",
    "\n",
    "두번"
   ]
  },
  {
   "cell_type": "raw",
   "metadata": {},
   "source": [
    "스페이스  \n",
    "두번"
   ]
  },
  {
   "cell_type": "markdown",
   "metadata": {},
   "source": [
    "위 코드를 마크다운 셀에 입력한 결과는 아래와 같다.  \n",
    "스페이스바 2번 썼을 때의 간격이 좀더 타이트하다."
   ]
  },
  {
   "cell_type": "markdown",
   "metadata": {},
   "source": [
    "엔터\n",
    "\n",
    "두번"
   ]
  },
  {
   "cell_type": "markdown",
   "metadata": {},
   "source": [
    "스페이스  \n",
    "두번"
   ]
  },
  {
   "cell_type": "markdown",
   "metadata": {},
   "source": [
    "### 목록"
   ]
  },
  {
   "cell_type": "markdown",
   "metadata": {},
   "source": [
    "순서가 있는 목록과 순서가 없는 목록을 모두 지원한다."
   ]
  },
  {
   "cell_type": "raw",
   "metadata": {},
   "source": [
    "1. 목록\n",
    "2. 목록\n",
    "3. 목록"
   ]
  },
  {
   "cell_type": "raw",
   "metadata": {},
   "source": [
    "- 목록\n",
    "- 목록\n",
    "- 목록"
   ]
  },
  {
   "cell_type": "markdown",
   "metadata": {},
   "source": [
    "위 코드를 마크다운 셀에 입력한 결과는 아래와 같다."
   ]
  },
  {
   "cell_type": "markdown",
   "metadata": {},
   "source": [
    "1. 목록\n",
    "2. 목록\n",
    "3. 목록"
   ]
  },
  {
   "cell_type": "markdown",
   "metadata": {},
   "source": [
    "- 목록\n",
    "- 목록\n",
    "- 목록"
   ]
  },
  {
   "cell_type": "markdown",
   "metadata": {},
   "source": [
    "목록은 중첩이 가능하며, 순서가 있는 목록과 순서가 없는 목록을 혼합하여 사용할 수 있다.  "
   ]
  },
  {
   "cell_type": "raw",
   "metadata": {},
   "source": [
    "1. 목록\n",
    "    - 목록\n",
    "        - 목록\n",
    "        - 목록\n",
    "    - 목록\n",
    "2. 목록\n",
    "    - 목록\n",
    "        1. 목록\n",
    "        2. 목록"
   ]
  },
  {
   "cell_type": "markdown",
   "metadata": {},
   "source": [
    "위 코드를 마크다운 셀에 입력한 결과는 아래와 같다."
   ]
  },
  {
   "cell_type": "markdown",
   "metadata": {},
   "source": [
    "1. 목록\n",
    "    - 목록\n",
    "        - 목록\n",
    "        - 목록\n",
    "    - 목록\n",
    "2. 목록\n",
    "    - 목록\n",
    "        1. 목록\n",
    "        2. 목록"
   ]
  },
  {
   "cell_type": "markdown",
   "metadata": {},
   "source": [
    "### 인용"
   ]
  },
  {
   "cell_type": "markdown",
   "metadata": {},
   "source": [
    "인용은 `>`로 표현한다."
   ]
  },
  {
   "cell_type": "raw",
   "metadata": {},
   "source": [
    "> 인용"
   ]
  },
  {
   "cell_type": "markdown",
   "metadata": {},
   "source": [
    "위 코드를 마크다운 셀에 입력한 결과는 아래와 같다."
   ]
  },
  {
   "cell_type": "markdown",
   "metadata": {},
   "source": [
    "> 인용"
   ]
  },
  {
   "cell_type": "markdown",
   "metadata": {},
   "source": [
    "인용 안에서 다른 마크다운 문법을 사용하거나, 다른 마크다운 문법 안에서 인용을 사용할 수 있다."
   ]
  },
  {
   "cell_type": "raw",
   "metadata": {},
   "source": [
    "> 1. 목록\n",
    "    - 인용"
   ]
  },
  {
   "cell_type": "raw",
   "metadata": {},
   "source": [
    "1. 목록\n",
    "    > 인용"
   ]
  },
  {
   "cell_type": "markdown",
   "metadata": {},
   "source": [
    "위 코드를 마크다운 셀에 입력한 결과는 아래와 같다."
   ]
  },
  {
   "cell_type": "markdown",
   "metadata": {},
   "source": [
    "> 1. 목록\n",
    "    - 인용"
   ]
  },
  {
   "cell_type": "markdown",
   "metadata": {},
   "source": [
    "1. 목록\n",
    "    > 인용"
   ]
  },
  {
   "cell_type": "markdown",
   "metadata": {},
   "source": [
    "인용은 중첩 사용이 가능하다."
   ]
  },
  {
   "cell_type": "raw",
   "metadata": {},
   "source": [
    "> 인용1\n",
    ">> 인용2\n",
    ">>> 인용3"
   ]
  },
  {
   "cell_type": "markdown",
   "metadata": {},
   "source": [
    "위 코드를 마크다운 셀에 입력한 결과는 아래와 같다."
   ]
  },
  {
   "cell_type": "markdown",
   "metadata": {},
   "source": [
    "> 인용1\n",
    ">> 인용2\n",
    ">>> 인용3"
   ]
  },
  {
   "cell_type": "markdown",
   "metadata": {},
   "source": [
    "### 웹주소"
   ]
  },
  {
   "cell_type": "markdown",
   "metadata": {},
   "source": [
    "웹 주소를 입력하면 자동으로 하이퍼링크가 생긴다."
   ]
  },
  {
   "cell_type": "raw",
   "metadata": {},
   "source": [
    "http://www.daum.net"
   ]
  },
  {
   "cell_type": "markdown",
   "metadata": {},
   "source": [
    "위 코드를 마크다운 셀에 입력한 결과는 아래와 같다."
   ]
  },
  {
   "cell_type": "markdown",
   "metadata": {},
   "source": [
    "http://www.daum.net"
   ]
  },
  {
   "cell_type": "markdown",
   "metadata": {},
   "source": [
    "### 강조"
   ]
  },
  {
   "cell_type": "raw",
   "metadata": {},
   "source": [
    "**두껍게** 입니다.\n",
    "_두껍게_ 입니다."
   ]
  },
  {
   "cell_type": "markdown",
   "metadata": {},
   "source": [
    "**두껍게** 입니다.  \n",
    "__두껍게__ 입니다."
   ]
  },
  {
   "cell_type": "raw",
   "metadata": {},
   "source": [
    "_기울기_ 입니다.  \n",
    "*기울기* 입니다."
   ]
  },
  {
   "cell_type": "markdown",
   "metadata": {},
   "source": [
    "_기울기_ 입니다.  \n",
    "*기울기* 입니다."
   ]
  },
  {
   "cell_type": "raw",
   "metadata": {},
   "source": [
    "**_두껍고 기울임체_** 입니다."
   ]
  },
  {
   "cell_type": "markdown",
   "metadata": {},
   "source": [
    "**_두껍고 기울임체_** 입니다."
   ]
  },
  {
   "cell_type": "raw",
   "metadata": {},
   "source": [
    "`코드블럭` 입니다."
   ]
  },
  {
   "cell_type": "markdown",
   "metadata": {},
   "source": [
    "`코드블럭` 입니다."
   ]
  },
  {
   "cell_type": "markdown",
   "metadata": {},
   "source": [
    "### 코드블럭"
   ]
  },
  {
   "cell_type": "raw",
   "metadata": {},
   "source": [
    "```\n",
    "import python\n",
    "\n",
    "def x(self):\n",
    "    return self.x\n",
    "```"
   ]
  },
  {
   "cell_type": "markdown",
   "metadata": {},
   "source": [
    "```\n",
    "import python\n",
    "\n",
    "def x(self):\n",
    "    return self.x\n",
    "```"
   ]
  },
  {
   "cell_type": "markdown",
   "metadata": {},
   "source": [
    "\\`\\`\\` 뒤에 언어명을 붙이면 해당 언어의 문법으로 표시해준다. "
   ]
  },
  {
   "cell_type": "raw",
   "metadata": {},
   "source": [
    "```python\n",
    "import python\n",
    "\n",
    "def x(self):\n",
    "    return self.x\n",
    "```"
   ]
  },
  {
   "cell_type": "markdown",
   "metadata": {},
   "source": [
    "```python\n",
    "import python\n",
    "\n",
    "def x(self):\n",
    "    return self.x\n",
    "```"
   ]
  },
  {
   "cell_type": "markdown",
   "metadata": {},
   "source": [
    "### 링크"
   ]
  },
  {
   "cell_type": "markdown",
   "metadata": {},
   "source": [
    "[A] 뒤에 (B)를 붙이면 A라는 이름에 B 하이퍼링크가 생긴다."
   ]
  },
  {
   "cell_type": "raw",
   "metadata": {},
   "source": [
    "[다음](http://www.daum.net)"
   ]
  },
  {
   "cell_type": "markdown",
   "metadata": {},
   "source": [
    "위 코드를 마크다운 셀에 입력한 결과는 아래와 같다."
   ]
  },
  {
   "cell_type": "markdown",
   "metadata": {},
   "source": [
    "[다음](http://www.daum.net)"
   ]
  },
  {
   "cell_type": "markdown",
   "metadata": {},
   "source": [
    "!를 앞에 붙이면 이미지를 출력할 수 있다. "
   ]
  },
  {
   "cell_type": "raw",
   "metadata": {},
   "source": [
    "![python](https://www.python.org/static/img/python-logo.png)"
   ]
  },
  {
   "cell_type": "markdown",
   "metadata": {},
   "source": [
    "위 코드를 마크다운 셀에 입력한 결과는 아래와 같다."
   ]
  },
  {
   "cell_type": "markdown",
   "metadata": {},
   "source": [
    "![python](https://www.python.org/static/img/python-logo.png)"
   ]
  },
  {
   "cell_type": "markdown",
   "metadata": {},
   "source": [
    "---"
   ]
  },
  {
   "cell_type": "markdown",
   "metadata": {},
   "source": [
    "## python"
   ]
  },
  {
   "cell_type": "markdown",
   "metadata": {},
   "source": [
    "### antigravity"
   ]
  },
  {
   "cell_type": "markdown",
   "metadata": {},
   "source": [
    "파이썬은 ①배우기 쉽고, ②강력한 ③프로그래밍 언어이다.  \n",
    "- 배우기 쉽다는 것은 주관적이다. 특히, 최근 개발된 언어 대부분이, 오랫동안 가장 많이 사용되고 있는 C 계열(C,C++,C# 등) 언어에 비해서 배우기 쉽다는 것이 중론이다. 그러나, 파이썬은 타 언어에 비해서 문법이 간결하고 배워야 하는 키워드가 작다는 점에서 상대적으로 쉬운 프로그래밍 언어라고 할 수 있다.  \n",
    "-  강력하다는 것 또한 주관적이다. 파이썬의 강력함에 대해서는 차후 수업을 진행하면서 더 알아보도록 한다. 우선, 강력함에 대해서 파이썬의 이스트에그인 `import antigravity`를 실행해 보자."
   ]
  },
  {
   "cell_type": "code",
   "execution_count": 1,
   "metadata": {},
   "outputs": [],
   "source": [
    "# https://xkcd.com/353/ 가 새 창으로 열린다.\n",
    "# 브라운저에 popup 제한이 설정되어 있으면 열리지 않을 수 있다.\n",
    "# kernel 실행 중에 한번만 뜬다. 다시 보려면 kernel restart 후 실행해야한다.\n",
    "import antigravity"
   ]
  },
  {
   "cell_type": "markdown",
   "metadata": {},
   "source": [
    "### zen of python"
   ]
  },
  {
   "cell_type": "markdown",
   "metadata": {},
   "source": [
    "프로그래밍 언어마다 프로그래밍 언어가 추구하는 철학이 있다.   \n",
    "파이썬의 철학에 대해서는 또다른 이스트에그인 `import this `(PEP20)에서 확인할 수 있다. "
   ]
  },
  {
   "cell_type": "code",
   "execution_count": 65,
   "metadata": {},
   "outputs": [
    {
     "name": "stdout",
     "output_type": "stream",
     "text": [
      "The Zen of Python, by Tim Peters\n",
      "\n",
      "Beautiful is better than ugly.\n",
      "Explicit is better than implicit.\n",
      "Simple is better than complex.\n",
      "Complex is better than complicated.\n",
      "Flat is better than nested.\n",
      "Sparse is better than dense.\n",
      "Readability counts.\n",
      "Special cases aren't special enough to break the rules.\n",
      "Although practicality beats purity.\n",
      "Errors should never pass silently.\n",
      "Unless explicitly silenced.\n",
      "In the face of ambiguity, refuse the temptation to guess.\n",
      "There should be one-- and preferably only one --obvious way to do it.\n",
      "Although that way may not be obvious at first unless you're Dutch.\n",
      "Now is better than never.\n",
      "Although never is often better than *right* now.\n",
      "If the implementation is hard to explain, it's a bad idea.\n",
      "If the implementation is easy to explain, it may be a good idea.\n",
      "Namespaces are one honking great idea -- let's do more of those!\n"
     ]
    }
   ],
   "source": [
    "# zen of python (파이썬의 선)\n",
    "import this"
   ]
  },
  {
   "cell_type": "markdown",
   "metadata": {},
   "source": [
    "### 할당"
   ]
  },
  {
   "cell_type": "markdown",
   "metadata": {},
   "source": [
    "파이썬은 다른 언어와 달리 선언과 할당이 동시에 일어난다. "
   ]
  },
  {
   "cell_type": "code",
   "execution_count": 8,
   "metadata": {},
   "outputs": [],
   "source": [
    "a = 1 # dynamic type"
   ]
  },
  {
   "cell_type": "markdown",
   "metadata": {},
   "source": []
  },
  {
   "cell_type": "code",
   "execution_count": 9,
   "metadata": {},
   "outputs": [
    {
     "data": {
      "text/plain": [
       "1"
      ]
     },
     "execution_count": 9,
     "metadata": {},
     "output_type": "execute_result"
    }
   ],
   "source": [
    "# out은 output 결과를 보여주는 창\n",
    "a"
   ]
  },
  {
   "cell_type": "markdown",
   "metadata": {},
   "source": [
    "`type`은 객체의 타입(자료형)을 알려준다."
   ]
  },
  {
   "cell_type": "code",
   "execution_count": 10,
   "metadata": {},
   "outputs": [
    {
     "data": {
      "text/plain": [
       "int"
      ]
     },
     "execution_count": 10,
     "metadata": {},
     "output_type": "execute_result"
    }
   ],
   "source": [
    "type(a)"
   ]
  },
  {
   "cell_type": "markdown",
   "metadata": {},
   "source": [
    "### 숫자형"
   ]
  },
  {
   "cell_type": "markdown",
   "metadata": {},
   "source": [
    "파이썬의 숫자형 자료형은 총 4가지가 있다."
   ]
  },
  {
   "cell_type": "markdown",
   "metadata": {},
   "source": [
    "1. int\n",
    "2. float\n",
    "3. complex\n",
    "4. bool"
   ]
  },
  {
   "cell_type": "markdown",
   "metadata": {},
   "source": [
    "#### int"
   ]
  },
  {
   "cell_type": "markdown",
   "metadata": {},
   "source": [
    "정수형 (int)은 숫자로 표현한다."
   ]
  },
  {
   "cell_type": "code",
   "execution_count": 3,
   "metadata": {},
   "outputs": [
    {
     "data": {
      "text/plain": [
       "1"
      ]
     },
     "execution_count": 3,
     "metadata": {},
     "output_type": "execute_result"
    }
   ],
   "source": [
    "1"
   ]
  },
  {
   "cell_type": "markdown",
   "metadata": {},
   "source": [
    "#### float"
   ]
  },
  {
   "cell_type": "markdown",
   "metadata": {},
   "source": [
    "부동소수(float)는 2가지 literal 방식으로 만들 수 있다. "
   ]
  },
  {
   "cell_type": "markdown",
   "metadata": {},
   "source": [
    "먼저, . 을 붙여서 부동소수를 표현할 수 있다. "
   ]
  },
  {
   "cell_type": "code",
   "execution_count": 4,
   "metadata": {},
   "outputs": [],
   "source": [
    "a = .1 # . 앞에 0이 생략되어도 float으로 인식\n",
    "b = 1. # . 뒤에 0이 생략되어도 float으로 인식"
   ]
  },
  {
   "cell_type": "code",
   "execution_count": 7,
   "metadata": {},
   "outputs": [
    {
     "data": {
      "text/plain": [
       "0.1"
      ]
     },
     "execution_count": 7,
     "metadata": {},
     "output_type": "execute_result"
    }
   ],
   "source": [
    "a"
   ]
  },
  {
   "cell_type": "code",
   "execution_count": 5,
   "metadata": {},
   "outputs": [
    {
     "data": {
      "text/plain": [
       "float"
      ]
     },
     "execution_count": 5,
     "metadata": {},
     "output_type": "execute_result"
    }
   ],
   "source": [
    "type(a)"
   ]
  },
  {
   "cell_type": "code",
   "execution_count": 8,
   "metadata": {},
   "outputs": [
    {
     "data": {
      "text/plain": [
       "1.0"
      ]
     },
     "execution_count": 8,
     "metadata": {},
     "output_type": "execute_result"
    }
   ],
   "source": [
    "b"
   ]
  },
  {
   "cell_type": "code",
   "execution_count": 6,
   "metadata": {},
   "outputs": [
    {
     "data": {
      "text/plain": [
       "float"
      ]
     },
     "execution_count": 6,
     "metadata": {},
     "output_type": "execute_result"
    }
   ],
   "source": [
    "type(b)"
   ]
  },
  {
   "cell_type": "markdown",
   "metadata": {},
   "source": [
    "또는 e를 붙여서 지수로 표현할 수 있다."
   ]
  },
  {
   "cell_type": "code",
   "execution_count": 15,
   "metadata": {},
   "outputs": [],
   "source": [
    "a = 1e2 # 1 x 10^2 와 같음"
   ]
  },
  {
   "cell_type": "code",
   "execution_count": 17,
   "metadata": {},
   "outputs": [
    {
     "data": {
      "text/plain": [
       "100.0"
      ]
     },
     "execution_count": 17,
     "metadata": {},
     "output_type": "execute_result"
    }
   ],
   "source": [
    "a"
   ]
  },
  {
   "cell_type": "code",
   "execution_count": 14,
   "metadata": {},
   "outputs": [
    {
     "data": {
      "text/plain": [
       "float"
      ]
     },
     "execution_count": 14,
     "metadata": {},
     "output_type": "execute_result"
    }
   ],
   "source": [
    "type(a)"
   ]
  },
  {
   "cell_type": "code",
   "execution_count": 9,
   "metadata": {},
   "outputs": [],
   "source": [
    "a = 1e-2 # 1 x 10^(-2) 와 같음"
   ]
  },
  {
   "cell_type": "code",
   "execution_count": 10,
   "metadata": {},
   "outputs": [
    {
     "data": {
      "text/plain": [
       "0.01"
      ]
     },
     "execution_count": 10,
     "metadata": {},
     "output_type": "execute_result"
    }
   ],
   "source": [
    "a"
   ]
  },
  {
   "cell_type": "code",
   "execution_count": 11,
   "metadata": {},
   "outputs": [
    {
     "data": {
      "text/plain": [
       "float"
      ]
     },
     "execution_count": 11,
     "metadata": {},
     "output_type": "execute_result"
    }
   ],
   "source": [
    "type(a)"
   ]
  },
  {
   "cell_type": "markdown",
   "metadata": {},
   "source": [
    "#### complex"
   ]
  },
  {
   "cell_type": "markdown",
   "metadata": {},
   "source": [
    "복소수(complex)는 j를 이용해서 표현한다.  \n",
    "j는 -1의 제곱근을 표현하는 허수이다. 실제로 존재하지 않으며 일반적으로 수학에서 i로 표기한다.  \n",
    "복소수는 허수와 실수로 구성된다."
   ]
  },
  {
   "cell_type": "code",
   "execution_count": 20,
   "metadata": {},
   "outputs": [],
   "source": [
    "a = 3+1j"
   ]
  },
  {
   "cell_type": "code",
   "execution_count": 21,
   "metadata": {},
   "outputs": [
    {
     "data": {
      "text/plain": [
       "(3+1j)"
      ]
     },
     "execution_count": 21,
     "metadata": {},
     "output_type": "execute_result"
    }
   ],
   "source": [
    "a"
   ]
  },
  {
   "cell_type": "markdown",
   "metadata": {},
   "source": [
    "### 연산자"
   ]
  },
  {
   "cell_type": "markdown",
   "metadata": {},
   "source": [
    "jupyter notebook은 REPL(Read-Eval-Print-Loop) 개발환경이다.  \n",
    "단일 사용자의 입력(예: 단일 식)을 취하고 이를 평가(실행)하고 결과를 사용자에게 반환시키는 단순한 상호작용 컴퓨터 프로그래밍 환경이다."
   ]
  },
  {
   "cell_type": "code",
   "execution_count": 30,
   "metadata": {},
   "outputs": [
    {
     "data": {
      "text/plain": [
       "6"
      ]
     },
     "execution_count": 30,
     "metadata": {},
     "output_type": "execute_result"
    }
   ],
   "source": [
    "3 + 3 # REPL, Playgound\n",
    "      # 실행 결과가 out [ ]에 출력된다."
   ]
  },
  {
   "cell_type": "code",
   "execution_count": 31,
   "metadata": {},
   "outputs": [
    {
     "data": {
      "text/plain": [
       "27"
      ]
     },
     "execution_count": 31,
     "metadata": {},
     "output_type": "execute_result"
    }
   ],
   "source": [
    "3 ** 3 # 제곱"
   ]
  },
  {
   "cell_type": "code",
   "execution_count": 32,
   "metadata": {},
   "outputs": [
    {
     "data": {
      "text/plain": [
       "0.037037037037037035"
      ]
     },
     "execution_count": 32,
     "metadata": {},
     "output_type": "execute_result"
    }
   ],
   "source": [
    "3 ** -3 # 마이너스는 제곱근"
   ]
  },
  {
   "cell_type": "code",
   "execution_count": 33,
   "metadata": {},
   "outputs": [
    {
     "data": {
      "text/plain": [
       "3.3333333333333335"
      ]
     },
     "execution_count": 33,
     "metadata": {},
     "output_type": "execute_result"
    }
   ],
   "source": [
    "10 / 3 # 나누기\n",
    "       # 마지막 소수가 5로 끝나는 것은 컴퓨터가 수를 표현하는 방식 때문이다."
   ]
  },
  {
   "cell_type": "code",
   "execution_count": 34,
   "metadata": {},
   "outputs": [
    {
     "data": {
      "text/plain": [
       "3"
      ]
     },
     "execution_count": 34,
     "metadata": {},
     "output_type": "execute_result"
    }
   ],
   "source": [
    "10 // 3 # 몫"
   ]
  },
  {
   "cell_type": "code",
   "execution_count": 35,
   "metadata": {},
   "outputs": [
    {
     "data": {
      "text/plain": [
       "1"
      ]
     },
     "execution_count": 35,
     "metadata": {},
     "output_type": "execute_result"
    }
   ],
   "source": [
    "10 % 3 # 나머지"
   ]
  },
  {
   "cell_type": "code",
   "execution_count": 36,
   "metadata": {},
   "outputs": [
    {
     "data": {
      "text/plain": [
       "-4"
      ]
     },
     "execution_count": 36,
     "metadata": {},
     "output_type": "execute_result"
    }
   ],
   "source": [
    "10 // -3 # 음수로 나눌 경우 몫"
   ]
  },
  {
   "cell_type": "code",
   "execution_count": 38,
   "metadata": {},
   "outputs": [
    {
     "data": {
      "text/plain": [
       "-2"
      ]
     },
     "execution_count": 38,
     "metadata": {},
     "output_type": "execute_result"
    }
   ],
   "source": [
    "10 % -3 # 음수로 나눌 경우 나머지"
   ]
  },
  {
   "cell_type": "markdown",
   "metadata": {},
   "source": [
    "#### 진법"
   ]
  },
  {
   "cell_type": "markdown",
   "metadata": {},
   "source": [
    "파이썬 int는 기본적으로 10진법이다.  \n",
    "10진법 이외의 수를 literl 방식으로 표현하는 방법은 다음과 같다."
   ]
  },
  {
   "cell_type": "markdown",
   "metadata": {},
   "source": [
    "- 0b: 2진법(**b**inary). 뒤에 0~1 사이의 값을 쓴다.\n",
    "- 0o: 8진법(**o**ctal). 뒤에 0~7 사의의 값을 쓴다.\n",
    "- 0x: 16진법(he**x**adecimal). 뒤에 0~9와 a~f 사이의 값을 쓴다."
   ]
  },
  {
   "cell_type": "code",
   "execution_count": 39,
   "metadata": {},
   "outputs": [
    {
     "data": {
      "text/plain": [
       "31"
      ]
     },
     "execution_count": 39,
     "metadata": {},
     "output_type": "execute_result"
    }
   ],
   "source": [
    "0b11111 # 2진법"
   ]
  },
  {
   "cell_type": "code",
   "execution_count": 48,
   "metadata": {},
   "outputs": [
    {
     "data": {
      "text/plain": [
       "9"
      ]
     },
     "execution_count": 48,
     "metadata": {},
     "output_type": "execute_result"
    }
   ],
   "source": [
    "0o11 # 8진법"
   ]
  },
  {
   "cell_type": "code",
   "execution_count": 14,
   "metadata": {},
   "outputs": [
    {
     "data": {
      "text/plain": [
       "2479"
      ]
     },
     "execution_count": 14,
     "metadata": {},
     "output_type": "execute_result"
    }
   ],
   "source": [
    "0x9af # 16진법"
   ]
  },
  {
   "cell_type": "markdown",
   "metadata": {},
   "source": [
    "### 도움말 보기"
   ]
  },
  {
   "cell_type": "code",
   "execution_count": 15,
   "metadata": {},
   "outputs": [],
   "source": [
    "import sys"
   ]
  },
  {
   "cell_type": "markdown",
   "metadata": {},
   "source": [
    "아래 코드에서 `maxsize`의 위에 커서를 두고, `shift`를 누른 상태에서 `tab` 키를 누르면 설명 팝업이 뜬다."
   ]
  },
  {
   "cell_type": "code",
   "execution_count": null,
   "metadata": {},
   "outputs": [],
   "source": [
    "sys.maxsize "
   ]
  },
  {
   "cell_type": "markdown",
   "metadata": {},
   "source": [
    "- `shift`를 누른 상태에서 `tab`을 2번 연속 누르면 팝업창이 조금 더 커진다.\n",
    "- `shift`를 누른 상태에서 `tab`을 3번 연속 누르면 팝업창 지속 시간이 생긴다.\n",
    "- `shift`를 누른 상태에서 `tab`을 4번 연속 누르면 화면 하단에 큰 팝업 창이 생긴다."
   ]
  },
  {
   "cell_type": "markdown",
   "metadata": {},
   "source": [
    "`?`를 앞에 붙이면 하단에 help 팝업이 뜬다.  \n",
    "`shift`+`tab` 4번과 같다."
   ]
  },
  {
   "cell_type": "code",
   "execution_count": 16,
   "metadata": {},
   "outputs": [],
   "source": [
    "?type "
   ]
  },
  {
   "cell_type": "markdown",
   "metadata": {},
   "source": [
    "### 파일 저장"
   ]
  },
  {
   "cell_type": "markdown",
   "metadata": {},
   "source": [
    "- jupyter notebook은 자동저장을 지원한다. (화면 상단에 auto save 라는 문구가 뜬다)\n",
    "- 다른이름으로 저장하려면 화면 상단의 file 메뉴 → save as...를 클릭한다."
   ]
  },
  {
   "cell_type": "markdown",
   "metadata": {},
   "source": [
    "### 파이썬 내부의 숫자 시스템"
   ]
  },
  {
   "cell_type": "markdown",
   "metadata": {},
   "source": [
    "파이썬에서 표현하는 정수 최대값은 다음과 같다."
   ]
  },
  {
   "cell_type": "code",
   "execution_count": 50,
   "metadata": {},
   "outputs": [
    {
     "data": {
      "text/plain": [
       "9223372036854775807"
      ]
     },
     "execution_count": 50,
     "metadata": {},
     "output_type": "execute_result"
    }
   ],
   "source": [
    "sys.maxsize"
   ]
  },
  {
   "cell_type": "markdown",
   "metadata": {},
   "source": [
    "최대값에 1을 더해도 오버플로우가 발생하지 않는다.  \n",
    "파이썬은 내부적으로 자동 확장해주므로 오버플로우 에러가 없다.  \n",
    "단, 실행 속도가 느려진다."
   ]
  },
  {
   "cell_type": "code",
   "execution_count": 51,
   "metadata": {},
   "outputs": [
    {
     "data": {
      "text/plain": [
       "9223372036854775808"
      ]
     },
     "execution_count": 51,
     "metadata": {},
     "output_type": "execute_result"
    }
   ],
   "source": [
    "9223372036854775807 + 1 "
   ]
  },
  {
   "cell_type": "markdown",
   "metadata": {},
   "source": [
    "0.1과 0.1을 더하면 0.2가 되지만,  \n",
    "0.1을 세번 더하면 0.30000000000000004이 된다.  \n",
    "컴퓨터는 부동소수를 2진 분수로 근사 표현하기 때문에 정확한 값을 표현할 수 없기 때문이다.  "
   ]
  },
  {
   "cell_type": "code",
   "execution_count": 52,
   "metadata": {},
   "outputs": [
    {
     "data": {
      "text/plain": [
       "0.2"
      ]
     },
     "execution_count": 52,
     "metadata": {},
     "output_type": "execute_result"
    }
   ],
   "source": [
    "0.1 + 0.1"
   ]
  },
  {
   "cell_type": "code",
   "execution_count": 53,
   "metadata": {},
   "outputs": [
    {
     "data": {
      "text/plain": [
       "0.30000000000000004"
      ]
     },
     "execution_count": 53,
     "metadata": {},
     "output_type": "execute_result"
    }
   ],
   "source": [
    "0.1 + 0.1 + 0.1"
   ]
  },
  {
   "cell_type": "markdown",
   "metadata": {},
   "source": [
    "float 타입의 최대 값은 1.7976931348623157e+308 이다."
   ]
  },
  {
   "cell_type": "code",
   "execution_count": 54,
   "metadata": {},
   "outputs": [
    {
     "data": {
      "text/plain": [
       "sys.float_info(max=1.7976931348623157e+308, max_exp=1024, max_10_exp=308, min=2.2250738585072014e-308, min_exp=-1021, min_10_exp=-307, dig=15, mant_dig=53, epsilon=2.220446049250313e-16, radix=2, rounds=1)"
      ]
     },
     "execution_count": 54,
     "metadata": {},
     "output_type": "execute_result"
    }
   ],
   "source": [
    "sys.float_info"
   ]
  },
  {
   "cell_type": "markdown",
   "metadata": {},
   "source": [
    "float의 최대값에 1을 더해도 값이 같다. "
   ]
  },
  {
   "cell_type": "code",
   "execution_count": 55,
   "metadata": {},
   "outputs": [
    {
     "data": {
      "text/plain": [
       "1.7976931348623157e+308"
      ]
     },
     "execution_count": 55,
     "metadata": {},
     "output_type": "execute_result"
    }
   ],
   "source": [
    "1.7976931348623157e+308 + 1"
   ]
  },
  {
   "cell_type": "markdown",
   "metadata": {},
   "source": [
    "`==`는 같은지 비교하는 연산자이다.  \n",
    "float은 엄청 큰 수에서는 1쯤 더한다해도 같은 수로 취급한다."
   ]
  },
  {
   "cell_type": "code",
   "execution_count": 17,
   "metadata": {},
   "outputs": [
    {
     "data": {
      "text/plain": [
       "True"
      ]
     },
     "execution_count": 17,
     "metadata": {},
     "output_type": "execute_result"
    }
   ],
   "source": [
    "1.7976931348623157e+308 + 1 == 1.7976931348623157e+308"
   ]
  },
  {
   "cell_type": "markdown",
   "metadata": {},
   "source": [
    "10의 1승을 더하면 inf(infinity, 무한대)가 출력된다.  \n",
    "int(정수)에는 무한대 개념이 없이 자동으로 확장되었지만, float은 무한대가 있다. "
   ]
  },
  {
   "cell_type": "code",
   "execution_count": 56,
   "metadata": {},
   "outputs": [
    {
     "data": {
      "text/plain": [
       "inf"
      ]
     },
     "execution_count": 56,
     "metadata": {},
     "output_type": "execute_result"
    }
   ],
   "source": [
    "1.7976931348623157e+309"
   ]
  },
  {
   "cell_type": "markdown",
   "metadata": {},
   "source": [
    "무한대는 다음과 같이 만들 수 있다."
   ]
  },
  {
   "cell_type": "code",
   "execution_count": 20,
   "metadata": {},
   "outputs": [
    {
     "data": {
      "text/plain": [
       "inf"
      ]
     },
     "execution_count": 20,
     "metadata": {},
     "output_type": "execute_result"
    }
   ],
   "source": [
    "float(1.7976931348623157e+309)"
   ]
  },
  {
   "cell_type": "code",
   "execution_count": 18,
   "metadata": {},
   "outputs": [
    {
     "data": {
      "text/plain": [
       "inf"
      ]
     },
     "execution_count": 18,
     "metadata": {},
     "output_type": "execute_result"
    }
   ],
   "source": [
    "float(\"inf\")"
   ]
  },
  {
   "cell_type": "markdown",
   "metadata": {},
   "source": [
    "비슷하게 생긴 nan 이라는 것도 있다.  \n",
    "숫자가 아닌 값을 표현할 때 사용한다."
   ]
  },
  {
   "cell_type": "code",
   "execution_count": 57,
   "metadata": {},
   "outputs": [
    {
     "data": {
      "text/plain": [
       "nan"
      ]
     },
     "execution_count": 57,
     "metadata": {},
     "output_type": "execute_result"
    }
   ],
   "source": [
    "float(\"NaN\") # Not a Number"
   ]
  },
  {
   "cell_type": "markdown",
   "metadata": {},
   "source": [
    "### 복소수 연산"
   ]
  },
  {
   "cell_type": "code",
   "execution_count": 21,
   "metadata": {},
   "outputs": [
    {
     "data": {
      "text/plain": [
       "3j"
      ]
     },
     "execution_count": 21,
     "metadata": {},
     "output_type": "execute_result"
    }
   ],
   "source": [
    "1j + 2j # 복소수 덧셈"
   ]
  },
  {
   "cell_type": "code",
   "execution_count": 24,
   "metadata": {},
   "outputs": [
    {
     "data": {
      "text/plain": [
       "-1j"
      ]
     },
     "execution_count": 24,
     "metadata": {},
     "output_type": "execute_result"
    }
   ],
   "source": [
    "1j - 2j # 복소수 뺄셈"
   ]
  },
  {
   "cell_type": "code",
   "execution_count": 58,
   "metadata": {},
   "outputs": [
    {
     "data": {
      "text/plain": [
       "(-1+0j)"
      ]
     },
     "execution_count": 58,
     "metadata": {},
     "output_type": "execute_result"
    }
   ],
   "source": [
    "1j * 1j # 복소수 곱셈"
   ]
  },
  {
   "cell_type": "code",
   "execution_count": 59,
   "metadata": {},
   "outputs": [
    {
     "data": {
      "text/plain": [
       "(-1+0j)"
      ]
     },
     "execution_count": 59,
     "metadata": {},
     "output_type": "execute_result"
    }
   ],
   "source": [
    "1j ** 2 # 복소수 제곱"
   ]
  },
  {
   "cell_type": "code",
   "execution_count": 25,
   "metadata": {},
   "outputs": [
    {
     "data": {
      "text/plain": [
       "(0.5+0j)"
      ]
     },
     "execution_count": 25,
     "metadata": {},
     "output_type": "execute_result"
    }
   ],
   "source": [
    "1j / 2j # 복소수 나눗셈\n",
    "        # 몫(//)과 나머지(%) 연산자는 지원하지 않음"
   ]
  },
  {
   "cell_type": "markdown",
   "metadata": {},
   "source": [
    "복소수는 크기가 없기 때문에 대소비교 연산자를 사용할 수 없다. "
   ]
  },
  {
   "cell_type": "code",
   "execution_count": 60,
   "metadata": {},
   "outputs": [
    {
     "ename": "TypeError",
     "evalue": "'<' not supported between instances of 'complex' and 'complex'",
     "output_type": "error",
     "traceback": [
      "\u001b[1;31m---------------------------------------------------------------------------\u001b[0m",
      "\u001b[1;31mTypeError\u001b[0m                                 Traceback (most recent call last)",
      "\u001b[1;32m<ipython-input-60-7572af75497b>\u001b[0m in \u001b[0;36m<module>\u001b[1;34m\u001b[0m\n\u001b[1;32m----> 1\u001b[1;33m \u001b[1;36m1j\u001b[0m \u001b[1;33m<\u001b[0m \u001b[1;36m2j\u001b[0m\u001b[1;33m\u001b[0m\u001b[1;33m\u001b[0m\u001b[0m\n\u001b[0m",
      "\u001b[1;31mTypeError\u001b[0m: '<' not supported between instances of 'complex' and 'complex'"
     ]
    }
   ],
   "source": [
    "# Error\n",
    "1j < 2j"
   ]
  },
  {
   "cell_type": "markdown",
   "metadata": {},
   "source": [
    "복소수끼리 같은지 비교는 가능하다."
   ]
  },
  {
   "cell_type": "code",
   "execution_count": 61,
   "metadata": {},
   "outputs": [
    {
     "data": {
      "text/plain": [
       "False"
      ]
     },
     "execution_count": 61,
     "metadata": {},
     "output_type": "execute_result"
    }
   ],
   "source": [
    "1j == 2j"
   ]
  },
  {
   "cell_type": "code",
   "execution_count": null,
   "metadata": {},
   "outputs": [],
   "source": []
  }
 ],
 "metadata": {
  "kernelspec": {
   "display_name": "Python 3",
   "language": "python",
   "name": "python3"
  },
  "language_info": {
   "codemirror_mode": {
    "name": "ipython",
    "version": 3
   },
   "file_extension": ".py",
   "mimetype": "text/x-python",
   "name": "python",
   "nbconvert_exporter": "python",
   "pygments_lexer": "ipython3",
   "version": "3.7.3"
  },
  "toc": {
   "base_numbering": 1,
   "nav_menu": {},
   "number_sections": true,
   "sideBar": true,
   "skip_h1_title": true,
   "title_cell": "Table of Contents",
   "title_sidebar": "Contents",
   "toc_cell": true,
   "toc_position": {
    "height": "calc(100% - 180px)",
    "left": "10px",
    "top": "150px",
    "width": "307.2px"
   },
   "toc_section_display": true,
   "toc_window_display": true
  },
  "varInspector": {
   "cols": {
    "lenName": 16,
    "lenType": 16,
    "lenVar": 40
   },
   "kernels_config": {
    "python": {
     "delete_cmd_postfix": "",
     "delete_cmd_prefix": "del ",
     "library": "var_list.py",
     "varRefreshCmd": "print(var_dic_list())"
    },
    "r": {
     "delete_cmd_postfix": ") ",
     "delete_cmd_prefix": "rm(",
     "library": "var_list.r",
     "varRefreshCmd": "cat(var_dic_list()) "
    }
   },
   "types_to_exclude": [
    "module",
    "function",
    "builtin_function_or_method",
    "instance",
    "_Feature"
   ],
   "window_display": false
  }
 },
 "nbformat": 4,
 "nbformat_minor": 2
}
