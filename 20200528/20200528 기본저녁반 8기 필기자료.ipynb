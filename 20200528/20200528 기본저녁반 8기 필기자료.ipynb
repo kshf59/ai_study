{
 "cells": [
  {
   "cell_type": "markdown",
   "metadata": {
    "toc": true
   },
   "source": [
    "<h1>Table of Contents<span class=\"tocSkip\"></span></h1>\n",
    "<div class=\"toc\"><ul class=\"toc-item\"><li><span><a href=\"#iris-dataset\" data-toc-modified-id=\"iris-dataset-1\"><span class=\"toc-item-num\">1&nbsp;&nbsp;</span>iris dataset</a></span></li><li><span><a href=\"#Ensemble\" data-toc-modified-id=\"Ensemble-2\"><span class=\"toc-item-num\">2&nbsp;&nbsp;</span>Ensemble</a></span><ul class=\"toc-item\"><li><span><a href=\"#Bagging\" data-toc-modified-id=\"Bagging-2.1\"><span class=\"toc-item-num\">2.1&nbsp;&nbsp;</span>Bagging</a></span><ul class=\"toc-item\"><li><span><a href=\"#Random-Forest\" data-toc-modified-id=\"Random-Forest-2.1.1\"><span class=\"toc-item-num\">2.1.1&nbsp;&nbsp;</span>Random Forest</a></span></li></ul></li><li><span><a href=\"#Voting\" data-toc-modified-id=\"Voting-2.2\"><span class=\"toc-item-num\">2.2&nbsp;&nbsp;</span>Voting</a></span><ul class=\"toc-item\"><li><span><a href=\"#VotingClassifier와-Pipeline과-GridSearchCV-연동\" data-toc-modified-id=\"VotingClassifier와-Pipeline과-GridSearchCV-연동-2.2.1\"><span class=\"toc-item-num\">2.2.1&nbsp;&nbsp;</span>VotingClassifier와 Pipeline과 GridSearchCV 연동</a></span></li><li><span><a href=\"#Pipeline과-GridSearchCV-연동해서-알고리즘과-하이퍼파라미터-찾기\" data-toc-modified-id=\"Pipeline과-GridSearchCV-연동해서-알고리즘과-하이퍼파라미터-찾기-2.2.2\"><span class=\"toc-item-num\">2.2.2&nbsp;&nbsp;</span>Pipeline과 GridSearchCV 연동해서 알고리즘과 하이퍼파라미터 찾기</a></span></li><li><span><a href=\"#VotingClassifier-안에-있는-알고리즘의-하이퍼-파라미터를-수정하는-방법\" data-toc-modified-id=\"VotingClassifier-안에-있는-알고리즘의-하이퍼-파라미터를-수정하는-방법-2.2.3\"><span class=\"toc-item-num\">2.2.3&nbsp;&nbsp;</span>VotingClassifier 안에 있는 알고리즘의 하이퍼 파라미터를 수정하는 방법</a></span></li><li><span><a href=\"#VotingClassifier의-하이퍼-파라미터와-알고리즘의-하이퍼-파라미터-동시에-찾기\" data-toc-modified-id=\"VotingClassifier의-하이퍼-파라미터와-알고리즘의-하이퍼-파라미터-동시에-찾기-2.2.4\"><span class=\"toc-item-num\">2.2.4&nbsp;&nbsp;</span>VotingClassifier의 하이퍼 파라미터와 알고리즘의 하이퍼 파라미터 동시에 찾기</a></span></li></ul></li><li><span><a href=\"#Boosting\" data-toc-modified-id=\"Boosting-2.3\"><span class=\"toc-item-num\">2.3&nbsp;&nbsp;</span>Boosting</a></span><ul class=\"toc-item\"><li><span><a href=\"#AdaBoost\" data-toc-modified-id=\"AdaBoost-2.3.1\"><span class=\"toc-item-num\">2.3.1&nbsp;&nbsp;</span>AdaBoost</a></span></li><li><span><a href=\"#xgboost\" data-toc-modified-id=\"xgboost-2.3.2\"><span class=\"toc-item-num\">2.3.2&nbsp;&nbsp;</span>xgboost</a></span></li></ul></li><li><span><a href=\"#Stacking\" data-toc-modified-id=\"Stacking-2.4\"><span class=\"toc-item-num\">2.4&nbsp;&nbsp;</span>Stacking</a></span></li></ul></li><li><span><a href=\"#make_column_transformer\" data-toc-modified-id=\"make_column_transformer-3\"><span class=\"toc-item-num\">3&nbsp;&nbsp;</span>make_column_transformer</a></span></li><li><span><a href=\"#비지도-학습\" data-toc-modified-id=\"비지도-학습-4\"><span class=\"toc-item-num\">4&nbsp;&nbsp;</span>비지도 학습</a></span><ul class=\"toc-item\"><li><span><a href=\"#KMeans\" data-toc-modified-id=\"KMeans-4.1\"><span class=\"toc-item-num\">4.1&nbsp;&nbsp;</span>KMeans</a></span></li></ul></li></ul></div>"
   ]
  },
  {
   "cell_type": "markdown",
   "metadata": {},
   "source": [
    "## iris dataset"
   ]
  },
  {
   "cell_type": "code",
   "execution_count": 6,
   "metadata": {},
   "outputs": [
    {
     "name": "stderr",
     "output_type": "stream",
     "text": [
      "C:\\Users\\JINHYO\\Anaconda3\\lib\\site-packages\\statsmodels\\tools\\_testing.py:19: FutureWarning: pandas.util.testing is deprecated. Use the functions in the public API at pandas.testing instead.\n",
      "  import pandas.util.testing as tm\n"
     ]
    }
   ],
   "source": [
    "import seaborn as sns"
   ]
  },
  {
   "cell_type": "code",
   "execution_count": 7,
   "metadata": {},
   "outputs": [],
   "source": [
    "iris = sns.load_dataset('iris')"
   ]
  },
  {
   "cell_type": "markdown",
   "metadata": {},
   "source": [
    "## Ensemble"
   ]
  },
  {
   "cell_type": "markdown",
   "metadata": {},
   "source": [
    "### Bagging"
   ]
  },
  {
   "cell_type": "code",
   "execution_count": 1,
   "metadata": {},
   "outputs": [],
   "source": [
    "from sklearn.ensemble import BaggingClassifier"
   ]
  },
  {
   "cell_type": "code",
   "execution_count": 2,
   "metadata": {},
   "outputs": [],
   "source": [
    "# bagging 기법은 편차를 줄여준다.\n",
    "# bagging 기법은 기본적으로 성능을 올리기 위한 목적이 아니다. \n",
    "# 데이터를 여러개로 쪼개서, 모델을 여러개 만든다.\n",
    "# 파라미터 n_estimators의 기본값은 10\n",
    "bc = BaggingClassifier()"
   ]
  },
  {
   "cell_type": "code",
   "execution_count": 7,
   "metadata": {},
   "outputs": [
    {
     "data": {
      "text/plain": [
       "BaggingClassifier(base_estimator=None, bootstrap=True, bootstrap_features=False,\n",
       "                  max_features=1.0, max_samples=1.0, n_estimators=10,\n",
       "                  n_jobs=None, oob_score=False, random_state=None, verbose=0,\n",
       "                  warm_start=False)"
      ]
     },
     "execution_count": 7,
     "metadata": {},
     "output_type": "execute_result"
    }
   ],
   "source": [
    "# scikit-learn 공통 사용법: fit하고 predict\n",
    "bc.fit(iris.iloc[:, :-1], iris.iloc[:, -1])"
   ]
  },
  {
   "cell_type": "code",
   "execution_count": 8,
   "metadata": {},
   "outputs": [
    {
     "data": {
      "text/plain": [
       "array(['virginica'], dtype=object)"
      ]
     },
     "execution_count": 8,
     "metadata": {},
     "output_type": "execute_result"
    }
   ],
   "source": [
    "bc.predict([[3, 3, 3, 3]])"
   ]
  },
  {
   "cell_type": "markdown",
   "metadata": {},
   "source": [
    "train set과 test set를 나누어서 성능을 측정해본다."
   ]
  },
  {
   "cell_type": "code",
   "execution_count": 8,
   "metadata": {},
   "outputs": [],
   "source": [
    "from sklearn.model_selection import train_test_split"
   ]
  },
  {
   "cell_type": "code",
   "execution_count": 9,
   "metadata": {},
   "outputs": [],
   "source": [
    "X_train, X_test, y_train, y_test = train_test_split(iris.iloc[:, :-1], iris.iloc[:, -1])"
   ]
  },
  {
   "cell_type": "code",
   "execution_count": 11,
   "metadata": {},
   "outputs": [],
   "source": [
    "# base_estimator를 넣지 않으면 기본값으로 DecisionTree 알고리즘이 사용된다. \n",
    "# 논문에서 DecisionTree을 사용했기 때문에 이를 따랐다. (bagging도 의사결정나무도 Leo breiman이 고안함)\n",
    "bc = BaggingClassifier()"
   ]
  },
  {
   "cell_type": "code",
   "execution_count": 12,
   "metadata": {},
   "outputs": [
    {
     "data": {
      "text/plain": [
       "BaggingClassifier(base_estimator=None, bootstrap=True, bootstrap_features=False,\n",
       "                  max_features=1.0, max_samples=1.0, n_estimators=10,\n",
       "                  n_jobs=None, oob_score=False, random_state=None, verbose=0,\n",
       "                  warm_start=False)"
      ]
     },
     "execution_count": 12,
     "metadata": {},
     "output_type": "execute_result"
    }
   ],
   "source": [
    "bc.fit(X_train, y_train)"
   ]
  },
  {
   "cell_type": "code",
   "execution_count": 13,
   "metadata": {},
   "outputs": [
    {
     "data": {
      "text/plain": [
       "1.0"
      ]
     },
     "execution_count": 13,
     "metadata": {},
     "output_type": "execute_result"
    }
   ],
   "source": [
    "# train set과 test set의 구성을 바꿔봐도 편차가 적다.\n",
    "bc.score(X_test, y_test)"
   ]
  },
  {
   "cell_type": "markdown",
   "metadata": {},
   "source": [
    "#### Random Forest"
   ]
  },
  {
   "cell_type": "code",
   "execution_count": 21,
   "metadata": {},
   "outputs": [],
   "source": [
    "from sklearn.ensemble import RandomForestClassifier"
   ]
  },
  {
   "cell_type": "code",
   "execution_count": 22,
   "metadata": {},
   "outputs": [],
   "source": [
    "# Decision Tree 알고리즘과 bagging기법을 합쳐서 만든 알고리즘이 Random Forest이다.\n",
    "# 이 알고리즘도 Leo Breiman이 고안했다.\n",
    "rf = RandomForestClassifier()"
   ]
  },
  {
   "cell_type": "code",
   "execution_count": 23,
   "metadata": {},
   "outputs": [
    {
     "data": {
      "text/plain": [
       "RandomForestClassifier(bootstrap=True, ccp_alpha=0.0, class_weight=None,\n",
       "                       criterion='gini', max_depth=None, max_features='auto',\n",
       "                       max_leaf_nodes=None, max_samples=None,\n",
       "                       min_impurity_decrease=0.0, min_impurity_split=None,\n",
       "                       min_samples_leaf=1, min_samples_split=2,\n",
       "                       min_weight_fraction_leaf=0.0, n_estimators=100,\n",
       "                       n_jobs=None, oob_score=False, random_state=None,\n",
       "                       verbose=0, warm_start=False)"
      ]
     },
     "execution_count": 23,
     "metadata": {},
     "output_type": "execute_result"
    }
   ],
   "source": [
    "rf.fit(X_train, y_train)"
   ]
  },
  {
   "cell_type": "code",
   "execution_count": 24,
   "metadata": {},
   "outputs": [
    {
     "data": {
      "text/plain": [
       "1.0"
      ]
     },
     "execution_count": 24,
     "metadata": {},
     "output_type": "execute_result"
    }
   ],
   "source": [
    "rf.score(X_test, y_test)"
   ]
  },
  {
   "cell_type": "markdown",
   "metadata": {},
   "source": [
    "### Voting"
   ]
  },
  {
   "cell_type": "code",
   "execution_count": 25,
   "metadata": {},
   "outputs": [],
   "source": [
    "# Voting은 알고리즘의 집단 지성을 이용하는 방법이다.\n",
    "from sklearn.ensemble import VotingClassifier"
   ]
  },
  {
   "cell_type": "code",
   "execution_count": 27,
   "metadata": {},
   "outputs": [],
   "source": [
    "from sklearn.linear_model import LogisticRegression"
   ]
  },
  {
   "cell_type": "code",
   "execution_count": 29,
   "metadata": {},
   "outputs": [],
   "source": [
    "# estimators 인자 -> 리스트 안에 튜플 / 튜플안에 (이름, 알고리즘) 형태\n",
    "# voting - hard : 모델 여러개로부터 다수결로 최종 예측\n",
    "#        - soft : 모델 여러개로부터 예측 확률을 종합해서 최종 예측 (predict_prob)\n",
    "vc = VotingClassifier([('lr', LogisticRegression()), ('rf', RandomForestClassifier())])"
   ]
  },
  {
   "cell_type": "code",
   "execution_count": 30,
   "metadata": {},
   "outputs": [
    {
     "data": {
      "text/plain": [
       "VotingClassifier(estimators=[('lr',\n",
       "                              LogisticRegression(C=1.0, class_weight=None,\n",
       "                                                 dual=False, fit_intercept=True,\n",
       "                                                 intercept_scaling=1,\n",
       "                                                 l1_ratio=None, max_iter=100,\n",
       "                                                 multi_class='auto',\n",
       "                                                 n_jobs=None, penalty='l2',\n",
       "                                                 random_state=None,\n",
       "                                                 solver='lbfgs', tol=0.0001,\n",
       "                                                 verbose=0, warm_start=False)),\n",
       "                             ('rf',\n",
       "                              RandomForestClassifier(bootstrap=True,\n",
       "                                                     ccp_alpha=0.0,\n",
       "                                                     class_weight=None,\n",
       "                                                     cr...ini',\n",
       "                                                     max_depth=None,\n",
       "                                                     max_features='auto',\n",
       "                                                     max_leaf_nodes=None,\n",
       "                                                     max_samples=None,\n",
       "                                                     min_impurity_decrease=0.0,\n",
       "                                                     min_impurity_split=None,\n",
       "                                                     min_samples_leaf=1,\n",
       "                                                     min_samples_split=2,\n",
       "                                                     min_weight_fraction_leaf=0.0,\n",
       "                                                     n_estimators=100,\n",
       "                                                     n_jobs=None,\n",
       "                                                     oob_score=False,\n",
       "                                                     random_state=None,\n",
       "                                                     verbose=0,\n",
       "                                                     warm_start=False))],\n",
       "                 flatten_transform=True, n_jobs=None, voting='hard',\n",
       "                 weights=None)"
      ]
     },
     "execution_count": 30,
     "metadata": {},
     "output_type": "execute_result"
    }
   ],
   "source": [
    "vc.fit(X_train, y_train)"
   ]
  },
  {
   "cell_type": "code",
   "execution_count": 34,
   "metadata": {},
   "outputs": [
    {
     "data": {
      "text/plain": [
       "array(['setosa'], dtype=object)"
      ]
     },
     "execution_count": 34,
     "metadata": {},
     "output_type": "execute_result"
    }
   ],
   "source": [
    "vc.predict([[3,3,3,3]])"
   ]
  },
  {
   "cell_type": "markdown",
   "metadata": {},
   "source": [
    "`VotingClassifier`에는 `transfrom`이 있다."
   ]
  },
  {
   "cell_type": "code",
   "execution_count": 35,
   "metadata": {},
   "outputs": [
    {
     "data": {
      "text/plain": [
       "array([[0, 2]])"
      ]
     },
     "execution_count": 35,
     "metadata": {},
     "output_type": "execute_result"
    }
   ],
   "source": [
    "# preprocessing의 transform과 역할이 다르다. (주의!)\n",
    "# 각 모델이 무엇으로 예측했는지 알려준다.\n",
    "# lr은 0으로 예측, rf는 2로 예측했다.\n",
    "vc.transform([[3,3,3,3]])"
   ]
  },
  {
   "cell_type": "code",
   "execution_count": 36,
   "metadata": {},
   "outputs": [
    {
     "data": {
      "text/plain": [
       "array([[2, 2],\n",
       "       [1, 1],\n",
       "       [0, 0],\n",
       "       [2, 2],\n",
       "       [1, 1],\n",
       "       [2, 2],\n",
       "       [2, 2],\n",
       "       [2, 2],\n",
       "       [2, 2],\n",
       "       [2, 2],\n",
       "       [0, 0],\n",
       "       [2, 2],\n",
       "       [0, 0],\n",
       "       [1, 1],\n",
       "       [2, 2],\n",
       "       [2, 2],\n",
       "       [0, 0],\n",
       "       [0, 0],\n",
       "       [2, 2],\n",
       "       [0, 0],\n",
       "       [0, 0],\n",
       "       [0, 0],\n",
       "       [2, 2],\n",
       "       [0, 0],\n",
       "       [0, 0],\n",
       "       [1, 1],\n",
       "       [2, 2],\n",
       "       [0, 0],\n",
       "       [2, 2],\n",
       "       [0, 0],\n",
       "       [0, 0],\n",
       "       [2, 2],\n",
       "       [2, 2],\n",
       "       [2, 2],\n",
       "       [2, 2],\n",
       "       [2, 2],\n",
       "       [2, 2],\n",
       "       [2, 2]])"
      ]
     },
     "execution_count": 36,
     "metadata": {},
     "output_type": "execute_result"
    }
   ],
   "source": [
    "# test 데이터마다 각 알고리즘이 예측한 값을 알 수 있다. \n",
    "vc.transform(X_test)"
   ]
  },
  {
   "cell_type": "code",
   "execution_count": 38,
   "metadata": {},
   "outputs": [],
   "source": [
    "import pandas as pd"
   ]
  },
  {
   "cell_type": "code",
   "execution_count": 39,
   "metadata": {},
   "outputs": [
    {
     "data": {
      "text/html": [
       "<div>\n",
       "<style scoped>\n",
       "    .dataframe tbody tr th:only-of-type {\n",
       "        vertical-align: middle;\n",
       "    }\n",
       "\n",
       "    .dataframe tbody tr th {\n",
       "        vertical-align: top;\n",
       "    }\n",
       "\n",
       "    .dataframe thead th {\n",
       "        text-align: right;\n",
       "    }\n",
       "</style>\n",
       "<table border=\"1\" class=\"dataframe\">\n",
       "  <thead>\n",
       "    <tr style=\"text-align: right;\">\n",
       "      <th></th>\n",
       "      <th>logistic regression</th>\n",
       "      <th>random forest</th>\n",
       "    </tr>\n",
       "  </thead>\n",
       "  <tbody>\n",
       "    <tr>\n",
       "      <th>0</th>\n",
       "      <td>2</td>\n",
       "      <td>2</td>\n",
       "    </tr>\n",
       "    <tr>\n",
       "      <th>1</th>\n",
       "      <td>1</td>\n",
       "      <td>1</td>\n",
       "    </tr>\n",
       "    <tr>\n",
       "      <th>2</th>\n",
       "      <td>0</td>\n",
       "      <td>0</td>\n",
       "    </tr>\n",
       "    <tr>\n",
       "      <th>3</th>\n",
       "      <td>2</td>\n",
       "      <td>2</td>\n",
       "    </tr>\n",
       "    <tr>\n",
       "      <th>4</th>\n",
       "      <td>1</td>\n",
       "      <td>1</td>\n",
       "    </tr>\n",
       "    <tr>\n",
       "      <th>5</th>\n",
       "      <td>2</td>\n",
       "      <td>2</td>\n",
       "    </tr>\n",
       "    <tr>\n",
       "      <th>6</th>\n",
       "      <td>2</td>\n",
       "      <td>2</td>\n",
       "    </tr>\n",
       "    <tr>\n",
       "      <th>7</th>\n",
       "      <td>2</td>\n",
       "      <td>2</td>\n",
       "    </tr>\n",
       "    <tr>\n",
       "      <th>8</th>\n",
       "      <td>2</td>\n",
       "      <td>2</td>\n",
       "    </tr>\n",
       "    <tr>\n",
       "      <th>9</th>\n",
       "      <td>2</td>\n",
       "      <td>2</td>\n",
       "    </tr>\n",
       "    <tr>\n",
       "      <th>10</th>\n",
       "      <td>0</td>\n",
       "      <td>0</td>\n",
       "    </tr>\n",
       "    <tr>\n",
       "      <th>11</th>\n",
       "      <td>2</td>\n",
       "      <td>2</td>\n",
       "    </tr>\n",
       "    <tr>\n",
       "      <th>12</th>\n",
       "      <td>0</td>\n",
       "      <td>0</td>\n",
       "    </tr>\n",
       "    <tr>\n",
       "      <th>13</th>\n",
       "      <td>1</td>\n",
       "      <td>1</td>\n",
       "    </tr>\n",
       "    <tr>\n",
       "      <th>14</th>\n",
       "      <td>2</td>\n",
       "      <td>2</td>\n",
       "    </tr>\n",
       "    <tr>\n",
       "      <th>15</th>\n",
       "      <td>2</td>\n",
       "      <td>2</td>\n",
       "    </tr>\n",
       "    <tr>\n",
       "      <th>16</th>\n",
       "      <td>0</td>\n",
       "      <td>0</td>\n",
       "    </tr>\n",
       "    <tr>\n",
       "      <th>17</th>\n",
       "      <td>0</td>\n",
       "      <td>0</td>\n",
       "    </tr>\n",
       "    <tr>\n",
       "      <th>18</th>\n",
       "      <td>2</td>\n",
       "      <td>2</td>\n",
       "    </tr>\n",
       "    <tr>\n",
       "      <th>19</th>\n",
       "      <td>0</td>\n",
       "      <td>0</td>\n",
       "    </tr>\n",
       "    <tr>\n",
       "      <th>20</th>\n",
       "      <td>0</td>\n",
       "      <td>0</td>\n",
       "    </tr>\n",
       "    <tr>\n",
       "      <th>21</th>\n",
       "      <td>0</td>\n",
       "      <td>0</td>\n",
       "    </tr>\n",
       "    <tr>\n",
       "      <th>22</th>\n",
       "      <td>2</td>\n",
       "      <td>2</td>\n",
       "    </tr>\n",
       "    <tr>\n",
       "      <th>23</th>\n",
       "      <td>0</td>\n",
       "      <td>0</td>\n",
       "    </tr>\n",
       "    <tr>\n",
       "      <th>24</th>\n",
       "      <td>0</td>\n",
       "      <td>0</td>\n",
       "    </tr>\n",
       "    <tr>\n",
       "      <th>25</th>\n",
       "      <td>1</td>\n",
       "      <td>1</td>\n",
       "    </tr>\n",
       "    <tr>\n",
       "      <th>26</th>\n",
       "      <td>2</td>\n",
       "      <td>2</td>\n",
       "    </tr>\n",
       "    <tr>\n",
       "      <th>27</th>\n",
       "      <td>0</td>\n",
       "      <td>0</td>\n",
       "    </tr>\n",
       "    <tr>\n",
       "      <th>28</th>\n",
       "      <td>2</td>\n",
       "      <td>2</td>\n",
       "    </tr>\n",
       "    <tr>\n",
       "      <th>29</th>\n",
       "      <td>0</td>\n",
       "      <td>0</td>\n",
       "    </tr>\n",
       "    <tr>\n",
       "      <th>30</th>\n",
       "      <td>0</td>\n",
       "      <td>0</td>\n",
       "    </tr>\n",
       "    <tr>\n",
       "      <th>31</th>\n",
       "      <td>2</td>\n",
       "      <td>2</td>\n",
       "    </tr>\n",
       "    <tr>\n",
       "      <th>32</th>\n",
       "      <td>2</td>\n",
       "      <td>2</td>\n",
       "    </tr>\n",
       "    <tr>\n",
       "      <th>33</th>\n",
       "      <td>2</td>\n",
       "      <td>2</td>\n",
       "    </tr>\n",
       "    <tr>\n",
       "      <th>34</th>\n",
       "      <td>2</td>\n",
       "      <td>2</td>\n",
       "    </tr>\n",
       "    <tr>\n",
       "      <th>35</th>\n",
       "      <td>2</td>\n",
       "      <td>2</td>\n",
       "    </tr>\n",
       "    <tr>\n",
       "      <th>36</th>\n",
       "      <td>2</td>\n",
       "      <td>2</td>\n",
       "    </tr>\n",
       "    <tr>\n",
       "      <th>37</th>\n",
       "      <td>2</td>\n",
       "      <td>2</td>\n",
       "    </tr>\n",
       "  </tbody>\n",
       "</table>\n",
       "</div>"
      ],
      "text/plain": [
       "    logistic regression  random forest\n",
       "0                     2              2\n",
       "1                     1              1\n",
       "2                     0              0\n",
       "3                     2              2\n",
       "4                     1              1\n",
       "5                     2              2\n",
       "6                     2              2\n",
       "7                     2              2\n",
       "8                     2              2\n",
       "9                     2              2\n",
       "10                    0              0\n",
       "11                    2              2\n",
       "12                    0              0\n",
       "13                    1              1\n",
       "14                    2              2\n",
       "15                    2              2\n",
       "16                    0              0\n",
       "17                    0              0\n",
       "18                    2              2\n",
       "19                    0              0\n",
       "20                    0              0\n",
       "21                    0              0\n",
       "22                    2              2\n",
       "23                    0              0\n",
       "24                    0              0\n",
       "25                    1              1\n",
       "26                    2              2\n",
       "27                    0              0\n",
       "28                    2              2\n",
       "29                    0              0\n",
       "30                    0              0\n",
       "31                    2              2\n",
       "32                    2              2\n",
       "33                    2              2\n",
       "34                    2              2\n",
       "35                    2              2\n",
       "36                    2              2\n",
       "37                    2              2"
      ]
     },
     "execution_count": 39,
     "metadata": {},
     "output_type": "execute_result"
    }
   ],
   "source": [
    "# pandas를 이용해서, 보고서 만들기 편하다.\n",
    "pd.DataFrame(vc.transform(X_test), columns=['logistic regression', 'random forest'])"
   ]
  },
  {
   "cell_type": "markdown",
   "metadata": {},
   "source": [
    "weights 옵션으로, 모델 마다 가중치를 얼마나 줄지 정할 수 있다. "
   ]
  },
  {
   "cell_type": "code",
   "execution_count": 40,
   "metadata": {},
   "outputs": [],
   "source": [
    "# 적절한 weights 비율을 찾는 절대적인 방법은 없다.\n",
    "# 알고리즘마다 따로 성능을 측정해보고, 그것에 비례해서 weights를 부여하는 방법도 있다.\n",
    "# 또는 GridSearchCV를 사용할 수도 있다.\n",
    "vc = VotingClassifier([('lr', LogisticRegression()), ('rf', RandomForestClassifier())], weights=[2,1])"
   ]
  },
  {
   "cell_type": "markdown",
   "metadata": {},
   "source": [
    "#### VotingClassifier와 Pipeline과 GridSearchCV 연동"
   ]
  },
  {
   "cell_type": "code",
   "execution_count": 46,
   "metadata": {},
   "outputs": [],
   "source": [
    "# Pipeline은 전처리할 때 컬럼을 선택해서 적용할 수 없기 때문에 진정한 자동화라고 하기 어렵다.\n",
    "# 그래서 ColumnTransformer가 필요하다. \n",
    "# ColumnTransformer는 Pipeline 안에 넣을 수 있다.\n",
    "from sklearn.pipeline import Pipeline"
   ]
  },
  {
   "cell_type": "code",
   "execution_count": 20,
   "metadata": {},
   "outputs": [],
   "source": [
    "from sklearn.neighbors import KNeighborsClassifier\n",
    "from sklearn.svm import SVC"
   ]
  },
  {
   "cell_type": "code",
   "execution_count": 56,
   "metadata": {},
   "outputs": [],
   "source": [
    "# VotingClassifier에는 알고리즘을 여러개 넣을 수 있다.\n",
    "vc = VotingClassifier([('knn', KNeighborsClassifier()), ('svm', SVC())])"
   ]
  },
  {
   "cell_type": "code",
   "execution_count": 57,
   "metadata": {},
   "outputs": [],
   "source": [
    "# Pipeline에는 VotingClassifier의 인스턴스를 estimator로 사용할 수 있다. \n",
    "pipe = Pipeline([('vc', vc)])"
   ]
  },
  {
   "cell_type": "code",
   "execution_count": 58,
   "metadata": {
    "scrolled": true
   },
   "outputs": [
    {
     "data": {
      "text/plain": [
       "{'memory': None,\n",
       " 'steps': [('vc', VotingClassifier(estimators=[('knn',\n",
       "                                 KNeighborsClassifier(algorithm='auto',\n",
       "                                                      leaf_size=30,\n",
       "                                                      metric='minkowski',\n",
       "                                                      metric_params=None,\n",
       "                                                      n_jobs=None, n_neighbors=5,\n",
       "                                                      p=2, weights='uniform')),\n",
       "                                ('svm',\n",
       "                                 SVC(C=1.0, break_ties=False, cache_size=200,\n",
       "                                     class_weight=None, coef0=0.0,\n",
       "                                     decision_function_shape='ovr', degree=3,\n",
       "                                     gamma='scale', kernel='rbf', max_iter=-1,\n",
       "                                     probability=False, random_state=None,\n",
       "                                     shrinking=True, tol=0.001, verbose=False))],\n",
       "                    flatten_transform=True, n_jobs=None, voting='hard',\n",
       "                    weights=None))],\n",
       " 'verbose': False,\n",
       " 'vc': VotingClassifier(estimators=[('knn',\n",
       "                               KNeighborsClassifier(algorithm='auto',\n",
       "                                                    leaf_size=30,\n",
       "                                                    metric='minkowski',\n",
       "                                                    metric_params=None,\n",
       "                                                    n_jobs=None, n_neighbors=5,\n",
       "                                                    p=2, weights='uniform')),\n",
       "                              ('svm',\n",
       "                               SVC(C=1.0, break_ties=False, cache_size=200,\n",
       "                                   class_weight=None, coef0=0.0,\n",
       "                                   decision_function_shape='ovr', degree=3,\n",
       "                                   gamma='scale', kernel='rbf', max_iter=-1,\n",
       "                                   probability=False, random_state=None,\n",
       "                                   shrinking=True, tol=0.001, verbose=False))],\n",
       "                  flatten_transform=True, n_jobs=None, voting='hard',\n",
       "                  weights=None),\n",
       " 'vc__estimators': [('knn',\n",
       "   KNeighborsClassifier(algorithm='auto', leaf_size=30, metric='minkowski',\n",
       "                        metric_params=None, n_jobs=None, n_neighbors=5, p=2,\n",
       "                        weights='uniform')),\n",
       "  ('svm',\n",
       "   SVC(C=1.0, break_ties=False, cache_size=200, class_weight=None, coef0=0.0,\n",
       "       decision_function_shape='ovr', degree=3, gamma='scale', kernel='rbf',\n",
       "       max_iter=-1, probability=False, random_state=None, shrinking=True,\n",
       "       tol=0.001, verbose=False))],\n",
       " 'vc__flatten_transform': True,\n",
       " 'vc__n_jobs': None,\n",
       " 'vc__voting': 'hard',\n",
       " 'vc__weights': None,\n",
       " 'vc__knn': KNeighborsClassifier(algorithm='auto', leaf_size=30, metric='minkowski',\n",
       "                      metric_params=None, n_jobs=None, n_neighbors=5, p=2,\n",
       "                      weights='uniform'),\n",
       " 'vc__svm': SVC(C=1.0, break_ties=False, cache_size=200, class_weight=None, coef0=0.0,\n",
       "     decision_function_shape='ovr', degree=3, gamma='scale', kernel='rbf',\n",
       "     max_iter=-1, probability=False, random_state=None, shrinking=True,\n",
       "     tol=0.001, verbose=False),\n",
       " 'vc__knn__algorithm': 'auto',\n",
       " 'vc__knn__leaf_size': 30,\n",
       " 'vc__knn__metric': 'minkowski',\n",
       " 'vc__knn__metric_params': None,\n",
       " 'vc__knn__n_jobs': None,\n",
       " 'vc__knn__n_neighbors': 5,\n",
       " 'vc__knn__p': 2,\n",
       " 'vc__knn__weights': 'uniform',\n",
       " 'vc__svm__C': 1.0,\n",
       " 'vc__svm__break_ties': False,\n",
       " 'vc__svm__cache_size': 200,\n",
       " 'vc__svm__class_weight': None,\n",
       " 'vc__svm__coef0': 0.0,\n",
       " 'vc__svm__decision_function_shape': 'ovr',\n",
       " 'vc__svm__degree': 3,\n",
       " 'vc__svm__gamma': 'scale',\n",
       " 'vc__svm__kernel': 'rbf',\n",
       " 'vc__svm__max_iter': -1,\n",
       " 'vc__svm__probability': False,\n",
       " 'vc__svm__random_state': None,\n",
       " 'vc__svm__shrinking': True,\n",
       " 'vc__svm__tol': 0.001,\n",
       " 'vc__svm__verbose': False}"
      ]
     },
     "execution_count": 58,
     "metadata": {},
     "output_type": "execute_result"
    }
   ],
   "source": [
    "# GridSearchCV를 사용하기 위해서는 get_params에 있는 parameter 이름만 사용할 수 있다.\n",
    "pipe.get_params()"
   ]
  },
  {
   "cell_type": "code",
   "execution_count": 59,
   "metadata": {},
   "outputs": [],
   "source": [
    "from sklearn.model_selection import GridSearchCV"
   ]
  },
  {
   "cell_type": "code",
   "execution_count": 60,
   "metadata": {},
   "outputs": [],
   "source": [
    "# pipeline에 들어가면 하이퍼파라미터 이름은 mangling된다.\n",
    "grid = GridSearchCV(pipe, {'vc__weights':[[1,2], [2,1]]})"
   ]
  },
  {
   "cell_type": "code",
   "execution_count": 61,
   "metadata": {
    "scrolled": true
   },
   "outputs": [
    {
     "data": {
      "text/plain": [
       "GridSearchCV(cv=None, error_score=nan,\n",
       "             estimator=Pipeline(memory=None,\n",
       "                                steps=[('vc',\n",
       "                                        VotingClassifier(estimators=[('knn',\n",
       "                                                                      KNeighborsClassifier(algorithm='auto',\n",
       "                                                                                           leaf_size=30,\n",
       "                                                                                           metric='minkowski',\n",
       "                                                                                           metric_params=None,\n",
       "                                                                                           n_jobs=None,\n",
       "                                                                                           n_neighbors=5,\n",
       "                                                                                           p=2,\n",
       "                                                                                           weights='uniform')),\n",
       "                                                                     ('svm',\n",
       "                                                                      SVC(C=1.0,\n",
       "                                                                          break_ties=False,\n",
       "                                                                          cache_size=200,\n",
       "                                                                          class_weight=None,\n",
       "                                                                          coef0=0.0,\n",
       "                                                                          decision_function...\n",
       "                                                                          gamma='scale',\n",
       "                                                                          kernel='rbf',\n",
       "                                                                          max_iter=-1,\n",
       "                                                                          probability=False,\n",
       "                                                                          random_state=None,\n",
       "                                                                          shrinking=True,\n",
       "                                                                          tol=0.001,\n",
       "                                                                          verbose=False))],\n",
       "                                                         flatten_transform=True,\n",
       "                                                         n_jobs=None,\n",
       "                                                         voting='hard',\n",
       "                                                         weights=None))],\n",
       "                                verbose=False),\n",
       "             iid='deprecated', n_jobs=None,\n",
       "             param_grid={'vc__weights': [[1, 2], [2, 1]]},\n",
       "             pre_dispatch='2*n_jobs', refit=True, return_train_score=False,\n",
       "             scoring=None, verbose=0)"
      ]
     },
     "execution_count": 61,
     "metadata": {},
     "output_type": "execute_result"
    }
   ],
   "source": [
    "grid.fit(iris.iloc[:, :-1], iris.species)"
   ]
  },
  {
   "cell_type": "markdown",
   "metadata": {},
   "source": [
    "#### Pipeline과 GridSearchCV 연동해서 알고리즘과 하이퍼파라미터 찾기"
   ]
  },
  {
   "cell_type": "code",
   "execution_count": 80,
   "metadata": {},
   "outputs": [],
   "source": [
    "pipe2 = Pipeline([('clf', KNeighborsClassifier())])"
   ]
  },
  {
   "cell_type": "code",
   "execution_count": 81,
   "metadata": {},
   "outputs": [],
   "source": [
    "# 리스트 안에 딕셔너리 형태로 만들면, 딕셔너리 안에서만 조합한다.\n",
    "# 첫번째 딕셔너리 -> 알고리즘을 [svc, KNN]로 바꾼다. \n",
    "# 두번째 딕셔너리 -> 알고리즘을 KNN으로 하고, n_neighbors를 [2,3,4,5]로 바꿔가면서 학습한다.\n",
    "grid2 = GridSearchCV(pipe2, [{'clf':[SVC(), KNeighborsClassifier()]},\n",
    "                             {'clf':[KNeighborsClassifier()], 'clf__n_neighbors':[2,3,4,5]}])"
   ]
  },
  {
   "cell_type": "code",
   "execution_count": 82,
   "metadata": {},
   "outputs": [
    {
     "data": {
      "text/plain": [
       "GridSearchCV(cv=None, error_score=nan,\n",
       "             estimator=Pipeline(memory=None,\n",
       "                                steps=[('clf',\n",
       "                                        KNeighborsClassifier(algorithm='auto',\n",
       "                                                             leaf_size=30,\n",
       "                                                             metric='minkowski',\n",
       "                                                             metric_params=None,\n",
       "                                                             n_jobs=None,\n",
       "                                                             n_neighbors=5, p=2,\n",
       "                                                             weights='uniform'))],\n",
       "                                verbose=False),\n",
       "             iid='deprecated', n_jobs=None,\n",
       "             param_grid=[{'clf': [SVC(C=1.0, break_ties=False, cache_size=200,\n",
       "                                      class_weight=None, coef...\n",
       "                                                       metric='minkowski',\n",
       "                                                       metric_params=None,\n",
       "                                                       n_jobs=None,\n",
       "                                                       n_neighbors=5, p=2,\n",
       "                                                       weights='uniform')]},\n",
       "                         {'clf': [KNeighborsClassifier(algorithm='auto',\n",
       "                                                       leaf_size=30,\n",
       "                                                       metric='minkowski',\n",
       "                                                       metric_params=None,\n",
       "                                                       n_jobs=None,\n",
       "                                                       n_neighbors=5, p=2,\n",
       "                                                       weights='uniform')],\n",
       "                          'clf__n_neighbors': [2, 3, 4, 5]}],\n",
       "             pre_dispatch='2*n_jobs', refit=True, return_train_score=False,\n",
       "             scoring=None, verbose=0)"
      ]
     },
     "execution_count": 82,
     "metadata": {},
     "output_type": "execute_result"
    }
   ],
   "source": [
    "grid2.fit(iris.iloc[: ,:-1], iris.species)"
   ]
  },
  {
   "cell_type": "code",
   "execution_count": 83,
   "metadata": {},
   "outputs": [
    {
     "data": {
      "text/plain": [
       "{'clf': KNeighborsClassifier(algorithm='auto', leaf_size=30, metric='minkowski',\n",
       "                      metric_params=None, n_jobs=None, n_neighbors=5, p=2,\n",
       "                      weights='uniform')}"
      ]
     },
     "execution_count": 83,
     "metadata": {},
     "output_type": "execute_result"
    }
   ],
   "source": [
    "grid2.best_params_"
   ]
  },
  {
   "cell_type": "code",
   "execution_count": 84,
   "metadata": {},
   "outputs": [
    {
     "data": {
      "text/html": [
       "<div>\n",
       "<style scoped>\n",
       "    .dataframe tbody tr th:only-of-type {\n",
       "        vertical-align: middle;\n",
       "    }\n",
       "\n",
       "    .dataframe tbody tr th {\n",
       "        vertical-align: top;\n",
       "    }\n",
       "\n",
       "    .dataframe thead th {\n",
       "        text-align: right;\n",
       "    }\n",
       "</style>\n",
       "<table border=\"1\" class=\"dataframe\">\n",
       "  <thead>\n",
       "    <tr style=\"text-align: right;\">\n",
       "      <th></th>\n",
       "      <th>0</th>\n",
       "      <th>1</th>\n",
       "      <th>2</th>\n",
       "      <th>3</th>\n",
       "      <th>4</th>\n",
       "      <th>5</th>\n",
       "    </tr>\n",
       "  </thead>\n",
       "  <tbody>\n",
       "    <tr>\n",
       "      <th>mean_fit_time</th>\n",
       "      <td>0.00282269</td>\n",
       "      <td>0.00278687</td>\n",
       "      <td>0.00260167</td>\n",
       "      <td>0.00359387</td>\n",
       "      <td>0.00399823</td>\n",
       "      <td>0.00339975</td>\n",
       "    </tr>\n",
       "    <tr>\n",
       "      <th>std_fit_time</th>\n",
       "      <td>0.000744868</td>\n",
       "      <td>0.000992978</td>\n",
       "      <td>0.000809425</td>\n",
       "      <td>0.000498723</td>\n",
       "      <td>0.00063566</td>\n",
       "      <td>0.000489668</td>\n",
       "    </tr>\n",
       "    <tr>\n",
       "      <th>mean_score_time</th>\n",
       "      <td>0.00140433</td>\n",
       "      <td>0.00340505</td>\n",
       "      <td>0.00198369</td>\n",
       "      <td>0.00440564</td>\n",
       "      <td>0.00440664</td>\n",
       "      <td>0.00320082</td>\n",
       "    </tr>\n",
       "    <tr>\n",
       "      <th>std_score_time</th>\n",
       "      <td>0.000494586</td>\n",
       "      <td>0.000498797</td>\n",
       "      <td>1.9189e-05</td>\n",
       "      <td>0.00101858</td>\n",
       "      <td>0.000484822</td>\n",
       "      <td>0.000399924</td>\n",
       "    </tr>\n",
       "    <tr>\n",
       "      <th>param_clf</th>\n",
       "      <td>SVC(C=1.0, break_ties=False, cache_size=200, c...</td>\n",
       "      <td>KNeighborsClassifier(algorithm='auto', leaf_si...</td>\n",
       "      <td>KNeighborsClassifier(algorithm='auto', leaf_si...</td>\n",
       "      <td>KNeighborsClassifier(algorithm='auto', leaf_si...</td>\n",
       "      <td>KNeighborsClassifier(algorithm='auto', leaf_si...</td>\n",
       "      <td>KNeighborsClassifier(algorithm='auto', leaf_si...</td>\n",
       "    </tr>\n",
       "    <tr>\n",
       "      <th>param_clf__n_neighbors</th>\n",
       "      <td>NaN</td>\n",
       "      <td>NaN</td>\n",
       "      <td>2</td>\n",
       "      <td>3</td>\n",
       "      <td>4</td>\n",
       "      <td>5</td>\n",
       "    </tr>\n",
       "    <tr>\n",
       "      <th>params</th>\n",
       "      <td>{'clf': SVC(C=1.0, break_ties=False, cache_siz...</td>\n",
       "      <td>{'clf': KNeighborsClassifier(algorithm='auto',...</td>\n",
       "      <td>{'clf': KNeighborsClassifier(algorithm='auto',...</td>\n",
       "      <td>{'clf': KNeighborsClassifier(algorithm='auto',...</td>\n",
       "      <td>{'clf': KNeighborsClassifier(algorithm='auto',...</td>\n",
       "      <td>{'clf': KNeighborsClassifier(algorithm='auto',...</td>\n",
       "    </tr>\n",
       "    <tr>\n",
       "      <th>split0_test_score</th>\n",
       "      <td>0.966667</td>\n",
       "      <td>0.966667</td>\n",
       "      <td>0.966667</td>\n",
       "      <td>0.966667</td>\n",
       "      <td>0.966667</td>\n",
       "      <td>0.966667</td>\n",
       "    </tr>\n",
       "    <tr>\n",
       "      <th>split1_test_score</th>\n",
       "      <td>0.966667</td>\n",
       "      <td>1</td>\n",
       "      <td>0.933333</td>\n",
       "      <td>0.966667</td>\n",
       "      <td>0.966667</td>\n",
       "      <td>1</td>\n",
       "    </tr>\n",
       "    <tr>\n",
       "      <th>split2_test_score</th>\n",
       "      <td>0.966667</td>\n",
       "      <td>0.933333</td>\n",
       "      <td>0.933333</td>\n",
       "      <td>0.933333</td>\n",
       "      <td>0.966667</td>\n",
       "      <td>0.933333</td>\n",
       "    </tr>\n",
       "    <tr>\n",
       "      <th>split3_test_score</th>\n",
       "      <td>0.933333</td>\n",
       "      <td>0.966667</td>\n",
       "      <td>0.9</td>\n",
       "      <td>0.966667</td>\n",
       "      <td>0.966667</td>\n",
       "      <td>0.966667</td>\n",
       "    </tr>\n",
       "    <tr>\n",
       "      <th>split4_test_score</th>\n",
       "      <td>1</td>\n",
       "      <td>1</td>\n",
       "      <td>1</td>\n",
       "      <td>1</td>\n",
       "      <td>1</td>\n",
       "      <td>1</td>\n",
       "    </tr>\n",
       "    <tr>\n",
       "      <th>mean_test_score</th>\n",
       "      <td>0.966667</td>\n",
       "      <td>0.973333</td>\n",
       "      <td>0.946667</td>\n",
       "      <td>0.966667</td>\n",
       "      <td>0.973333</td>\n",
       "      <td>0.973333</td>\n",
       "    </tr>\n",
       "    <tr>\n",
       "      <th>std_test_score</th>\n",
       "      <td>0.0210819</td>\n",
       "      <td>0.0249444</td>\n",
       "      <td>0.0339935</td>\n",
       "      <td>0.0210819</td>\n",
       "      <td>0.0133333</td>\n",
       "      <td>0.0249444</td>\n",
       "    </tr>\n",
       "    <tr>\n",
       "      <th>rank_test_score</th>\n",
       "      <td>5</td>\n",
       "      <td>1</td>\n",
       "      <td>6</td>\n",
       "      <td>4</td>\n",
       "      <td>1</td>\n",
       "      <td>1</td>\n",
       "    </tr>\n",
       "  </tbody>\n",
       "</table>\n",
       "</div>"
      ],
      "text/plain": [
       "                                                                        0  \\\n",
       "mean_fit_time                                                  0.00282269   \n",
       "std_fit_time                                                  0.000744868   \n",
       "mean_score_time                                                0.00140433   \n",
       "std_score_time                                                0.000494586   \n",
       "param_clf               SVC(C=1.0, break_ties=False, cache_size=200, c...   \n",
       "param_clf__n_neighbors                                                NaN   \n",
       "params                  {'clf': SVC(C=1.0, break_ties=False, cache_siz...   \n",
       "split0_test_score                                                0.966667   \n",
       "split1_test_score                                                0.966667   \n",
       "split2_test_score                                                0.966667   \n",
       "split3_test_score                                                0.933333   \n",
       "split4_test_score                                                       1   \n",
       "mean_test_score                                                  0.966667   \n",
       "std_test_score                                                  0.0210819   \n",
       "rank_test_score                                                         5   \n",
       "\n",
       "                                                                        1  \\\n",
       "mean_fit_time                                                  0.00278687   \n",
       "std_fit_time                                                  0.000992978   \n",
       "mean_score_time                                                0.00340505   \n",
       "std_score_time                                                0.000498797   \n",
       "param_clf               KNeighborsClassifier(algorithm='auto', leaf_si...   \n",
       "param_clf__n_neighbors                                                NaN   \n",
       "params                  {'clf': KNeighborsClassifier(algorithm='auto',...   \n",
       "split0_test_score                                                0.966667   \n",
       "split1_test_score                                                       1   \n",
       "split2_test_score                                                0.933333   \n",
       "split3_test_score                                                0.966667   \n",
       "split4_test_score                                                       1   \n",
       "mean_test_score                                                  0.973333   \n",
       "std_test_score                                                  0.0249444   \n",
       "rank_test_score                                                         1   \n",
       "\n",
       "                                                                        2  \\\n",
       "mean_fit_time                                                  0.00260167   \n",
       "std_fit_time                                                  0.000809425   \n",
       "mean_score_time                                                0.00198369   \n",
       "std_score_time                                                 1.9189e-05   \n",
       "param_clf               KNeighborsClassifier(algorithm='auto', leaf_si...   \n",
       "param_clf__n_neighbors                                                  2   \n",
       "params                  {'clf': KNeighborsClassifier(algorithm='auto',...   \n",
       "split0_test_score                                                0.966667   \n",
       "split1_test_score                                                0.933333   \n",
       "split2_test_score                                                0.933333   \n",
       "split3_test_score                                                     0.9   \n",
       "split4_test_score                                                       1   \n",
       "mean_test_score                                                  0.946667   \n",
       "std_test_score                                                  0.0339935   \n",
       "rank_test_score                                                         6   \n",
       "\n",
       "                                                                        3  \\\n",
       "mean_fit_time                                                  0.00359387   \n",
       "std_fit_time                                                  0.000498723   \n",
       "mean_score_time                                                0.00440564   \n",
       "std_score_time                                                 0.00101858   \n",
       "param_clf               KNeighborsClassifier(algorithm='auto', leaf_si...   \n",
       "param_clf__n_neighbors                                                  3   \n",
       "params                  {'clf': KNeighborsClassifier(algorithm='auto',...   \n",
       "split0_test_score                                                0.966667   \n",
       "split1_test_score                                                0.966667   \n",
       "split2_test_score                                                0.933333   \n",
       "split3_test_score                                                0.966667   \n",
       "split4_test_score                                                       1   \n",
       "mean_test_score                                                  0.966667   \n",
       "std_test_score                                                  0.0210819   \n",
       "rank_test_score                                                         4   \n",
       "\n",
       "                                                                        4  \\\n",
       "mean_fit_time                                                  0.00399823   \n",
       "std_fit_time                                                   0.00063566   \n",
       "mean_score_time                                                0.00440664   \n",
       "std_score_time                                                0.000484822   \n",
       "param_clf               KNeighborsClassifier(algorithm='auto', leaf_si...   \n",
       "param_clf__n_neighbors                                                  4   \n",
       "params                  {'clf': KNeighborsClassifier(algorithm='auto',...   \n",
       "split0_test_score                                                0.966667   \n",
       "split1_test_score                                                0.966667   \n",
       "split2_test_score                                                0.966667   \n",
       "split3_test_score                                                0.966667   \n",
       "split4_test_score                                                       1   \n",
       "mean_test_score                                                  0.973333   \n",
       "std_test_score                                                  0.0133333   \n",
       "rank_test_score                                                         1   \n",
       "\n",
       "                                                                        5  \n",
       "mean_fit_time                                                  0.00339975  \n",
       "std_fit_time                                                  0.000489668  \n",
       "mean_score_time                                                0.00320082  \n",
       "std_score_time                                                0.000399924  \n",
       "param_clf               KNeighborsClassifier(algorithm='auto', leaf_si...  \n",
       "param_clf__n_neighbors                                                  5  \n",
       "params                  {'clf': KNeighborsClassifier(algorithm='auto',...  \n",
       "split0_test_score                                                0.966667  \n",
       "split1_test_score                                                       1  \n",
       "split2_test_score                                                0.933333  \n",
       "split3_test_score                                                0.966667  \n",
       "split4_test_score                                                       1  \n",
       "mean_test_score                                                  0.973333  \n",
       "std_test_score                                                  0.0249444  \n",
       "rank_test_score                                                         1  "
      ]
     },
     "execution_count": 84,
     "metadata": {},
     "output_type": "execute_result"
    }
   ],
   "source": [
    "# SVC 한번 + KNN (기본값) 한번 + KNN(n_neighbors=2~5) 4번 -> 총 6개 모델\n",
    "pd.DataFrame(grid2.cv_results_).T"
   ]
  },
  {
   "cell_type": "markdown",
   "metadata": {},
   "source": [
    "#### VotingClassifier 안에 있는 알고리즘의 하이퍼 파라미터를 수정하는 방법"
   ]
  },
  {
   "cell_type": "code",
   "execution_count": 62,
   "metadata": {},
   "outputs": [],
   "source": [
    "vc = VotingClassifier([('knn', KNeighborsClassifier()), ('svm', SVC())])"
   ]
  },
  {
   "cell_type": "code",
   "execution_count": 63,
   "metadata": {},
   "outputs": [],
   "source": [
    "pipe3 = Pipeline([('vc', vc)])"
   ]
  },
  {
   "cell_type": "code",
   "execution_count": 64,
   "metadata": {},
   "outputs": [
    {
     "data": {
      "text/plain": [
       "{'memory': None,\n",
       " 'steps': [('vc', VotingClassifier(estimators=[('knn',\n",
       "                                 KNeighborsClassifier(algorithm='auto',\n",
       "                                                      leaf_size=30,\n",
       "                                                      metric='minkowski',\n",
       "                                                      metric_params=None,\n",
       "                                                      n_jobs=None, n_neighbors=5,\n",
       "                                                      p=2, weights='uniform')),\n",
       "                                ('svm',\n",
       "                                 SVC(C=1.0, break_ties=False, cache_size=200,\n",
       "                                     class_weight=None, coef0=0.0,\n",
       "                                     decision_function_shape='ovr', degree=3,\n",
       "                                     gamma='scale', kernel='rbf', max_iter=-1,\n",
       "                                     probability=False, random_state=None,\n",
       "                                     shrinking=True, tol=0.001, verbose=False))],\n",
       "                    flatten_transform=True, n_jobs=None, voting='hard',\n",
       "                    weights=None))],\n",
       " 'verbose': False,\n",
       " 'vc': VotingClassifier(estimators=[('knn',\n",
       "                               KNeighborsClassifier(algorithm='auto',\n",
       "                                                    leaf_size=30,\n",
       "                                                    metric='minkowski',\n",
       "                                                    metric_params=None,\n",
       "                                                    n_jobs=None, n_neighbors=5,\n",
       "                                                    p=2, weights='uniform')),\n",
       "                              ('svm',\n",
       "                               SVC(C=1.0, break_ties=False, cache_size=200,\n",
       "                                   class_weight=None, coef0=0.0,\n",
       "                                   decision_function_shape='ovr', degree=3,\n",
       "                                   gamma='scale', kernel='rbf', max_iter=-1,\n",
       "                                   probability=False, random_state=None,\n",
       "                                   shrinking=True, tol=0.001, verbose=False))],\n",
       "                  flatten_transform=True, n_jobs=None, voting='hard',\n",
       "                  weights=None),\n",
       " 'vc__estimators': [('knn',\n",
       "   KNeighborsClassifier(algorithm='auto', leaf_size=30, metric='minkowski',\n",
       "                        metric_params=None, n_jobs=None, n_neighbors=5, p=2,\n",
       "                        weights='uniform')),\n",
       "  ('svm',\n",
       "   SVC(C=1.0, break_ties=False, cache_size=200, class_weight=None, coef0=0.0,\n",
       "       decision_function_shape='ovr', degree=3, gamma='scale', kernel='rbf',\n",
       "       max_iter=-1, probability=False, random_state=None, shrinking=True,\n",
       "       tol=0.001, verbose=False))],\n",
       " 'vc__flatten_transform': True,\n",
       " 'vc__n_jobs': None,\n",
       " 'vc__voting': 'hard',\n",
       " 'vc__weights': None,\n",
       " 'vc__knn': KNeighborsClassifier(algorithm='auto', leaf_size=30, metric='minkowski',\n",
       "                      metric_params=None, n_jobs=None, n_neighbors=5, p=2,\n",
       "                      weights='uniform'),\n",
       " 'vc__svm': SVC(C=1.0, break_ties=False, cache_size=200, class_weight=None, coef0=0.0,\n",
       "     decision_function_shape='ovr', degree=3, gamma='scale', kernel='rbf',\n",
       "     max_iter=-1, probability=False, random_state=None, shrinking=True,\n",
       "     tol=0.001, verbose=False),\n",
       " 'vc__knn__algorithm': 'auto',\n",
       " 'vc__knn__leaf_size': 30,\n",
       " 'vc__knn__metric': 'minkowski',\n",
       " 'vc__knn__metric_params': None,\n",
       " 'vc__knn__n_jobs': None,\n",
       " 'vc__knn__n_neighbors': 5,\n",
       " 'vc__knn__p': 2,\n",
       " 'vc__knn__weights': 'uniform',\n",
       " 'vc__svm__C': 1.0,\n",
       " 'vc__svm__break_ties': False,\n",
       " 'vc__svm__cache_size': 200,\n",
       " 'vc__svm__class_weight': None,\n",
       " 'vc__svm__coef0': 0.0,\n",
       " 'vc__svm__decision_function_shape': 'ovr',\n",
       " 'vc__svm__degree': 3,\n",
       " 'vc__svm__gamma': 'scale',\n",
       " 'vc__svm__kernel': 'rbf',\n",
       " 'vc__svm__max_iter': -1,\n",
       " 'vc__svm__probability': False,\n",
       " 'vc__svm__random_state': None,\n",
       " 'vc__svm__shrinking': True,\n",
       " 'vc__svm__tol': 0.001,\n",
       " 'vc__svm__verbose': False}"
      ]
     },
     "execution_count": 64,
     "metadata": {},
     "output_type": "execute_result"
    }
   ],
   "source": [
    "# GridSearchCV를 사용하기 위해서 parameter 이름을 확인한다.\n",
    "pipe3.get_params()"
   ]
  },
  {
   "cell_type": "code",
   "execution_count": 68,
   "metadata": {},
   "outputs": [],
   "source": [
    "# Pipeline에서 알고리즘의 하이퍼파라미터는 맹글링된다.\n",
    "# Pipeline 안에 있는 VotingClassifier의 안에 있는 알고리즘의 하이퍼 파라미터를 GridSearch한다.\n",
    "grid3 = GridSearchCV(pipe3, {'vc__svm__C':[1,2,3,4], \n",
    "                             'vc__knn__n_neighbors':[2,3,4,5,6]})"
   ]
  },
  {
   "cell_type": "code",
   "execution_count": 69,
   "metadata": {
    "scrolled": true
   },
   "outputs": [
    {
     "data": {
      "text/plain": [
       "GridSearchCV(cv=None, error_score=nan,\n",
       "             estimator=Pipeline(memory=None,\n",
       "                                steps=[('vc',\n",
       "                                        VotingClassifier(estimators=[('knn',\n",
       "                                                                      KNeighborsClassifier(algorithm='auto',\n",
       "                                                                                           leaf_size=30,\n",
       "                                                                                           metric='minkowski',\n",
       "                                                                                           metric_params=None,\n",
       "                                                                                           n_jobs=None,\n",
       "                                                                                           n_neighbors=5,\n",
       "                                                                                           p=2,\n",
       "                                                                                           weights='uniform')),\n",
       "                                                                     ('svm',\n",
       "                                                                      SVC(C=1.0,\n",
       "                                                                          break_ties=False,\n",
       "                                                                          cache_size=200,\n",
       "                                                                          class_weight=None,\n",
       "                                                                          coef0=0.0,\n",
       "                                                                          decision_function...\n",
       "                                                                          max_iter=-1,\n",
       "                                                                          probability=False,\n",
       "                                                                          random_state=None,\n",
       "                                                                          shrinking=True,\n",
       "                                                                          tol=0.001,\n",
       "                                                                          verbose=False))],\n",
       "                                                         flatten_transform=True,\n",
       "                                                         n_jobs=None,\n",
       "                                                         voting='hard',\n",
       "                                                         weights=None))],\n",
       "                                verbose=False),\n",
       "             iid='deprecated', n_jobs=None,\n",
       "             param_grid={'vc__knn__n_neighbors': [2, 3, 4, 5, 6],\n",
       "                         'vc__svm__C': [1, 2, 3, 4]},\n",
       "             pre_dispatch='2*n_jobs', refit=True, return_train_score=False,\n",
       "             scoring=None, verbose=0)"
      ]
     },
     "execution_count": 69,
     "metadata": {},
     "output_type": "execute_result"
    }
   ],
   "source": [
    "grid3.fit(iris.iloc[:, :-1], iris.species)"
   ]
  },
  {
   "cell_type": "code",
   "execution_count": 70,
   "metadata": {
    "scrolled": true
   },
   "outputs": [
    {
     "data": {
      "text/html": [
       "<div>\n",
       "<style scoped>\n",
       "    .dataframe tbody tr th:only-of-type {\n",
       "        vertical-align: middle;\n",
       "    }\n",
       "\n",
       "    .dataframe tbody tr th {\n",
       "        vertical-align: top;\n",
       "    }\n",
       "\n",
       "    .dataframe thead th {\n",
       "        text-align: right;\n",
       "    }\n",
       "</style>\n",
       "<table border=\"1\" class=\"dataframe\">\n",
       "  <thead>\n",
       "    <tr style=\"text-align: right;\">\n",
       "      <th></th>\n",
       "      <th>0</th>\n",
       "      <th>1</th>\n",
       "      <th>2</th>\n",
       "      <th>3</th>\n",
       "      <th>4</th>\n",
       "      <th>5</th>\n",
       "      <th>6</th>\n",
       "      <th>7</th>\n",
       "      <th>8</th>\n",
       "      <th>9</th>\n",
       "      <th>10</th>\n",
       "      <th>11</th>\n",
       "      <th>12</th>\n",
       "      <th>13</th>\n",
       "      <th>14</th>\n",
       "      <th>15</th>\n",
       "      <th>16</th>\n",
       "      <th>17</th>\n",
       "      <th>18</th>\n",
       "      <th>19</th>\n",
       "    </tr>\n",
       "  </thead>\n",
       "  <tbody>\n",
       "    <tr>\n",
       "      <th>mean_fit_time</th>\n",
       "      <td>0.00678496</td>\n",
       "      <td>0.0134012</td>\n",
       "      <td>0.0112</td>\n",
       "      <td>0.00720057</td>\n",
       "      <td>0.00660181</td>\n",
       "      <td>0.00520167</td>\n",
       "      <td>0.00539656</td>\n",
       "      <td>0.00519962</td>\n",
       "      <td>0.00639801</td>\n",
       "      <td>0.00560036</td>\n",
       "      <td>0.00639887</td>\n",
       "      <td>0.0050014</td>\n",
       "      <td>0.00439944</td>\n",
       "      <td>0.00499945</td>\n",
       "      <td>0.00481124</td>\n",
       "      <td>0.00600338</td>\n",
       "      <td>0.00660167</td>\n",
       "      <td>0.0110006</td>\n",
       "      <td>0.00560098</td>\n",
       "      <td>0.00400119</td>\n",
       "    </tr>\n",
       "    <tr>\n",
       "      <th>std_fit_time</th>\n",
       "      <td>0.00116569</td>\n",
       "      <td>0.0118417</td>\n",
       "      <td>0.00271236</td>\n",
       "      <td>0.00231425</td>\n",
       "      <td>0.00215597</td>\n",
       "      <td>0.000749263</td>\n",
       "      <td>0.00196081</td>\n",
       "      <td>0.00146868</td>\n",
       "      <td>0.00204995</td>\n",
       "      <td>0.00119894</td>\n",
       "      <td>0.00101915</td>\n",
       "      <td>0.000895109</td>\n",
       "      <td>0.000489384</td>\n",
       "      <td>0.000632562</td>\n",
       "      <td>0.00117441</td>\n",
       "      <td>0.00178847</td>\n",
       "      <td>0.0013569</td>\n",
       "      <td>0.00167329</td>\n",
       "      <td>0.00119982</td>\n",
       "      <td>0.000633549</td>\n",
       "    </tr>\n",
       "    <tr>\n",
       "      <th>mean_score_time</th>\n",
       "      <td>0.00640683</td>\n",
       "      <td>0.00620046</td>\n",
       "      <td>0.00800023</td>\n",
       "      <td>0.00640049</td>\n",
       "      <td>0.00579929</td>\n",
       "      <td>0.00459661</td>\n",
       "      <td>0.00440221</td>\n",
       "      <td>0.00480003</td>\n",
       "      <td>0.00520086</td>\n",
       "      <td>0.00419946</td>\n",
       "      <td>0.00499949</td>\n",
       "      <td>0.00420232</td>\n",
       "      <td>0.00439963</td>\n",
       "      <td>0.00359859</td>\n",
       "      <td>0.00418878</td>\n",
       "      <td>0.00500021</td>\n",
       "      <td>0.00560031</td>\n",
       "      <td>0.00740156</td>\n",
       "      <td>0.00459986</td>\n",
       "      <td>0.00359955</td>\n",
       "    </tr>\n",
       "    <tr>\n",
       "      <th>std_score_time</th>\n",
       "      <td>0.00264991</td>\n",
       "      <td>0.00172082</td>\n",
       "      <td>0.00154914</td>\n",
       "      <td>0.00135651</td>\n",
       "      <td>0.00116528</td>\n",
       "      <td>0.000488857</td>\n",
       "      <td>0.00135682</td>\n",
       "      <td>0.000749081</td>\n",
       "      <td>0.00116888</td>\n",
       "      <td>0.000401643</td>\n",
       "      <td>0.00063407</td>\n",
       "      <td>0.000751674</td>\n",
       "      <td>0.00135768</td>\n",
       "      <td>0.000800267</td>\n",
       "      <td>0.000757508</td>\n",
       "      <td>0.00126448</td>\n",
       "      <td>0.00120309</td>\n",
       "      <td>0.0018546</td>\n",
       "      <td>0.00185481</td>\n",
       "      <td>0.000800564</td>\n",
       "    </tr>\n",
       "    <tr>\n",
       "      <th>param_vc__knn__n_neighbors</th>\n",
       "      <td>2</td>\n",
       "      <td>2</td>\n",
       "      <td>2</td>\n",
       "      <td>2</td>\n",
       "      <td>3</td>\n",
       "      <td>3</td>\n",
       "      <td>3</td>\n",
       "      <td>3</td>\n",
       "      <td>4</td>\n",
       "      <td>4</td>\n",
       "      <td>4</td>\n",
       "      <td>4</td>\n",
       "      <td>5</td>\n",
       "      <td>5</td>\n",
       "      <td>5</td>\n",
       "      <td>5</td>\n",
       "      <td>6</td>\n",
       "      <td>6</td>\n",
       "      <td>6</td>\n",
       "      <td>6</td>\n",
       "    </tr>\n",
       "    <tr>\n",
       "      <th>param_vc__svm__C</th>\n",
       "      <td>1</td>\n",
       "      <td>2</td>\n",
       "      <td>3</td>\n",
       "      <td>4</td>\n",
       "      <td>1</td>\n",
       "      <td>2</td>\n",
       "      <td>3</td>\n",
       "      <td>4</td>\n",
       "      <td>1</td>\n",
       "      <td>2</td>\n",
       "      <td>3</td>\n",
       "      <td>4</td>\n",
       "      <td>1</td>\n",
       "      <td>2</td>\n",
       "      <td>3</td>\n",
       "      <td>4</td>\n",
       "      <td>1</td>\n",
       "      <td>2</td>\n",
       "      <td>3</td>\n",
       "      <td>4</td>\n",
       "    </tr>\n",
       "    <tr>\n",
       "      <th>params</th>\n",
       "      <td>{'vc__knn__n_neighbors': 2, 'vc__svm__C': 1}</td>\n",
       "      <td>{'vc__knn__n_neighbors': 2, 'vc__svm__C': 2}</td>\n",
       "      <td>{'vc__knn__n_neighbors': 2, 'vc__svm__C': 3}</td>\n",
       "      <td>{'vc__knn__n_neighbors': 2, 'vc__svm__C': 4}</td>\n",
       "      <td>{'vc__knn__n_neighbors': 3, 'vc__svm__C': 1}</td>\n",
       "      <td>{'vc__knn__n_neighbors': 3, 'vc__svm__C': 2}</td>\n",
       "      <td>{'vc__knn__n_neighbors': 3, 'vc__svm__C': 3}</td>\n",
       "      <td>{'vc__knn__n_neighbors': 3, 'vc__svm__C': 4}</td>\n",
       "      <td>{'vc__knn__n_neighbors': 4, 'vc__svm__C': 1}</td>\n",
       "      <td>{'vc__knn__n_neighbors': 4, 'vc__svm__C': 2}</td>\n",
       "      <td>{'vc__knn__n_neighbors': 4, 'vc__svm__C': 3}</td>\n",
       "      <td>{'vc__knn__n_neighbors': 4, 'vc__svm__C': 4}</td>\n",
       "      <td>{'vc__knn__n_neighbors': 5, 'vc__svm__C': 1}</td>\n",
       "      <td>{'vc__knn__n_neighbors': 5, 'vc__svm__C': 2}</td>\n",
       "      <td>{'vc__knn__n_neighbors': 5, 'vc__svm__C': 3}</td>\n",
       "      <td>{'vc__knn__n_neighbors': 5, 'vc__svm__C': 4}</td>\n",
       "      <td>{'vc__knn__n_neighbors': 6, 'vc__svm__C': 1}</td>\n",
       "      <td>{'vc__knn__n_neighbors': 6, 'vc__svm__C': 2}</td>\n",
       "      <td>{'vc__knn__n_neighbors': 6, 'vc__svm__C': 3}</td>\n",
       "      <td>{'vc__knn__n_neighbors': 6, 'vc__svm__C': 4}</td>\n",
       "    </tr>\n",
       "    <tr>\n",
       "      <th>split0_test_score</th>\n",
       "      <td>0.966667</td>\n",
       "      <td>0.966667</td>\n",
       "      <td>0.966667</td>\n",
       "      <td>0.966667</td>\n",
       "      <td>0.966667</td>\n",
       "      <td>0.966667</td>\n",
       "      <td>0.966667</td>\n",
       "      <td>0.966667</td>\n",
       "      <td>0.966667</td>\n",
       "      <td>0.966667</td>\n",
       "      <td>0.966667</td>\n",
       "      <td>0.966667</td>\n",
       "      <td>0.966667</td>\n",
       "      <td>0.966667</td>\n",
       "      <td>0.966667</td>\n",
       "      <td>0.966667</td>\n",
       "      <td>0.966667</td>\n",
       "      <td>0.966667</td>\n",
       "      <td>0.966667</td>\n",
       "      <td>0.966667</td>\n",
       "    </tr>\n",
       "    <tr>\n",
       "      <th>split1_test_score</th>\n",
       "      <td>0.933333</td>\n",
       "      <td>0.933333</td>\n",
       "      <td>0.933333</td>\n",
       "      <td>0.933333</td>\n",
       "      <td>0.966667</td>\n",
       "      <td>0.966667</td>\n",
       "      <td>0.966667</td>\n",
       "      <td>0.966667</td>\n",
       "      <td>0.966667</td>\n",
       "      <td>0.966667</td>\n",
       "      <td>0.966667</td>\n",
       "      <td>0.966667</td>\n",
       "      <td>0.966667</td>\n",
       "      <td>1</td>\n",
       "      <td>1</td>\n",
       "      <td>1</td>\n",
       "      <td>0.966667</td>\n",
       "      <td>1</td>\n",
       "      <td>1</td>\n",
       "      <td>1</td>\n",
       "    </tr>\n",
       "    <tr>\n",
       "      <th>split2_test_score</th>\n",
       "      <td>1</td>\n",
       "      <td>1</td>\n",
       "      <td>1</td>\n",
       "      <td>1</td>\n",
       "      <td>1</td>\n",
       "      <td>1</td>\n",
       "      <td>1</td>\n",
       "      <td>1</td>\n",
       "      <td>1</td>\n",
       "      <td>1</td>\n",
       "      <td>1</td>\n",
       "      <td>1</td>\n",
       "      <td>0.966667</td>\n",
       "      <td>0.966667</td>\n",
       "      <td>0.966667</td>\n",
       "      <td>0.966667</td>\n",
       "      <td>0.966667</td>\n",
       "      <td>0.966667</td>\n",
       "      <td>0.966667</td>\n",
       "      <td>0.966667</td>\n",
       "    </tr>\n",
       "    <tr>\n",
       "      <th>split3_test_score</th>\n",
       "      <td>0.9</td>\n",
       "      <td>0.9</td>\n",
       "      <td>0.9</td>\n",
       "      <td>0.9</td>\n",
       "      <td>0.933333</td>\n",
       "      <td>0.966667</td>\n",
       "      <td>0.966667</td>\n",
       "      <td>0.966667</td>\n",
       "      <td>0.933333</td>\n",
       "      <td>0.966667</td>\n",
       "      <td>0.966667</td>\n",
       "      <td>0.966667</td>\n",
       "      <td>0.933333</td>\n",
       "      <td>0.966667</td>\n",
       "      <td>0.966667</td>\n",
       "      <td>0.966667</td>\n",
       "      <td>0.933333</td>\n",
       "      <td>0.966667</td>\n",
       "      <td>0.966667</td>\n",
       "      <td>0.966667</td>\n",
       "    </tr>\n",
       "    <tr>\n",
       "      <th>split4_test_score</th>\n",
       "      <td>1</td>\n",
       "      <td>1</td>\n",
       "      <td>1</td>\n",
       "      <td>1</td>\n",
       "      <td>1</td>\n",
       "      <td>1</td>\n",
       "      <td>1</td>\n",
       "      <td>1</td>\n",
       "      <td>1</td>\n",
       "      <td>1</td>\n",
       "      <td>1</td>\n",
       "      <td>1</td>\n",
       "      <td>1</td>\n",
       "      <td>1</td>\n",
       "      <td>1</td>\n",
       "      <td>1</td>\n",
       "      <td>1</td>\n",
       "      <td>1</td>\n",
       "      <td>1</td>\n",
       "      <td>1</td>\n",
       "    </tr>\n",
       "    <tr>\n",
       "      <th>mean_test_score</th>\n",
       "      <td>0.96</td>\n",
       "      <td>0.96</td>\n",
       "      <td>0.96</td>\n",
       "      <td>0.96</td>\n",
       "      <td>0.973333</td>\n",
       "      <td>0.98</td>\n",
       "      <td>0.98</td>\n",
       "      <td>0.98</td>\n",
       "      <td>0.973333</td>\n",
       "      <td>0.98</td>\n",
       "      <td>0.98</td>\n",
       "      <td>0.98</td>\n",
       "      <td>0.966667</td>\n",
       "      <td>0.98</td>\n",
       "      <td>0.98</td>\n",
       "      <td>0.98</td>\n",
       "      <td>0.966667</td>\n",
       "      <td>0.98</td>\n",
       "      <td>0.98</td>\n",
       "      <td>0.98</td>\n",
       "    </tr>\n",
       "    <tr>\n",
       "      <th>std_test_score</th>\n",
       "      <td>0.038873</td>\n",
       "      <td>0.038873</td>\n",
       "      <td>0.038873</td>\n",
       "      <td>0.038873</td>\n",
       "      <td>0.0249444</td>\n",
       "      <td>0.0163299</td>\n",
       "      <td>0.0163299</td>\n",
       "      <td>0.0163299</td>\n",
       "      <td>0.0249444</td>\n",
       "      <td>0.0163299</td>\n",
       "      <td>0.0163299</td>\n",
       "      <td>0.0163299</td>\n",
       "      <td>0.0210819</td>\n",
       "      <td>0.0163299</td>\n",
       "      <td>0.0163299</td>\n",
       "      <td>0.0163299</td>\n",
       "      <td>0.0210819</td>\n",
       "      <td>0.0163299</td>\n",
       "      <td>0.0163299</td>\n",
       "      <td>0.0163299</td>\n",
       "    </tr>\n",
       "    <tr>\n",
       "      <th>rank_test_score</th>\n",
       "      <td>17</td>\n",
       "      <td>17</td>\n",
       "      <td>17</td>\n",
       "      <td>17</td>\n",
       "      <td>13</td>\n",
       "      <td>1</td>\n",
       "      <td>1</td>\n",
       "      <td>1</td>\n",
       "      <td>13</td>\n",
       "      <td>1</td>\n",
       "      <td>1</td>\n",
       "      <td>1</td>\n",
       "      <td>15</td>\n",
       "      <td>1</td>\n",
       "      <td>1</td>\n",
       "      <td>1</td>\n",
       "      <td>15</td>\n",
       "      <td>1</td>\n",
       "      <td>1</td>\n",
       "      <td>1</td>\n",
       "    </tr>\n",
       "  </tbody>\n",
       "</table>\n",
       "</div>"
      ],
      "text/plain": [
       "                                                                       0  \\\n",
       "mean_fit_time                                                 0.00678496   \n",
       "std_fit_time                                                  0.00116569   \n",
       "mean_score_time                                               0.00640683   \n",
       "std_score_time                                                0.00264991   \n",
       "param_vc__knn__n_neighbors                                             2   \n",
       "param_vc__svm__C                                                       1   \n",
       "params                      {'vc__knn__n_neighbors': 2, 'vc__svm__C': 1}   \n",
       "split0_test_score                                               0.966667   \n",
       "split1_test_score                                               0.933333   \n",
       "split2_test_score                                                      1   \n",
       "split3_test_score                                                    0.9   \n",
       "split4_test_score                                                      1   \n",
       "mean_test_score                                                     0.96   \n",
       "std_test_score                                                  0.038873   \n",
       "rank_test_score                                                       17   \n",
       "\n",
       "                                                                       1  \\\n",
       "mean_fit_time                                                  0.0134012   \n",
       "std_fit_time                                                   0.0118417   \n",
       "mean_score_time                                               0.00620046   \n",
       "std_score_time                                                0.00172082   \n",
       "param_vc__knn__n_neighbors                                             2   \n",
       "param_vc__svm__C                                                       2   \n",
       "params                      {'vc__knn__n_neighbors': 2, 'vc__svm__C': 2}   \n",
       "split0_test_score                                               0.966667   \n",
       "split1_test_score                                               0.933333   \n",
       "split2_test_score                                                      1   \n",
       "split3_test_score                                                    0.9   \n",
       "split4_test_score                                                      1   \n",
       "mean_test_score                                                     0.96   \n",
       "std_test_score                                                  0.038873   \n",
       "rank_test_score                                                       17   \n",
       "\n",
       "                                                                       2  \\\n",
       "mean_fit_time                                                     0.0112   \n",
       "std_fit_time                                                  0.00271236   \n",
       "mean_score_time                                               0.00800023   \n",
       "std_score_time                                                0.00154914   \n",
       "param_vc__knn__n_neighbors                                             2   \n",
       "param_vc__svm__C                                                       3   \n",
       "params                      {'vc__knn__n_neighbors': 2, 'vc__svm__C': 3}   \n",
       "split0_test_score                                               0.966667   \n",
       "split1_test_score                                               0.933333   \n",
       "split2_test_score                                                      1   \n",
       "split3_test_score                                                    0.9   \n",
       "split4_test_score                                                      1   \n",
       "mean_test_score                                                     0.96   \n",
       "std_test_score                                                  0.038873   \n",
       "rank_test_score                                                       17   \n",
       "\n",
       "                                                                       3  \\\n",
       "mean_fit_time                                                 0.00720057   \n",
       "std_fit_time                                                  0.00231425   \n",
       "mean_score_time                                               0.00640049   \n",
       "std_score_time                                                0.00135651   \n",
       "param_vc__knn__n_neighbors                                             2   \n",
       "param_vc__svm__C                                                       4   \n",
       "params                      {'vc__knn__n_neighbors': 2, 'vc__svm__C': 4}   \n",
       "split0_test_score                                               0.966667   \n",
       "split1_test_score                                               0.933333   \n",
       "split2_test_score                                                      1   \n",
       "split3_test_score                                                    0.9   \n",
       "split4_test_score                                                      1   \n",
       "mean_test_score                                                     0.96   \n",
       "std_test_score                                                  0.038873   \n",
       "rank_test_score                                                       17   \n",
       "\n",
       "                                                                       4  \\\n",
       "mean_fit_time                                                 0.00660181   \n",
       "std_fit_time                                                  0.00215597   \n",
       "mean_score_time                                               0.00579929   \n",
       "std_score_time                                                0.00116528   \n",
       "param_vc__knn__n_neighbors                                             3   \n",
       "param_vc__svm__C                                                       1   \n",
       "params                      {'vc__knn__n_neighbors': 3, 'vc__svm__C': 1}   \n",
       "split0_test_score                                               0.966667   \n",
       "split1_test_score                                               0.966667   \n",
       "split2_test_score                                                      1   \n",
       "split3_test_score                                               0.933333   \n",
       "split4_test_score                                                      1   \n",
       "mean_test_score                                                 0.973333   \n",
       "std_test_score                                                 0.0249444   \n",
       "rank_test_score                                                       13   \n",
       "\n",
       "                                                                       5  \\\n",
       "mean_fit_time                                                 0.00520167   \n",
       "std_fit_time                                                 0.000749263   \n",
       "mean_score_time                                               0.00459661   \n",
       "std_score_time                                               0.000488857   \n",
       "param_vc__knn__n_neighbors                                             3   \n",
       "param_vc__svm__C                                                       2   \n",
       "params                      {'vc__knn__n_neighbors': 3, 'vc__svm__C': 2}   \n",
       "split0_test_score                                               0.966667   \n",
       "split1_test_score                                               0.966667   \n",
       "split2_test_score                                                      1   \n",
       "split3_test_score                                               0.966667   \n",
       "split4_test_score                                                      1   \n",
       "mean_test_score                                                     0.98   \n",
       "std_test_score                                                 0.0163299   \n",
       "rank_test_score                                                        1   \n",
       "\n",
       "                                                                       6  \\\n",
       "mean_fit_time                                                 0.00539656   \n",
       "std_fit_time                                                  0.00196081   \n",
       "mean_score_time                                               0.00440221   \n",
       "std_score_time                                                0.00135682   \n",
       "param_vc__knn__n_neighbors                                             3   \n",
       "param_vc__svm__C                                                       3   \n",
       "params                      {'vc__knn__n_neighbors': 3, 'vc__svm__C': 3}   \n",
       "split0_test_score                                               0.966667   \n",
       "split1_test_score                                               0.966667   \n",
       "split2_test_score                                                      1   \n",
       "split3_test_score                                               0.966667   \n",
       "split4_test_score                                                      1   \n",
       "mean_test_score                                                     0.98   \n",
       "std_test_score                                                 0.0163299   \n",
       "rank_test_score                                                        1   \n",
       "\n",
       "                                                                       7  \\\n",
       "mean_fit_time                                                 0.00519962   \n",
       "std_fit_time                                                  0.00146868   \n",
       "mean_score_time                                               0.00480003   \n",
       "std_score_time                                               0.000749081   \n",
       "param_vc__knn__n_neighbors                                             3   \n",
       "param_vc__svm__C                                                       4   \n",
       "params                      {'vc__knn__n_neighbors': 3, 'vc__svm__C': 4}   \n",
       "split0_test_score                                               0.966667   \n",
       "split1_test_score                                               0.966667   \n",
       "split2_test_score                                                      1   \n",
       "split3_test_score                                               0.966667   \n",
       "split4_test_score                                                      1   \n",
       "mean_test_score                                                     0.98   \n",
       "std_test_score                                                 0.0163299   \n",
       "rank_test_score                                                        1   \n",
       "\n",
       "                                                                       8  \\\n",
       "mean_fit_time                                                 0.00639801   \n",
       "std_fit_time                                                  0.00204995   \n",
       "mean_score_time                                               0.00520086   \n",
       "std_score_time                                                0.00116888   \n",
       "param_vc__knn__n_neighbors                                             4   \n",
       "param_vc__svm__C                                                       1   \n",
       "params                      {'vc__knn__n_neighbors': 4, 'vc__svm__C': 1}   \n",
       "split0_test_score                                               0.966667   \n",
       "split1_test_score                                               0.966667   \n",
       "split2_test_score                                                      1   \n",
       "split3_test_score                                               0.933333   \n",
       "split4_test_score                                                      1   \n",
       "mean_test_score                                                 0.973333   \n",
       "std_test_score                                                 0.0249444   \n",
       "rank_test_score                                                       13   \n",
       "\n",
       "                                                                       9  \\\n",
       "mean_fit_time                                                 0.00560036   \n",
       "std_fit_time                                                  0.00119894   \n",
       "mean_score_time                                               0.00419946   \n",
       "std_score_time                                               0.000401643   \n",
       "param_vc__knn__n_neighbors                                             4   \n",
       "param_vc__svm__C                                                       2   \n",
       "params                      {'vc__knn__n_neighbors': 4, 'vc__svm__C': 2}   \n",
       "split0_test_score                                               0.966667   \n",
       "split1_test_score                                               0.966667   \n",
       "split2_test_score                                                      1   \n",
       "split3_test_score                                               0.966667   \n",
       "split4_test_score                                                      1   \n",
       "mean_test_score                                                     0.98   \n",
       "std_test_score                                                 0.0163299   \n",
       "rank_test_score                                                        1   \n",
       "\n",
       "                                                                      10  \\\n",
       "mean_fit_time                                                 0.00639887   \n",
       "std_fit_time                                                  0.00101915   \n",
       "mean_score_time                                               0.00499949   \n",
       "std_score_time                                                0.00063407   \n",
       "param_vc__knn__n_neighbors                                             4   \n",
       "param_vc__svm__C                                                       3   \n",
       "params                      {'vc__knn__n_neighbors': 4, 'vc__svm__C': 3}   \n",
       "split0_test_score                                               0.966667   \n",
       "split1_test_score                                               0.966667   \n",
       "split2_test_score                                                      1   \n",
       "split3_test_score                                               0.966667   \n",
       "split4_test_score                                                      1   \n",
       "mean_test_score                                                     0.98   \n",
       "std_test_score                                                 0.0163299   \n",
       "rank_test_score                                                        1   \n",
       "\n",
       "                                                                      11  \\\n",
       "mean_fit_time                                                  0.0050014   \n",
       "std_fit_time                                                 0.000895109   \n",
       "mean_score_time                                               0.00420232   \n",
       "std_score_time                                               0.000751674   \n",
       "param_vc__knn__n_neighbors                                             4   \n",
       "param_vc__svm__C                                                       4   \n",
       "params                      {'vc__knn__n_neighbors': 4, 'vc__svm__C': 4}   \n",
       "split0_test_score                                               0.966667   \n",
       "split1_test_score                                               0.966667   \n",
       "split2_test_score                                                      1   \n",
       "split3_test_score                                               0.966667   \n",
       "split4_test_score                                                      1   \n",
       "mean_test_score                                                     0.98   \n",
       "std_test_score                                                 0.0163299   \n",
       "rank_test_score                                                        1   \n",
       "\n",
       "                                                                      12  \\\n",
       "mean_fit_time                                                 0.00439944   \n",
       "std_fit_time                                                 0.000489384   \n",
       "mean_score_time                                               0.00439963   \n",
       "std_score_time                                                0.00135768   \n",
       "param_vc__knn__n_neighbors                                             5   \n",
       "param_vc__svm__C                                                       1   \n",
       "params                      {'vc__knn__n_neighbors': 5, 'vc__svm__C': 1}   \n",
       "split0_test_score                                               0.966667   \n",
       "split1_test_score                                               0.966667   \n",
       "split2_test_score                                               0.966667   \n",
       "split3_test_score                                               0.933333   \n",
       "split4_test_score                                                      1   \n",
       "mean_test_score                                                 0.966667   \n",
       "std_test_score                                                 0.0210819   \n",
       "rank_test_score                                                       15   \n",
       "\n",
       "                                                                      13  \\\n",
       "mean_fit_time                                                 0.00499945   \n",
       "std_fit_time                                                 0.000632562   \n",
       "mean_score_time                                               0.00359859   \n",
       "std_score_time                                               0.000800267   \n",
       "param_vc__knn__n_neighbors                                             5   \n",
       "param_vc__svm__C                                                       2   \n",
       "params                      {'vc__knn__n_neighbors': 5, 'vc__svm__C': 2}   \n",
       "split0_test_score                                               0.966667   \n",
       "split1_test_score                                                      1   \n",
       "split2_test_score                                               0.966667   \n",
       "split3_test_score                                               0.966667   \n",
       "split4_test_score                                                      1   \n",
       "mean_test_score                                                     0.98   \n",
       "std_test_score                                                 0.0163299   \n",
       "rank_test_score                                                        1   \n",
       "\n",
       "                                                                      14  \\\n",
       "mean_fit_time                                                 0.00481124   \n",
       "std_fit_time                                                  0.00117441   \n",
       "mean_score_time                                               0.00418878   \n",
       "std_score_time                                               0.000757508   \n",
       "param_vc__knn__n_neighbors                                             5   \n",
       "param_vc__svm__C                                                       3   \n",
       "params                      {'vc__knn__n_neighbors': 5, 'vc__svm__C': 3}   \n",
       "split0_test_score                                               0.966667   \n",
       "split1_test_score                                                      1   \n",
       "split2_test_score                                               0.966667   \n",
       "split3_test_score                                               0.966667   \n",
       "split4_test_score                                                      1   \n",
       "mean_test_score                                                     0.98   \n",
       "std_test_score                                                 0.0163299   \n",
       "rank_test_score                                                        1   \n",
       "\n",
       "                                                                      15  \\\n",
       "mean_fit_time                                                 0.00600338   \n",
       "std_fit_time                                                  0.00178847   \n",
       "mean_score_time                                               0.00500021   \n",
       "std_score_time                                                0.00126448   \n",
       "param_vc__knn__n_neighbors                                             5   \n",
       "param_vc__svm__C                                                       4   \n",
       "params                      {'vc__knn__n_neighbors': 5, 'vc__svm__C': 4}   \n",
       "split0_test_score                                               0.966667   \n",
       "split1_test_score                                                      1   \n",
       "split2_test_score                                               0.966667   \n",
       "split3_test_score                                               0.966667   \n",
       "split4_test_score                                                      1   \n",
       "mean_test_score                                                     0.98   \n",
       "std_test_score                                                 0.0163299   \n",
       "rank_test_score                                                        1   \n",
       "\n",
       "                                                                      16  \\\n",
       "mean_fit_time                                                 0.00660167   \n",
       "std_fit_time                                                   0.0013569   \n",
       "mean_score_time                                               0.00560031   \n",
       "std_score_time                                                0.00120309   \n",
       "param_vc__knn__n_neighbors                                             6   \n",
       "param_vc__svm__C                                                       1   \n",
       "params                      {'vc__knn__n_neighbors': 6, 'vc__svm__C': 1}   \n",
       "split0_test_score                                               0.966667   \n",
       "split1_test_score                                               0.966667   \n",
       "split2_test_score                                               0.966667   \n",
       "split3_test_score                                               0.933333   \n",
       "split4_test_score                                                      1   \n",
       "mean_test_score                                                 0.966667   \n",
       "std_test_score                                                 0.0210819   \n",
       "rank_test_score                                                       15   \n",
       "\n",
       "                                                                      17  \\\n",
       "mean_fit_time                                                  0.0110006   \n",
       "std_fit_time                                                  0.00167329   \n",
       "mean_score_time                                               0.00740156   \n",
       "std_score_time                                                 0.0018546   \n",
       "param_vc__knn__n_neighbors                                             6   \n",
       "param_vc__svm__C                                                       2   \n",
       "params                      {'vc__knn__n_neighbors': 6, 'vc__svm__C': 2}   \n",
       "split0_test_score                                               0.966667   \n",
       "split1_test_score                                                      1   \n",
       "split2_test_score                                               0.966667   \n",
       "split3_test_score                                               0.966667   \n",
       "split4_test_score                                                      1   \n",
       "mean_test_score                                                     0.98   \n",
       "std_test_score                                                 0.0163299   \n",
       "rank_test_score                                                        1   \n",
       "\n",
       "                                                                      18  \\\n",
       "mean_fit_time                                                 0.00560098   \n",
       "std_fit_time                                                  0.00119982   \n",
       "mean_score_time                                               0.00459986   \n",
       "std_score_time                                                0.00185481   \n",
       "param_vc__knn__n_neighbors                                             6   \n",
       "param_vc__svm__C                                                       3   \n",
       "params                      {'vc__knn__n_neighbors': 6, 'vc__svm__C': 3}   \n",
       "split0_test_score                                               0.966667   \n",
       "split1_test_score                                                      1   \n",
       "split2_test_score                                               0.966667   \n",
       "split3_test_score                                               0.966667   \n",
       "split4_test_score                                                      1   \n",
       "mean_test_score                                                     0.98   \n",
       "std_test_score                                                 0.0163299   \n",
       "rank_test_score                                                        1   \n",
       "\n",
       "                                                                      19  \n",
       "mean_fit_time                                                 0.00400119  \n",
       "std_fit_time                                                 0.000633549  \n",
       "mean_score_time                                               0.00359955  \n",
       "std_score_time                                               0.000800564  \n",
       "param_vc__knn__n_neighbors                                             6  \n",
       "param_vc__svm__C                                                       4  \n",
       "params                      {'vc__knn__n_neighbors': 6, 'vc__svm__C': 4}  \n",
       "split0_test_score                                               0.966667  \n",
       "split1_test_score                                                      1  \n",
       "split2_test_score                                               0.966667  \n",
       "split3_test_score                                               0.966667  \n",
       "split4_test_score                                                      1  \n",
       "mean_test_score                                                     0.98  \n",
       "std_test_score                                                 0.0163299  \n",
       "rank_test_score                                                        1  "
      ]
     },
     "execution_count": 70,
     "metadata": {},
     "output_type": "execute_result"
    }
   ],
   "source": [
    "pd.DataFrame(grid3.cv_results_).T"
   ]
  },
  {
   "cell_type": "markdown",
   "metadata": {},
   "source": [
    "#### VotingClassifier의 하이퍼 파라미터와 알고리즘의 하이퍼 파라미터 동시에 찾기"
   ]
  },
  {
   "cell_type": "code",
   "execution_count": 75,
   "metadata": {},
   "outputs": [],
   "source": [
    "# vc__wights는 VotingClassifier의 하이퍼파라미터이다. \n",
    "# vc__svm__C, vc__knn__n_neighbors은 VotingClassifier의 안에 있는 알고리즘의 하이퍼파라미터이다.\n",
    "grid4 = GridSearchCV(pipe3, {'vc__svm__C':[1,2,3,4], \n",
    "                             'vc__knn__n_neighbors':[2,3,4,5,6], \n",
    "                             \"vc__weights\":[[2,1], [1,2]]})"
   ]
  },
  {
   "cell_type": "code",
   "execution_count": 76,
   "metadata": {
    "scrolled": true
   },
   "outputs": [
    {
     "data": {
      "text/plain": [
       "GridSearchCV(cv=None, error_score=nan,\n",
       "             estimator=Pipeline(memory=None,\n",
       "                                steps=[('vc',\n",
       "                                        VotingClassifier(estimators=[('knn',\n",
       "                                                                      KNeighborsClassifier(algorithm='auto',\n",
       "                                                                                           leaf_size=30,\n",
       "                                                                                           metric='minkowski',\n",
       "                                                                                           metric_params=None,\n",
       "                                                                                           n_jobs=None,\n",
       "                                                                                           n_neighbors=5,\n",
       "                                                                                           p=2,\n",
       "                                                                                           weights='uniform')),\n",
       "                                                                     ('svm',\n",
       "                                                                      SVC(C=1.0,\n",
       "                                                                          break_ties=False,\n",
       "                                                                          cache_size=200,\n",
       "                                                                          class_weight=None,\n",
       "                                                                          coef0=0.0,\n",
       "                                                                          decision_function...\n",
       "                                                                          random_state=None,\n",
       "                                                                          shrinking=True,\n",
       "                                                                          tol=0.001,\n",
       "                                                                          verbose=False))],\n",
       "                                                         flatten_transform=True,\n",
       "                                                         n_jobs=None,\n",
       "                                                         voting='hard',\n",
       "                                                         weights=None))],\n",
       "                                verbose=False),\n",
       "             iid='deprecated', n_jobs=None,\n",
       "             param_grid={'vc__knn__n_neighbors': [2, 3, 4, 5, 6],\n",
       "                         'vc__svm__C': [1, 2, 3, 4],\n",
       "                         'vc__weights': [[2, 1], [1, 2]]},\n",
       "             pre_dispatch='2*n_jobs', refit=True, return_train_score=False,\n",
       "             scoring=None, verbose=0)"
      ]
     },
     "execution_count": 76,
     "metadata": {},
     "output_type": "execute_result"
    }
   ],
   "source": [
    "grid4.fit(iris.iloc[:, :-1], iris.species)"
   ]
  },
  {
   "cell_type": "code",
   "execution_count": 77,
   "metadata": {},
   "outputs": [
    {
     "data": {
      "text/plain": [
       "{'vc__knn__n_neighbors': 2, 'vc__svm__C': 2, 'vc__weights': [1, 2]}"
      ]
     },
     "execution_count": 77,
     "metadata": {},
     "output_type": "execute_result"
    }
   ],
   "source": [
    "grid4.best_params_"
   ]
  },
  {
   "cell_type": "markdown",
   "metadata": {},
   "source": [
    "### Boosting"
   ]
  },
  {
   "cell_type": "markdown",
   "metadata": {},
   "source": [
    "#### AdaBoost"
   ]
  },
  {
   "cell_type": "code",
   "execution_count": 1,
   "metadata": {},
   "outputs": [],
   "source": [
    "# boosting 계열 알고리즘은 종류가 많다.\n",
    "# Ada 라는 여성에서 이름을 따왔다\n",
    "from sklearn.ensemble import AdaBoostClassifier"
   ]
  },
  {
   "cell_type": "code",
   "execution_count": 12,
   "metadata": {},
   "outputs": [],
   "source": [
    "ada = AdaBoostClassifier()"
   ]
  },
  {
   "cell_type": "code",
   "execution_count": 13,
   "metadata": {},
   "outputs": [
    {
     "data": {
      "text/plain": [
       "AdaBoostClassifier(algorithm='SAMME.R', base_estimator=None, learning_rate=1.0,\n",
       "                   n_estimators=50, random_state=None)"
      ]
     },
     "execution_count": 13,
     "metadata": {},
     "output_type": "execute_result"
    }
   ],
   "source": [
    "ada.fit(X_train, y_train)"
   ]
  },
  {
   "cell_type": "code",
   "execution_count": 14,
   "metadata": {},
   "outputs": [
    {
     "data": {
      "text/plain": [
       "0.9736842105263158"
      ]
     },
     "execution_count": 14,
     "metadata": {},
     "output_type": "execute_result"
    }
   ],
   "source": [
    "ada.score(X_test, y_test)"
   ]
  },
  {
   "cell_type": "markdown",
   "metadata": {},
   "source": [
    "#### xgboost"
   ]
  },
  {
   "cell_type": "markdown",
   "metadata": {},
   "source": [
    "\n",
    "kaggle에서는 xgboost, lightGBM이 가장 인기가 많다.  \n",
    "xgboosting은 scikit-learn에 없어서 다른 라이브러리를 써야한다.  \n",
    "하지만 scikit-learn과 100% 호환이 된다."
   ]
  },
  {
   "cell_type": "code",
   "execution_count": null,
   "metadata": {},
   "outputs": [],
   "source": [
    "!pip install xgboost"
   ]
  },
  {
   "cell_type": "code",
   "execution_count": 2,
   "metadata": {},
   "outputs": [],
   "source": [
    "from xgboost import XGBClassifier"
   ]
  },
  {
   "cell_type": "code",
   "execution_count": 3,
   "metadata": {},
   "outputs": [],
   "source": [
    "xg = XGBClassifier()"
   ]
  },
  {
   "cell_type": "code",
   "execution_count": 5,
   "metadata": {},
   "outputs": [],
   "source": [
    "from sklearn.model_selection import cross_val_score"
   ]
  },
  {
   "cell_type": "code",
   "execution_count": 11,
   "metadata": {},
   "outputs": [
    {
     "data": {
      "text/plain": [
       "array([1.        , 0.93333333, 1.        , 0.93333333, 0.93333333,\n",
       "       0.93333333, 0.93333333, 0.93333333, 1.        , 1.        ])"
      ]
     },
     "execution_count": 11,
     "metadata": {},
     "output_type": "execute_result"
    }
   ],
   "source": [
    "# scikit=learn과 연동이 된다.\n",
    "cross_val_score(xg, iris.iloc[:,:-1], iris.species, cv=10)"
   ]
  },
  {
   "cell_type": "markdown",
   "metadata": {},
   "source": [
    "### Stacking"
   ]
  },
  {
   "cell_type": "markdown",
   "metadata": {},
   "source": [
    "Stacking은 여러개의 모델이 예측한 결과를 다시 학습한다.  \n",
    "예를 들어 A모델, B모델, C모델을 만들면,  \n",
    "\n",
    "-> A 모델의 예측값을 학습해서 B모델을 만들고, B모델의 예측값을 학습해서 C모델을 만든다.  \n",
    "-> 쌓아서 만든다고 해서 스택킹 모델이라고 함.\n",
    "\n",
    "voting은 단순히 다수결이지만, Stacking은 더 정교하게 모델링할 수 있다.  \n",
    "성능은 좋지만, 시간이 오래 걸리고 모델이 복잡한 단점이 있다.\n",
    "\n"
   ]
  },
  {
   "cell_type": "code",
   "execution_count": 15,
   "metadata": {},
   "outputs": [],
   "source": [
    "from sklearn.ensemble import StackingClassifier"
   ]
  },
  {
   "cell_type": "code",
   "execution_count": 18,
   "metadata": {},
   "outputs": [],
   "source": [
    "from sklearn.linear_model import LogisticRegression"
   ]
  },
  {
   "cell_type": "code",
   "execution_count": 21,
   "metadata": {},
   "outputs": [],
   "source": [
    "sc = StackingClassifier([(\"lr\", LogisticRegression()), (\"knn\", KNeighborsClassifier())])"
   ]
  },
  {
   "cell_type": "code",
   "execution_count": 22,
   "metadata": {},
   "outputs": [
    {
     "name": "stderr",
     "output_type": "stream",
     "text": [
      "C:\\Users\\JINHYO\\Anaconda3\\lib\\site-packages\\sklearn\\linear_model\\_logistic.py:940: ConvergenceWarning: lbfgs failed to converge (status=1):\n",
      "STOP: TOTAL NO. of ITERATIONS REACHED LIMIT.\n",
      "\n",
      "Increase the number of iterations (max_iter) or scale the data as shown in:\n",
      "    https://scikit-learn.org/stable/modules/preprocessing.html\n",
      "Please also refer to the documentation for alternative solver options:\n",
      "    https://scikit-learn.org/stable/modules/linear_model.html#logistic-regression\n",
      "  extra_warning_msg=_LOGISTIC_SOLVER_CONVERGENCE_MSG)\n"
     ]
    },
    {
     "data": {
      "text/plain": [
       "StackingClassifier(cv=None,\n",
       "                   estimators=[('lr',\n",
       "                                LogisticRegression(C=1.0, class_weight=None,\n",
       "                                                   dual=False,\n",
       "                                                   fit_intercept=True,\n",
       "                                                   intercept_scaling=1,\n",
       "                                                   l1_ratio=None, max_iter=100,\n",
       "                                                   multi_class='auto',\n",
       "                                                   n_jobs=None, penalty='l2',\n",
       "                                                   random_state=None,\n",
       "                                                   solver='lbfgs', tol=0.0001,\n",
       "                                                   verbose=0,\n",
       "                                                   warm_start=False)),\n",
       "                               ('knn',\n",
       "                                KNeighborsClassifier(algorithm='auto',\n",
       "                                                     leaf_size=30,\n",
       "                                                     metric='minkowski',\n",
       "                                                     metric_params=None,\n",
       "                                                     n_jobs=None, n_neighbors=5,\n",
       "                                                     p=2, weights='uniform'))],\n",
       "                   final_estimator=None, n_jobs=None, passthrough=False,\n",
       "                   stack_method='auto', verbose=0)"
      ]
     },
     "execution_count": 22,
     "metadata": {},
     "output_type": "execute_result"
    }
   ],
   "source": [
    "sc.fit(X_train, y_train)"
   ]
  },
  {
   "cell_type": "code",
   "execution_count": 23,
   "metadata": {},
   "outputs": [
    {
     "data": {
      "text/plain": [
       "1.0"
      ]
     },
     "execution_count": 23,
     "metadata": {},
     "output_type": "execute_result"
    }
   ],
   "source": [
    "sc.score(X_test, y_test)"
   ]
  },
  {
   "cell_type": "markdown",
   "metadata": {},
   "source": [
    "## make_column_transformer"
   ]
  },
  {
   "cell_type": "code",
   "execution_count": 41,
   "metadata": {},
   "outputs": [],
   "source": [
    "# ColumnTransformer를 편하게 만들기 위해서 함수를 지원한다.\n",
    "from sklearn.compose import make_column_transformer"
   ]
  },
  {
   "cell_type": "code",
   "execution_count": 42,
   "metadata": {},
   "outputs": [],
   "source": [
    "from sklearn.preprocessing import StandardScaler"
   ]
  },
  {
   "cell_type": "code",
   "execution_count": 43,
   "metadata": {},
   "outputs": [],
   "source": [
    "# tuple에 인스턴스와 사용할 열만 적으면 된다. \n",
    "# 가변 포지셔널 방식이므로, 리스트로 튜플을 묶을 필요가 없다. (ColumnTransformer와 차이점)\n",
    "ct = make_column_transformer((StandardScaler(), [0,1,2]))"
   ]
  },
  {
   "cell_type": "code",
   "execution_count": 44,
   "metadata": {},
   "outputs": [
    {
     "data": {
      "text/plain": [
       "array([[-0.90068117,  1.01900435, -1.34022653],\n",
       "       [-1.14301691, -0.13197948, -1.34022653],\n",
       "       [-1.38535265,  0.32841405, -1.39706395],\n",
       "       [-1.50652052,  0.09821729, -1.2833891 ],\n",
       "       [-1.02184904,  1.24920112, -1.34022653],\n",
       "       [-0.53717756,  1.93979142, -1.16971425],\n",
       "       [-1.50652052,  0.78880759, -1.34022653],\n",
       "       [-1.02184904,  0.78880759, -1.2833891 ],\n",
       "       [-1.74885626, -0.36217625, -1.34022653],\n",
       "       [-1.14301691,  0.09821729, -1.2833891 ],\n",
       "       [-0.53717756,  1.47939788, -1.2833891 ],\n",
       "       [-1.26418478,  0.78880759, -1.22655167],\n",
       "       [-1.26418478, -0.13197948, -1.34022653],\n",
       "       [-1.87002413, -0.13197948, -1.51073881],\n",
       "       [-0.05250608,  2.16998818, -1.45390138],\n",
       "       [-0.17367395,  3.09077525, -1.2833891 ],\n",
       "       [-0.53717756,  1.93979142, -1.39706395],\n",
       "       [-0.90068117,  1.01900435, -1.34022653],\n",
       "       [-0.17367395,  1.70959465, -1.16971425],\n",
       "       [-0.90068117,  1.70959465, -1.2833891 ],\n",
       "       [-0.53717756,  0.78880759, -1.16971425],\n",
       "       [-0.90068117,  1.47939788, -1.2833891 ],\n",
       "       [-1.50652052,  1.24920112, -1.56757623],\n",
       "       [-0.90068117,  0.55861082, -1.16971425],\n",
       "       [-1.26418478,  0.78880759, -1.05603939],\n",
       "       [-1.02184904, -0.13197948, -1.22655167],\n",
       "       [-1.02184904,  0.78880759, -1.22655167],\n",
       "       [-0.7795133 ,  1.01900435, -1.2833891 ],\n",
       "       [-0.7795133 ,  0.78880759, -1.34022653],\n",
       "       [-1.38535265,  0.32841405, -1.22655167],\n",
       "       [-1.26418478,  0.09821729, -1.22655167],\n",
       "       [-0.53717756,  0.78880759, -1.2833891 ],\n",
       "       [-0.7795133 ,  2.40018495, -1.2833891 ],\n",
       "       [-0.41600969,  2.63038172, -1.34022653],\n",
       "       [-1.14301691,  0.09821729, -1.2833891 ],\n",
       "       [-1.02184904,  0.32841405, -1.45390138],\n",
       "       [-0.41600969,  1.01900435, -1.39706395],\n",
       "       [-1.14301691,  1.24920112, -1.34022653],\n",
       "       [-1.74885626, -0.13197948, -1.39706395],\n",
       "       [-0.90068117,  0.78880759, -1.2833891 ],\n",
       "       [-1.02184904,  1.01900435, -1.39706395],\n",
       "       [-1.62768839, -1.74335684, -1.39706395],\n",
       "       [-1.74885626,  0.32841405, -1.39706395],\n",
       "       [-1.02184904,  1.01900435, -1.22655167],\n",
       "       [-0.90068117,  1.70959465, -1.05603939],\n",
       "       [-1.26418478, -0.13197948, -1.34022653],\n",
       "       [-0.90068117,  1.70959465, -1.22655167],\n",
       "       [-1.50652052,  0.32841405, -1.34022653],\n",
       "       [-0.65834543,  1.47939788, -1.2833891 ],\n",
       "       [-1.02184904,  0.55861082, -1.34022653],\n",
       "       [ 1.40150837,  0.32841405,  0.53540856],\n",
       "       [ 0.67450115,  0.32841405,  0.42173371],\n",
       "       [ 1.2803405 ,  0.09821729,  0.64908342],\n",
       "       [-0.41600969, -1.74335684,  0.13754657],\n",
       "       [ 0.79566902, -0.59237301,  0.47857113],\n",
       "       [-0.17367395, -0.59237301,  0.42173371],\n",
       "       [ 0.55333328,  0.55861082,  0.53540856],\n",
       "       [-1.14301691, -1.51316008, -0.26031542],\n",
       "       [ 0.91683689, -0.36217625,  0.47857113],\n",
       "       [-0.7795133 , -0.82256978,  0.08070915],\n",
       "       [-1.02184904, -2.43394714, -0.14664056],\n",
       "       [ 0.06866179, -0.13197948,  0.25122143],\n",
       "       [ 0.18982966, -1.97355361,  0.13754657],\n",
       "       [ 0.31099753, -0.36217625,  0.53540856],\n",
       "       [-0.29484182, -0.36217625, -0.08980313],\n",
       "       [ 1.03800476,  0.09821729,  0.36489628],\n",
       "       [-0.29484182, -0.13197948,  0.42173371],\n",
       "       [-0.05250608, -0.82256978,  0.194384  ],\n",
       "       [ 0.4321654 , -1.97355361,  0.42173371],\n",
       "       [-0.29484182, -1.28296331,  0.08070915],\n",
       "       [ 0.06866179,  0.32841405,  0.59224599],\n",
       "       [ 0.31099753, -0.59237301,  0.13754657],\n",
       "       [ 0.55333328, -1.28296331,  0.64908342],\n",
       "       [ 0.31099753, -0.59237301,  0.53540856],\n",
       "       [ 0.67450115, -0.36217625,  0.30805885],\n",
       "       [ 0.91683689, -0.13197948,  0.36489628],\n",
       "       [ 1.15917263, -0.59237301,  0.59224599],\n",
       "       [ 1.03800476, -0.13197948,  0.70592084],\n",
       "       [ 0.18982966, -0.36217625,  0.42173371],\n",
       "       [-0.17367395, -1.05276654, -0.14664056],\n",
       "       [-0.41600969, -1.51316008,  0.02387172],\n",
       "       [-0.41600969, -1.51316008, -0.03296571],\n",
       "       [-0.05250608, -0.82256978,  0.08070915],\n",
       "       [ 0.18982966, -0.82256978,  0.76275827],\n",
       "       [-0.53717756, -0.13197948,  0.42173371],\n",
       "       [ 0.18982966,  0.78880759,  0.42173371],\n",
       "       [ 1.03800476,  0.09821729,  0.53540856],\n",
       "       [ 0.55333328, -1.74335684,  0.36489628],\n",
       "       [-0.29484182, -0.13197948,  0.194384  ],\n",
       "       [-0.41600969, -1.28296331,  0.13754657],\n",
       "       [-0.41600969, -1.05276654,  0.36489628],\n",
       "       [ 0.31099753, -0.13197948,  0.47857113],\n",
       "       [-0.05250608, -1.05276654,  0.13754657],\n",
       "       [-1.02184904, -1.74335684, -0.26031542],\n",
       "       [-0.29484182, -0.82256978,  0.25122143],\n",
       "       [-0.17367395, -0.13197948,  0.25122143],\n",
       "       [-0.17367395, -0.36217625,  0.25122143],\n",
       "       [ 0.4321654 , -0.36217625,  0.30805885],\n",
       "       [-0.90068117, -1.28296331, -0.4308277 ],\n",
       "       [-0.17367395, -0.59237301,  0.194384  ],\n",
       "       [ 0.55333328,  0.55861082,  1.27429511],\n",
       "       [-0.05250608, -0.82256978,  0.76275827],\n",
       "       [ 1.52267624, -0.13197948,  1.21745768],\n",
       "       [ 0.55333328, -0.36217625,  1.0469454 ],\n",
       "       [ 0.79566902, -0.13197948,  1.16062026],\n",
       "       [ 2.12851559, -0.13197948,  1.61531967],\n",
       "       [-1.14301691, -1.28296331,  0.42173371],\n",
       "       [ 1.76501198, -0.36217625,  1.44480739],\n",
       "       [ 1.03800476, -1.28296331,  1.16062026],\n",
       "       [ 1.64384411,  1.24920112,  1.33113254],\n",
       "       [ 0.79566902,  0.32841405,  0.76275827],\n",
       "       [ 0.67450115, -0.82256978,  0.87643312],\n",
       "       [ 1.15917263, -0.13197948,  0.99010798],\n",
       "       [-0.17367395, -1.28296331,  0.70592084],\n",
       "       [-0.05250608, -0.59237301,  0.76275827],\n",
       "       [ 0.67450115,  0.32841405,  0.87643312],\n",
       "       [ 0.79566902, -0.13197948,  0.99010798],\n",
       "       [ 2.24968346,  1.70959465,  1.6721571 ],\n",
       "       [ 2.24968346, -1.05276654,  1.78583195],\n",
       "       [ 0.18982966, -1.97355361,  0.70592084],\n",
       "       [ 1.2803405 ,  0.32841405,  1.10378283],\n",
       "       [-0.29484182, -0.59237301,  0.64908342],\n",
       "       [ 2.24968346, -0.59237301,  1.6721571 ],\n",
       "       [ 0.55333328, -0.82256978,  0.64908342],\n",
       "       [ 1.03800476,  0.55861082,  1.10378283],\n",
       "       [ 1.64384411,  0.32841405,  1.27429511],\n",
       "       [ 0.4321654 , -0.59237301,  0.59224599],\n",
       "       [ 0.31099753, -0.13197948,  0.64908342],\n",
       "       [ 0.67450115, -0.59237301,  1.0469454 ],\n",
       "       [ 1.64384411, -0.13197948,  1.16062026],\n",
       "       [ 1.88617985, -0.59237301,  1.33113254],\n",
       "       [ 2.4920192 ,  1.70959465,  1.50164482],\n",
       "       [ 0.67450115, -0.59237301,  1.0469454 ],\n",
       "       [ 0.55333328, -0.59237301,  0.76275827],\n",
       "       [ 0.31099753, -1.05276654,  1.0469454 ],\n",
       "       [ 2.24968346, -0.13197948,  1.33113254],\n",
       "       [ 0.55333328,  0.78880759,  1.0469454 ],\n",
       "       [ 0.67450115,  0.09821729,  0.99010798],\n",
       "       [ 0.18982966, -0.13197948,  0.59224599],\n",
       "       [ 1.2803405 ,  0.09821729,  0.93327055],\n",
       "       [ 1.03800476,  0.09821729,  1.0469454 ],\n",
       "       [ 1.2803405 ,  0.09821729,  0.76275827],\n",
       "       [-0.05250608, -0.82256978,  0.76275827],\n",
       "       [ 1.15917263,  0.32841405,  1.21745768],\n",
       "       [ 1.03800476,  0.55861082,  1.10378283],\n",
       "       [ 1.03800476, -0.13197948,  0.8195957 ],\n",
       "       [ 0.55333328, -1.28296331,  0.70592084],\n",
       "       [ 0.79566902, -0.13197948,  0.8195957 ],\n",
       "       [ 0.4321654 ,  0.78880759,  0.93327055],\n",
       "       [ 0.06866179, -0.13197948,  0.76275827]])"
      ]
     },
     "execution_count": 44,
     "metadata": {},
     "output_type": "execute_result"
    }
   ],
   "source": [
    "# 컬럼을 선택해서 전처리할 수 있다.\n",
    "ct.fit_transform(iris.iloc[:, :-1], iris.species)"
   ]
  },
  {
   "cell_type": "code",
   "execution_count": 45,
   "metadata": {},
   "outputs": [
    {
     "data": {
      "text/plain": [
       "array([[-9.00681170e-01,  1.01900435e+00, -1.34022653e+00,\n",
       "        -1.31544430e+00],\n",
       "       [-1.14301691e+00, -1.31979479e-01, -1.34022653e+00,\n",
       "        -1.31544430e+00],\n",
       "       [-1.38535265e+00,  3.28414053e-01, -1.39706395e+00,\n",
       "        -1.31544430e+00],\n",
       "       [-1.50652052e+00,  9.82172869e-02, -1.28338910e+00,\n",
       "        -1.31544430e+00],\n",
       "       [-1.02184904e+00,  1.24920112e+00, -1.34022653e+00,\n",
       "        -1.31544430e+00],\n",
       "       [-5.37177559e-01,  1.93979142e+00, -1.16971425e+00,\n",
       "        -1.05217993e+00],\n",
       "       [-1.50652052e+00,  7.88807586e-01, -1.34022653e+00,\n",
       "        -1.18381211e+00],\n",
       "       [-1.02184904e+00,  7.88807586e-01, -1.28338910e+00,\n",
       "        -1.31544430e+00],\n",
       "       [-1.74885626e+00, -3.62176246e-01, -1.34022653e+00,\n",
       "        -1.31544430e+00],\n",
       "       [-1.14301691e+00,  9.82172869e-02, -1.28338910e+00,\n",
       "        -1.44707648e+00],\n",
       "       [-5.37177559e-01,  1.47939788e+00, -1.28338910e+00,\n",
       "        -1.31544430e+00],\n",
       "       [-1.26418478e+00,  7.88807586e-01, -1.22655167e+00,\n",
       "        -1.31544430e+00],\n",
       "       [-1.26418478e+00, -1.31979479e-01, -1.34022653e+00,\n",
       "        -1.44707648e+00],\n",
       "       [-1.87002413e+00, -1.31979479e-01, -1.51073881e+00,\n",
       "        -1.44707648e+00],\n",
       "       [-5.25060772e-02,  2.16998818e+00, -1.45390138e+00,\n",
       "        -1.31544430e+00],\n",
       "       [-1.73673948e-01,  3.09077525e+00, -1.28338910e+00,\n",
       "        -1.05217993e+00],\n",
       "       [-5.37177559e-01,  1.93979142e+00, -1.39706395e+00,\n",
       "        -1.05217993e+00],\n",
       "       [-9.00681170e-01,  1.01900435e+00, -1.34022653e+00,\n",
       "        -1.18381211e+00],\n",
       "       [-1.73673948e-01,  1.70959465e+00, -1.16971425e+00,\n",
       "        -1.18381211e+00],\n",
       "       [-9.00681170e-01,  1.70959465e+00, -1.28338910e+00,\n",
       "        -1.18381211e+00],\n",
       "       [-5.37177559e-01,  7.88807586e-01, -1.16971425e+00,\n",
       "        -1.31544430e+00],\n",
       "       [-9.00681170e-01,  1.47939788e+00, -1.28338910e+00,\n",
       "        -1.05217993e+00],\n",
       "       [-1.50652052e+00,  1.24920112e+00, -1.56757623e+00,\n",
       "        -1.31544430e+00],\n",
       "       [-9.00681170e-01,  5.58610819e-01, -1.16971425e+00,\n",
       "        -9.20547742e-01],\n",
       "       [-1.26418478e+00,  7.88807586e-01, -1.05603939e+00,\n",
       "        -1.31544430e+00],\n",
       "       [-1.02184904e+00, -1.31979479e-01, -1.22655167e+00,\n",
       "        -1.31544430e+00],\n",
       "       [-1.02184904e+00,  7.88807586e-01, -1.22655167e+00,\n",
       "        -1.05217993e+00],\n",
       "       [-7.79513300e-01,  1.01900435e+00, -1.28338910e+00,\n",
       "        -1.31544430e+00],\n",
       "       [-7.79513300e-01,  7.88807586e-01, -1.34022653e+00,\n",
       "        -1.31544430e+00],\n",
       "       [-1.38535265e+00,  3.28414053e-01, -1.22655167e+00,\n",
       "        -1.31544430e+00],\n",
       "       [-1.26418478e+00,  9.82172869e-02, -1.22655167e+00,\n",
       "        -1.31544430e+00],\n",
       "       [-5.37177559e-01,  7.88807586e-01, -1.28338910e+00,\n",
       "        -1.05217993e+00],\n",
       "       [-7.79513300e-01,  2.40018495e+00, -1.28338910e+00,\n",
       "        -1.44707648e+00],\n",
       "       [-4.16009689e-01,  2.63038172e+00, -1.34022653e+00,\n",
       "        -1.31544430e+00],\n",
       "       [-1.14301691e+00,  9.82172869e-02, -1.28338910e+00,\n",
       "        -1.31544430e+00],\n",
       "       [-1.02184904e+00,  3.28414053e-01, -1.45390138e+00,\n",
       "        -1.31544430e+00],\n",
       "       [-4.16009689e-01,  1.01900435e+00, -1.39706395e+00,\n",
       "        -1.31544430e+00],\n",
       "       [-1.14301691e+00,  1.24920112e+00, -1.34022653e+00,\n",
       "        -1.44707648e+00],\n",
       "       [-1.74885626e+00, -1.31979479e-01, -1.39706395e+00,\n",
       "        -1.31544430e+00],\n",
       "       [-9.00681170e-01,  7.88807586e-01, -1.28338910e+00,\n",
       "        -1.31544430e+00],\n",
       "       [-1.02184904e+00,  1.01900435e+00, -1.39706395e+00,\n",
       "        -1.18381211e+00],\n",
       "       [-1.62768839e+00, -1.74335684e+00, -1.39706395e+00,\n",
       "        -1.18381211e+00],\n",
       "       [-1.74885626e+00,  3.28414053e-01, -1.39706395e+00,\n",
       "        -1.31544430e+00],\n",
       "       [-1.02184904e+00,  1.01900435e+00, -1.22655167e+00,\n",
       "        -7.88915558e-01],\n",
       "       [-9.00681170e-01,  1.70959465e+00, -1.05603939e+00,\n",
       "        -1.05217993e+00],\n",
       "       [-1.26418478e+00, -1.31979479e-01, -1.34022653e+00,\n",
       "        -1.18381211e+00],\n",
       "       [-9.00681170e-01,  1.70959465e+00, -1.22655167e+00,\n",
       "        -1.31544430e+00],\n",
       "       [-1.50652052e+00,  3.28414053e-01, -1.34022653e+00,\n",
       "        -1.31544430e+00],\n",
       "       [-6.58345429e-01,  1.47939788e+00, -1.28338910e+00,\n",
       "        -1.31544430e+00],\n",
       "       [-1.02184904e+00,  5.58610819e-01, -1.34022653e+00,\n",
       "        -1.31544430e+00],\n",
       "       [ 1.40150837e+00,  3.28414053e-01,  5.35408562e-01,\n",
       "         2.64141916e-01],\n",
       "       [ 6.74501145e-01,  3.28414053e-01,  4.21733708e-01,\n",
       "         3.95774101e-01],\n",
       "       [ 1.28034050e+00,  9.82172869e-02,  6.49083415e-01,\n",
       "         3.95774101e-01],\n",
       "       [-4.16009689e-01, -1.74335684e+00,  1.37546573e-01,\n",
       "         1.32509732e-01],\n",
       "       [ 7.95669016e-01, -5.92373012e-01,  4.78571135e-01,\n",
       "         3.95774101e-01],\n",
       "       [-1.73673948e-01, -5.92373012e-01,  4.21733708e-01,\n",
       "         1.32509732e-01],\n",
       "       [ 5.53333275e-01,  5.58610819e-01,  5.35408562e-01,\n",
       "         5.27406285e-01],\n",
       "       [-1.14301691e+00, -1.51316008e+00, -2.60315415e-01,\n",
       "        -2.62386821e-01],\n",
       "       [ 9.16836886e-01, -3.62176246e-01,  4.78571135e-01,\n",
       "         1.32509732e-01],\n",
       "       [-7.79513300e-01, -8.22569778e-01,  8.07091462e-02,\n",
       "         2.64141916e-01],\n",
       "       [-1.02184904e+00, -2.43394714e+00, -1.46640561e-01,\n",
       "        -2.62386821e-01],\n",
       "       [ 6.86617933e-02, -1.31979479e-01,  2.51221427e-01,\n",
       "         3.95774101e-01],\n",
       "       [ 1.89829664e-01, -1.97355361e+00,  1.37546573e-01,\n",
       "        -2.62386821e-01],\n",
       "       [ 3.10997534e-01, -3.62176246e-01,  5.35408562e-01,\n",
       "         2.64141916e-01],\n",
       "       [-2.94841818e-01, -3.62176246e-01, -8.98031345e-02,\n",
       "         1.32509732e-01],\n",
       "       [ 1.03800476e+00,  9.82172869e-02,  3.64896281e-01,\n",
       "         2.64141916e-01],\n",
       "       [-2.94841818e-01, -1.31979479e-01,  4.21733708e-01,\n",
       "         3.95774101e-01],\n",
       "       [-5.25060772e-02, -8.22569778e-01,  1.94384000e-01,\n",
       "        -2.62386821e-01],\n",
       "       [ 4.32165405e-01, -1.97355361e+00,  4.21733708e-01,\n",
       "         3.95774101e-01],\n",
       "       [-2.94841818e-01, -1.28296331e+00,  8.07091462e-02,\n",
       "        -1.30754636e-01],\n",
       "       [ 6.86617933e-02,  3.28414053e-01,  5.92245988e-01,\n",
       "         7.90670654e-01],\n",
       "       [ 3.10997534e-01, -5.92373012e-01,  1.37546573e-01,\n",
       "         1.32509732e-01],\n",
       "       [ 5.53333275e-01, -1.28296331e+00,  6.49083415e-01,\n",
       "         3.95774101e-01],\n",
       "       [ 3.10997534e-01, -5.92373012e-01,  5.35408562e-01,\n",
       "         8.77547895e-04],\n",
       "       [ 6.74501145e-01, -3.62176246e-01,  3.08058854e-01,\n",
       "         1.32509732e-01],\n",
       "       [ 9.16836886e-01, -1.31979479e-01,  3.64896281e-01,\n",
       "         2.64141916e-01],\n",
       "       [ 1.15917263e+00, -5.92373012e-01,  5.92245988e-01,\n",
       "         2.64141916e-01],\n",
       "       [ 1.03800476e+00, -1.31979479e-01,  7.05920842e-01,\n",
       "         6.59038469e-01],\n",
       "       [ 1.89829664e-01, -3.62176246e-01,  4.21733708e-01,\n",
       "         3.95774101e-01],\n",
       "       [-1.73673948e-01, -1.05276654e+00, -1.46640561e-01,\n",
       "        -2.62386821e-01],\n",
       "       [-4.16009689e-01, -1.51316008e+00,  2.38717193e-02,\n",
       "        -1.30754636e-01],\n",
       "       [-4.16009689e-01, -1.51316008e+00, -3.29657076e-02,\n",
       "        -2.62386821e-01],\n",
       "       [-5.25060772e-02, -8.22569778e-01,  8.07091462e-02,\n",
       "         8.77547895e-04],\n",
       "       [ 1.89829664e-01, -8.22569778e-01,  7.62758269e-01,\n",
       "         5.27406285e-01],\n",
       "       [-5.37177559e-01, -1.31979479e-01,  4.21733708e-01,\n",
       "         3.95774101e-01],\n",
       "       [ 1.89829664e-01,  7.88807586e-01,  4.21733708e-01,\n",
       "         5.27406285e-01],\n",
       "       [ 1.03800476e+00,  9.82172869e-02,  5.35408562e-01,\n",
       "         3.95774101e-01],\n",
       "       [ 5.53333275e-01, -1.74335684e+00,  3.64896281e-01,\n",
       "         1.32509732e-01],\n",
       "       [-2.94841818e-01, -1.31979479e-01,  1.94384000e-01,\n",
       "         1.32509732e-01],\n",
       "       [-4.16009689e-01, -1.28296331e+00,  1.37546573e-01,\n",
       "         1.32509732e-01],\n",
       "       [-4.16009689e-01, -1.05276654e+00,  3.64896281e-01,\n",
       "         8.77547895e-04],\n",
       "       [ 3.10997534e-01, -1.31979479e-01,  4.78571135e-01,\n",
       "         2.64141916e-01],\n",
       "       [-5.25060772e-02, -1.05276654e+00,  1.37546573e-01,\n",
       "         8.77547895e-04],\n",
       "       [-1.02184904e+00, -1.74335684e+00, -2.60315415e-01,\n",
       "        -2.62386821e-01],\n",
       "       [-2.94841818e-01, -8.22569778e-01,  2.51221427e-01,\n",
       "         1.32509732e-01],\n",
       "       [-1.73673948e-01, -1.31979479e-01,  2.51221427e-01,\n",
       "         8.77547895e-04],\n",
       "       [-1.73673948e-01, -3.62176246e-01,  2.51221427e-01,\n",
       "         1.32509732e-01],\n",
       "       [ 4.32165405e-01, -3.62176246e-01,  3.08058854e-01,\n",
       "         1.32509732e-01],\n",
       "       [-9.00681170e-01, -1.28296331e+00, -4.30827696e-01,\n",
       "        -1.30754636e-01],\n",
       "       [-1.73673948e-01, -5.92373012e-01,  1.94384000e-01,\n",
       "         1.32509732e-01],\n",
       "       [ 5.53333275e-01,  5.58610819e-01,  1.27429511e+00,\n",
       "         1.71209594e+00],\n",
       "       [-5.25060772e-02, -8.22569778e-01,  7.62758269e-01,\n",
       "         9.22302838e-01],\n",
       "       [ 1.52267624e+00, -1.31979479e-01,  1.21745768e+00,\n",
       "         1.18556721e+00],\n",
       "       [ 5.53333275e-01, -3.62176246e-01,  1.04694540e+00,\n",
       "         7.90670654e-01],\n",
       "       [ 7.95669016e-01, -1.31979479e-01,  1.16062026e+00,\n",
       "         1.31719939e+00],\n",
       "       [ 2.12851559e+00, -1.31979479e-01,  1.61531967e+00,\n",
       "         1.18556721e+00],\n",
       "       [-1.14301691e+00, -1.28296331e+00,  4.21733708e-01,\n",
       "         6.59038469e-01],\n",
       "       [ 1.76501198e+00, -3.62176246e-01,  1.44480739e+00,\n",
       "         7.90670654e-01],\n",
       "       [ 1.03800476e+00, -1.28296331e+00,  1.16062026e+00,\n",
       "         7.90670654e-01],\n",
       "       [ 1.64384411e+00,  1.24920112e+00,  1.33113254e+00,\n",
       "         1.71209594e+00],\n",
       "       [ 7.95669016e-01,  3.28414053e-01,  7.62758269e-01,\n",
       "         1.05393502e+00],\n",
       "       [ 6.74501145e-01, -8.22569778e-01,  8.76433123e-01,\n",
       "         9.22302838e-01],\n",
       "       [ 1.15917263e+00, -1.31979479e-01,  9.90107977e-01,\n",
       "         1.18556721e+00],\n",
       "       [-1.73673948e-01, -1.28296331e+00,  7.05920842e-01,\n",
       "         1.05393502e+00],\n",
       "       [-5.25060772e-02, -5.92373012e-01,  7.62758269e-01,\n",
       "         1.58046376e+00],\n",
       "       [ 6.74501145e-01,  3.28414053e-01,  8.76433123e-01,\n",
       "         1.44883158e+00],\n",
       "       [ 7.95669016e-01, -1.31979479e-01,  9.90107977e-01,\n",
       "         7.90670654e-01],\n",
       "       [ 2.24968346e+00,  1.70959465e+00,  1.67215710e+00,\n",
       "         1.31719939e+00],\n",
       "       [ 2.24968346e+00, -1.05276654e+00,  1.78583195e+00,\n",
       "         1.44883158e+00],\n",
       "       [ 1.89829664e-01, -1.97355361e+00,  7.05920842e-01,\n",
       "         3.95774101e-01],\n",
       "       [ 1.28034050e+00,  3.28414053e-01,  1.10378283e+00,\n",
       "         1.44883158e+00],\n",
       "       [-2.94841818e-01, -5.92373012e-01,  6.49083415e-01,\n",
       "         1.05393502e+00],\n",
       "       [ 2.24968346e+00, -5.92373012e-01,  1.67215710e+00,\n",
       "         1.05393502e+00],\n",
       "       [ 5.53333275e-01, -8.22569778e-01,  6.49083415e-01,\n",
       "         7.90670654e-01],\n",
       "       [ 1.03800476e+00,  5.58610819e-01,  1.10378283e+00,\n",
       "         1.18556721e+00],\n",
       "       [ 1.64384411e+00,  3.28414053e-01,  1.27429511e+00,\n",
       "         7.90670654e-01],\n",
       "       [ 4.32165405e-01, -5.92373012e-01,  5.92245988e-01,\n",
       "         7.90670654e-01],\n",
       "       [ 3.10997534e-01, -1.31979479e-01,  6.49083415e-01,\n",
       "         7.90670654e-01],\n",
       "       [ 6.74501145e-01, -5.92373012e-01,  1.04694540e+00,\n",
       "         1.18556721e+00],\n",
       "       [ 1.64384411e+00, -1.31979479e-01,  1.16062026e+00,\n",
       "         5.27406285e-01],\n",
       "       [ 1.88617985e+00, -5.92373012e-01,  1.33113254e+00,\n",
       "         9.22302838e-01],\n",
       "       [ 2.49201920e+00,  1.70959465e+00,  1.50164482e+00,\n",
       "         1.05393502e+00],\n",
       "       [ 6.74501145e-01, -5.92373012e-01,  1.04694540e+00,\n",
       "         1.31719939e+00],\n",
       "       [ 5.53333275e-01, -5.92373012e-01,  7.62758269e-01,\n",
       "         3.95774101e-01],\n",
       "       [ 3.10997534e-01, -1.05276654e+00,  1.04694540e+00,\n",
       "         2.64141916e-01],\n",
       "       [ 2.24968346e+00, -1.31979479e-01,  1.33113254e+00,\n",
       "         1.44883158e+00],\n",
       "       [ 5.53333275e-01,  7.88807586e-01,  1.04694540e+00,\n",
       "         1.58046376e+00],\n",
       "       [ 6.74501145e-01,  9.82172869e-02,  9.90107977e-01,\n",
       "         7.90670654e-01],\n",
       "       [ 1.89829664e-01, -1.31979479e-01,  5.92245988e-01,\n",
       "         7.90670654e-01],\n",
       "       [ 1.28034050e+00,  9.82172869e-02,  9.33270550e-01,\n",
       "         1.18556721e+00],\n",
       "       [ 1.03800476e+00,  9.82172869e-02,  1.04694540e+00,\n",
       "         1.58046376e+00],\n",
       "       [ 1.28034050e+00,  9.82172869e-02,  7.62758269e-01,\n",
       "         1.44883158e+00],\n",
       "       [-5.25060772e-02, -8.22569778e-01,  7.62758269e-01,\n",
       "         9.22302838e-01],\n",
       "       [ 1.15917263e+00,  3.28414053e-01,  1.21745768e+00,\n",
       "         1.44883158e+00],\n",
       "       [ 1.03800476e+00,  5.58610819e-01,  1.10378283e+00,\n",
       "         1.71209594e+00],\n",
       "       [ 1.03800476e+00, -1.31979479e-01,  8.19595696e-01,\n",
       "         1.44883158e+00],\n",
       "       [ 5.53333275e-01, -1.28296331e+00,  7.05920842e-01,\n",
       "         9.22302838e-01],\n",
       "       [ 7.95669016e-01, -1.31979479e-01,  8.19595696e-01,\n",
       "         1.05393502e+00],\n",
       "       [ 4.32165405e-01,  7.88807586e-01,  9.33270550e-01,\n",
       "         1.44883158e+00],\n",
       "       [ 6.86617933e-02, -1.31979479e-01,  7.62758269e-01,\n",
       "         7.90670654e-01]])"
      ]
     },
     "execution_count": 45,
     "metadata": {},
     "output_type": "execute_result"
    }
   ],
   "source": [
    "# ColumnTransformer를 이용하지 않으면, 모든 컬럼에 적용된다.\n",
    "ss = StandardScaler()\n",
    "ss.fit_transform(iris.iloc[:, :-1], iris.species)"
   ]
  },
  {
   "cell_type": "markdown",
   "metadata": {},
   "source": [
    "## 비지도 학습"
   ]
  },
  {
   "cell_type": "markdown",
   "metadata": {},
   "source": [
    "### KMeans"
   ]
  },
  {
   "cell_type": "code",
   "execution_count": 92,
   "metadata": {},
   "outputs": [],
   "source": [
    "import seaborn as sns"
   ]
  },
  {
   "cell_type": "code",
   "execution_count": 93,
   "metadata": {},
   "outputs": [],
   "source": [
    "iris = sns.load_dataset('iris')"
   ]
  },
  {
   "cell_type": "code",
   "execution_count": 98,
   "metadata": {},
   "outputs": [
    {
     "data": {
      "text/html": [
       "<div>\n",
       "<style scoped>\n",
       "    .dataframe tbody tr th:only-of-type {\n",
       "        vertical-align: middle;\n",
       "    }\n",
       "\n",
       "    .dataframe tbody tr th {\n",
       "        vertical-align: top;\n",
       "    }\n",
       "\n",
       "    .dataframe thead th {\n",
       "        text-align: right;\n",
       "    }\n",
       "</style>\n",
       "<table border=\"1\" class=\"dataframe\">\n",
       "  <thead>\n",
       "    <tr style=\"text-align: right;\">\n",
       "      <th></th>\n",
       "      <th>sepal_length</th>\n",
       "      <th>sepal_width</th>\n",
       "      <th>petal_length</th>\n",
       "      <th>petal_width</th>\n",
       "    </tr>\n",
       "  </thead>\n",
       "  <tbody>\n",
       "    <tr>\n",
       "      <th>0</th>\n",
       "      <td>5.1</td>\n",
       "      <td>3.5</td>\n",
       "      <td>1.4</td>\n",
       "      <td>0.2</td>\n",
       "    </tr>\n",
       "    <tr>\n",
       "      <th>1</th>\n",
       "      <td>4.9</td>\n",
       "      <td>3.0</td>\n",
       "      <td>1.4</td>\n",
       "      <td>0.2</td>\n",
       "    </tr>\n",
       "    <tr>\n",
       "      <th>2</th>\n",
       "      <td>4.7</td>\n",
       "      <td>3.2</td>\n",
       "      <td>1.3</td>\n",
       "      <td>0.2</td>\n",
       "    </tr>\n",
       "    <tr>\n",
       "      <th>3</th>\n",
       "      <td>4.6</td>\n",
       "      <td>3.1</td>\n",
       "      <td>1.5</td>\n",
       "      <td>0.2</td>\n",
       "    </tr>\n",
       "    <tr>\n",
       "      <th>4</th>\n",
       "      <td>5.0</td>\n",
       "      <td>3.6</td>\n",
       "      <td>1.4</td>\n",
       "      <td>0.2</td>\n",
       "    </tr>\n",
       "    <tr>\n",
       "      <th>...</th>\n",
       "      <td>...</td>\n",
       "      <td>...</td>\n",
       "      <td>...</td>\n",
       "      <td>...</td>\n",
       "    </tr>\n",
       "    <tr>\n",
       "      <th>145</th>\n",
       "      <td>6.7</td>\n",
       "      <td>3.0</td>\n",
       "      <td>5.2</td>\n",
       "      <td>2.3</td>\n",
       "    </tr>\n",
       "    <tr>\n",
       "      <th>146</th>\n",
       "      <td>6.3</td>\n",
       "      <td>2.5</td>\n",
       "      <td>5.0</td>\n",
       "      <td>1.9</td>\n",
       "    </tr>\n",
       "    <tr>\n",
       "      <th>147</th>\n",
       "      <td>6.5</td>\n",
       "      <td>3.0</td>\n",
       "      <td>5.2</td>\n",
       "      <td>2.0</td>\n",
       "    </tr>\n",
       "    <tr>\n",
       "      <th>148</th>\n",
       "      <td>6.2</td>\n",
       "      <td>3.4</td>\n",
       "      <td>5.4</td>\n",
       "      <td>2.3</td>\n",
       "    </tr>\n",
       "    <tr>\n",
       "      <th>149</th>\n",
       "      <td>5.9</td>\n",
       "      <td>3.0</td>\n",
       "      <td>5.1</td>\n",
       "      <td>1.8</td>\n",
       "    </tr>\n",
       "  </tbody>\n",
       "</table>\n",
       "<p>150 rows × 4 columns</p>\n",
       "</div>"
      ],
      "text/plain": [
       "     sepal_length  sepal_width  petal_length  petal_width\n",
       "0             5.1          3.5           1.4          0.2\n",
       "1             4.9          3.0           1.4          0.2\n",
       "2             4.7          3.2           1.3          0.2\n",
       "3             4.6          3.1           1.5          0.2\n",
       "4             5.0          3.6           1.4          0.2\n",
       "..            ...          ...           ...          ...\n",
       "145           6.7          3.0           5.2          2.3\n",
       "146           6.3          2.5           5.0          1.9\n",
       "147           6.5          3.0           5.2          2.0\n",
       "148           6.2          3.4           5.4          2.3\n",
       "149           5.9          3.0           5.1          1.8\n",
       "\n",
       "[150 rows x 4 columns]"
      ]
     },
     "execution_count": 98,
     "metadata": {},
     "output_type": "execute_result"
    }
   ],
   "source": [
    "# 정답(species)이 없는 데이터만으로, 학습한다.\n",
    "iris.iloc[:, :-1]"
   ]
  },
  {
   "cell_type": "code",
   "execution_count": 24,
   "metadata": {},
   "outputs": [],
   "source": [
    "# KNN처럼, 거리가 가까운 것들은 비슷한 특징을 가질 것이라고 가정한다.\n",
    "from sklearn.cluster import KMeans"
   ]
  },
  {
   "cell_type": "code",
   "execution_count": 94,
   "metadata": {},
   "outputs": [
    {
     "name": "stderr",
     "output_type": "stream",
     "text": [
      "C:\\Users\\JINHYO\\Anaconda3\\lib\\site-packages\\sklearn\\externals\\six.py:31: FutureWarning: The module is deprecated in version 0.21 and will be removed in version 0.23 since we've dropped support for Python 2.7. Please rely on the official version of six (https://pypi.org/project/six/).\n",
      "  \"(https://pypi.org/project/six/).\", FutureWarning)\n",
      "C:\\Users\\JINHYO\\Anaconda3\\lib\\site-packages\\sklearn\\externals\\joblib\\__init__.py:15: FutureWarning: sklearn.externals.joblib is deprecated in 0.21 and will be removed in 0.23. Please import this functionality directly from joblib, which can be installed with: pip install joblib. If this warning is raised when loading pickled models, you may need to re-serialize those models with scikit-learn 0.21+.\n",
      "  warnings.warn(msg, category=FutureWarning)\n"
     ]
    }
   ],
   "source": [
    "import mglearn"
   ]
  },
  {
   "cell_type": "markdown",
   "metadata": {},
   "source": [
    "(Initialization) 처음에 랜덤하게 K개의 점(center)을 찍는다. 각각의 점은 어떤 군집을 의미한다.  \n",
    "(Assign Points) 데이터와 점들의 거리를 측정한다. 데이터로부터 가장 가까운 점으로 군집을 할당한다.  \n",
    "(Rcompute Centers) 군집 내의 데이터의 중앙점을 찾는다. 점(center)을 중앙점으로 옮긴다.  \n",
    "Assign Points와 Recompute Centers 단계를 반복한다."
   ]
  },
  {
   "cell_type": "code",
   "execution_count": 95,
   "metadata": {},
   "outputs": [
    {
     "data": {
      "image/png": "[encoded data removed]",
      "text/plain": [
       "<Figure size 720x576 with 9 Axes>"
      ]
     },
     "metadata": {},
     "output_type": "display_data"
    }
   ],
   "source": [
    "mglearn.plot_kmeans.plot_kmeans_algorithm()"
   ]
  },
  {
   "cell_type": "code",
   "execution_count": 100,
   "metadata": {},
   "outputs": [],
   "source": [
    "# KMeans는 몇개로 군집화할 것인지 정해야한다.\n",
    "km = KMeans(3)"
   ]
  },
  {
   "cell_type": "code",
   "execution_count": 101,
   "metadata": {},
   "outputs": [
    {
     "data": {
      "text/plain": [
       "array([1, 1, 1, 1, 1, 1, 1, 1, 1, 1, 1, 1, 1, 1, 1, 1, 1, 1, 1, 1, 1, 1,\n",
       "       1, 1, 1, 1, 1, 1, 1, 1, 1, 1, 1, 1, 1, 1, 1, 1, 1, 1, 1, 1, 1, 1,\n",
       "       1, 1, 1, 1, 1, 1, 2, 2, 0, 2, 2, 2, 2, 2, 2, 2, 2, 2, 2, 2, 2, 2,\n",
       "       2, 2, 2, 2, 2, 2, 2, 2, 2, 2, 2, 0, 2, 2, 2, 2, 2, 2, 2, 2, 2, 2,\n",
       "       2, 2, 2, 2, 2, 2, 2, 2, 2, 2, 2, 2, 0, 2, 0, 0, 0, 0, 2, 0, 0, 0,\n",
       "       0, 0, 0, 2, 2, 0, 0, 0, 0, 2, 0, 2, 0, 2, 0, 0, 2, 2, 0, 0, 0, 0,\n",
       "       0, 2, 0, 0, 0, 0, 2, 0, 0, 0, 2, 0, 0, 0, 2, 0, 0, 2])"
      ]
     },
     "execution_count": 101,
     "metadata": {},
     "output_type": "execute_result"
    }
   ],
   "source": [
    "# y값을 넣지 않는다 -> 비지도 학습\n",
    "# cluster 결과에서 0, 1, 2가 의미가 없다. 같은 숫자이면 같은 것으로 분류했을 뿐이다. \n",
    "km.fit_predict(iris.iloc[:, :-1])"
   ]
  },
  {
   "cell_type": "code",
   "execution_count": 112,
   "metadata": {},
   "outputs": [
    {
     "data": {
      "text/plain": [
       "array([1, 1, 1, 1, 1, 1, 1, 1, 1, 1, 1, 1, 1, 1, 1, 1, 1, 1, 1, 1, 1, 1,\n",
       "       1, 1, 1, 1, 1, 1, 1, 1, 1, 1, 1, 1, 1, 1, 1, 1, 1, 1, 1, 1, 1, 1,\n",
       "       1, 1, 1, 1, 1, 1, 2, 2, 2, 2, 2, 2, 2, 2, 2, 2, 2, 2, 2, 2, 2, 2,\n",
       "       2, 2, 2, 2, 2, 2, 2, 2, 2, 2, 2, 2, 2, 2, 2, 2, 2, 2, 2, 2, 2, 2,\n",
       "       2, 2, 2, 2, 2, 2, 2, 2, 2, 2, 2, 2, 0, 0, 0, 0, 0, 0, 0, 0, 0, 0,\n",
       "       0, 0, 0, 0, 0, 0, 0, 0, 0, 0, 0, 0, 0, 0, 0, 0, 0, 0, 0, 0, 0, 0,\n",
       "       0, 0, 0, 0, 0, 0, 0, 0, 0, 0, 0, 0, 0, 0, 0, 0, 0, 0], dtype=int64)"
      ]
     },
     "execution_count": 112,
     "metadata": {},
     "output_type": "execute_result"
    }
   ],
   "source": [
    "# 실제 얼마나 잘 군집화했는지 비교해본다.\n",
    "# map으로 cluster 결과와 비슷하게 숫자를 부여했다.\n",
    "iris.species.map({'setosa':1, 'virginica':0, 'versicolor':2}).values"
   ]
  },
  {
   "cell_type": "code",
   "execution_count": 25,
   "metadata": {},
   "outputs": [],
   "source": [
    "# 비지도학습은, 정답이 없는 상태에서 학습해야하기 때문에 몇개로 clustering해야하는지 알 수 없다.\n",
    "# => 검증할 수가 없다.\n",
    "# 비지도학습 분야가 발전이 없는 이유이다.\n",
    "km = KMeans(5)"
   ]
  },
  {
   "cell_type": "code",
   "execution_count": 26,
   "metadata": {},
   "outputs": [
    {
     "data": {
      "text/plain": [
       "array([1, 1, 1, 1, 1, 1, 1, 1, 1, 1, 1, 1, 1, 1, 1, 1, 1, 1, 1, 1, 1, 1,\n",
       "       1, 1, 1, 1, 1, 1, 1, 1, 1, 1, 1, 1, 1, 1, 1, 1, 1, 1, 1, 1, 1, 1,\n",
       "       1, 1, 1, 1, 1, 1, 0, 0, 0, 3, 0, 0, 0, 3, 0, 3, 3, 0, 3, 0, 3, 0,\n",
       "       0, 3, 0, 3, 0, 3, 0, 0, 0, 0, 0, 0, 0, 3, 3, 3, 3, 0, 3, 0, 0, 0,\n",
       "       3, 3, 3, 0, 3, 3, 3, 3, 3, 0, 3, 3, 2, 0, 4, 2, 2, 4, 3, 4, 2, 4,\n",
       "       2, 2, 2, 0, 2, 2, 2, 4, 4, 0, 2, 0, 4, 0, 2, 4, 0, 0, 2, 4, 4, 4,\n",
       "       2, 0, 0, 4, 2, 2, 0, 2, 2, 2, 0, 2, 2, 2, 0, 2, 2, 0])"
      ]
     },
     "execution_count": 26,
     "metadata": {},
     "output_type": "execute_result"
    }
   ],
   "source": [
    "# iris 데이터셋의 정답을 모르는 상태라면, cluster를 3이 아닌 다른 숫자로 설정하는 우를 범할 수도 있다. \n",
    "km.fit_predict(iris.iloc[:, :-1])"
   ]
  },
  {
   "cell_type": "code",
   "execution_count": null,
   "metadata": {},
   "outputs": [],
   "source": []
  }
 ],
 "metadata": {
  "kernelspec": {
   "display_name": "Python 3",
   "language": "python",
   "name": "python3"
  },
  "language_info": {
   "codemirror_mode": {
    "name": "ipython",
    "version": 3
   },
   "file_extension": ".py",
   "mimetype": "text/x-python",
   "name": "python",
   "nbconvert_exporter": "python",
   "pygments_lexer": "ipython3",
   "version": "3.7.3"
  },
  "toc": {
   "base_numbering": 1,
   "nav_menu": {},
   "number_sections": true,
   "sideBar": true,
   "skip_h1_title": true,
   "title_cell": "Table of Contents",
   "title_sidebar": "Contents",
   "toc_cell": true,
   "toc_position": {
    "height": "calc(100% - 180px)",
    "left": "10px",
    "top": "150px",
    "width": "307.2px"
   },
   "toc_section_display": true,
   "toc_window_display": true
  },
  "varInspector": {
   "cols": {
    "lenName": 16,
    "lenType": 16,
    "lenVar": 40
   },
   "kernels_config": {
    "python": {
     "delete_cmd_postfix": "",
     "delete_cmd_prefix": "del ",
     "library": "var_list.py",
     "varRefreshCmd": "print(var_dic_list())"
    },
    "r": {
     "delete_cmd_postfix": ") ",
     "delete_cmd_prefix": "rm(",
     "library": "var_list.r",
     "varRefreshCmd": "cat(var_dic_list()) "
    }
   },
   "types_to_exclude": [
    "module",
    "function",
    "builtin_function_or_method",
    "instance",
    "_Feature"
   ],
   "window_display": false
  }
 },
 "nbformat": 4,
 "nbformat_minor": 2
}
