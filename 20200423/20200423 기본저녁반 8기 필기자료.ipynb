{
 "cells": [
  {
   "cell_type": "markdown",
   "metadata": {
    "toc": true
   },
   "source": [
    "<h1>Table of Contents<span class=\"tocSkip\"></span></h1>\n",
    "<div class=\"toc\"><ul class=\"toc-item\"><li><span><a href=\"#class\" data-toc-modified-id=\"class-1\"><span class=\"toc-item-num\">1&nbsp;&nbsp;</span>class</a></span></li><li><span><a href=\"#double-underbar\" data-toc-modified-id=\"double-underbar-2\"><span class=\"toc-item-num\">2&nbsp;&nbsp;</span>double underbar</a></span><ul class=\"toc-item\"><li><span><a href=\"#overriding\" data-toc-modified-id=\"overriding-2.1\"><span class=\"toc-item-num\">2.1&nbsp;&nbsp;</span>overriding</a></span></li><li><span><a href=\"#__init__\" data-toc-modified-id=\"__init__-2.2\"><span class=\"toc-item-num\">2.2&nbsp;&nbsp;</span>__init__</a></span></li><li><span><a href=\"#__new__\" data-toc-modified-id=\"__new__-2.3\"><span class=\"toc-item-num\">2.3&nbsp;&nbsp;</span>__new__</a></span></li><li><span><a href=\"#__del__\" data-toc-modified-id=\"__del__-2.4\"><span class=\"toc-item-num\">2.4&nbsp;&nbsp;</span>__del__</a></span></li><li><span><a href=\"#__class__\" data-toc-modified-id=\"__class__-2.5\"><span class=\"toc-item-num\">2.5&nbsp;&nbsp;</span>__class__</a></span></li><li><span><a href=\"#__dir__\" data-toc-modified-id=\"__dir__-2.6\"><span class=\"toc-item-num\">2.6&nbsp;&nbsp;</span>__dir__</a></span></li><li><span><a href=\"#__iter__\" data-toc-modified-id=\"__iter__-2.7\"><span class=\"toc-item-num\">2.7&nbsp;&nbsp;</span>__iter__</a></span></li><li><span><a href=\"#__next__\" data-toc-modified-id=\"__next__-2.8\"><span class=\"toc-item-num\">2.8&nbsp;&nbsp;</span>__next__</a></span></li><li><span><a href=\"#__doc__\" data-toc-modified-id=\"__doc__-2.9\"><span class=\"toc-item-num\">2.9&nbsp;&nbsp;</span>__doc__</a></span></li><li><span><a href=\"#__dict__\" data-toc-modified-id=\"__dict__-2.10\"><span class=\"toc-item-num\">2.10&nbsp;&nbsp;</span>__dict__</a></span></li><li><span><a href=\"#__repr__과-__str__\" data-toc-modified-id=\"__repr__과-__str__-2.11\"><span class=\"toc-item-num\">2.11&nbsp;&nbsp;</span>__repr__과 __str__</a></span></li><li><span><a href=\"#정리\" data-toc-modified-id=\"정리-2.12\"><span class=\"toc-item-num\">2.12&nbsp;&nbsp;</span>정리</a></span></li></ul></li><li><span><a href=\"#duck-typing\" data-toc-modified-id=\"duck-typing-3\"><span class=\"toc-item-num\">3&nbsp;&nbsp;</span>duck typing</a></span></li><li><span><a href=\"#python에서-이름과-괄호\" data-toc-modified-id=\"python에서-이름과-괄호-4\"><span class=\"toc-item-num\">4&nbsp;&nbsp;</span>python에서 이름과 괄호</a></span></li><li><span><a href=\"#_의-특수기능\" data-toc-modified-id=\"_의-특수기능-5\"><span class=\"toc-item-num\">5&nbsp;&nbsp;</span>_의 특수기능</a></span><ul class=\"toc-item\"><li><span><a href=\"#마지막-결과값-호출\" data-toc-modified-id=\"마지막-결과값-호출-5.1\"><span class=\"toc-item-num\">5.1&nbsp;&nbsp;</span>마지막 결과값 호출</a></span></li><li><span><a href=\"#특정-셀-결과값-호출\" data-toc-modified-id=\"특정-셀-결과값-호출-5.2\"><span class=\"toc-item-num\">5.2&nbsp;&nbsp;</span>특정 셀 결과값 호출</a></span></li></ul></li><li><span><a href=\"#PIL-실습\" data-toc-modified-id=\"PIL-실습-6\"><span class=\"toc-item-num\">6&nbsp;&nbsp;</span>PIL 실습</a></span><ul class=\"toc-item\"><li><span><a href=\"#python에서-open\" data-toc-modified-id=\"python에서-open-6.1\"><span class=\"toc-item-num\">6.1&nbsp;&nbsp;</span>python에서 open</a></span></li><li><span><a href=\"#PIL\" data-toc-modified-id=\"PIL-6.2\"><span class=\"toc-item-num\">6.2&nbsp;&nbsp;</span>PIL</a></span></li><li><span><a href=\"#composition\" data-toc-modified-id=\"composition-6.3\"><span class=\"toc-item-num\">6.3&nbsp;&nbsp;</span>composition</a></span></li><li><span><a href=\"#inspect\" data-toc-modified-id=\"inspect-6.4\"><span class=\"toc-item-num\">6.4&nbsp;&nbsp;</span>inspect</a></span></li></ul></li><li><span><a href=\"#다중상속\" data-toc-modified-id=\"다중상속-7\"><span class=\"toc-item-num\">7&nbsp;&nbsp;</span>다중상속</a></span><ul class=\"toc-item\"><li><span><a href=\"#다이아몬드-문제\" data-toc-modified-id=\"다이아몬드-문제-7.1\"><span class=\"toc-item-num\">7.1&nbsp;&nbsp;</span>다이아몬드 문제</a></span></li><li><span><a href=\"#issubclass\" data-toc-modified-id=\"issubclass-7.2\"><span class=\"toc-item-num\">7.2&nbsp;&nbsp;</span>issubclass</a></span></li><li><span><a href=\"#isinstance\" data-toc-modified-id=\"isinstance-7.3\"><span class=\"toc-item-num\">7.3&nbsp;&nbsp;</span>isinstance</a></span></li></ul></li></ul></div>"
   ]
  },
  {
   "cell_type": "markdown",
   "metadata": {},
   "source": [
    "# [AI 오픈 이노베이션] 기본 저녁반<a class=\"tocSkip\">\n",
    "GitHub link: [https://github.com/realblack0/8th_ai_lecture_fundamental](https://github.com/realblack0/8th_ai_lecture_fundamental)  \n",
    "E-Mail: realblack0@gmail.com"
   ]
  },
  {
   "cell_type": "markdown",
   "metadata": {
    "heading_collapsed": true
   },
   "source": [
    "## class"
   ]
  },
  {
   "cell_type": "markdown",
   "metadata": {
    "hidden": true
   },
   "source": [
    "python의 최상위 클래스는 object이다.  \n",
    "python3부터 클래스를 선언할 때 object 상속을 생략할 수 있게 되었다."
   ]
  },
  {
   "cell_type": "code",
   "execution_count": 242,
   "metadata": {
    "hidden": true
   },
   "outputs": [],
   "source": [
    "class A:\n",
    "    pass"
   ]
  },
  {
   "cell_type": "markdown",
   "metadata": {
    "hidden": true
   },
   "source": [
    "상속을 명시하지 않으면 object를 상속하므로 dir에 다음과 같은 내용들이 나온다."
   ]
  },
  {
   "cell_type": "code",
   "execution_count": 2,
   "metadata": {
    "hidden": true
   },
   "outputs": [
    {
     "data": {
      "text/plain": [
       "['__class__',\n",
       " '__delattr__',\n",
       " '__dict__',\n",
       " '__dir__',\n",
       " '__doc__',\n",
       " '__eq__',\n",
       " '__format__',\n",
       " '__ge__',\n",
       " '__getattribute__',\n",
       " '__gt__',\n",
       " '__hash__',\n",
       " '__init__',\n",
       " '__init_subclass__',\n",
       " '__le__',\n",
       " '__lt__',\n",
       " '__module__',\n",
       " '__ne__',\n",
       " '__new__',\n",
       " '__reduce__',\n",
       " '__reduce_ex__',\n",
       " '__repr__',\n",
       " '__setattr__',\n",
       " '__sizeof__',\n",
       " '__str__',\n",
       " '__subclasshook__',\n",
       " '__weakref__']"
      ]
     },
     "execution_count": 2,
     "metadata": {},
     "output_type": "execute_result"
    }
   ],
   "source": [
    "dir(A)"
   ]
  },
  {
   "cell_type": "markdown",
   "metadata": {
    "heading_collapsed": true
   },
   "source": [
    "## double underbar"
   ]
  },
  {
   "cell_type": "markdown",
   "metadata": {
    "hidden": true
   },
   "source": [
    "이름의 앞뒤에 언더바가 2개씩 붙은 것들은 python에 미리 정해져 있는 기능들이다. ex) `__ init__`, `__call__`, `__len__` 등  \n",
    "다른 표현으로는 dunder, magic method, special method이라고 한다. "
   ]
  },
  {
   "cell_type": "markdown",
   "metadata": {
    "hidden": true
   },
   "source": [
    "### overriding"
   ]
  },
  {
   "cell_type": "markdown",
   "metadata": {
    "hidden": true
   },
   "source": [
    "부모가 가진 기능 변경하는 것을 overriding이라고 한다.  \n",
    "double underbar가 붙은 것들을 overriding해서 객체의 기능을 바꿀 수 있다."
   ]
  },
  {
   "cell_type": "markdown",
   "metadata": {
    "hidden": true
   },
   "source": [
    "**※ overloading**"
   ]
  },
  {
   "cell_type": "markdown",
   "metadata": {
    "hidden": true
   },
   "source": [
    "prarmeter에 따라서 다른 함수를 사용하는 기법을 overloading이라고 한다.  \n",
    "python은 overloading을 지원하지 않고, 뒤에 것이 앞에 것을 덮어 쓴다.\n"
   ]
  },
  {
   "cell_type": "code",
   "execution_count": 3,
   "metadata": {
    "hidden": true
   },
   "outputs": [],
   "source": [
    "# 다른 프로그래밍 언어에서는 overloading을 다음처럼 만든다.\n",
    "# python은 overloading을 지원하지 않으므로 두번째 함수가 앞에 것을 덮어쓴다.\n",
    "\n",
    "def a():\n",
    "    return 1\n",
    "\n",
    "def a(a):\n",
    "    return # 아무것도 안 쓰면 None"
   ]
  },
  {
   "cell_type": "markdown",
   "metadata": {
    "hidden": true
   },
   "source": [
    "python은 overloading을 지원하지 않기 때문에 default value를 많이 만들어 두는 기법을 자주 사용한다.  \n",
    "위의 overloading 예시를 default value를 이용해 python에서 구현하면 다음과 같이 만들 수 있다."
   ]
  },
  {
   "cell_type": "code",
   "execution_count": 120,
   "metadata": {
    "hidden": true
   },
   "outputs": [],
   "source": [
    "def a(a=None):\n",
    "    if a:\n",
    "        return \n",
    "    return 1"
   ]
  },
  {
   "cell_type": "code",
   "execution_count": 121,
   "metadata": {
    "hidden": true
   },
   "outputs": [
    {
     "data": {
      "text/plain": [
       "1"
      ]
     },
     "execution_count": 121,
     "metadata": {},
     "output_type": "execute_result"
    }
   ],
   "source": [
    "a() # 인자가 없으면 1을 반환"
   ]
  },
  {
   "cell_type": "code",
   "execution_count": 122,
   "metadata": {
    "hidden": true
   },
   "outputs": [],
   "source": [
    "a(1) # 인자가 있으면 None을 반환\n",
    "     # out이 없음 -> None 반환 "
   ]
  },
  {
   "cell_type": "markdown",
   "metadata": {
    "hidden": true
   },
   "source": [
    "### \\_\\_init\\_\\_"
   ]
  },
  {
   "cell_type": "markdown",
   "metadata": {
    "hidden": true
   },
   "source": [
    "`__init__`는 파이썬의 생성자(constructor)이다.  \n",
    "인스턴스화할 때 자동으로 실행된다. 초기화한다는 뜻의 initialize에서 이름을 따왔다.\n"
   ]
  },
  {
   "cell_type": "code",
   "execution_count": 6,
   "metadata": {
    "hidden": true
   },
   "outputs": [],
   "source": [
    "class A:\n",
    "    def __init__(self):\n",
    "        print(\"__init__\")"
   ]
  },
  {
   "cell_type": "code",
   "execution_count": 7,
   "metadata": {
    "hidden": true
   },
   "outputs": [
    {
     "name": "stdout",
     "output_type": "stream",
     "text": [
      "__init__\n"
     ]
    }
   ],
   "source": [
    "# 인스턴스화할때 자동으로 실행되어 print가 출력된다.\n",
    "\n",
    "a = A() "
   ]
  },
  {
   "cell_type": "markdown",
   "metadata": {
    "hidden": true
   },
   "source": [
    "`__init__`를 이용해서 인스턴스 변수를 초기화할 수 있다.  \n",
    "`__init__`를 정의할 때 사용한 매개변수는 인스턴스화할 때 인자로 넣어야 한다."
   ]
  },
  {
   "cell_type": "code",
   "execution_count": 3,
   "metadata": {
    "hidden": true
   },
   "outputs": [],
   "source": [
    "class A:\n",
    "    def __init__(self, a):\n",
    "        self.a = a"
   ]
  },
  {
   "cell_type": "code",
   "execution_count": null,
   "metadata": {
    "hidden": true
   },
   "outputs": [],
   "source": [
    "# Error\n",
    "# __init__에 맞춰서 객체를 불러야 한다.\n",
    "a = A()"
   ]
  },
  {
   "cell_type": "code",
   "execution_count": 4,
   "metadata": {
    "hidden": true
   },
   "outputs": [],
   "source": [
    "a = A(3)"
   ]
  },
  {
   "cell_type": "code",
   "execution_count": 6,
   "metadata": {
    "hidden": true
   },
   "outputs": [
    {
     "data": {
      "text/plain": [
       "{'a': 3}"
      ]
     },
     "execution_count": 6,
     "metadata": {},
     "output_type": "execute_result"
    }
   ],
   "source": [
    "# 인스턴스 변수\n",
    "vars(a)"
   ]
  },
  {
   "cell_type": "markdown",
   "metadata": {
    "hidden": true
   },
   "source": [
    "`shift` + `tab` 했을 때 Init Signature가 있으면 클래스인 것을 알 수 있다."
   ]
  },
  {
   "cell_type": "code",
   "execution_count": null,
   "metadata": {
    "hidden": true
   },
   "outputs": [],
   "source": [
    "a = int(4) # shift tab\n",
    "           # Init Signature가 있으므로 int는 클래스이다."
   ]
  },
  {
   "cell_type": "code",
   "execution_count": 10,
   "metadata": {
    "hidden": true
   },
   "outputs": [],
   "source": [
    "a = [1,2,3]"
   ]
  },
  {
   "cell_type": "code",
   "execution_count": 11,
   "metadata": {
    "hidden": true
   },
   "outputs": [],
   "source": [
    "b = iter(a) # shift tab\n",
    "            # Init Signature가 없으므로 iter는 클래스가 아니다. "
   ]
  },
  {
   "cell_type": "markdown",
   "metadata": {
    "hidden": true
   },
   "source": [
    "### \\_\\_new\\_\\_"
   ]
  },
  {
   "cell_type": "markdown",
   "metadata": {
    "hidden": true
   },
   "source": [
    "파이썬 생성자에는 `__new__`도 있다."
   ]
  },
  {
   "cell_type": "code",
   "execution_count": 78,
   "metadata": {
    "hidden": true
   },
   "outputs": [],
   "source": [
    "class A:\n",
    "    def __new__(cls, *args, **kwargs):\n",
    "        print(\"__new__\")\n",
    "        return object.__new__(cls) # __init__와 달리 __new__는 return이 있어야 한다.\n",
    "                                   # 인스턴스를 return한다.\n",
    "    def __init__(self, *args, **kwargs):\n",
    "        print(\"__init__\")\n",
    "        self.x = 1"
   ]
  },
  {
   "cell_type": "code",
   "execution_count": 79,
   "metadata": {
    "hidden": true
   },
   "outputs": [
    {
     "name": "stdout",
     "output_type": "stream",
     "text": [
      "__new__\n",
      "__init__\n"
     ]
    }
   ],
   "source": [
    "a = A(3) # __new__도 인스턴스화할 때 자동 실행된다."
   ]
  },
  {
   "cell_type": "code",
   "execution_count": 80,
   "metadata": {
    "hidden": true
   },
   "outputs": [
    {
     "data": {
      "text/plain": [
       "<__main__.A at 0x2511bdc7c18>"
      ]
     },
     "execution_count": 80,
     "metadata": {},
     "output_type": "execute_result"
    }
   ],
   "source": [
    "a # __new__의 return은 인스턴스화했을 때의 return이다. "
   ]
  },
  {
   "cell_type": "code",
   "execution_count": 81,
   "metadata": {
    "hidden": true
   },
   "outputs": [
    {
     "data": {
      "text/plain": [
       "1"
      ]
     },
     "execution_count": 81,
     "metadata": {},
     "output_type": "execute_result"
    }
   ],
   "source": [
    "a.x"
   ]
  },
  {
   "cell_type": "markdown",
   "metadata": {
    "hidden": true
   },
   "source": [
    "### \\_\\_del\\_\\_"
   ]
  },
  {
   "cell_type": "markdown",
   "metadata": {
    "hidden": true
   },
   "source": [
    "`__del__`은 소멸자이다.  \n",
    "인스턴스를 삭제할 때 실행된다."
   ]
  },
  {
   "cell_type": "code",
   "execution_count": 82,
   "metadata": {
    "hidden": true
   },
   "outputs": [],
   "source": [
    "class A:\n",
    "    def __init__(self):\n",
    "        self.a = 4\n",
    "        print(\"__init__\")\n",
    "    def __del__(self):\n",
    "        print(\"__del__\")"
   ]
  },
  {
   "cell_type": "code",
   "execution_count": 83,
   "metadata": {
    "hidden": true
   },
   "outputs": [
    {
     "name": "stdout",
     "output_type": "stream",
     "text": [
      "__init__\n"
     ]
    }
   ],
   "source": [
    "a = A()"
   ]
  },
  {
   "cell_type": "code",
   "execution_count": 84,
   "metadata": {
    "hidden": true
   },
   "outputs": [
    {
     "name": "stdout",
     "output_type": "stream",
     "text": [
      "__del__\n"
     ]
    }
   ],
   "source": [
    "del a # 삭제할 때 실행된다."
   ]
  },
  {
   "cell_type": "markdown",
   "metadata": {
    "hidden": true
   },
   "source": [
    "### \\_\\_class\\_\\_"
   ]
  },
  {
   "cell_type": "markdown",
   "metadata": {
    "hidden": true
   },
   "source": [
    "`type`과 같다.  \n",
    "객체의 class를 알려준다."
   ]
  },
  {
   "cell_type": "code",
   "execution_count": 24,
   "metadata": {
    "hidden": true
   },
   "outputs": [],
   "source": [
    "a = 5"
   ]
  },
  {
   "cell_type": "code",
   "execution_count": 25,
   "metadata": {
    "hidden": true
   },
   "outputs": [
    {
     "data": {
      "text/plain": [
       "int"
      ]
     },
     "execution_count": 25,
     "metadata": {},
     "output_type": "execute_result"
    }
   ],
   "source": [
    "type(a)"
   ]
  },
  {
   "cell_type": "code",
   "execution_count": 30,
   "metadata": {
    "hidden": true
   },
   "outputs": [
    {
     "data": {
      "text/plain": [
       "int"
      ]
     },
     "execution_count": 30,
     "metadata": {},
     "output_type": "execute_result"
    }
   ],
   "source": [
    "a.__class__"
   ]
  },
  {
   "cell_type": "markdown",
   "metadata": {
    "hidden": true
   },
   "source": [
    "`type`에 인스턴스를 넣으면 클래스를 알려준다.  \n",
    "`type`에 클래스를 넣으면 메타클래스를 알려준다.  \n",
    "메타클래스란 class의 class이다.  "
   ]
  },
  {
   "cell_type": "code",
   "execution_count": 26,
   "metadata": {
    "hidden": true
   },
   "outputs": [
    {
     "data": {
      "text/plain": [
       "type"
      ]
     },
     "execution_count": 26,
     "metadata": {},
     "output_type": "execute_result"
    }
   ],
   "source": [
    "# type은 메타클래스이다.\n",
    "type(int)"
   ]
  },
  {
   "cell_type": "markdown",
   "metadata": {
    "hidden": true
   },
   "source": [
    "### \\_\\_dir\\_\\_"
   ]
  },
  {
   "cell_type": "markdown",
   "metadata": {
    "hidden": true
   },
   "source": [
    "`dir`과 비슷하다.  \n",
    "차이점은 정렬 여부이다.(ordering)"
   ]
  },
  {
   "cell_type": "code",
   "execution_count": 27,
   "metadata": {
    "hidden": true
   },
   "outputs": [
    {
     "data": {
      "text/plain": [
       "['__abs__',\n",
       " '__add__',\n",
       " '__and__',\n",
       " '__bool__',\n",
       " '__ceil__',\n",
       " '__class__',\n",
       " '__delattr__',\n",
       " '__dir__',\n",
       " '__divmod__',\n",
       " '__doc__',\n",
       " '__eq__',\n",
       " '__float__',\n",
       " '__floor__',\n",
       " '__floordiv__',\n",
       " '__format__',\n",
       " '__ge__',\n",
       " '__getattribute__',\n",
       " '__getnewargs__',\n",
       " '__gt__',\n",
       " '__hash__',\n",
       " '__index__',\n",
       " '__init__',\n",
       " '__init_subclass__',\n",
       " '__int__',\n",
       " '__invert__',\n",
       " '__le__',\n",
       " '__lshift__',\n",
       " '__lt__',\n",
       " '__mod__',\n",
       " '__mul__',\n",
       " '__ne__',\n",
       " '__neg__',\n",
       " '__new__',\n",
       " '__or__',\n",
       " '__pos__',\n",
       " '__pow__',\n",
       " '__radd__',\n",
       " '__rand__',\n",
       " '__rdivmod__',\n",
       " '__reduce__',\n",
       " '__reduce_ex__',\n",
       " '__repr__',\n",
       " '__rfloordiv__',\n",
       " '__rlshift__',\n",
       " '__rmod__',\n",
       " '__rmul__',\n",
       " '__ror__',\n",
       " '__round__',\n",
       " '__rpow__',\n",
       " '__rrshift__',\n",
       " '__rshift__',\n",
       " '__rsub__',\n",
       " '__rtruediv__',\n",
       " '__rxor__',\n",
       " '__setattr__',\n",
       " '__sizeof__',\n",
       " '__str__',\n",
       " '__sub__',\n",
       " '__subclasshook__',\n",
       " '__truediv__',\n",
       " '__trunc__',\n",
       " '__xor__',\n",
       " 'bit_length',\n",
       " 'conjugate',\n",
       " 'denominator',\n",
       " 'from_bytes',\n",
       " 'imag',\n",
       " 'numerator',\n",
       " 'real',\n",
       " 'to_bytes']"
      ]
     },
     "execution_count": 27,
     "metadata": {},
     "output_type": "execute_result"
    }
   ],
   "source": [
    "dir(a)"
   ]
  },
  {
   "cell_type": "code",
   "execution_count": 28,
   "metadata": {
    "hidden": true
   },
   "outputs": [
    {
     "data": {
      "text/plain": [
       "['__repr__',\n",
       " '__hash__',\n",
       " '__str__',\n",
       " '__getattribute__',\n",
       " '__lt__',\n",
       " '__le__',\n",
       " '__eq__',\n",
       " '__ne__',\n",
       " '__gt__',\n",
       " '__ge__',\n",
       " '__add__',\n",
       " '__radd__',\n",
       " '__sub__',\n",
       " '__rsub__',\n",
       " '__mul__',\n",
       " '__rmul__',\n",
       " '__mod__',\n",
       " '__rmod__',\n",
       " '__divmod__',\n",
       " '__rdivmod__',\n",
       " '__pow__',\n",
       " '__rpow__',\n",
       " '__neg__',\n",
       " '__pos__',\n",
       " '__abs__',\n",
       " '__bool__',\n",
       " '__invert__',\n",
       " '__lshift__',\n",
       " '__rlshift__',\n",
       " '__rshift__',\n",
       " '__rrshift__',\n",
       " '__and__',\n",
       " '__rand__',\n",
       " '__xor__',\n",
       " '__rxor__',\n",
       " '__or__',\n",
       " '__ror__',\n",
       " '__int__',\n",
       " '__float__',\n",
       " '__floordiv__',\n",
       " '__rfloordiv__',\n",
       " '__truediv__',\n",
       " '__rtruediv__',\n",
       " '__index__',\n",
       " '__new__',\n",
       " 'conjugate',\n",
       " 'bit_length',\n",
       " 'to_bytes',\n",
       " 'from_bytes',\n",
       " '__trunc__',\n",
       " '__floor__',\n",
       " '__ceil__',\n",
       " '__round__',\n",
       " '__getnewargs__',\n",
       " '__format__',\n",
       " '__sizeof__',\n",
       " 'real',\n",
       " 'imag',\n",
       " 'numerator',\n",
       " 'denominator',\n",
       " '__doc__',\n",
       " '__setattr__',\n",
       " '__delattr__',\n",
       " '__init__',\n",
       " '__reduce_ex__',\n",
       " '__reduce__',\n",
       " '__subclasshook__',\n",
       " '__init_subclass__',\n",
       " '__dir__',\n",
       " '__class__']"
      ]
     },
     "execution_count": 28,
     "metadata": {},
     "output_type": "execute_result"
    }
   ],
   "source": [
    "a.__dir__()"
   ]
  },
  {
   "cell_type": "markdown",
   "metadata": {
    "hidden": true
   },
   "source": [
    "정렬만 다를 뿐, 개수는 같다. "
   ]
  },
  {
   "cell_type": "code",
   "execution_count": 32,
   "metadata": {
    "hidden": true
   },
   "outputs": [
    {
     "data": {
      "text/plain": [
       "70"
      ]
     },
     "execution_count": 32,
     "metadata": {},
     "output_type": "execute_result"
    }
   ],
   "source": [
    "len(dir(a))"
   ]
  },
  {
   "cell_type": "code",
   "execution_count": 34,
   "metadata": {
    "hidden": true
   },
   "outputs": [
    {
     "data": {
      "text/plain": [
       "70"
      ]
     },
     "execution_count": 34,
     "metadata": {},
     "output_type": "execute_result"
    }
   ],
   "source": [
    "len(a.__dir__())"
   ]
  },
  {
   "cell_type": "markdown",
   "metadata": {
    "hidden": true
   },
   "source": [
    "`dir`을 이용해서 객체별 특성을 파악하거나 비교할 수 있다."
   ]
  },
  {
   "cell_type": "markdown",
   "metadata": {
    "hidden": true
   },
   "source": [
    "교집합을 이용해서 공통적으로 사용할 수 있는 것들을 알 수 있다.  \n",
    "list, set, dict는 container라는 공통점이 있다. "
   ]
  },
  {
   "cell_type": "code",
   "execution_count": 38,
   "metadata": {
    "hidden": true
   },
   "outputs": [],
   "source": [
    "a = [1,2,3] # list\n",
    "b = {1,2,3} # set\n",
    "c = {1:2}   # dict"
   ]
  },
  {
   "cell_type": "code",
   "execution_count": 39,
   "metadata": {
    "hidden": true
   },
   "outputs": [
    {
     "data": {
      "text/plain": [
       "{'__class__',\n",
       " '__contains__',\n",
       " '__delattr__',\n",
       " '__dir__',\n",
       " '__doc__',\n",
       " '__eq__',\n",
       " '__format__',\n",
       " '__ge__',\n",
       " '__getattribute__',\n",
       " '__gt__',\n",
       " '__hash__',\n",
       " '__init__',\n",
       " '__init_subclass__',\n",
       " '__iter__',\n",
       " '__le__',\n",
       " '__len__',\n",
       " '__lt__',\n",
       " '__ne__',\n",
       " '__new__',\n",
       " '__reduce__',\n",
       " '__reduce_ex__',\n",
       " '__repr__',\n",
       " '__setattr__',\n",
       " '__sizeof__',\n",
       " '__str__',\n",
       " '__subclasshook__',\n",
       " 'clear',\n",
       " 'copy',\n",
       " 'pop'}"
      ]
     },
     "execution_count": 39,
     "metadata": {},
     "output_type": "execute_result"
    }
   ],
   "source": [
    "# 공통적으로 쓸 수 있는 것들\n",
    "set(dir(a)) & set(dir(b)) & set(dir(c))"
   ]
  },
  {
   "cell_type": "markdown",
   "metadata": {
    "hidden": true
   },
   "source": [
    "### \\_\\_iter\\_\\_"
   ]
  },
  {
   "cell_type": "markdown",
   "metadata": {
    "hidden": true
   },
   "source": [
    "`__iter__ `라는 게 있으면 for문에 넣을 수 있다. "
   ]
  },
  {
   "cell_type": "code",
   "execution_count": 145,
   "metadata": {
    "hidden": true
   },
   "outputs": [],
   "source": [
    "a = [1,2,3]"
   ]
  },
  {
   "cell_type": "code",
   "execution_count": 131,
   "metadata": {
    "hidden": true
   },
   "outputs": [
    {
     "data": {
      "text/plain": [
       "['__add__',\n",
       " '__class__',\n",
       " '__contains__',\n",
       " '__delattr__',\n",
       " '__delitem__',\n",
       " '__dir__',\n",
       " '__doc__',\n",
       " '__eq__',\n",
       " '__format__',\n",
       " '__ge__',\n",
       " '__getattribute__',\n",
       " '__getitem__',\n",
       " '__gt__',\n",
       " '__hash__',\n",
       " '__iadd__',\n",
       " '__imul__',\n",
       " '__init__',\n",
       " '__init_subclass__',\n",
       " '__iter__',\n",
       " '__le__',\n",
       " '__len__',\n",
       " '__lt__',\n",
       " '__mul__',\n",
       " '__ne__',\n",
       " '__new__',\n",
       " '__reduce__',\n",
       " '__reduce_ex__',\n",
       " '__repr__',\n",
       " '__reversed__',\n",
       " '__rmul__',\n",
       " '__setattr__',\n",
       " '__setitem__',\n",
       " '__sizeof__',\n",
       " '__str__',\n",
       " '__subclasshook__',\n",
       " 'append',\n",
       " 'clear',\n",
       " 'copy',\n",
       " 'count',\n",
       " 'extend',\n",
       " 'index',\n",
       " 'insert',\n",
       " 'pop',\n",
       " 'remove',\n",
       " 'reverse',\n",
       " 'sort']"
      ]
     },
     "execution_count": 131,
     "metadata": {},
     "output_type": "execute_result"
    }
   ],
   "source": [
    "dir(a)"
   ]
  },
  {
   "cell_type": "markdown",
   "metadata": {
    "hidden": true
   },
   "source": [
    "list는 `__iter__`가 있으므로 for문에 넣을 수 있다."
   ]
  },
  {
   "cell_type": "code",
   "execution_count": 132,
   "metadata": {
    "hidden": true
   },
   "outputs": [
    {
     "name": "stdout",
     "output_type": "stream",
     "text": [
      "1\n",
      "2\n",
      "3\n"
     ]
    }
   ],
   "source": [
    "for i in a:\n",
    "    print(i)"
   ]
  },
  {
   "cell_type": "markdown",
   "metadata": {
    "hidden": true
   },
   "source": [
    "`__iter__`가 있으면 `iter`를 사용할 수 있다."
   ]
  },
  {
   "cell_type": "code",
   "execution_count": 133,
   "metadata": {
    "hidden": true
   },
   "outputs": [
    {
     "data": {
      "text/plain": [
       "<list_iterator at 0x2511c127860>"
      ]
     },
     "execution_count": 133,
     "metadata": {},
     "output_type": "execute_result"
    }
   ],
   "source": [
    "iter(a)"
   ]
  },
  {
   "cell_type": "markdown",
   "metadata": {
    "hidden": true
   },
   "source": [
    "### \\_\\_next\\_\\_"
   ]
  },
  {
   "cell_type": "markdown",
   "metadata": {
    "hidden": true
   },
   "source": [
    "`__next__`가 있으면 `next`를 쓸 수 있다."
   ]
  },
  {
   "cell_type": "code",
   "execution_count": 146,
   "metadata": {
    "hidden": true
   },
   "outputs": [
    {
     "data": {
      "text/plain": [
       "[1, 2, 3]"
      ]
     },
     "execution_count": 146,
     "metadata": {},
     "output_type": "execute_result"
    }
   ],
   "source": [
    "a"
   ]
  },
  {
   "cell_type": "code",
   "execution_count": 147,
   "metadata": {
    "hidden": true
   },
   "outputs": [],
   "source": [
    "b = iter(a)"
   ]
  },
  {
   "cell_type": "code",
   "execution_count": 148,
   "metadata": {
    "hidden": true
   },
   "outputs": [
    {
     "data": {
      "text/plain": [
       "['__class__',\n",
       " '__delattr__',\n",
       " '__dir__',\n",
       " '__doc__',\n",
       " '__eq__',\n",
       " '__format__',\n",
       " '__ge__',\n",
       " '__getattribute__',\n",
       " '__gt__',\n",
       " '__hash__',\n",
       " '__init__',\n",
       " '__init_subclass__',\n",
       " '__iter__',\n",
       " '__le__',\n",
       " '__length_hint__',\n",
       " '__lt__',\n",
       " '__ne__',\n",
       " '__new__',\n",
       " '__next__',\n",
       " '__reduce__',\n",
       " '__reduce_ex__',\n",
       " '__repr__',\n",
       " '__setattr__',\n",
       " '__setstate__',\n",
       " '__sizeof__',\n",
       " '__str__',\n",
       " '__subclasshook__']"
      ]
     },
     "execution_count": 148,
     "metadata": {},
     "output_type": "execute_result"
    }
   ],
   "source": [
    "dir(b)"
   ]
  },
  {
   "cell_type": "code",
   "execution_count": 150,
   "metadata": {
    "hidden": true
   },
   "outputs": [
    {
     "data": {
      "text/plain": [
       "1"
      ]
     },
     "execution_count": 150,
     "metadata": {},
     "output_type": "execute_result"
    }
   ],
   "source": [
    "b.__next__() # next와 같음"
   ]
  },
  {
   "cell_type": "code",
   "execution_count": 151,
   "metadata": {
    "hidden": true
   },
   "outputs": [
    {
     "data": {
      "text/plain": [
       "2"
      ]
     },
     "execution_count": 151,
     "metadata": {},
     "output_type": "execute_result"
    }
   ],
   "source": [
    "next(b) # 내부적으로 __next__를 실행시킴"
   ]
  },
  {
   "cell_type": "markdown",
   "metadata": {
    "hidden": true
   },
   "source": [
    "iterable과 iterator의 차이를 차집합으로 비교해볼 수 있다."
   ]
  },
  {
   "cell_type": "code",
   "execution_count": 107,
   "metadata": {
    "hidden": true
   },
   "outputs": [
    {
     "data": {
      "text/plain": [
       "{'__add__',\n",
       " '__contains__',\n",
       " '__delitem__',\n",
       " '__getitem__',\n",
       " '__iadd__',\n",
       " '__imul__',\n",
       " '__len__',\n",
       " '__mul__',\n",
       " '__reversed__',\n",
       " '__rmul__',\n",
       " '__setitem__',\n",
       " 'append',\n",
       " 'clear',\n",
       " 'copy',\n",
       " 'count',\n",
       " 'extend',\n",
       " 'index',\n",
       " 'insert',\n",
       " 'pop',\n",
       " 'remove',\n",
       " 'reverse',\n",
       " 'sort'}"
      ]
     },
     "execution_count": 107,
     "metadata": {},
     "output_type": "execute_result"
    }
   ],
   "source": [
    "# a만 쓸 수 있는 것\n",
    "set(dir(a)) - set(dir(b))"
   ]
  },
  {
   "cell_type": "code",
   "execution_count": 108,
   "metadata": {
    "hidden": true
   },
   "outputs": [
    {
     "data": {
      "text/plain": [
       "{'__length_hint__', '__next__', '__setstate__'}"
      ]
     },
     "execution_count": 108,
     "metadata": {},
     "output_type": "execute_result"
    }
   ],
   "source": [
    "# b만 쓸 수 있는 것\n",
    "set(dir(b)) - set(dir(a))"
   ]
  },
  {
   "cell_type": "code",
   "execution_count": 124,
   "metadata": {
    "hidden": true
   },
   "outputs": [
    {
     "name": "stderr",
     "output_type": "stream",
     "text": [
      "C:\\Users\\JINHYO\\Anaconda3\\lib\\site-packages\\ipykernel_launcher.py:1: DeprecationWarning: Using or importing the ABCs from 'collections' instead of from 'collections.abc' is deprecated, and in 3.8 it will stop working\n",
      "  \"\"\"Entry point for launching an IPython kernel.\n"
     ]
    }
   ],
   "source": [
    "# iterable은 상속받으면 만들수 있다\n",
    "\n",
    "from collections import Iterable"
   ]
  },
  {
   "cell_type": "markdown",
   "metadata": {
    "hidden": true
   },
   "source": [
    "### \\_\\_doc\\_\\_"
   ]
  },
  {
   "cell_type": "markdown",
   "metadata": {
    "hidden": true
   },
   "source": [
    "docstring을 의미한다.  \n",
    "함수나 클래스를 선언할 때, Signature 바로 아래에 따옴표 세개를 이용해서 설명을 기재할 수 있다."
   ]
  },
  {
   "cell_type": "code",
   "execution_count": 125,
   "metadata": {
    "hidden": true
   },
   "outputs": [],
   "source": [
    "class A:\n",
    "    ''' 클래스 설명 '''\n",
    "    def __init__(self):\n",
    "        '''INIT 설명'''\n",
    "        self.a = 4\n",
    "        print('__init__')\n",
    "    def __del__(self):\n",
    "        print('__init__')"
   ]
  },
  {
   "cell_type": "markdown",
   "metadata": {
    "hidden": true
   },
   "source": [
    "`shift` + `tab` 하면 docstring을 볼 수 있다."
   ]
  },
  {
   "cell_type": "code",
   "execution_count": null,
   "metadata": {
    "hidden": true
   },
   "outputs": [],
   "source": [
    "A # shift + tab 하면 직접 작성한 docstring이 보인다."
   ]
  },
  {
   "cell_type": "code",
   "execution_count": 126,
   "metadata": {
    "hidden": true
   },
   "outputs": [
    {
     "name": "stdout",
     "output_type": "stream",
     "text": [
      "__init__\n"
     ]
    }
   ],
   "source": [
    "a = A() # 인스턴스화할 때 __init__가 실행된다."
   ]
  },
  {
   "cell_type": "code",
   "execution_count": 45,
   "metadata": {
    "hidden": true
   },
   "outputs": [
    {
     "data": {
      "text/plain": [
       "' 클래스 설명 '"
      ]
     },
     "execution_count": 45,
     "metadata": {},
     "output_type": "execute_result"
    }
   ],
   "source": [
    "a.__doc__ # docstring을 출력한다."
   ]
  },
  {
   "cell_type": "code",
   "execution_count": 47,
   "metadata": {
    "hidden": true
   },
   "outputs": [
    {
     "data": {
      "text/plain": [
       "'INIT 설명'"
      ]
     },
     "execution_count": 47,
     "metadata": {},
     "output_type": "execute_result"
    }
   ],
   "source": [
    "a.__init__.__doc__ # 중첩도 가능하다."
   ]
  },
  {
   "cell_type": "markdown",
   "metadata": {
    "hidden": true
   },
   "source": [
    "### \\_\\_dict\\_\\_"
   ]
  },
  {
   "cell_type": "code",
   "execution_count": 124,
   "metadata": {
    "hidden": true
   },
   "outputs": [
    {
     "name": "stderr",
     "output_type": "stream",
     "text": [
      "C:\\Users\\JINHYO\\Anaconda3\\lib\\site-packages\\ipykernel_launcher.py:1: DeprecationWarning: Using or importing the ABCs from 'collections' instead of from 'collections.abc' is deprecated, and in 3.8 it will stop working\n",
      "  \"\"\"Entry point for launching an IPython kernel.\n"
     ]
    }
   ],
   "source": [
    "# iterable은 상속받으면 만들수 있다\n",
    "\n",
    "from collections import Iterable"
   ]
  },
  {
   "cell_type": "markdown",
   "metadata": {
    "hidden": true
   },
   "source": [
    "`vars`와 같다."
   ]
  },
  {
   "cell_type": "code",
   "execution_count": 127,
   "metadata": {
    "hidden": true
   },
   "outputs": [
    {
     "data": {
      "text/plain": [
       "{'a': 4}"
      ]
     },
     "execution_count": 127,
     "metadata": {},
     "output_type": "execute_result"
    }
   ],
   "source": [
    "a.__dict__"
   ]
  },
  {
   "cell_type": "code",
   "execution_count": 128,
   "metadata": {
    "hidden": true,
    "scrolled": true
   },
   "outputs": [
    {
     "data": {
      "text/plain": [
       "{'a': 4}"
      ]
     },
     "execution_count": 128,
     "metadata": {},
     "output_type": "execute_result"
    }
   ],
   "source": [
    "vars(a)"
   ]
  },
  {
   "cell_type": "markdown",
   "metadata": {
    "hidden": true
   },
   "source": [
    "`__dict__`가 없으면 `vars`를 쓸 수 없다."
   ]
  },
  {
   "cell_type": "code",
   "execution_count": 134,
   "metadata": {
    "hidden": true
   },
   "outputs": [],
   "source": [
    "# 객체가 가질 수 있는 값이 하나뿐일때는 __dict__를 구현하지 않음\n",
    "\n",
    "a = 1"
   ]
  },
  {
   "cell_type": "code",
   "execution_count": 136,
   "metadata": {
    "hidden": true
   },
   "outputs": [
    {
     "data": {
      "text/plain": [
       "['__abs__',\n",
       " '__add__',\n",
       " '__and__',\n",
       " '__bool__',\n",
       " '__ceil__',\n",
       " '__class__',\n",
       " '__delattr__',\n",
       " '__dir__',\n",
       " '__divmod__',\n",
       " '__doc__',\n",
       " '__eq__',\n",
       " '__float__',\n",
       " '__floor__',\n",
       " '__floordiv__',\n",
       " '__format__',\n",
       " '__ge__',\n",
       " '__getattribute__',\n",
       " '__getnewargs__',\n",
       " '__gt__',\n",
       " '__hash__',\n",
       " '__index__',\n",
       " '__init__',\n",
       " '__init_subclass__',\n",
       " '__int__',\n",
       " '__invert__',\n",
       " '__le__',\n",
       " '__lshift__',\n",
       " '__lt__',\n",
       " '__mod__',\n",
       " '__mul__',\n",
       " '__ne__',\n",
       " '__neg__',\n",
       " '__new__',\n",
       " '__or__',\n",
       " '__pos__',\n",
       " '__pow__',\n",
       " '__radd__',\n",
       " '__rand__',\n",
       " '__rdivmod__',\n",
       " '__reduce__',\n",
       " '__reduce_ex__',\n",
       " '__repr__',\n",
       " '__rfloordiv__',\n",
       " '__rlshift__',\n",
       " '__rmod__',\n",
       " '__rmul__',\n",
       " '__ror__',\n",
       " '__round__',\n",
       " '__rpow__',\n",
       " '__rrshift__',\n",
       " '__rshift__',\n",
       " '__rsub__',\n",
       " '__rtruediv__',\n",
       " '__rxor__',\n",
       " '__setattr__',\n",
       " '__sizeof__',\n",
       " '__str__',\n",
       " '__sub__',\n",
       " '__subclasshook__',\n",
       " '__truediv__',\n",
       " '__trunc__',\n",
       " '__xor__',\n",
       " 'bit_length',\n",
       " 'conjugate',\n",
       " 'denominator',\n",
       " 'from_bytes',\n",
       " 'imag',\n",
       " 'numerator',\n",
       " 'real',\n",
       " 'to_bytes']"
      ]
     },
     "execution_count": 136,
     "metadata": {},
     "output_type": "execute_result"
    }
   ],
   "source": [
    "dir(a)"
   ]
  },
  {
   "cell_type": "code",
   "execution_count": 135,
   "metadata": {
    "hidden": true
   },
   "outputs": [
    {
     "ename": "TypeError",
     "evalue": "vars() argument must have __dict__ attribute",
     "output_type": "error",
     "traceback": [
      "\u001b[1;31m---------------------------------------------------------------------------\u001b[0m",
      "\u001b[1;31mTypeError\u001b[0m                                 Traceback (most recent call last)",
      "\u001b[1;32m<ipython-input-135-ed1385268fe9>\u001b[0m in \u001b[0;36m<module>\u001b[1;34m\u001b[0m\n\u001b[1;32m----> 1\u001b[1;33m \u001b[0mvars\u001b[0m\u001b[1;33m(\u001b[0m\u001b[0ma\u001b[0m\u001b[1;33m)\u001b[0m\u001b[1;33m\u001b[0m\u001b[1;33m\u001b[0m\u001b[0m\n\u001b[0m",
      "\u001b[1;31mTypeError\u001b[0m: vars() argument must have __dict__ attribute"
     ]
    }
   ],
   "source": [
    "# __dict__가 없으면 Error\n",
    "vars(a)"
   ]
  },
  {
   "cell_type": "markdown",
   "metadata": {
    "hidden": true
   },
   "source": [
    "### \\_\\_repr\\_\\_과 \\_\\_str\\_\\_"
   ]
  },
  {
   "cell_type": "code",
   "execution_count": 153,
   "metadata": {
    "hidden": true
   },
   "outputs": [],
   "source": [
    "class B:\n",
    "    def __init__(self):\n",
    "        '''doc'''\n",
    "        print('init')\n",
    "    def __repr__(self):\n",
    "        print('repr')\n",
    "        return '1'\n",
    "    def __str__(self):\n",
    "        print('str')\n",
    "        return '1'"
   ]
  },
  {
   "cell_type": "code",
   "execution_count": 154,
   "metadata": {
    "hidden": true
   },
   "outputs": [
    {
     "name": "stdout",
     "output_type": "stream",
     "text": [
      "init\n"
     ]
    }
   ],
   "source": [
    "b = B() # 생성자"
   ]
  },
  {
   "cell_type": "markdown",
   "metadata": {
    "hidden": true
   },
   "source": [
    "`__repr__`은 이름만 불렀을 때 호출되는 결과값이다."
   ]
  },
  {
   "cell_type": "code",
   "execution_count": 155,
   "metadata": {
    "hidden": true
   },
   "outputs": [
    {
     "name": "stdout",
     "output_type": "stream",
     "text": [
      "repr\n"
     ]
    },
    {
     "data": {
      "text/plain": [
       "1"
      ]
     },
     "execution_count": 155,
     "metadata": {},
     "output_type": "execute_result"
    }
   ],
   "source": [
    "b"
   ]
  },
  {
   "cell_type": "markdown",
   "metadata": {
    "hidden": true
   },
   "source": [
    "`__str__`은 `print`했을 때 보여주는 값이다."
   ]
  },
  {
   "cell_type": "code",
   "execution_count": 156,
   "metadata": {
    "hidden": true
   },
   "outputs": [
    {
     "name": "stdout",
     "output_type": "stream",
     "text": [
      "str\n",
      "1\n"
     ]
    }
   ],
   "source": [
    "print(b)"
   ]
  },
  {
   "cell_type": "markdown",
   "metadata": {
    "hidden": true
   },
   "source": [
    "### 정리"
   ]
  },
  {
   "cell_type": "markdown",
   "metadata": {
    "hidden": true
   },
   "source": [
    "절대 까먹으면 안되는 3총사\n",
    "- `type` = `__class__`\n",
    "- `dir` ≒  `__dir__`\n",
    "- `vars` = `__dict__`"
   ]
  },
  {
   "cell_type": "markdown",
   "metadata": {
    "heading_collapsed": true
   },
   "source": [
    "## duck typing"
   ]
  },
  {
   "cell_type": "markdown",
   "metadata": {
    "hidden": true
   },
   "source": [
    "굳이 상속을 안해도, 그 특정적인 메소드만 있으면 상속한 것과 비슷하게 사용 가능하다."
   ]
  },
  {
   "cell_type": "markdown",
   "metadata": {
    "hidden": true
   },
   "source": [
    "> 《오리처럼 보이고 오리처럼 꽥꽥댄다면, 그것은 오리다.》\n",
    "\n",
    "출처: [파이썬 공식문서](https://docs.python.org/ko/3/glossary.html#term-duck-typing)"
   ]
  },
  {
   "cell_type": "code",
   "execution_count": 176,
   "metadata": {
    "hidden": true
   },
   "outputs": [],
   "source": [
    "class A:\n",
    "    def __init__(self, x):\n",
    "        self.x = x\n",
    "    def __next__(self):\n",
    "        return self.x"
   ]
  },
  {
   "cell_type": "code",
   "execution_count": 177,
   "metadata": {
    "hidden": true
   },
   "outputs": [],
   "source": [
    "a = A(5)"
   ]
  },
  {
   "cell_type": "markdown",
   "metadata": {
    "hidden": true
   },
   "source": [
    "`Iterable`을 상속받지 않았지만, `__next__` 메소드가 구현되어 있기 때문에 에러를 일으키지 않고 사용할 수 있다."
   ]
  },
  {
   "cell_type": "code",
   "execution_count": 179,
   "metadata": {
    "hidden": true
   },
   "outputs": [
    {
     "data": {
      "text/plain": [
       "5"
      ]
     },
     "execution_count": 179,
     "metadata": {},
     "output_type": "execute_result"
    }
   ],
   "source": [
    "next(a)"
   ]
  },
  {
   "cell_type": "markdown",
   "metadata": {
    "heading_collapsed": true
   },
   "source": [
    "## python에서 이름과 괄호"
   ]
  },
  {
   "cell_type": "markdown",
   "metadata": {
    "hidden": true
   },
   "source": [
    "파이썬은 이름과 괄호를 분리해서 생각할 수 있다. "
   ]
  },
  {
   "cell_type": "code",
   "execution_count": 86,
   "metadata": {
    "hidden": true
   },
   "outputs": [],
   "source": [
    "def a():\n",
    "    return 1"
   ]
  },
  {
   "cell_type": "code",
   "execution_count": 87,
   "metadata": {
    "hidden": true
   },
   "outputs": [
    {
     "data": {
      "text/plain": [
       "<function __main__.a()>"
      ]
     },
     "execution_count": 87,
     "metadata": {},
     "output_type": "execute_result"
    }
   ],
   "source": [
    "a # function을 반환"
   ]
  },
  {
   "cell_type": "code",
   "execution_count": null,
   "metadata": {
    "hidden": true
   },
   "outputs": [],
   "source": [
    "a() # return을 반환"
   ]
  },
  {
   "cell_type": "markdown",
   "metadata": {
    "heading_collapsed": true
   },
   "source": [
    "##  \\_의 특수기능"
   ]
  },
  {
   "cell_type": "markdown",
   "metadata": {
    "hidden": true
   },
   "source": [
    "### 마지막 결과값 호출"
   ]
  },
  {
   "cell_type": "code",
   "execution_count": 94,
   "metadata": {
    "hidden": true
   },
   "outputs": [
    {
     "data": {
      "text/plain": [
       "4"
      ]
     },
     "execution_count": 94,
     "metadata": {},
     "output_type": "execute_result"
    }
   ],
   "source": [
    "4"
   ]
  },
  {
   "cell_type": "code",
   "execution_count": 95,
   "metadata": {
    "hidden": true
   },
   "outputs": [
    {
     "data": {
      "text/plain": [
       "4"
      ]
     },
     "execution_count": 95,
     "metadata": {},
     "output_type": "execute_result"
    }
   ],
   "source": [
    "_"
   ]
  },
  {
   "cell_type": "code",
   "execution_count": 96,
   "metadata": {
    "hidden": true
   },
   "outputs": [
    {
     "data": {
      "text/plain": [
       "4"
      ]
     },
     "execution_count": 96,
     "metadata": {},
     "output_type": "execute_result"
    }
   ],
   "source": [
    "_"
   ]
  },
  {
   "cell_type": "code",
   "execution_count": 97,
   "metadata": {
    "hidden": true
   },
   "outputs": [],
   "source": [
    "# _는 가장 마지막 repr을 출력한다."
   ]
  },
  {
   "cell_type": "code",
   "execution_count": 98,
   "metadata": {
    "hidden": true
   },
   "outputs": [],
   "source": [
    "_ = 1"
   ]
  },
  {
   "cell_type": "code",
   "execution_count": 99,
   "metadata": {
    "hidden": true
   },
   "outputs": [
    {
     "data": {
      "text/plain": [
       "1"
      ]
     },
     "execution_count": 99,
     "metadata": {},
     "output_type": "execute_result"
    }
   ],
   "source": [
    "_"
   ]
  },
  {
   "cell_type": "code",
   "execution_count": 100,
   "metadata": {
    "hidden": true
   },
   "outputs": [
    {
     "data": {
      "text/plain": [
       "1"
      ]
     },
     "execution_count": 100,
     "metadata": {},
     "output_type": "execute_result"
    }
   ],
   "source": [
    "_ # 할당하면 원래 기능 못 쓴다."
   ]
  },
  {
   "cell_type": "code",
   "execution_count": 101,
   "metadata": {
    "hidden": true
   },
   "outputs": [],
   "source": [
    "del _"
   ]
  },
  {
   "cell_type": "code",
   "execution_count": 102,
   "metadata": {
    "hidden": true
   },
   "outputs": [
    {
     "ename": "NameError",
     "evalue": "name '_' is not defined",
     "output_type": "error",
     "traceback": [
      "\u001b[1;31m---------------------------------------------------------------------------\u001b[0m",
      "\u001b[1;31mNameError\u001b[0m                                 Traceback (most recent call last)",
      "\u001b[1;32m<ipython-input-102-71e74fbf7a46>\u001b[0m in \u001b[0;36m<module>\u001b[1;34m\u001b[0m\n\u001b[1;32m----> 1\u001b[1;33m \u001b[0m_\u001b[0m\u001b[1;33m\u001b[0m\u001b[1;33m\u001b[0m\u001b[0m\n\u001b[0m",
      "\u001b[1;31mNameError\u001b[0m: name '_' is not defined"
     ]
    }
   ],
   "source": [
    "_ # 지워도 안돌아온다."
   ]
  },
  {
   "cell_type": "markdown",
   "metadata": {
    "hidden": true
   },
   "source": [
    "### 특정 셀 결과값 호출"
   ]
  },
  {
   "cell_type": "code",
   "execution_count": 104,
   "metadata": {
    "hidden": true
   },
   "outputs": [
    {
     "data": {
      "text/plain": [
       "1"
      ]
     },
     "execution_count": 104,
     "metadata": {},
     "output_type": "execute_result"
    }
   ],
   "source": [
    "# jupyter만 가능\n",
    "# _숫자 는 해당 셀번호의 결과값 가져온다.\n",
    "\n",
    "_100"
   ]
  },
  {
   "cell_type": "markdown",
   "metadata": {
    "heading_collapsed": true
   },
   "source": [
    "## PIL 실습"
   ]
  },
  {
   "cell_type": "code",
   "execution_count": 159,
   "metadata": {
    "hidden": true
   },
   "outputs": [],
   "source": [
    "import PIL # python image library"
   ]
  },
  {
   "cell_type": "markdown",
   "metadata": {
    "hidden": true
   },
   "source": [
    "awesome은 유명한 라이브러리를 모아놓은 집합소이다.  \n",
    "어떤 기능이 필요할 때 awesome을 먼저 찾아보는 것이 좋다.  \n",
    "PIL은 python에서 보편적으로 사용되는 이미지처리 라이브러리로서, awesome에도 등재되어 있다.\n",
    "\n",
    "awesome-python link: https://github.com/vinta/awesome-python"
   ]
  },
  {
   "cell_type": "code",
   "execution_count": 128,
   "metadata": {
    "hidden": true
   },
   "outputs": [
    {
     "data": {
      "text/plain": [
       "['Image',\n",
       " 'ImageMode',\n",
       " 'PILLOW_VERSION',\n",
       " 'TiffTags',\n",
       " '__builtins__',\n",
       " '__cached__',\n",
       " '__doc__',\n",
       " '__file__',\n",
       " '__loader__',\n",
       " '__name__',\n",
       " '__package__',\n",
       " '__path__',\n",
       " '__spec__',\n",
       " '__version__',\n",
       " '_binary',\n",
       " '_imaging',\n",
       " '_plugins',\n",
       " '_util']"
      ]
     },
     "execution_count": 128,
     "metadata": {},
     "output_type": "execute_result"
    }
   ],
   "source": [
    "dir(PIL) # 처음보면 무조건 dir"
   ]
  },
  {
   "cell_type": "markdown",
   "metadata": {
    "hidden": true
   },
   "source": [
    "`__package__`이나 `__module__`이 있으면 숨어있는게 더 있다. "
   ]
  },
  {
   "cell_type": "code",
   "execution_count": null,
   "metadata": {
    "hidden": true
   },
   "outputs": [],
   "source": [
    "# import 뒤에서 tab을 눌러보면 import할 수 있는 목록이 팝업된다.\n",
    "\n",
    "from PIL import #여기서 tab"
   ]
  },
  {
   "cell_type": "markdown",
   "metadata": {
    "hidden": true
   },
   "source": [
    "camel 방식 이름은 클래스이다.  \n",
    "이름 양식에 따라서 어떤 객체인지 유추할 수 있다."
   ]
  },
  {
   "cell_type": "code",
   "execution_count": 129,
   "metadata": {
    "hidden": true
   },
   "outputs": [],
   "source": [
    "from PIL import Image "
   ]
  },
  {
   "cell_type": "code",
   "execution_count": 130,
   "metadata": {
    "hidden": true
   },
   "outputs": [
    {
     "data": {
      "text/plain": [
       "['ADAPTIVE',\n",
       " 'AFFINE',\n",
       " 'ANTIALIAS',\n",
       " 'BICUBIC',\n",
       " 'BILINEAR',\n",
       " 'BOX',\n",
       " 'CONTAINER',\n",
       " 'CUBIC',\n",
       " 'Callable',\n",
       " 'DECODERS',\n",
       " 'DEFAULT_STRATEGY',\n",
       " 'DecompressionBombError',\n",
       " 'DecompressionBombWarning',\n",
       " 'ENCODERS',\n",
       " 'EXTENSION',\n",
       " 'EXTENT',\n",
       " 'Exif',\n",
       " 'FASTOCTREE',\n",
       " 'FILTERED',\n",
       " 'FIXED',\n",
       " 'FLIP_LEFT_RIGHT',\n",
       " 'FLIP_TOP_BOTTOM',\n",
       " 'FLOYDSTEINBERG',\n",
       " 'HAMMING',\n",
       " 'HAS_PATHLIB',\n",
       " 'HUFFMAN_ONLY',\n",
       " 'ID',\n",
       " 'Image',\n",
       " 'ImageMode',\n",
       " 'ImagePointHandler',\n",
       " 'ImageTransformHandler',\n",
       " 'LANCZOS',\n",
       " 'LIBIMAGEQUANT',\n",
       " 'LINEAR',\n",
       " 'MAXCOVERAGE',\n",
       " 'MAX_IMAGE_PIXELS',\n",
       " 'MEDIANCUT',\n",
       " 'MESH',\n",
       " 'MIME',\n",
       " 'MODES',\n",
       " 'MutableMapping',\n",
       " 'NEAREST',\n",
       " 'NONE',\n",
       " 'NORMAL',\n",
       " 'OPEN',\n",
       " 'ORDERED',\n",
       " 'PERSPECTIVE',\n",
       " 'PILLOW_VERSION',\n",
       " 'Path',\n",
       " 'QUAD',\n",
       " 'RASTERIZE',\n",
       " 'RLE',\n",
       " 'ROTATE_180',\n",
       " 'ROTATE_270',\n",
       " 'ROTATE_90',\n",
       " 'SAVE',\n",
       " 'SAVE_ALL',\n",
       " 'SEQUENCE',\n",
       " 'TRANSPOSE',\n",
       " 'TRANSVERSE',\n",
       " 'TiffTags',\n",
       " 'USE_CFFI_ACCESS',\n",
       " 'WEB',\n",
       " '_E',\n",
       " '_ENDIAN',\n",
       " '_MAPMODES',\n",
       " '_MODEINFO',\n",
       " '_MODE_CONV',\n",
       " '__builtins__',\n",
       " '__cached__',\n",
       " '__doc__',\n",
       " '__file__',\n",
       " '__loader__',\n",
       " '__name__',\n",
       " '__package__',\n",
       " '__spec__',\n",
       " '__version__',\n",
       " '_apply_env_variables',\n",
       " '_check_size',\n",
       " '_conv_type_shape',\n",
       " '_decompression_bomb_check',\n",
       " '_fromarray_typemap',\n",
       " '_getdecoder',\n",
       " '_getencoder',\n",
       " '_getscaleoffset',\n",
       " '_imaging_not_installed',\n",
       " '_initialized',\n",
       " '_plugins',\n",
       " '_show',\n",
       " '_showxv',\n",
       " '_wedge',\n",
       " 'alpha_composite',\n",
       " 'atexit',\n",
       " 'blend',\n",
       " 'builtins',\n",
       " 'cffi',\n",
       " 'coerce_e',\n",
       " 'composite',\n",
       " 'core',\n",
       " 'deferred_error',\n",
       " 'effect_mandelbrot',\n",
       " 'effect_noise',\n",
       " 'eval',\n",
       " 'fromarray',\n",
       " 'frombuffer',\n",
       " 'frombytes',\n",
       " 'fromqimage',\n",
       " 'fromqpixmap',\n",
       " 'fromstring',\n",
       " 'getmodebandnames',\n",
       " 'getmodebands',\n",
       " 'getmodebase',\n",
       " 'getmodetype',\n",
       " 'i32le',\n",
       " 'i8',\n",
       " 'init',\n",
       " 'io',\n",
       " 'isImageType',\n",
       " 'isPath',\n",
       " 'isStringType',\n",
       " 'linear_gradient',\n",
       " 'logger',\n",
       " 'logging',\n",
       " 'math',\n",
       " 'merge',\n",
       " 'new',\n",
       " 'numbers',\n",
       " 'open',\n",
       " 'os',\n",
       " 'preinit',\n",
       " 'py3',\n",
       " 'radial_gradient',\n",
       " 'register_decoder',\n",
       " 'register_encoder',\n",
       " 'register_extension',\n",
       " 'register_extensions',\n",
       " 'register_mime',\n",
       " 'register_open',\n",
       " 'register_save',\n",
       " 'register_save_all',\n",
       " 'registered_extensions',\n",
       " 'struct',\n",
       " 'sys',\n",
       " 'warnings']"
      ]
     },
     "execution_count": 130,
     "metadata": {},
     "output_type": "execute_result"
    }
   ],
   "source": [
    "dir(Image) # 처음보면 dir"
   ]
  },
  {
   "cell_type": "markdown",
   "metadata": {
    "hidden": true
   },
   "source": [
    "PEP8 (파이썬 스타일 가이드)에 따르면\n",
    "- 전부 대문자로 쓰면 상수처럼 취급한다.\n",
    "    - python은 상수가 없다.\n",
    "- 이름이 \\_로 시작하는 것은 private 처럼 쓸 수 있다."
   ]
  },
  {
   "cell_type": "markdown",
   "metadata": {
    "hidden": true
   },
   "source": [
    "### python에서 open"
   ]
  },
  {
   "cell_type": "markdown",
   "metadata": {
    "hidden": true
   },
   "source": [
    "아래 코드는 jupyter notebook의 매직커맨드를 이용해서 파일을 저장하는 방법이다.  \n",
    "실습을 위해서 아무 내용이나 채운다."
   ]
  },
  {
   "cell_type": "code",
   "execution_count": 132,
   "metadata": {
    "hidden": true
   },
   "outputs": [
    {
     "name": "stdout",
     "output_type": "stream",
     "text": [
      "Writing sun.txt\n"
     ]
    }
   ],
   "source": [
    "%%writefile sun.txt\n",
    "aslsldflsnfoiwefo\n",
    "soiejflsdjnfosunefoijsef\n",
    "sodijfosnefinslfkjnli"
   ]
  },
  {
   "cell_type": "markdown",
   "metadata": {
    "hidden": true
   },
   "source": [
    "python에서 파일을 불러오는 방법은 기본적으로 `open`밖에 없다."
   ]
  },
  {
   "cell_type": "code",
   "execution_count": 133,
   "metadata": {
    "hidden": true
   },
   "outputs": [],
   "source": [
    "# python에서 파일을 불러오는 방법\n",
    "t = open('sun.txt')"
   ]
  },
  {
   "cell_type": "markdown",
   "metadata": {
    "hidden": true
   },
   "source": [
    "처음 보면 항상 `dir`과 `type`을 해본다."
   ]
  },
  {
   "cell_type": "code",
   "execution_count": 135,
   "metadata": {
    "hidden": true
   },
   "outputs": [
    {
     "data": {
      "text/plain": [
       "_io.TextIOWrapper"
      ]
     },
     "execution_count": 135,
     "metadata": {},
     "output_type": "execute_result"
    }
   ],
   "source": [
    "type(t) # 처음보면 type "
   ]
  },
  {
   "cell_type": "code",
   "execution_count": 134,
   "metadata": {
    "hidden": true
   },
   "outputs": [
    {
     "data": {
      "text/plain": [
       "['_CHUNK_SIZE',\n",
       " '__class__',\n",
       " '__del__',\n",
       " '__delattr__',\n",
       " '__dict__',\n",
       " '__dir__',\n",
       " '__doc__',\n",
       " '__enter__',\n",
       " '__eq__',\n",
       " '__exit__',\n",
       " '__format__',\n",
       " '__ge__',\n",
       " '__getattribute__',\n",
       " '__getstate__',\n",
       " '__gt__',\n",
       " '__hash__',\n",
       " '__init__',\n",
       " '__init_subclass__',\n",
       " '__iter__',\n",
       " '__le__',\n",
       " '__lt__',\n",
       " '__ne__',\n",
       " '__new__',\n",
       " '__next__',\n",
       " '__reduce__',\n",
       " '__reduce_ex__',\n",
       " '__repr__',\n",
       " '__setattr__',\n",
       " '__sizeof__',\n",
       " '__str__',\n",
       " '__subclasshook__',\n",
       " '_checkClosed',\n",
       " '_checkReadable',\n",
       " '_checkSeekable',\n",
       " '_checkWritable',\n",
       " '_finalizing',\n",
       " 'buffer',\n",
       " 'close',\n",
       " 'closed',\n",
       " 'detach',\n",
       " 'encoding',\n",
       " 'errors',\n",
       " 'fileno',\n",
       " 'flush',\n",
       " 'isatty',\n",
       " 'line_buffering',\n",
       " 'mode',\n",
       " 'name',\n",
       " 'newlines',\n",
       " 'read',\n",
       " 'readable',\n",
       " 'readline',\n",
       " 'readlines',\n",
       " 'reconfigure',\n",
       " 'seek',\n",
       " 'seekable',\n",
       " 'tell',\n",
       " 'truncate',\n",
       " 'writable',\n",
       " 'write',\n",
       " 'write_through',\n",
       " 'writelines']"
      ]
     },
     "execution_count": 134,
     "metadata": {},
     "output_type": "execute_result"
    }
   ],
   "source": [
    "dir(t) # 처음보면 dir"
   ]
  },
  {
   "cell_type": "markdown",
   "metadata": {
    "hidden": true
   },
   "source": [
    "`__next__`가 있으므로 `next`할 수 있다. "
   ]
  },
  {
   "cell_type": "code",
   "execution_count": 136,
   "metadata": {
    "hidden": true,
    "scrolled": true
   },
   "outputs": [
    {
     "data": {
      "text/plain": [
       "'aslsldflsnfoiwefo\\n'"
      ]
     },
     "execution_count": 136,
     "metadata": {},
     "output_type": "execute_result"
    }
   ],
   "source": [
    "next(t)"
   ]
  },
  {
   "cell_type": "markdown",
   "metadata": {
    "hidden": true
   },
   "source": [
    "### PIL"
   ]
  },
  {
   "cell_type": "markdown",
   "metadata": {
    "hidden": true
   },
   "source": [
    "PIL에서도 파일을 불러올 때 open이라는 이름을 쓴다."
   ]
  },
  {
   "cell_type": "markdown",
   "metadata": {
    "hidden": true
   },
   "source": [
    "file의 3요소:  \n",
    "- 경로 + 이름 + 확장자\n",
    "- 경로를 생략하면 현재 경로를 의미한다.\n",
    "    - '1.jpg' = './1.jpg'"
   ]
  },
  {
   "cell_type": "code",
   "execution_count": 166,
   "metadata": {
    "hidden": true
   },
   "outputs": [],
   "source": [
    "# open은 파일을 불러온다.\n",
    "im = Image.open('1.jpg')"
   ]
  },
  {
   "cell_type": "markdown",
   "metadata": {
    "hidden": true
   },
   "source": [
    "PIL은 워낙 많이 사용되는 라이브러리이기 때문에 jupyter notebook에서 이름만 호출해도 이미지를 즉각 보여주도록 했다."
   ]
  },
  {
   "cell_type": "code",
   "execution_count": 140,
   "metadata": {
    "hidden": true
   },
   "outputs": [
    {
     "data": {
      "image/png": "[encoded data removed]",
      "text/plain": [
       "<PIL.JpegImagePlugin.JpegImageFile image mode=RGB size=149x160 at 0x21FCE00D4E0>"
      ]
     },
     "execution_count": 140,
     "metadata": {},
     "output_type": "execute_result"
    }
   ],
   "source": [
    "im"
   ]
  },
  {
   "cell_type": "code",
   "execution_count": 141,
   "metadata": {
    "hidden": true
   },
   "outputs": [
    {
     "data": {
      "text/plain": [
       "['_Image__transformer',\n",
       " '__array_interface__',\n",
       " '__class__',\n",
       " '__copy__',\n",
       " '__del__',\n",
       " '__delattr__',\n",
       " '__dict__',\n",
       " '__dir__',\n",
       " '__doc__',\n",
       " '__enter__',\n",
       " '__eq__',\n",
       " '__exit__',\n",
       " '__format__',\n",
       " '__ge__',\n",
       " '__getattribute__',\n",
       " '__getstate__',\n",
       " '__gt__',\n",
       " '__hash__',\n",
       " '__init__',\n",
       " '__init_subclass__',\n",
       " '__le__',\n",
       " '__lt__',\n",
       " '__module__',\n",
       " '__ne__',\n",
       " '__new__',\n",
       " '__reduce__',\n",
       " '__reduce_ex__',\n",
       " '__repr__',\n",
       " '__setattr__',\n",
       " '__setstate__',\n",
       " '__sizeof__',\n",
       " '__str__',\n",
       " '__subclasshook__',\n",
       " '__weakref__',\n",
       " '_close_exclusive_fp_after_loading',\n",
       " '_copy',\n",
       " '_crop',\n",
       " '_dump',\n",
       " '_ensure_mutable',\n",
       " '_exclusive_fp',\n",
       " '_exif',\n",
       " '_expand',\n",
       " '_getexif',\n",
       " '_getmp',\n",
       " '_min_frame',\n",
       " '_new',\n",
       " '_open',\n",
       " '_repr_png_',\n",
       " '_seek_check',\n",
       " '_size',\n",
       " 'alpha_composite',\n",
       " 'app',\n",
       " 'applist',\n",
       " 'bits',\n",
       " 'category',\n",
       " 'close',\n",
       " 'convert',\n",
       " 'copy',\n",
       " 'crop',\n",
       " 'custom_mimetype',\n",
       " 'decoderconfig',\n",
       " 'decodermaxblock',\n",
       " 'draft',\n",
       " 'effect_spread',\n",
       " 'encoderconfig',\n",
       " 'encoderinfo',\n",
       " 'entropy',\n",
       " 'filename',\n",
       " 'filter',\n",
       " 'format',\n",
       " 'format_description',\n",
       " 'fp',\n",
       " 'frombytes',\n",
       " 'fromstring',\n",
       " 'get_format_mimetype',\n",
       " 'getbands',\n",
       " 'getbbox',\n",
       " 'getchannel',\n",
       " 'getcolors',\n",
       " 'getdata',\n",
       " 'getexif',\n",
       " 'getextrema',\n",
       " 'getim',\n",
       " 'getpalette',\n",
       " 'getpixel',\n",
       " 'getprojection',\n",
       " 'height',\n",
       " 'histogram',\n",
       " 'huffman_ac',\n",
       " 'huffman_dc',\n",
       " 'icclist',\n",
       " 'im',\n",
       " 'info',\n",
       " 'layer',\n",
       " 'layers',\n",
       " 'load',\n",
       " 'load_djpeg',\n",
       " 'load_end',\n",
       " 'load_prepare',\n",
       " 'load_read',\n",
       " 'map',\n",
       " 'mode',\n",
       " 'offset',\n",
       " 'palette',\n",
       " 'paste',\n",
       " 'point',\n",
       " 'putalpha',\n",
       " 'putdata',\n",
       " 'putpalette',\n",
       " 'putpixel',\n",
       " 'pyaccess',\n",
       " 'quantization',\n",
       " 'quantize',\n",
       " 'readonly',\n",
       " 'remap_palette',\n",
       " 'resize',\n",
       " 'rotate',\n",
       " 'save',\n",
       " 'seek',\n",
       " 'show',\n",
       " 'size',\n",
       " 'split',\n",
       " 'tell',\n",
       " 'thumbnail',\n",
       " 'tile',\n",
       " 'tobitmap',\n",
       " 'tobytes',\n",
       " 'toqimage',\n",
       " 'toqpixmap',\n",
       " 'tostring',\n",
       " 'transform',\n",
       " 'transpose',\n",
       " 'verify',\n",
       " 'width']"
      ]
     },
     "execution_count": 141,
     "metadata": {},
     "output_type": "execute_result"
    }
   ],
   "source": [
    "dir(im) # 처음보면 dir"
   ]
  },
  {
   "cell_type": "markdown",
   "metadata": {
    "hidden": true
   },
   "source": [
    "`crop`을 사용해보자.\n",
    "- 사용법을 모를 때는 `shift` + `tab`을 활용한다."
   ]
  },
  {
   "cell_type": "code",
   "execution_count": 157,
   "metadata": {
    "hidden": true
   },
   "outputs": [
    {
     "data": {
      "image/png": "[encoded data removed]",
      "text/plain": [
       "<PIL.Image.Image image mode=RGB size=60x60 at 0x21FCDD74F60>"
      ]
     },
     "execution_count": 157,
     "metadata": {},
     "output_type": "execute_result"
    }
   ],
   "source": [
    "# Signature를 보면 인자는 1개만 받는다.\n",
    "# docstring을 보면 인자는 원소가 4개인 튜플이어야 한다.\n",
    "\n",
    "im.crop((70, 20, 130, 80))"
   ]
  },
  {
   "cell_type": "markdown",
   "metadata": {
    "hidden": true
   },
   "source": [
    "`rotate`도 사용해보자."
   ]
  },
  {
   "cell_type": "code",
   "execution_count": 159,
   "metadata": {
    "hidden": true
   },
   "outputs": [
    {
     "data": {
      "image/png": "[encoded data removed]",
      "text/plain": [
       "<PIL.Image.Image image mode=RGB size=149x160 at 0x21FCE00D358>"
      ]
     },
     "execution_count": 159,
     "metadata": {},
     "output_type": "execute_result"
    }
   ],
   "source": [
    "im.rotate(30)"
   ]
  },
  {
   "cell_type": "markdown",
   "metadata": {
    "hidden": true
   },
   "source": [
    "기본값을 조정해서 함수의 기능을 바꿀 수 있다. "
   ]
  },
  {
   "cell_type": "code",
   "execution_count": 160,
   "metadata": {
    "hidden": true
   },
   "outputs": [
    {
     "data": {
      "image/png": "[encoded data removed]",
      "text/plain": [
       "<PIL.Image.Image image mode=RGB size=149x160 at 0x21FCBA8DCF8>"
      ]
     },
     "execution_count": 160,
     "metadata": {},
     "output_type": "execute_result"
    }
   ],
   "source": [
    "im.rotate(30, fillcolor='pink')"
   ]
  },
  {
   "cell_type": "markdown",
   "metadata": {
    "hidden": true
   },
   "source": [
    "### composition"
   ]
  },
  {
   "cell_type": "markdown",
   "metadata": {
    "hidden": true
   },
   "source": [
    "상속하지 않고 다른 클래스의 기능을 사용할 수 있는 기법이다.  \n",
    "클래스 내부에 다른 클래스의 기능을 넣어둔다."
   ]
  },
  {
   "cell_type": "markdown",
   "metadata": {
    "hidden": true
   },
   "source": [
    "`rotate`함수는 composition 방식으로 만들어졌다.  \n",
    "`ImageColor`의 기능을 내장하고 있어서 `fillcolor`파라미터로 색을 넣을 수 있다."
   ]
  },
  {
   "cell_type": "code",
   "execution_count": 167,
   "metadata": {
    "hidden": true
   },
   "outputs": [],
   "source": [
    "from PIL import ImageColor"
   ]
  },
  {
   "cell_type": "code",
   "execution_count": 170,
   "metadata": {
    "hidden": true
   },
   "outputs": [
    {
     "data": {
      "text/plain": [
       "['Image',\n",
       " '__builtins__',\n",
       " '__cached__',\n",
       " '__doc__',\n",
       " '__file__',\n",
       " '__loader__',\n",
       " '__name__',\n",
       " '__package__',\n",
       " '__spec__',\n",
       " 'colormap',\n",
       " 'getcolor',\n",
       " 'getrgb',\n",
       " 're']"
      ]
     },
     "execution_count": 170,
     "metadata": {},
     "output_type": "execute_result"
    }
   ],
   "source": [
    "dir(ImageColor)"
   ]
  },
  {
   "cell_type": "code",
   "execution_count": 165,
   "metadata": {
    "hidden": true
   },
   "outputs": [
    {
     "data": {
      "text/plain": [
       "dict_keys(['aliceblue', 'antiquewhite', 'aqua', 'aquamarine', 'azure', 'beige', 'bisque', 'black', 'blanchedalmond', 'blue', 'blueviolet', 'brown', 'burlywood', 'cadetblue', 'chartreuse', 'chocolate', 'coral', 'cornflowerblue', 'cornsilk', 'crimson', 'cyan', 'darkblue', 'darkcyan', 'darkgoldenrod', 'darkgray', 'darkgrey', 'darkgreen', 'darkkhaki', 'darkmagenta', 'darkolivegreen', 'darkorange', 'darkorchid', 'darkred', 'darksalmon', 'darkseagreen', 'darkslateblue', 'darkslategray', 'darkslategrey', 'darkturquoise', 'darkviolet', 'deeppink', 'deepskyblue', 'dimgray', 'dimgrey', 'dodgerblue', 'firebrick', 'floralwhite', 'forestgreen', 'fuchsia', 'gainsboro', 'ghostwhite', 'gold', 'goldenrod', 'gray', 'grey', 'green', 'greenyellow', 'honeydew', 'hotpink', 'indianred', 'indigo', 'ivory', 'khaki', 'lavender', 'lavenderblush', 'lawngreen', 'lemonchiffon', 'lightblue', 'lightcoral', 'lightcyan', 'lightgoldenrodyellow', 'lightgreen', 'lightgray', 'lightgrey', 'lightpink', 'lightsalmon', 'lightseagreen', 'lightskyblue', 'lightslategray', 'lightslategrey', 'lightsteelblue', 'lightyellow', 'lime', 'limegreen', 'linen', 'magenta', 'maroon', 'mediumaquamarine', 'mediumblue', 'mediumorchid', 'mediumpurple', 'mediumseagreen', 'mediumslateblue', 'mediumspringgreen', 'mediumturquoise', 'mediumvioletred', 'midnightblue', 'mintcream', 'mistyrose', 'moccasin', 'navajowhite', 'navy', 'oldlace', 'olive', 'olivedrab', 'orange', 'orangered', 'orchid', 'palegoldenrod', 'palegreen', 'paleturquoise', 'palevioletred', 'papayawhip', 'peachpuff', 'peru', 'pink', 'plum', 'powderblue', 'purple', 'rebeccapurple', 'red', 'rosybrown', 'royalblue', 'saddlebrown', 'salmon', 'sandybrown', 'seagreen', 'seashell', 'sienna', 'silver', 'skyblue', 'slateblue', 'slategray', 'slategrey', 'snow', 'springgreen', 'steelblue', 'tan', 'teal', 'thistle', 'tomato', 'turquoise', 'violet', 'wheat', 'white', 'whitesmoke', 'yellow', 'yellowgreen'])"
      ]
     },
     "execution_count": 165,
     "metadata": {},
     "output_type": "execute_result"
    }
   ],
   "source": [
    "# fillcolor에서 사용 가능한 색상들\n",
    "ImageColor.colormap.keys()"
   ]
  },
  {
   "cell_type": "markdown",
   "metadata": {
    "hidden": true
   },
   "source": [
    "### inspect"
   ]
  },
  {
   "cell_type": "markdown",
   "metadata": {
    "hidden": true
   },
   "source": [
    "python은 남이 만든 코드 다 볼 수 있다. "
   ]
  },
  {
   "cell_type": "code",
   "execution_count": 161,
   "metadata": {
    "hidden": true
   },
   "outputs": [],
   "source": [
    "import inspect"
   ]
  },
  {
   "cell_type": "code",
   "execution_count": 162,
   "metadata": {
    "hidden": true,
    "scrolled": true
   },
   "outputs": [
    {
     "name": "stdout",
     "output_type": "stream",
     "text": [
      "    def rotate(\n",
      "        self,\n",
      "        angle,\n",
      "        resample=NEAREST,\n",
      "        expand=0,\n",
      "        center=None,\n",
      "        translate=None,\n",
      "        fillcolor=None,\n",
      "    ):\n",
      "        \"\"\"\n",
      "        Returns a rotated copy of this image.  This method returns a\n",
      "        copy of this image, rotated the given number of degrees counter\n",
      "        clockwise around its centre.\n",
      "\n",
      "        :param angle: In degrees counter clockwise.\n",
      "        :param resample: An optional resampling filter.  This can be\n",
      "           one of :py:attr:`PIL.Image.NEAREST` (use nearest neighbour),\n",
      "           :py:attr:`PIL.Image.BILINEAR` (linear interpolation in a 2x2\n",
      "           environment), or :py:attr:`PIL.Image.BICUBIC`\n",
      "           (cubic spline interpolation in a 4x4 environment).\n",
      "           If omitted, or if the image has mode \"1\" or \"P\", it is\n",
      "           set :py:attr:`PIL.Image.NEAREST`. See :ref:`concept-filters`.\n",
      "        :param expand: Optional expansion flag.  If true, expands the output\n",
      "           image to make it large enough to hold the entire rotated image.\n",
      "           If false or omitted, make the output image the same size as the\n",
      "           input image.  Note that the expand flag assumes rotation around\n",
      "           the center and no translation.\n",
      "        :param center: Optional center of rotation (a 2-tuple).  Origin is\n",
      "           the upper left corner.  Default is the center of the image.\n",
      "        :param translate: An optional post-rotate translation (a 2-tuple).\n",
      "        :param fillcolor: An optional color for area outside the rotated image.\n",
      "        :returns: An :py:class:`~PIL.Image.Image` object.\n",
      "        \"\"\"\n",
      "\n",
      "        angle = angle % 360.0\n",
      "\n",
      "        # Fast paths regardless of filter, as long as we're not\n",
      "        # translating or changing the center.\n",
      "        if not (center or translate):\n",
      "            if angle == 0:\n",
      "                return self.copy()\n",
      "            if angle == 180:\n",
      "                return self.transpose(ROTATE_180)\n",
      "            if angle == 90 and expand:\n",
      "                return self.transpose(ROTATE_90)\n",
      "            if angle == 270 and expand:\n",
      "                return self.transpose(ROTATE_270)\n",
      "\n",
      "        # Calculate the affine matrix.  Note that this is the reverse\n",
      "        # transformation (from destination image to source) because we\n",
      "        # want to interpolate the (discrete) destination pixel from\n",
      "        # the local area around the (floating) source pixel.\n",
      "\n",
      "        # The matrix we actually want (note that it operates from the right):\n",
      "        # (1, 0, tx)   (1, 0, cx)   ( cos a, sin a, 0)   (1, 0, -cx)\n",
      "        # (0, 1, ty) * (0, 1, cy) * (-sin a, cos a, 0) * (0, 1, -cy)\n",
      "        # (0, 0,  1)   (0, 0,  1)   (     0,     0, 1)   (0, 0,   1)\n",
      "\n",
      "        # The reverse matrix is thus:\n",
      "        # (1, 0, cx)   ( cos -a, sin -a, 0)   (1, 0, -cx)   (1, 0, -tx)\n",
      "        # (0, 1, cy) * (-sin -a, cos -a, 0) * (0, 1, -cy) * (0, 1, -ty)\n",
      "        # (0, 0,  1)   (      0,      0, 1)   (0, 0,   1)   (0, 0,   1)\n",
      "\n",
      "        # In any case, the final translation may be updated at the end to\n",
      "        # compensate for the expand flag.\n",
      "\n",
      "        w, h = self.size\n",
      "\n",
      "        if translate is None:\n",
      "            post_trans = (0, 0)\n",
      "        else:\n",
      "            post_trans = translate\n",
      "        if center is None:\n",
      "            # FIXME These should be rounded to ints?\n",
      "            rotn_center = (w / 2.0, h / 2.0)\n",
      "        else:\n",
      "            rotn_center = center\n",
      "\n",
      "        angle = -math.radians(angle)\n",
      "        matrix = [\n",
      "            round(math.cos(angle), 15),\n",
      "            round(math.sin(angle), 15),\n",
      "            0.0,\n",
      "            round(-math.sin(angle), 15),\n",
      "            round(math.cos(angle), 15),\n",
      "            0.0,\n",
      "        ]\n",
      "\n",
      "        def transform(x, y, matrix):\n",
      "            (a, b, c, d, e, f) = matrix\n",
      "            return a * x + b * y + c, d * x + e * y + f\n",
      "\n",
      "        matrix[2], matrix[5] = transform(\n",
      "            -rotn_center[0] - post_trans[0], -rotn_center[1] - post_trans[1], matrix\n",
      "        )\n",
      "        matrix[2] += rotn_center[0]\n",
      "        matrix[5] += rotn_center[1]\n",
      "\n",
      "        if expand:\n",
      "            # calculate output size\n",
      "            xx = []\n",
      "            yy = []\n",
      "            for x, y in ((0, 0), (w, 0), (w, h), (0, h)):\n",
      "                x, y = transform(x, y, matrix)\n",
      "                xx.append(x)\n",
      "                yy.append(y)\n",
      "            nw = int(math.ceil(max(xx)) - math.floor(min(xx)))\n",
      "            nh = int(math.ceil(max(yy)) - math.floor(min(yy)))\n",
      "\n",
      "            # We multiply a translation matrix from the right.  Because of its\n",
      "            # special form, this is the same as taking the image of the\n",
      "            # translation vector as new translation vector.\n",
      "            matrix[2], matrix[5] = transform(-(nw - w) / 2.0, -(nh - h) / 2.0, matrix)\n",
      "            w, h = nw, nh\n",
      "\n",
      "        return self.transform((w, h), AFFINE, matrix, resample, fillcolor=fillcolor)\n",
      "\n"
     ]
    }
   ],
   "source": [
    "# rotate의 소스코드\n",
    "\n",
    "print(inspect.getsource(im.rotate))"
   ]
  },
  {
   "cell_type": "markdown",
   "metadata": {
    "hidden": true
   },
   "source": [
    "상속하고 소스코드를 가져와서 수정하면 내 입맛대로 바꿀 수 있다."
   ]
  },
  {
   "cell_type": "code",
   "execution_count": null,
   "metadata": {
    "hidden": true
   },
   "outputs": [],
   "source": [
    "class MyClass(Image):\n",
    "    def rotate(\n",
    "        self,\n",
    "        angle,\n",
    "        resample=NEAREST,\n",
    "        expand=0,\n",
    "        center=None,\n",
    "        translate=None,\n",
    "        fillcolor=None,\n",
    "    ):\n",
    "        \"\"\"\n",
    "        Returns a rotated copy of this image.  This method returns a\n",
    "        copy of this image, rotated the given number of degrees counter\n",
    "        clockwise around its centre.\n",
    "\n",
    "        :param angle: In degrees counter clockwise.\n",
    "        :param resample: An optional resampling filter.  This can be\n",
    "           one of :py:attr:`PIL.Image.NEAREST` (use nearest neighbour),\n",
    "           :py:attr:`PIL.Image.BILINEAR` (linear interpolation in a 2x2\n",
    "           environment), or :py:attr:`PIL.Image.BICUBIC`\n",
    "           (cubic spline interpolation in a 4x4 environment).\n",
    "           If omitted, or if the image has mode \"1\" or \"P\", it is\n",
    "           set :py:attr:`PIL.Image.NEAREST`. See :ref:`concept-filters`.\n",
    "        :param expand: Optional expansion flag.  If true, expands the output\n",
    "           image to make it large enough to hold the entire rotated image.\n",
    "           If false or omitted, make the output image the same size as the\n",
    "           input image.  Note that the expand flag assumes rotation around\n",
    "           the center and no translation.\n",
    "        :param center: Optional center of rotation (a 2-tuple).  Origin is\n",
    "           the upper left corner.  Default is the center of the image.\n",
    "        :param translate: An optional post-rotate translation (a 2-tuple).\n",
    "        :param fillcolor: An optional color for area outside the rotated image.\n",
    "        :returns: An :py:class:`~PIL.Image.Image` object.\n",
    "        \"\"\"\n",
    "\n",
    "        angle = angle % 360.0\n",
    "\n",
    "        # Fast paths regardless of filter, as long as we're not\n",
    "        # translating or changing the center.\n",
    "        if not (center or translate):\n",
    "            if angle == 0:\n",
    "                return self.copy()\n",
    "            if angle == 180:\n",
    "                return self.transpose(ROTATE_180)\n",
    "            if angle == 90 and expand:\n",
    "                return self.transpose(ROTATE_90)\n",
    "            if angle == 270 and expand:\n",
    "                return self.transpose(ROTATE_270)\n",
    "\n",
    "        # Calculate the affine matrix.  Note that this is the reverse\n",
    "        # transformation (from destination image to source) because we\n",
    "        # want to interpolate the (discrete) destination pixel from\n",
    "        # the local area around the (floating) source pixel.\n",
    "\n",
    "        # The matrix we actually want (note that it operates from the right):\n",
    "        # (1, 0, tx)   (1, 0, cx)   ( cos a, sin a, 0)   (1, 0, -cx)\n",
    "        # (0, 1, ty) * (0, 1, cy) * (-sin a, cos a, 0) * (0, 1, -cy)\n",
    "        # (0, 0,  1)   (0, 0,  1)   (     0,     0, 1)   (0, 0,   1)\n",
    "\n",
    "        # The reverse matrix is thus:\n",
    "        # (1, 0, cx)   ( cos -a, sin -a, 0)   (1, 0, -cx)   (1, 0, -tx)\n",
    "        # (0, 1, cy) * (-sin -a, cos -a, 0) * (0, 1, -cy) * (0, 1, -ty)\n",
    "        # (0, 0,  1)   (      0,      0, 1)   (0, 0,   1)   (0, 0,   1)\n",
    "\n",
    "        # In any case, the final translation may be updated at the end to\n",
    "        # compensate for the expand flag.\n",
    "\n",
    "        w, h = self.size\n",
    "\n",
    "        if translate is None:\n",
    "            post_trans = (0, 0)\n",
    "        else:\n",
    "            post_trans = translate\n",
    "        if center is None:\n",
    "            # FIXME These should be rounded to ints?\n",
    "            rotn_center = (w / 2.0, h / 2.0)\n",
    "        else:\n",
    "            rotn_center = center\n",
    "\n",
    "        angle = -math.radians(angle)\n",
    "        matrix = [\n",
    "            round(math.cos(angle), 15),\n",
    "            round(math.sin(angle), 15),\n",
    "            0.0,\n",
    "            round(-math.sin(angle), 15),\n",
    "            round(math.cos(angle), 15),\n",
    "            0.0,\n",
    "        ]\n",
    "\n",
    "        def transform(x, y, matrix):\n",
    "            (a, b, c, d, e, f) = matrix\n",
    "            return a * x + b * y + c, d * x + e * y + f\n",
    "\n",
    "        matrix[2], matrix[5] = transform(\n",
    "            -rotn_center[0] - post_trans[0], -rotn_center[1] - post_trans[1], matrix\n",
    "        )\n",
    "        matrix[2] += rotn_center[0]\n",
    "        matrix[5] += rotn_center[1]\n",
    "\n",
    "        if expand:\n",
    "            # calculate output size\n",
    "            xx = []\n",
    "            yy = []\n",
    "            for x, y in ((0, 0), (w, 0), (w, h), (0, h)):\n",
    "                x, y = transform(x, y, matrix)\n",
    "                xx.append(x)\n",
    "                yy.append(y)\n",
    "            nw = int(math.ceil(max(xx)) - math.floor(min(xx)))\n",
    "            nh = int(math.ceil(max(yy)) - math.floor(min(yy)))\n",
    "\n",
    "            # We multiply a translation matrix from the right.  Because of its\n",
    "            # special form, this is the same as taking the image of the\n",
    "            # translation vector as new translation vector.\n",
    "            matrix[2], matrix[5] = transform(-(nw - w) / 2.0, -(nh - h) / 2.0, matrix)\n",
    "            w, h = nw, nh\n",
    "\n",
    "        return self.transform((w, h), AFFINE, matrix, resample, fillcolor=fillcolor)"
   ]
  },
  {
   "cell_type": "markdown",
   "metadata": {},
   "source": [
    "## 다중상속"
   ]
  },
  {
   "cell_type": "markdown",
   "metadata": {},
   "source": [
    "OOP 4대 원칙\n",
    "1. abstraction\n",
    "2. encapsulation\n",
    "3. polymorphism\n",
    "4. inheritance"
   ]
  },
  {
   "cell_type": "markdown",
   "metadata": {},
   "source": [
    "python은 상속체계가 명확하지 않으면 클래스 선언할때 에러를 일으킨다."
   ]
  },
  {
   "cell_type": "code",
   "execution_count": 178,
   "metadata": {},
   "outputs": [
    {
     "ename": "TypeError",
     "evalue": "Cannot create a consistent method resolution\norder (MRO) for bases A, B",
     "output_type": "error",
     "traceback": [
      "\u001b[1;31m---------------------------------------------------------------------------\u001b[0m",
      "\u001b[1;31mTypeError\u001b[0m                                 Traceback (most recent call last)",
      "\u001b[1;32m<ipython-input-178-23dfd2d101ea>\u001b[0m in \u001b[0;36m<module>\u001b[1;34m\u001b[0m\n\u001b[0;32m      5\u001b[0m     \u001b[1;32mpass\u001b[0m\u001b[1;33m\u001b[0m\u001b[1;33m\u001b[0m\u001b[0m\n\u001b[0;32m      6\u001b[0m \u001b[1;33m\u001b[0m\u001b[0m\n\u001b[1;32m----> 7\u001b[1;33m \u001b[1;32mclass\u001b[0m \u001b[0mC\u001b[0m\u001b[1;33m(\u001b[0m\u001b[0mA\u001b[0m\u001b[1;33m,\u001b[0m \u001b[0mB\u001b[0m\u001b[1;33m)\u001b[0m\u001b[1;33m:\u001b[0m\u001b[1;33m\u001b[0m\u001b[1;33m\u001b[0m\u001b[0m\n\u001b[0m\u001b[0;32m      8\u001b[0m     \u001b[1;32mpass\u001b[0m\u001b[1;33m\u001b[0m\u001b[1;33m\u001b[0m\u001b[0m\n",
      "\u001b[1;31mTypeError\u001b[0m: Cannot create a consistent method resolution\norder (MRO) for bases A, B"
     ]
    }
   ],
   "source": [
    "class A:\n",
    "    pass\n",
    "\n",
    "class B(A):\n",
    "    pass\n",
    "\n",
    "class C(A, B): # A를 상속받는데, A를 상속받은 B도 상속받는다. -> 상속체계가 불명확\n",
    "    pass"
   ]
  },
  {
   "cell_type": "markdown",
   "metadata": {},
   "source": [
    "상속체계가 명확하면 다중상속할 수 있다."
   ]
  },
  {
   "cell_type": "code",
   "execution_count": 180,
   "metadata": {},
   "outputs": [],
   "source": [
    "class A:\n",
    "    a = 1\n",
    "    pass\n",
    "\n",
    "class B:\n",
    "    b = 1\n",
    "    pass\n",
    "\n",
    "class C(A, B):\n",
    "    pass"
   ]
  },
  {
   "cell_type": "code",
   "execution_count": 181,
   "metadata": {},
   "outputs": [
    {
     "data": {
      "text/plain": [
       "1"
      ]
     },
     "execution_count": 181,
     "metadata": {},
     "output_type": "execute_result"
    }
   ],
   "source": [
    "C.a # A에게서 상속받은 attribute"
   ]
  },
  {
   "cell_type": "code",
   "execution_count": 182,
   "metadata": {},
   "outputs": [
    {
     "data": {
      "text/plain": [
       "1"
      ]
     },
     "execution_count": 182,
     "metadata": {},
     "output_type": "execute_result"
    }
   ],
   "source": [
    "C.b # B에게서 상속받은 attribute"
   ]
  },
  {
   "cell_type": "code",
   "execution_count": 183,
   "metadata": {},
   "outputs": [
    {
     "data": {
      "text/plain": [
       "['__class__',\n",
       " '__delattr__',\n",
       " '__dict__',\n",
       " '__dir__',\n",
       " '__doc__',\n",
       " '__eq__',\n",
       " '__format__',\n",
       " '__ge__',\n",
       " '__getattribute__',\n",
       " '__gt__',\n",
       " '__hash__',\n",
       " '__init__',\n",
       " '__init_subclass__',\n",
       " '__le__',\n",
       " '__lt__',\n",
       " '__module__',\n",
       " '__ne__',\n",
       " '__new__',\n",
       " '__reduce__',\n",
       " '__reduce_ex__',\n",
       " '__repr__',\n",
       " '__setattr__',\n",
       " '__sizeof__',\n",
       " '__str__',\n",
       " '__subclasshook__',\n",
       " '__weakref__',\n",
       " 'a',\n",
       " 'b']"
      ]
     },
     "execution_count": 183,
     "metadata": {},
     "output_type": "execute_result"
    }
   ],
   "source": [
    "dir(C)"
   ]
  },
  {
   "cell_type": "markdown",
   "metadata": {},
   "source": [
    "`mro`는 Method Resolution Order의 줄임말로, 상속체계의 순서를 알려준다.  \n",
    "`mro`와 `__mro__`는 반환하는 타입만 다르다."
   ]
  },
  {
   "cell_type": "code",
   "execution_count": 188,
   "metadata": {},
   "outputs": [
    {
     "data": {
      "text/plain": [
       "[__main__.C, __main__.A, __main__.B, object]"
      ]
     },
     "execution_count": 188,
     "metadata": {},
     "output_type": "execute_result"
    }
   ],
   "source": [
    "C.mro() # list"
   ]
  },
  {
   "cell_type": "code",
   "execution_count": 189,
   "metadata": {},
   "outputs": [
    {
     "data": {
      "text/plain": [
       "(__main__.C, __main__.A, __main__.B, object)"
      ]
     },
     "execution_count": 189,
     "metadata": {},
     "output_type": "execute_result"
    }
   ],
   "source": [
    "C.__mro__ # tuple"
   ]
  },
  {
   "cell_type": "markdown",
   "metadata": {},
   "source": [
    "인스턴스에서는 `mro`를 쓸 수 없다."
   ]
  },
  {
   "cell_type": "code",
   "execution_count": 183,
   "metadata": {},
   "outputs": [],
   "source": [
    "c = C()"
   ]
  },
  {
   "cell_type": "code",
   "execution_count": 184,
   "metadata": {},
   "outputs": [
    {
     "ename": "AttributeError",
     "evalue": "'C' object has no attribute 'mro'",
     "output_type": "error",
     "traceback": [
      "\u001b[1;31m---------------------------------------------------------------------------\u001b[0m",
      "\u001b[1;31mAttributeError\u001b[0m                            Traceback (most recent call last)",
      "\u001b[1;32m<ipython-input-184-2aee35250118>\u001b[0m in \u001b[0;36m<module>\u001b[1;34m\u001b[0m\n\u001b[0;32m      1\u001b[0m \u001b[1;31m# Error\u001b[0m\u001b[1;33m\u001b[0m\u001b[1;33m\u001b[0m\u001b[1;33m\u001b[0m\u001b[0m\n\u001b[1;32m----> 2\u001b[1;33m \u001b[0mc\u001b[0m\u001b[1;33m.\u001b[0m\u001b[0mmro\u001b[0m\u001b[1;33m(\u001b[0m\u001b[1;33m)\u001b[0m\u001b[1;33m\u001b[0m\u001b[1;33m\u001b[0m\u001b[0m\n\u001b[0m",
      "\u001b[1;31mAttributeError\u001b[0m: 'C' object has no attribute 'mro'"
     ]
    }
   ],
   "source": [
    "# Error\n",
    "c.mro()"
   ]
  },
  {
   "cell_type": "markdown",
   "metadata": {},
   "source": [
    "참고"
   ]
  },
  {
   "cell_type": "code",
   "execution_count": 193,
   "metadata": {},
   "outputs": [
    {
     "data": {
      "text/plain": [
       "['__abstractmethods__',\n",
       " '__base__',\n",
       " '__bases__',\n",
       " '__basicsize__',\n",
       " '__call__',\n",
       " '__class__',\n",
       " '__delattr__',\n",
       " '__dict__',\n",
       " '__dictoffset__',\n",
       " '__dir__',\n",
       " '__doc__',\n",
       " '__eq__',\n",
       " '__flags__',\n",
       " '__format__',\n",
       " '__ge__',\n",
       " '__getattribute__',\n",
       " '__gt__',\n",
       " '__hash__',\n",
       " '__init__',\n",
       " '__init_subclass__',\n",
       " '__instancecheck__',\n",
       " '__itemsize__',\n",
       " '__le__',\n",
       " '__lt__',\n",
       " '__module__',\n",
       " '__mro__',\n",
       " '__name__',\n",
       " '__ne__',\n",
       " '__new__',\n",
       " '__prepare__',\n",
       " '__qualname__',\n",
       " '__reduce__',\n",
       " '__reduce_ex__',\n",
       " '__repr__',\n",
       " '__setattr__',\n",
       " '__sizeof__',\n",
       " '__str__',\n",
       " '__subclasscheck__',\n",
       " '__subclasses__',\n",
       " '__subclasshook__',\n",
       " '__text_signature__',\n",
       " '__weakrefoffset__',\n",
       " 'mro']"
      ]
     },
     "execution_count": 193,
     "metadata": {},
     "output_type": "execute_result"
    }
   ],
   "source": [
    "dir(type(C)) # C.__class__.__dir__()은 안된다."
   ]
  },
  {
   "cell_type": "markdown",
   "metadata": {},
   "source": [
    "`C.__class__.__dir__()`은 안되는데 `dir(type(C))`는 되는 이유"
   ]
  },
  {
   "cell_type": "code",
   "execution_count": 188,
   "metadata": {},
   "outputs": [
    {
     "name": "stdout",
     "output_type": "stream",
     "text": [
      "The Zen of Python, by Tim Peters\n",
      "\n",
      "Beautiful is better than ugly.\n",
      "Explicit is better than implicit.\n",
      "Simple is better than complex.\n",
      "Complex is better than complicated.\n",
      "Flat is better than nested.\n",
      "Sparse is better than dense.\n",
      "Readability counts.\n",
      "Special cases aren't special enough to break the rules.\n",
      "Although practicality beats purity.\n",
      "Errors should never pass silently.\n",
      "Unless explicitly silenced.\n",
      "In the face of ambiguity, refuse the temptation to guess.\n",
      "There should be one-- and preferably only one --obvious way to do it.\n",
      "Although that way may not be obvious at first unless you're Dutch.\n",
      "Now is better than never.\n",
      "Although never is often better than *right* now.\n",
      "If the implementation is hard to explain, it's a bad idea.\n",
      "If the implementation is easy to explain, it may be a good idea.\n",
      "Namespaces are one honking great idea -- let's do more of those!\n"
     ]
    }
   ],
   "source": [
    "import this \n",
    "\n",
    "# Although that way may not be obvious at first unless you're Dutch.\n",
    "# 네덜란드 사람이 아니면 처음에 이해하기 어렵다."
   ]
  },
  {
   "cell_type": "markdown",
   "metadata": {},
   "source": [
    "### 다이아몬드 문제"
   ]
  },
  {
   "cell_type": "markdown",
   "metadata": {},
   "source": [
    "다이아몬드 상속구조는 다음과 같다."
   ]
  },
  {
   "cell_type": "code",
   "execution_count": 194,
   "metadata": {},
   "outputs": [],
   "source": [
    "class Base:\n",
    "    pass\n",
    "\n",
    "class A(Base):\n",
    "    a = 1\n",
    "    \n",
    "class B(Base):\n",
    "    b = 1\n",
    "    \n",
    "class C(A, B):\n",
    "    pass"
   ]
  },
  {
   "cell_type": "code",
   "execution_count": 195,
   "metadata": {},
   "outputs": [
    {
     "data": {
      "text/plain": [
       "[__main__.C, __main__.A, __main__.B, __main__.Base, object]"
      ]
     },
     "execution_count": 195,
     "metadata": {},
     "output_type": "execute_result"
    }
   ],
   "source": [
    "C.mro()"
   ]
  },
  {
   "cell_type": "markdown",
   "metadata": {},
   "source": [
    "다이아몬드 상속구조에 살을 더 붙였다."
   ]
  },
  {
   "cell_type": "code",
   "execution_count": 200,
   "metadata": {},
   "outputs": [],
   "source": [
    "class Base:\n",
    "    def __init__(self):\n",
    "        print('Base')\n",
    "    pass\n",
    "\n",
    "class A(Base):\n",
    "    a = 1\n",
    "    def __init__(self):\n",
    "        print(\"A\")\n",
    "    \n",
    "class B(Base):\n",
    "    b = 1\n",
    "    def __init__(self):\n",
    "        print('B')\n",
    "    \n",
    "class C(A, B):\n",
    "    def __init__(self):\n",
    "        A.__init__(self)\n",
    "        B.__init__(self)\n",
    "        Base.__init__(self)\n",
    "        print('C')\n"
   ]
  },
  {
   "cell_type": "markdown",
   "metadata": {},
   "source": [
    "C의 `__init__`에서 실행된 순서대로 `print`가 찍힌다.  \n",
    "상속받을 때 부모의 `__init__`가 실행되는 순서를 파악하기 위함이다."
   ]
  },
  {
   "cell_type": "code",
   "execution_count": 201,
   "metadata": {},
   "outputs": [
    {
     "name": "stdout",
     "output_type": "stream",
     "text": [
      "A\n",
      "B\n",
      "Base\n",
      "C\n"
     ]
    }
   ],
   "source": [
    "c = C()"
   ]
  },
  {
   "cell_type": "markdown",
   "metadata": {},
   "source": [
    "A와 B에 부모의 생성자를 실행하도록 코드를 추가했다."
   ]
  },
  {
   "cell_type": "code",
   "execution_count": 204,
   "metadata": {},
   "outputs": [],
   "source": [
    "class Base:\n",
    "    def __init__(self):\n",
    "        print('Base')\n",
    "    pass\n",
    "\n",
    "class A(Base):\n",
    "    a = 1\n",
    "    def __init__(self):\n",
    "        print(\"A\")\n",
    "        Base.__init__(self) # 추가\n",
    "    \n",
    "class B(Base):\n",
    "    b = 1\n",
    "    def __init__(self):\n",
    "        print('B')\n",
    "        Base.__init__(self) # 추가\n",
    "    \n",
    "class C(A, B):\n",
    "    def __init__(self):\n",
    "        A.__init__(self)\n",
    "        B.__init__(self)\n",
    "        Base.__init__(self)\n",
    "        print('C')\n"
   ]
  },
  {
   "cell_type": "markdown",
   "metadata": {},
   "source": [
    "Base의 생성자가 너무 많이 실행되는 문제가 있다."
   ]
  },
  {
   "cell_type": "code",
   "execution_count": 205,
   "metadata": {},
   "outputs": [
    {
     "name": "stdout",
     "output_type": "stream",
     "text": [
      "A\n",
      "Base\n",
      "B\n",
      "Base\n",
      "Base\n",
      "C\n"
     ]
    }
   ],
   "source": [
    "c = C()"
   ]
  },
  {
   "cell_type": "markdown",
   "metadata": {},
   "source": [
    "생성자 내에서 print 함수의 위치에 따라서 출력이 달라지는 것을 관찰할 수 있다."
   ]
  },
  {
   "cell_type": "code",
   "execution_count": 207,
   "metadata": {},
   "outputs": [],
   "source": [
    "class Base:\n",
    "    def __init__(self):\n",
    "        print('Base')\n",
    "    pass\n",
    "\n",
    "class A(Base):\n",
    "    a = 1\n",
    "    def __init__(self):\n",
    "        Base.__init__(self) # 순서 변경\n",
    "        print(\"A\")          # 순서 변경\n",
    "    \n",
    "class B(Base):\n",
    "    b = 1\n",
    "    def __init__(self):\n",
    "        Base.__init__(self) # 순서 변경\n",
    "        print('B')          # 순서 변경\n",
    "    \n",
    "class C(A, B):\n",
    "    def __init__(self):\n",
    "        A.__init__(self)\n",
    "        B.__init__(self)\n",
    "        Base.__init__(self)\n",
    "        print('C')\n"
   ]
  },
  {
   "cell_type": "code",
   "execution_count": 208,
   "metadata": {},
   "outputs": [
    {
     "name": "stdout",
     "output_type": "stream",
     "text": [
      "Base\n",
      "A\n",
      "Base\n",
      "B\n",
      "Base\n",
      "C\n"
     ]
    }
   ],
   "source": [
    "c = C()"
   ]
  },
  {
   "cell_type": "markdown",
   "metadata": {},
   "source": [
    "C에서 Base 생성자 실행을 제외했다."
   ]
  },
  {
   "cell_type": "code",
   "execution_count": 209,
   "metadata": {},
   "outputs": [],
   "source": [
    "class Base:\n",
    "    def __init__(self):\n",
    "        print('Base')\n",
    "    pass\n",
    "\n",
    "class A(Base):\n",
    "    a = 1\n",
    "    def __init__(self):\n",
    "        Base.__init__(self)\n",
    "        print(\"A\")\n",
    "    \n",
    "class B(Base):\n",
    "    b = 1\n",
    "    def __init__(self):\n",
    "        Base.__init__(self)\n",
    "        print('B')\n",
    "    \n",
    "class C(A, B):\n",
    "    def __init__(self):\n",
    "        A.__init__(self)\n",
    "        B.__init__(self)\n",
    "#         Base.__init__(self)\n",
    "        print('C')\n"
   ]
  },
  {
   "cell_type": "code",
   "execution_count": 210,
   "metadata": {},
   "outputs": [
    {
     "name": "stdout",
     "output_type": "stream",
     "text": [
      "Base\n",
      "A\n",
      "Base\n",
      "B\n",
      "C\n"
     ]
    }
   ],
   "source": [
    "c = C() # 여전히 Base가 두번이나 실행됨"
   ]
  },
  {
   "cell_type": "markdown",
   "metadata": {},
   "source": [
    "다중 상속에서 생성자의 실행 순서는 중요하다.  \n",
    "생성자 실행 순서에 따라서 attribute가 달라진다."
   ]
  },
  {
   "cell_type": "code",
   "execution_count": 191,
   "metadata": {},
   "outputs": [],
   "source": [
    "class Base:\n",
    "    def __init__(self):\n",
    "        self.x = \"Base\" # 추가된 부분\n",
    "        self.y = \"Base\" # 추가된 부분\n",
    "        print('Base')\n",
    "    pass\n",
    "\n",
    "class A(Base):\n",
    "    a = 1\n",
    "    def __init__(self):\n",
    "        Base.__init__(self)\n",
    "        self.x = 'A' # 추가된 부분\n",
    "        print(\"A\")\n",
    "    \n",
    "class B(Base):\n",
    "    b = 1\n",
    "    def __init__(self):\n",
    "        Base.__init__(self)\n",
    "        self.y = 'B' # 추가된 부분\n",
    "        print('B')\n",
    "    \n",
    "class C(A, B):\n",
    "    def __init__(self):\n",
    "        A.__init__(self)\n",
    "        B.__init__(self)\n",
    "        print('C')\n"
   ]
  },
  {
   "cell_type": "code",
   "execution_count": 192,
   "metadata": {},
   "outputs": [
    {
     "name": "stdout",
     "output_type": "stream",
     "text": [
      "Base\n",
      "A\n",
      "Base\n",
      "B\n",
      "C\n"
     ]
    }
   ],
   "source": [
    "c = C()"
   ]
  },
  {
   "cell_type": "markdown",
   "metadata": {},
   "source": [
    "Base의 생성자가 한번 더 실행되었기 때문에 A를 상속받았음에도 x는 'A'가 아니다."
   ]
  },
  {
   "cell_type": "code",
   "execution_count": 193,
   "metadata": {},
   "outputs": [
    {
     "data": {
      "text/plain": [
       "'Base'"
      ]
     },
     "execution_count": 193,
     "metadata": {},
     "output_type": "execute_result"
    }
   ],
   "source": [
    "c.x"
   ]
  },
  {
   "cell_type": "markdown",
   "metadata": {},
   "source": [
    "`super`를 사용하면 다중상속문제를 해결할 수 있다."
   ]
  },
  {
   "cell_type": "code",
   "execution_count": 217,
   "metadata": {},
   "outputs": [],
   "source": [
    "class Base:\n",
    "    def __init__(self):\n",
    "        print('Base')\n",
    "    pass\n",
    "\n",
    "class A(Base):\n",
    "    a = 1\n",
    "    def __init__(self):\n",
    "        Base.__init__(self)\n",
    "        print(\"A\")\n",
    "    \n",
    "class B(Base):\n",
    "    b = 1\n",
    "    def __init__(self):\n",
    "        Base.__init__(self)\n",
    "        print('B')\n",
    "    \n",
    "class C(A, B):\n",
    "    def __init__(self):\n",
    "        super(C, self).__init__() # super 사용\n",
    "        print('C')\n"
   ]
  },
  {
   "cell_type": "markdown",
   "metadata": {},
   "source": [
    "Base의 생성자는 한번만 실행되었다.  \n",
    "그러나 A 생성자만 실행되고, B 생성자는 실행되지 않았다."
   ]
  },
  {
   "cell_type": "code",
   "execution_count": 218,
   "metadata": {},
   "outputs": [
    {
     "name": "stdout",
     "output_type": "stream",
     "text": [
      "Base\n",
      "A\n",
      "C\n"
     ]
    }
   ],
   "source": [
    "c = C()"
   ]
  },
  {
   "cell_type": "markdown",
   "metadata": {},
   "source": [
    "`super`를 두번 써보자"
   ]
  },
  {
   "cell_type": "code",
   "execution_count": 219,
   "metadata": {},
   "outputs": [],
   "source": [
    "class Base:\n",
    "    def __init__(self):\n",
    "        print('Base')\n",
    "    pass\n",
    "\n",
    "class A(Base):\n",
    "    a = 1\n",
    "    def __init__(self):\n",
    "        Base.__init__(self)\n",
    "        print(\"A\")\n",
    "    \n",
    "class B(Base):\n",
    "    b = 1\n",
    "    def __init__(self):\n",
    "        Base.__init__(self)\n",
    "        print('B')\n",
    "    \n",
    "class C(A, B):\n",
    "    def __init__(self):\n",
    "        super().__init__() # self, C 생략 가능; python3부터 지원\n",
    "        super().__init__() # 한번 더 사용\n",
    "        print('C')\n"
   ]
  },
  {
   "cell_type": "markdown",
   "metadata": {},
   "source": [
    "A만 2번 실행되었고, Base도 2번 중복실행되었다."
   ]
  },
  {
   "cell_type": "code",
   "execution_count": 220,
   "metadata": {},
   "outputs": [
    {
     "name": "stdout",
     "output_type": "stream",
     "text": [
      "Base\n",
      "A\n",
      "Base\n",
      "A\n",
      "C\n"
     ]
    }
   ],
   "source": [
    "c = C()"
   ]
  },
  {
   "cell_type": "markdown",
   "metadata": {},
   "source": [
    "A, B에서도 부모 생성자 실행을 `super`로 바꾸었다."
   ]
  },
  {
   "cell_type": "code",
   "execution_count": 223,
   "metadata": {},
   "outputs": [],
   "source": [
    "class Base:\n",
    "    def __init__(self):\n",
    "        print('Base')\n",
    "    pass\n",
    "\n",
    "class A(Base):\n",
    "    a = 1\n",
    "    def __init__(self):\n",
    "        super().__init__() # super로 변경\n",
    "        print(\"A\")\n",
    "    \n",
    "class B(Base):\n",
    "    b = 1\n",
    "    def __init__(self):\n",
    "        super().__init__() # super로 변경\n",
    "        print('B')\n",
    "    \n",
    "class C(A, B):\n",
    "    def __init__(self):\n",
    "        super().__init__() \n",
    "        print('C')\n"
   ]
  },
  {
   "cell_type": "markdown",
   "metadata": {},
   "source": [
    "모두 `super`를 쓰면 알아서 한번씩만 실행되도록 해준다."
   ]
  },
  {
   "cell_type": "code",
   "execution_count": 224,
   "metadata": {},
   "outputs": [
    {
     "name": "stdout",
     "output_type": "stream",
     "text": [
      "Base\n",
      "B\n",
      "A\n",
      "C\n"
     ]
    }
   ],
   "source": [
    "# A를 먼저 상속받았지만 B 생성자가 먼저 실행된다.\n",
    "# stack 방식으로 되기 때문에 순서가 거꾸로이다.\n",
    "\n",
    "c = C() "
   ]
  },
  {
   "cell_type": "code",
   "execution_count": 225,
   "metadata": {},
   "outputs": [
    {
     "data": {
      "text/plain": [
       "[__main__.C, __main__.A, __main__.B, __main__.Base, object]"
      ]
     },
     "execution_count": 225,
     "metadata": {},
     "output_type": "execute_result"
    }
   ],
   "source": [
    "C.mro()"
   ]
  },
  {
   "cell_type": "markdown",
   "metadata": {},
   "source": [
    "`super`와 `print`의 실행 순서를 바꾸었다."
   ]
  },
  {
   "cell_type": "code",
   "execution_count": 197,
   "metadata": {},
   "outputs": [],
   "source": [
    "class Base:\n",
    "    def __init__(self):\n",
    "        print('Base')\n",
    "    pass\n",
    "\n",
    "class A(Base):\n",
    "    a = 1\n",
    "    def __init__(self):\n",
    "        print(\"A\")         # 순서 바뀜\n",
    "        super().__init__() # 순서 바뀜\n",
    "    \n",
    "class B(Base):\n",
    "    b = 1\n",
    "    def __init__(self):\n",
    "        print('B')         # 순서 바뀜\n",
    "        super().__init__() # 순서 바뀜\n",
    "    \n",
    "class C(A, B):\n",
    "    def __init__(self):\n",
    "        super().__init__() \n",
    "        print('C')"
   ]
  },
  {
   "cell_type": "markdown",
   "metadata": {},
   "source": [
    "생성자는 실제 상속 받은 순서대로(A, B 순) 실행됨을 알 수 있다.  \n",
    "`super`를 실행할 때 stack 방식이 적용된다."
   ]
  },
  {
   "cell_type": "code",
   "execution_count": 198,
   "metadata": {},
   "outputs": [
    {
     "name": "stdout",
     "output_type": "stream",
     "text": [
      "A\n",
      "B\n",
      "Base\n",
      "C\n"
     ]
    }
   ],
   "source": [
    "c = C() # super의 순서: super를 위에 쓴다."
   ]
  },
  {
   "cell_type": "markdown",
   "metadata": {},
   "source": [
    "### issubclass "
   ]
  },
  {
   "cell_type": "markdown",
   "metadata": {},
   "source": [
    "상속 받았는지 여부를 확인할 수 있다."
   ]
  },
  {
   "cell_type": "code",
   "execution_count": 230,
   "metadata": {},
   "outputs": [
    {
     "data": {
      "text/plain": [
       "True"
      ]
     },
     "execution_count": 230,
     "metadata": {},
     "output_type": "execute_result"
    }
   ],
   "source": [
    "issubclass(bool, int)"
   ]
  },
  {
   "cell_type": "code",
   "execution_count": 233,
   "metadata": {},
   "outputs": [
    {
     "data": {
      "text/plain": [
       "True"
      ]
     },
     "execution_count": 233,
     "metadata": {},
     "output_type": "execute_result"
    }
   ],
   "source": [
    "issubclass(bool, (int,))  # tuple로 묶어서 여러개 넣을 수 있다.\n",
    "                          # 여러개 넣었을 때, 그 중에 하나 상속 받았으면 True"
   ]
  },
  {
   "cell_type": "markdown",
   "metadata": {},
   "source": [
    "※ True False  알려주는 함수를 predicate 라고함"
   ]
  },
  {
   "cell_type": "markdown",
   "metadata": {},
   "source": [
    "### isinstance"
   ]
  },
  {
   "cell_type": "markdown",
   "metadata": {},
   "source": [
    "인스턴스인지 여부를 확인할 수 있다."
   ]
  },
  {
   "cell_type": "code",
   "execution_count": 234,
   "metadata": {},
   "outputs": [
    {
     "data": {
      "text/plain": [
       "True"
      ]
     },
     "execution_count": 234,
     "metadata": {},
     "output_type": "execute_result"
    }
   ],
   "source": [
    "isinstance(1, int)"
   ]
  },
  {
   "cell_type": "code",
   "execution_count": 235,
   "metadata": {},
   "outputs": [
    {
     "data": {
      "text/plain": [
       "True"
      ]
     },
     "execution_count": 235,
     "metadata": {},
     "output_type": "execute_result"
    }
   ],
   "source": [
    "isinstance(True, int) # True는 bool의 인스턴스이고, bool은 int를 상속받았기 때문에 True"
   ]
  },
  {
   "cell_type": "code",
   "execution_count": null,
   "metadata": {},
   "outputs": [],
   "source": []
  }
 ],
 "metadata": {
  "kernelspec": {
   "display_name": "Python 3",
   "language": "python",
   "name": "python3"
  },
  "language_info": {
   "codemirror_mode": {
    "name": "ipython",
    "version": 3
   },
   "file_extension": ".py",
   "mimetype": "text/x-python",
   "name": "python",
   "nbconvert_exporter": "python",
   "pygments_lexer": "ipython3",
   "version": "3.7.3"
  },
  "toc": {
   "base_numbering": 1,
   "nav_menu": {},
   "number_sections": true,
   "sideBar": true,
   "skip_h1_title": true,
   "title_cell": "Table of Contents",
   "title_sidebar": "Contents",
   "toc_cell": true,
   "toc_position": {},
   "toc_section_display": true,
   "toc_window_display": true
  },
  "varInspector": {
   "cols": {
    "lenName": 16,
    "lenType": 16,
    "lenVar": 40
   },
   "kernels_config": {
    "python": {
     "delete_cmd_postfix": "",
     "delete_cmd_prefix": "del ",
     "library": "var_list.py",
     "varRefreshCmd": "print(var_dic_list())"
    },
    "r": {
     "delete_cmd_postfix": ") ",
     "delete_cmd_prefix": "rm(",
     "library": "var_list.r",
     "varRefreshCmd": "cat(var_dic_list()) "
    }
   },
   "types_to_exclude": [
    "module",
    "function",
    "builtin_function_or_method",
    "instance",
    "_Feature"
   ],
   "window_display": false
  }
 },
 "nbformat": 4,
 "nbformat_minor": 2
}
