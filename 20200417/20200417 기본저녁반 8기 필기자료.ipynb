{
 "cells": [
  {
   "cell_type": "markdown",
   "metadata": {
    "toc": true
   },
   "source": [
    "<h1>Table of Contents<span class=\"tocSkip\"></span></h1>\n",
    "<div class=\"toc\"><ul class=\"toc-item\"><li><span><a href=\"#for\" data-toc-modified-id=\"for-1\"><span class=\"toc-item-num\">1&nbsp;&nbsp;</span>for</a></span><ul class=\"toc-item\"><li><span><a href=\"#간단한-문제-실습\" data-toc-modified-id=\"간단한-문제-실습-1.1\"><span class=\"toc-item-num\">1.1&nbsp;&nbsp;</span>간단한 문제 실습</a></span><ul class=\"toc-item\"><li><span><a href=\"#1-~-10-합을-구하기\" data-toc-modified-id=\"1-~-10-합을-구하기-1.1.1\"><span class=\"toc-item-num\">1.1.1&nbsp;&nbsp;</span>1 ~ 10 합을 구하기</a></span></li><li><span><a href=\"#1-~-10까지-홀수만-구하기\" data-toc-modified-id=\"1-~-10까지-홀수만-구하기-1.1.2\"><span class=\"toc-item-num\">1.1.2&nbsp;&nbsp;</span>1 ~ 10까지 홀수만 구하기</a></span></li><li><span><a href=\"#주어진-조건에서-1의-갯수를-구하시오\" data-toc-modified-id=\"주어진-조건에서-1의-갯수를-구하시오-1.1.3\"><span class=\"toc-item-num\">1.1.3&nbsp;&nbsp;</span>주어진 조건에서 1의 갯수를 구하시오</a></span></li><li><span><a href=\"#안-좋은-코드-예\" data-toc-modified-id=\"안-좋은-코드-예-1.1.4\"><span class=\"toc-item-num\">1.1.4&nbsp;&nbsp;</span>안 좋은 코드 예</a></span></li></ul></li><li><span><a href=\"#구구단-만들기\" data-toc-modified-id=\"구구단-만들기-1.2\"><span class=\"toc-item-num\">1.2&nbsp;&nbsp;</span>구구단 만들기</a></span></li><li><span><a href=\"#for와-iterable\" data-toc-modified-id=\"for와-iterable-1.3\"><span class=\"toc-item-num\">1.3&nbsp;&nbsp;</span>for와 iterable</a></span></li><li><span><a href=\"#len\" data-toc-modified-id=\"len-1.4\"><span class=\"toc-item-num\">1.4&nbsp;&nbsp;</span>len</a></span></li><li><span><a href=\"#zip\" data-toc-modified-id=\"zip-1.5\"><span class=\"toc-item-num\">1.5&nbsp;&nbsp;</span>zip</a></span></li><li><span><a href=\"#enumerate\" data-toc-modified-id=\"enumerate-1.6\"><span class=\"toc-item-num\">1.6&nbsp;&nbsp;</span>enumerate</a></span></li></ul></li><li><span><a href=\"#input\" data-toc-modified-id=\"input-2\"><span class=\"toc-item-num\">2&nbsp;&nbsp;</span>input</a></span><ul class=\"toc-item\"><li><span><a href=\"#간단한-문제-실습\" data-toc-modified-id=\"간단한-문제-실습-2.1\"><span class=\"toc-item-num\">2.1&nbsp;&nbsp;</span>간단한 문제 실습</a></span><ul class=\"toc-item\"><li><span><a href=\"#임의의-숫자를-입력받아서,-처음으로-0이-나온-번째를-구하세요!\" data-toc-modified-id=\"임의의-숫자를-입력받아서,-처음으로-0이-나온-번째를-구하세요!-2.1.1\"><span class=\"toc-item-num\">2.1.1&nbsp;&nbsp;</span>임의의 숫자를 입력받아서, 처음으로 0이 나온 번째를 구하세요!</a></span></li></ul></li><li><span><a href=\"#임의의-숫자를-입력-받아서,-처음으로-3-또는-6-또는-9가-나온-번째를-구하세요.\" data-toc-modified-id=\"임의의-숫자를-입력-받아서,-처음으로-3-또는-6-또는-9가-나온-번째를-구하세요.-2.2\"><span class=\"toc-item-num\">2.2&nbsp;&nbsp;</span>임의의 숫자를 입력 받아서, 처음으로 3 또는 6 또는 9가 나온 번째를 구하세요.</a></span></li></ul></li><li><span><a href=\"#예외처리문\" data-toc-modified-id=\"예외처리문-3\"><span class=\"toc-item-num\">3&nbsp;&nbsp;</span>예외처리문</a></span></li><li><span><a href=\"#functional-programming\" data-toc-modified-id=\"functional-programming-4\"><span class=\"toc-item-num\">4&nbsp;&nbsp;</span>functional programming</a></span></li><li><span><a href=\"#선언(정의)문\" data-toc-modified-id=\"선언(정의)문-5\"><span class=\"toc-item-num\">5&nbsp;&nbsp;</span>선언(정의)문</a></span><ul class=\"toc-item\"><li><span><a href=\"#매개변수(parameter),-인자(argument)\" data-toc-modified-id=\"매개변수(parameter),-인자(argument)-5.1\"><span class=\"toc-item-num\">5.1&nbsp;&nbsp;</span>매개변수(parameter), 인자(argument)</a></span></li><li><span><a href=\"#signature\" data-toc-modified-id=\"signature-5.2\"><span class=\"toc-item-num\">5.2&nbsp;&nbsp;</span>signature</a></span></li><li><span><a href=\"#docstring\" data-toc-modified-id=\"docstring-5.3\"><span class=\"toc-item-num\">5.3&nbsp;&nbsp;</span>docstring</a></span></li><li><span><a href=\"#매개변수와-인자-사용법-7가지\" data-toc-modified-id=\"매개변수와-인자-사용법-7가지-5.4\"><span class=\"toc-item-num\">5.4&nbsp;&nbsp;</span>매개변수와 인자 사용법 7가지</a></span><ul class=\"toc-item\"><li><span><a href=\"#1.-positional-방식\" data-toc-modified-id=\"1.-positional-방식-5.4.1\"><span class=\"toc-item-num\">5.4.1&nbsp;&nbsp;</span>1. positional 방식</a></span></li><li><span><a href=\"#2.-keyword-방식\" data-toc-modified-id=\"2.-keyword-방식-5.4.2\"><span class=\"toc-item-num\">5.4.2&nbsp;&nbsp;</span>2. keyword 방식</a></span></li><li><span><a href=\"#3.-positional과-keyword-혼합\" data-toc-modified-id=\"3.-positional과-keyword-혼합-5.4.3\"><span class=\"toc-item-num\">5.4.3&nbsp;&nbsp;</span>3. positional과 keyword 혼합</a></span></li><li><span><a href=\"#default-value\" data-toc-modified-id=\"default-value-5.4.4\"><span class=\"toc-item-num\">5.4.4&nbsp;&nbsp;</span>default value</a></span></li><li><span><a href=\"#4.-positional-only\" data-toc-modified-id=\"4.-positional-only-5.4.5\"><span class=\"toc-item-num\">5.4.5&nbsp;&nbsp;</span>4. positional only</a></span></li><li><span><a href=\"#5.-keword-only\" data-toc-modified-id=\"5.-keword-only-5.4.6\"><span class=\"toc-item-num\">5.4.6&nbsp;&nbsp;</span>5. keword only</a></span></li><li><span><a href=\"#6.-가변-포지셔널\" data-toc-modified-id=\"6.-가변-포지셔널-5.4.7\"><span class=\"toc-item-num\">5.4.7&nbsp;&nbsp;</span>6. 가변 포지셔널</a></span></li><li><span><a href=\"#7.-가변-키워드\" data-toc-modified-id=\"7.-가변-키워드-5.4.8\"><span class=\"toc-item-num\">5.4.8&nbsp;&nbsp;</span>7. 가변 키워드</a></span></li></ul></li></ul></li></ul></div>"
   ]
  },
  {
   "cell_type": "markdown",
   "metadata": {},
   "source": [
    "# [AI 오픈 이노베이션] 기본 저녁반<a class=\"tocSkip\">\n",
    "GitHub link: [https://github.com/realblack0/8th_ai_lecture_fundamental](https://github.com/realblack0/8th_ai_lecture_fundamental)  \n",
    "E-Mail: realblack0@gmail.com"
   ]
  },
  {
   "cell_type": "markdown",
   "metadata": {},
   "source": [
    "## for"
   ]
  },
  {
   "cell_type": "code",
   "execution_count": null,
   "metadata": {},
   "outputs": [],
   "source": [
    "# in 다음에는 iterable이 온다. \n",
    "# iterable은 순회가능하다.\n",
    "# iterable은 하나 이상의 데이터를 가지고 있는 container\n",
    "for a in iterable:"
   ]
  },
  {
   "cell_type": "code",
   "execution_count": 5,
   "metadata": {},
   "outputs": [
    {
     "name": "stdout",
     "output_type": "stream",
     "text": [
      "1\n",
      "2\n",
      "3\n",
      "[1]\n"
     ]
    }
   ],
   "source": [
    "# in 뒤에 있는 iterable에서 값을 하나씩 뽑아와서 a에 할당한다.\n",
    "for a in [1,2,3,[1,]]:\n",
    "    print(a)"
   ]
  },
  {
   "cell_type": "code",
   "execution_count": 6,
   "metadata": {},
   "outputs": [
    {
     "data": {
      "text/plain": [
       "[1]"
      ]
     },
     "execution_count": 6,
     "metadata": {},
     "output_type": "execute_result"
    }
   ],
   "source": [
    "# 다른 언어에서는 for에 사용한 객체는 다시 호출할 수 없다.\n",
    "# 파이썬에서는 호출한 결과가 마지막에 살아남음\n",
    "a"
   ]
  },
  {
   "cell_type": "code",
   "execution_count": 7,
   "metadata": {},
   "outputs": [
    {
     "name": "stdout",
     "output_type": "stream",
     "text": [
      "2\n",
      "3\n",
      "[1]\n",
      "end\n"
     ]
    }
   ],
   "source": [
    "for a in [1,2,3,[1]]:\n",
    "    if a==1:\n",
    "        continue # 다음 루프로 건너뜀\n",
    "    print(a)\n",
    "else: # 반복문이 완벽하게 실행되었을 때 실행됨\n",
    "    print(\"end\")"
   ]
  },
  {
   "cell_type": "markdown",
   "metadata": {},
   "source": [
    "함수형 프로그래밍에서는 `for` 사용을 지양한다. "
   ]
  },
  {
   "cell_type": "markdown",
   "metadata": {},
   "source": [
    "### 간단한 문제 실습"
   ]
  },
  {
   "cell_type": "markdown",
   "metadata": {},
   "source": [
    "#### 1 ~ 10 합을 구하기"
   ]
  },
  {
   "cell_type": "code",
   "execution_count": 10,
   "metadata": {},
   "outputs": [
    {
     "data": {
      "text/plain": [
       "1"
      ]
     },
     "execution_count": 10,
     "metadata": {},
     "output_type": "execute_result"
    }
   ],
   "source": [
    "# range도 인덱싱 가능하다.\n",
    "# range도 iterable이므로 for문에서 in 다음에 쓸 수 있다. \n",
    "range(1, 11)[0]"
   ]
  },
  {
   "cell_type": "code",
   "execution_count": 9,
   "metadata": {},
   "outputs": [
    {
     "data": {
      "text/plain": [
       "10"
      ]
     },
     "execution_count": 9,
     "metadata": {},
     "output_type": "execute_result"
    }
   ],
   "source": [
    "range(1, 11)[-1]"
   ]
  },
  {
   "cell_type": "code",
   "execution_count": 2,
   "metadata": {},
   "outputs": [],
   "source": [
    "# accumulation pattern\n",
    "# 반복문 밖에 초기값을 설정하고, 반복을 통해서 초기값에 값을 축적시킨다.\n",
    "# for에서 많이 사용하는 패턴\n",
    "\n",
    "temp = 0\n",
    "for i in range(1,11):\n",
    "    temp += 1"
   ]
  },
  {
   "cell_type": "code",
   "execution_count": 12,
   "metadata": {},
   "outputs": [
    {
     "data": {
      "text/plain": [
       "10"
      ]
     },
     "execution_count": 12,
     "metadata": {},
     "output_type": "execute_result"
    }
   ],
   "source": [
    "temp"
   ]
  },
  {
   "cell_type": "markdown",
   "metadata": {},
   "source": [
    "#### 1 ~ 10까지 홀수만 구하기"
   ]
  },
  {
   "cell_type": "code",
   "execution_count": 13,
   "metadata": {},
   "outputs": [],
   "source": [
    "# accumulation pattern\n",
    "\n",
    "temp = []\n",
    "for i in range(1, 11):\n",
    "    if i%2 == 1:\n",
    "        temp.append(i)"
   ]
  },
  {
   "cell_type": "code",
   "execution_count": 14,
   "metadata": {},
   "outputs": [
    {
     "data": {
      "text/plain": [
       "[1, 3, 5, 7, 9]"
      ]
     },
     "execution_count": 14,
     "metadata": {},
     "output_type": "execute_result"
    }
   ],
   "source": [
    "temp"
   ]
  },
  {
   "cell_type": "markdown",
   "metadata": {},
   "source": [
    "`range`의 세번째 파라미터는 step이다.  \n",
    "이를 이용할 수 있다."
   ]
  },
  {
   "cell_type": "code",
   "execution_count": 32,
   "metadata": {},
   "outputs": [
    {
     "data": {
      "text/plain": [
       "range(1, 11, 2)"
      ]
     },
     "execution_count": 32,
     "metadata": {},
     "output_type": "execute_result"
    }
   ],
   "source": [
    "range(1, 11, 2)"
   ]
  },
  {
   "cell_type": "code",
   "execution_count": 34,
   "metadata": {},
   "outputs": [
    {
     "data": {
      "text/plain": [
       "[1, 3, 5, 7, 9]"
      ]
     },
     "execution_count": 34,
     "metadata": {},
     "output_type": "execute_result"
    }
   ],
   "source": [
    "# 위 코드와 결과가 같다 \n",
    "[1,2,3,4,5,6,7,8,9,10][::2]"
   ]
  },
  {
   "cell_type": "markdown",
   "metadata": {},
   "source": [
    "#### 주어진 조건에서 1의 갯수를 구하시오"
   ]
  },
  {
   "cell_type": "code",
   "execution_count": 16,
   "metadata": {},
   "outputs": [],
   "source": [
    "con = [1,4,5,1,1,3,2]"
   ]
  },
  {
   "cell_type": "code",
   "execution_count": 21,
   "metadata": {},
   "outputs": [],
   "source": [
    "temp = []\n",
    "for i in con:\n",
    "    if i == 1:\n",
    "         temp.append(i)"
   ]
  },
  {
   "cell_type": "code",
   "execution_count": 22,
   "metadata": {},
   "outputs": [
    {
     "data": {
      "text/plain": [
       "[1, 1, 1]"
      ]
     },
     "execution_count": 22,
     "metadata": {},
     "output_type": "execute_result"
    }
   ],
   "source": [
    "temp"
   ]
  },
  {
   "cell_type": "code",
   "execution_count": 23,
   "metadata": {},
   "outputs": [
    {
     "data": {
      "text/plain": [
       "3"
      ]
     },
     "execution_count": 23,
     "metadata": {},
     "output_type": "execute_result"
    }
   ],
   "source": [
    "len(temp)"
   ]
  },
  {
   "cell_type": "markdown",
   "metadata": {},
   "source": [
    "#### 안 좋은 코드 예"
   ]
  },
  {
   "cell_type": "markdown",
   "metadata": {},
   "source": [
    "얇은 초록색으로 보이는 것은 built-in function이다. "
   ]
  },
  {
   "cell_type": "code",
   "execution_count": 24,
   "metadata": {},
   "outputs": [
    {
     "data": {
      "text/plain": [
       "<function sum(iterable, start=0, /)>"
      ]
     },
     "execution_count": 24,
     "metadata": {},
     "output_type": "execute_result"
    }
   ],
   "source": [
    "sum "
   ]
  },
  {
   "cell_type": "markdown",
   "metadata": {},
   "source": [
    "builtin function은 keyword와 달리 재할당할 수 있다.  \n",
    "그러나 재할당하면 원래 기능을 못 쓰게된다.  \n",
    "파이썬에서 이름(식별자)를 builtin function와 겹치게 하는 것은 좋지 않다.  \n",
    "accumulation pattern을 할 때 종종 발생하는 실수이다."
   ]
  },
  {
   "cell_type": "code",
   "execution_count": null,
   "metadata": {},
   "outputs": [],
   "source": [
    "sum = 0 "
   ]
  },
  {
   "cell_type": "code",
   "execution_count": 26,
   "metadata": {},
   "outputs": [
    {
     "data": {
      "text/plain": [
       "0"
      ]
     },
     "execution_count": 26,
     "metadata": {},
     "output_type": "execute_result"
    }
   ],
   "source": [
    "sum"
   ]
  },
  {
   "cell_type": "markdown",
   "metadata": {},
   "source": [
    "`for`문에서 `in`다음에는 iterable만 올 수 있다.  \n",
    "int는 iterable이 아니다."
   ]
  },
  {
   "cell_type": "code",
   "execution_count": 30,
   "metadata": {},
   "outputs": [
    {
     "ename": "TypeError",
     "evalue": "'int' object is not iterable",
     "output_type": "error",
     "traceback": [
      "\u001b[1;31m---------------------------------------------------------------------------\u001b[0m",
      "\u001b[1;31mTypeError\u001b[0m                                 Traceback (most recent call last)",
      "\u001b[1;32m<ipython-input-30-c4ac5636ed6e>\u001b[0m in \u001b[0;36m<module>\u001b[1;34m\u001b[0m\n\u001b[0;32m      1\u001b[0m \u001b[0mtemp\u001b[0m \u001b[1;33m=\u001b[0m \u001b[1;36m0\u001b[0m\u001b[1;33m\u001b[0m\u001b[1;33m\u001b[0m\u001b[0m\n\u001b[1;32m----> 2\u001b[1;33m \u001b[1;32mfor\u001b[0m \u001b[0mi\u001b[0m \u001b[1;32min\u001b[0m \u001b[1;36m3\u001b[0m\u001b[1;33m:\u001b[0m\u001b[1;33m\u001b[0m\u001b[1;33m\u001b[0m\u001b[0m\n\u001b[0m\u001b[0;32m      3\u001b[0m     \u001b[0mtemp\u001b[0m \u001b[1;33m+=\u001b[0m \u001b[0mi\u001b[0m\u001b[1;33m\u001b[0m\u001b[1;33m\u001b[0m\u001b[0m\n",
      "\u001b[1;31mTypeError\u001b[0m: 'int' object is not iterable"
     ]
    }
   ],
   "source": [
    "# Error\n",
    "\n",
    "temp = 0\n",
    "for i in 3:\n",
    "    temp += i"
   ]
  },
  {
   "cell_type": "markdown",
   "metadata": {},
   "source": [
    "### 구구단 만들기"
   ]
  },
  {
   "cell_type": "code",
   "execution_count": 35,
   "metadata": {},
   "outputs": [
    {
     "name": "stdout",
     "output_type": "stream",
     "text": [
      "2 * 1 = 2\n",
      "2 * 2 = 4\n",
      "2 * 3 = 6\n",
      "2 * 4 = 8\n",
      "2 * 5 = 10\n",
      "2 * 6 = 12\n",
      "2 * 7 = 14\n",
      "2 * 8 = 16\n",
      "2 * 9 = 18\n"
     ]
    }
   ],
   "source": [
    "for i in range(1, 10):\n",
    "    print(2, '*', i, '=', 2*i)"
   ]
  },
  {
   "cell_type": "markdown",
   "metadata": {},
   "source": [
    "`for`문은 중첩이 가능하다. "
   ]
  },
  {
   "cell_type": "code",
   "execution_count": 36,
   "metadata": {},
   "outputs": [
    {
     "name": "stdout",
     "output_type": "stream",
     "text": [
      "2 * 1 = 2\n",
      "2 * 2 = 4\n",
      "2 * 3 = 6\n",
      "2 * 4 = 8\n",
      "2 * 5 = 10\n",
      "2 * 6 = 12\n",
      "2 * 7 = 14\n",
      "2 * 8 = 16\n",
      "2 * 9 = 18\n",
      "3 * 1 = 3\n",
      "3 * 2 = 6\n",
      "3 * 3 = 9\n",
      "3 * 4 = 12\n",
      "3 * 5 = 15\n",
      "3 * 6 = 18\n",
      "3 * 7 = 21\n",
      "3 * 8 = 24\n",
      "3 * 9 = 27\n",
      "4 * 1 = 4\n",
      "4 * 2 = 8\n",
      "4 * 3 = 12\n",
      "4 * 4 = 16\n",
      "4 * 5 = 20\n",
      "4 * 6 = 24\n",
      "4 * 7 = 28\n",
      "4 * 8 = 32\n",
      "4 * 9 = 36\n",
      "5 * 1 = 5\n",
      "5 * 2 = 10\n",
      "5 * 3 = 15\n",
      "5 * 4 = 20\n",
      "5 * 5 = 25\n",
      "5 * 6 = 30\n",
      "5 * 7 = 35\n",
      "5 * 8 = 40\n",
      "5 * 9 = 45\n",
      "6 * 1 = 6\n",
      "6 * 2 = 12\n",
      "6 * 3 = 18\n",
      "6 * 4 = 24\n",
      "6 * 5 = 30\n",
      "6 * 6 = 36\n",
      "6 * 7 = 42\n",
      "6 * 8 = 48\n",
      "6 * 9 = 54\n",
      "7 * 1 = 7\n",
      "7 * 2 = 14\n",
      "7 * 3 = 21\n",
      "7 * 4 = 28\n",
      "7 * 5 = 35\n",
      "7 * 6 = 42\n",
      "7 * 7 = 49\n",
      "7 * 8 = 56\n",
      "7 * 9 = 63\n",
      "8 * 1 = 8\n",
      "8 * 2 = 16\n",
      "8 * 3 = 24\n",
      "8 * 4 = 32\n",
      "8 * 5 = 40\n",
      "8 * 6 = 48\n",
      "8 * 7 = 56\n",
      "8 * 8 = 64\n",
      "8 * 9 = 72\n",
      "9 * 1 = 9\n",
      "9 * 2 = 18\n",
      "9 * 3 = 27\n",
      "9 * 4 = 36\n",
      "9 * 5 = 45\n",
      "9 * 6 = 54\n",
      "9 * 7 = 63\n",
      "9 * 8 = 72\n",
      "9 * 9 = 81\n"
     ]
    }
   ],
   "source": [
    "for i in range(2, 10):\n",
    "    for j in range(1, 10):\n",
    "        print(i, '*', j, '=', i*j)"
   ]
  },
  {
   "cell_type": "markdown",
   "metadata": {},
   "source": [
    "### for와 iterable"
   ]
  },
  {
   "cell_type": "markdown",
   "metadata": {},
   "source": [
    "`in` 다음에는 iterable이 온다. "
   ]
  },
  {
   "cell_type": "code",
   "execution_count": 37,
   "metadata": {},
   "outputs": [
    {
     "name": "stdout",
     "output_type": "stream",
     "text": [
      "인\n",
      "공\n",
      "지\n",
      "능\n"
     ]
    }
   ],
   "source": [
    "# str을 한글자씩 뽑아온다.\n",
    "\n",
    "for i in '인공지능':\n",
    "    print(i)"
   ]
  },
  {
   "cell_type": "code",
   "execution_count": 38,
   "metadata": {},
   "outputs": [
    {
     "name": "stdout",
     "output_type": "stream",
     "text": [
      "1\n",
      "2\n",
      "3\n",
      "4\n",
      "5\n"
     ]
    }
   ],
   "source": [
    "# tuple의 literal 표현법을 활용\n",
    "\n",
    "for i in 1,2,3,4,5:\n",
    "    print(i)"
   ]
  },
  {
   "cell_type": "markdown",
   "metadata": {},
   "source": [
    "set도 for에 쓸 수 있다."
   ]
  },
  {
   "cell_type": "code",
   "execution_count": 39,
   "metadata": {},
   "outputs": [
    {
     "name": "stdout",
     "output_type": "stream",
     "text": [
      "1\n",
      "2\n",
      "3\n"
     ]
    }
   ],
   "source": [
    "# set은 내부적으로는 순서를 가진다.\n",
    "# 중복을 제거하고, 오름차순으로 반환한다.\n",
    "\n",
    "for i in {2,3,2,1}:\n",
    "    print(i)"
   ]
  },
  {
   "cell_type": "markdown",
   "metadata": {},
   "source": [
    "set에 문자열이 섞여 있으면 문자가 먼저 나온다.  \n",
    "set의 내부적인 정렬 규칙을 모두 계산하기 힘들기 때문에 보통 set은 `for`에 잘 사용하지 않는다."
   ]
  },
  {
   "cell_type": "code",
   "execution_count": 6,
   "metadata": {},
   "outputs": [
    {
     "name": "stdout",
     "output_type": "stream",
     "text": [
      "인공지능\n",
      "1\n",
      "2\n",
      "3\n"
     ]
    }
   ],
   "source": [
    "for i in {2,3,3,1,'인공지능'}:\n",
    "    print(i)"
   ]
  },
  {
   "cell_type": "markdown",
   "metadata": {},
   "source": [
    "set과 달리, dictionary는 정의된 순서대로 값을 반환한다.(python 3.7 부터 적용)  \n",
    "이전 버전에서는 순서를 가진 dictionary를 만들기 위해서는 `OrderedDict`를 써야했다. "
   ]
  },
  {
   "cell_type": "code",
   "execution_count": 45,
   "metadata": {},
   "outputs": [
    {
     "name": "stdout",
     "output_type": "stream",
     "text": [
      "b\n",
      "a\n"
     ]
    }
   ],
   "source": [
    "# dict를 그냥 쓰면 for문에서 key만 반환한다.\n",
    "for i in {'b':2, 'a':1}:\n",
    "    print(i)"
   ]
  },
  {
   "cell_type": "code",
   "execution_count": 46,
   "metadata": {},
   "outputs": [
    {
     "name": "stdout",
     "output_type": "stream",
     "text": [
      "b\n",
      "a\n"
     ]
    }
   ],
   "source": [
    "# key만 꺼내는 방법\n",
    "for i in {'b':2, 'a':1}.keys():\n",
    "    print(i)"
   ]
  },
  {
   "cell_type": "code",
   "execution_count": 48,
   "metadata": {},
   "outputs": [
    {
     "name": "stdout",
     "output_type": "stream",
     "text": [
      "2\n",
      "1\n"
     ]
    }
   ],
   "source": [
    "# value만 꺼내는 방법\n",
    "for i in {'b':2, 'a':1}.values():\n",
    "    print(i)"
   ]
  },
  {
   "cell_type": "code",
   "execution_count": 47,
   "metadata": {},
   "outputs": [
    {
     "name": "stdout",
     "output_type": "stream",
     "text": [
      "('b', 2)\n",
      "('a', 1)\n"
     ]
    }
   ],
   "source": [
    "# key와 value를 동시에 꺼내는 방법\n",
    "for i in {'b':2, 'a':1}.items():\n",
    "    print(i)"
   ]
  },
  {
   "cell_type": "code",
   "execution_count": 50,
   "metadata": {},
   "outputs": [
    {
     "name": "stdout",
     "output_type": "stream",
     "text": [
      "b 2\n",
      "a 1\n"
     ]
    }
   ],
   "source": [
    "# unpacking으로 key와 value를 따로 할당\n",
    "for i, j in {'b':2, 'a':1}.items():\n",
    "    print(i, j)"
   ]
  },
  {
   "cell_type": "markdown",
   "metadata": {},
   "source": [
    "unpacking은 다음과 같이 우변의 원소 개수가 좌변의 이름개수가 같을때 각각 할당하는 방법이다."
   ]
  },
  {
   "cell_type": "code",
   "execution_count": 51,
   "metadata": {},
   "outputs": [],
   "source": [
    "x, y = ('b', 2)"
   ]
  },
  {
   "cell_type": "code",
   "execution_count": 52,
   "metadata": {},
   "outputs": [
    {
     "data": {
      "text/plain": [
       "'b'"
      ]
     },
     "execution_count": 52,
     "metadata": {},
     "output_type": "execute_result"
    }
   ],
   "source": [
    "x"
   ]
  },
  {
   "cell_type": "code",
   "execution_count": 53,
   "metadata": {},
   "outputs": [
    {
     "data": {
      "text/plain": [
       "2"
      ]
     },
     "execution_count": 53,
     "metadata": {},
     "output_type": "execute_result"
    }
   ],
   "source": [
    "y"
   ]
  },
  {
   "cell_type": "markdown",
   "metadata": {},
   "source": [
    "`for`문에서 unpacking하는 것은 다음과 같다."
   ]
  },
  {
   "cell_type": "code",
   "execution_count": 7,
   "metadata": {},
   "outputs": [
    {
     "name": "stdout",
     "output_type": "stream",
     "text": [
      "1\n",
      "2\n",
      "3\n",
      "4\n"
     ]
    }
   ],
   "source": [
    "# 일반적인 for문을 전개하면 다음과 같다.\n",
    "\n",
    "i = 1\n",
    "print(i)\n",
    "\n",
    "i = 2\n",
    "print(i)\n",
    "\n",
    "i = 3\n",
    "print(i)\n",
    "\n",
    "i = 4\n",
    "print(i)"
   ]
  },
  {
   "cell_type": "code",
   "execution_count": 56,
   "metadata": {},
   "outputs": [
    {
     "name": "stdout",
     "output_type": "stream",
     "text": [
      "1\n",
      "3\n"
     ]
    }
   ],
   "source": [
    "# unpacking을 사용하는 for문을 전개하면 다음과 같다. \n",
    "\n",
    "i, j = 1, 2\n",
    "print(i)\n",
    "\n",
    "i, j = 3, 4\n",
    "print(i)"
   ]
  },
  {
   "cell_type": "code",
   "execution_count": 55,
   "metadata": {},
   "outputs": [
    {
     "name": "stdout",
     "output_type": "stream",
     "text": [
      "1\n",
      "3\n"
     ]
    }
   ],
   "source": [
    "# 실제 for문에서 unpacking을 사용한 결과\n",
    "\n",
    "for i, j in [(1,2), (3,4)]:\n",
    "    print(i)"
   ]
  },
  {
   "cell_type": "markdown",
   "metadata": {},
   "source": [
    "for에서도 unpacking할 때 개수가 맞아야 한다. "
   ]
  },
  {
   "cell_type": "code",
   "execution_count": 8,
   "metadata": {},
   "outputs": [
    {
     "ename": "ValueError",
     "evalue": "too many values to unpack (expected 2)",
     "output_type": "error",
     "traceback": [
      "\u001b[1;31m---------------------------------------------------------------------------\u001b[0m",
      "\u001b[1;31mValueError\u001b[0m                                Traceback (most recent call last)",
      "\u001b[1;32m<ipython-input-8-1b6217c2247d>\u001b[0m in \u001b[0;36m<module>\u001b[1;34m\u001b[0m\n\u001b[0;32m      1\u001b[0m \u001b[1;31m# Error\u001b[0m\u001b[1;33m\u001b[0m\u001b[1;33m\u001b[0m\u001b[1;33m\u001b[0m\u001b[0m\n\u001b[1;32m----> 2\u001b[1;33m \u001b[1;32mfor\u001b[0m \u001b[0mi\u001b[0m\u001b[1;33m,\u001b[0m \u001b[0mj\u001b[0m \u001b[1;32min\u001b[0m \u001b[1;33m[\u001b[0m\u001b[1;33m(\u001b[0m\u001b[1;36m1\u001b[0m\u001b[1;33m,\u001b[0m\u001b[1;36m2\u001b[0m\u001b[1;33m,\u001b[0m\u001b[1;36m3\u001b[0m\u001b[1;33m)\u001b[0m\u001b[1;33m,\u001b[0m \u001b[1;33m(\u001b[0m\u001b[1;36m4\u001b[0m\u001b[1;33m,\u001b[0m\u001b[1;36m5\u001b[0m\u001b[1;33m,\u001b[0m\u001b[1;36m6\u001b[0m\u001b[1;33m)\u001b[0m\u001b[1;33m]\u001b[0m\u001b[1;33m:\u001b[0m\u001b[1;33m\u001b[0m\u001b[1;33m\u001b[0m\u001b[0m\n\u001b[0m\u001b[0;32m      3\u001b[0m     \u001b[0mprint\u001b[0m\u001b[1;33m(\u001b[0m\u001b[0mi\u001b[0m\u001b[1;33m,\u001b[0m\u001b[0mj\u001b[0m\u001b[1;33m)\u001b[0m\u001b[1;33m\u001b[0m\u001b[1;33m\u001b[0m\u001b[0m\n",
      "\u001b[1;31mValueError\u001b[0m: too many values to unpack (expected 2)"
     ]
    }
   ],
   "source": [
    "# Error\n",
    "for i, j in [(1,2,3), (4,5,6)]:\n",
    "    print(i,j)"
   ]
  },
  {
   "cell_type": "markdown",
   "metadata": {},
   "source": [
    "`for`에서는 `not in` 을 쓸 수 없다.  \n",
    "`not in`은 membership check할 때 사용할 수 있다."
   ]
  },
  {
   "cell_type": "code",
   "execution_count": 9,
   "metadata": {},
   "outputs": [
    {
     "ename": "SyntaxError",
     "evalue": "invalid syntax (<ipython-input-9-155f325e629d>, line 2)",
     "output_type": "error",
     "traceback": [
      "\u001b[1;36m  File \u001b[1;32m\"<ipython-input-9-155f325e629d>\"\u001b[1;36m, line \u001b[1;32m2\u001b[0m\n\u001b[1;33m    for i not in 1,2,3:\u001b[0m\n\u001b[1;37m            ^\u001b[0m\n\u001b[1;31mSyntaxError\u001b[0m\u001b[1;31m:\u001b[0m invalid syntax\n"
     ]
    }
   ],
   "source": [
    "# Error\n",
    "for i not in 1,2,3:\n",
    "    print(i, j)"
   ]
  },
  {
   "cell_type": "markdown",
   "metadata": {},
   "source": [
    "### len"
   ]
  },
  {
   "cell_type": "code",
   "execution_count": 59,
   "metadata": {},
   "outputs": [
    {
     "data": {
      "text/plain": [
       "[(1, 2), (3, 4)]"
      ]
     },
     "execution_count": 59,
     "metadata": {},
     "output_type": "execute_result"
    }
   ],
   "source": [
    "[(1,2,), (3,4)] # 순회 2번\n",
    "                # 묶인 것은 하나로 본다. "
   ]
  },
  {
   "cell_type": "code",
   "execution_count": 60,
   "metadata": {},
   "outputs": [],
   "source": [
    "x = [(1,2,), (3,4)]"
   ]
  },
  {
   "cell_type": "code",
   "execution_count": 62,
   "metadata": {},
   "outputs": [
    {
     "data": {
      "text/plain": [
       "2"
      ]
     },
     "execution_count": 62,
     "metadata": {},
     "output_type": "execute_result"
    }
   ],
   "source": [
    "len(x) # 순회 가능한 값이 2개 있다. "
   ]
  },
  {
   "cell_type": "code",
   "execution_count": 63,
   "metadata": {},
   "outputs": [
    {
     "name": "stdout",
     "output_type": "stream",
     "text": [
      "(1, 2)\n",
      "(3, 4)\n"
     ]
    }
   ],
   "source": [
    "# for 문은 len 만큼 순회한다.\n",
    "for  i in x:\n",
    "    print(i)"
   ]
  },
  {
   "cell_type": "markdown",
   "metadata": {},
   "source": [
    "### zip"
   ]
  },
  {
   "cell_type": "markdown",
   "metadata": {},
   "source": [
    "`zip`은 iterable 여러개를 받아서 새로운 iterable을 만들어 준다.  \n",
    "`shift` + `tab` 해보면 파라미터명이 iterables 라고 복수형으로 되어 있다. 즉, 여러개 넣을 수 있다."
   ]
  },
  {
   "cell_type": "code",
   "execution_count": 64,
   "metadata": {},
   "outputs": [
    {
     "name": "stdout",
     "output_type": "stream",
     "text": [
      "(1, 3)\n",
      "(2, 4)\n"
     ]
    }
   ],
   "source": [
    "# 1, 3을 묶어주고, 2, 4를 묶어준다. \n",
    "for i in zip((1,2), (3,4)):\n",
    "    print(i)"
   ]
  },
  {
   "cell_type": "markdown",
   "metadata": {},
   "source": [
    "꺽쇠표시가 되어 있으면 for에 들어갈 수 있는 경우가 많다. "
   ]
  },
  {
   "cell_type": "code",
   "execution_count": 10,
   "metadata": {},
   "outputs": [
    {
     "data": {
      "text/plain": [
       "<zip at 0x1154405f848>"
      ]
     },
     "execution_count": 10,
     "metadata": {},
     "output_type": "execute_result"
    }
   ],
   "source": [
    "zip((1,2),(3,4)) "
   ]
  },
  {
   "cell_type": "markdown",
   "metadata": {},
   "source": [
    "### enumerate"
   ]
  },
  {
   "cell_type": "markdown",
   "metadata": {},
   "source": [
    "`enumerate`도 꺽쇠표시가 있다. `for`에 넣어본다."
   ]
  },
  {
   "cell_type": "code",
   "execution_count": 68,
   "metadata": {},
   "outputs": [
    {
     "data": {
      "text/plain": [
       "<enumerate at 0x1835ddd7318>"
      ]
     },
     "execution_count": 68,
     "metadata": {},
     "output_type": "execute_result"
    }
   ],
   "source": [
    "enumerate([1,2,3,4,5]) "
   ]
  },
  {
   "cell_type": "code",
   "execution_count": 11,
   "metadata": {},
   "outputs": [
    {
     "name": "stdout",
     "output_type": "stream",
     "text": [
      "(0, 1)\n",
      "(1, 2)\n",
      "(2, 3)\n",
      "(3, 4)\n",
      "(4, 5)\n"
     ]
    }
   ],
   "source": [
    "# (순서, 값)의 형태로 iterable을 바꿔준다. \n",
    "for i in enumerate([1,2,3,4,5]):\n",
    "    print(i)"
   ]
  },
  {
   "cell_type": "markdown",
   "metadata": {},
   "source": [
    "## input"
   ]
  },
  {
   "cell_type": "markdown",
   "metadata": {},
   "source": [
    "`input`은 사용자의 입력을 문자열로 받는다."
   ]
  },
  {
   "cell_type": "code",
   "execution_count": 70,
   "metadata": {},
   "outputs": [
    {
     "name": "stdout",
     "output_type": "stream",
     "text": [
      "1\n"
     ]
    }
   ],
   "source": [
    "x = input()"
   ]
  },
  {
   "cell_type": "code",
   "execution_count": 71,
   "metadata": {},
   "outputs": [
    {
     "data": {
      "text/plain": [
       "str"
      ]
     },
     "execution_count": 71,
     "metadata": {},
     "output_type": "execute_result"
    }
   ],
   "source": [
    "type(x)"
   ]
  },
  {
   "cell_type": "code",
   "execution_count": 72,
   "metadata": {},
   "outputs": [
    {
     "name": "stdout",
     "output_type": "stream",
     "text": [
      "[1,2,3]\n"
     ]
    }
   ],
   "source": [
    "# list의 literal 표현을 써본다.\n",
    "x = input()"
   ]
  },
  {
   "cell_type": "code",
   "execution_count": 73,
   "metadata": {},
   "outputs": [
    {
     "data": {
      "text/plain": [
       "str"
      ]
     },
     "execution_count": 73,
     "metadata": {},
     "output_type": "execute_result"
    }
   ],
   "source": [
    "# 뭘 넣어도 문자열로 나온다. \n",
    "type(x) "
   ]
  },
  {
   "cell_type": "code",
   "execution_count": 74,
   "metadata": {},
   "outputs": [
    {
     "name": "stdout",
     "output_type": "stream",
     "text": [
      "[\n",
      "1\n",
      ",\n",
      "2\n",
      ",\n",
      "3\n",
      "]\n"
     ]
    }
   ],
   "source": [
    "for i in x:\n",
    "    print(i)"
   ]
  },
  {
   "cell_type": "markdown",
   "metadata": {},
   "source": [
    "`input`은 입력 프롬프트로 활용가능하다. "
   ]
  },
  {
   "cell_type": "code",
   "execution_count": 76,
   "metadata": {},
   "outputs": [
    {
     "name": "stdout",
     "output_type": "stream",
     "text": [
      "입력해 주세요: asldifn'd\n"
     ]
    }
   ],
   "source": [
    "x = input(\"입력해 주세요: \")"
   ]
  },
  {
   "cell_type": "markdown",
   "metadata": {},
   "source": [
    "### 간단한 문제 실습"
   ]
  },
  {
   "cell_type": "markdown",
   "metadata": {},
   "source": [
    "#### 임의의 숫자를 입력받아서, 처음으로 0이 나온 번째를 구하세요!\n"
   ]
  },
  {
   "cell_type": "markdown",
   "metadata": {},
   "source": [
    "예시) 123220 -> 6번째"
   ]
  },
  {
   "cell_type": "code",
   "execution_count": 82,
   "metadata": {},
   "outputs": [
    {
     "name": "stdout",
     "output_type": "stream",
     "text": [
      "1230\n"
     ]
    }
   ],
   "source": [
    "x = input()"
   ]
  },
  {
   "cell_type": "code",
   "execution_count": 85,
   "metadata": {},
   "outputs": [
    {
     "name": "stdout",
     "output_type": "stream",
     "text": [
      "4\n"
     ]
    }
   ],
   "source": [
    "# enumerate를 활용\n",
    "\n",
    "for i in enumerate(x):\n",
    "    if i[1] == '0':\n",
    "        print(i[0]+1)"
   ]
  },
  {
   "cell_type": "code",
   "execution_count": 84,
   "metadata": {},
   "outputs": [
    {
     "name": "stdout",
     "output_type": "stream",
     "text": [
      "4\n"
     ]
    }
   ],
   "source": [
    "# accumulation pattern을 활용\n",
    "\n",
    "cnt = 0\n",
    "for i in x:\n",
    "    cnt += 1\n",
    "    if i == '0':\n",
    "        print(cnt)"
   ]
  },
  {
   "cell_type": "code",
   "execution_count": 86,
   "metadata": {},
   "outputs": [
    {
     "name": "stdout",
     "output_type": "stream",
     "text": [
      "4\n"
     ]
    }
   ],
   "source": [
    "# break를 사용하면 for가 더 작게 돌기 때문에 우아하다. \n",
    "# 0을 찾은 이후에 더 찾지 않는다.\n",
    "\n",
    "cnt = 0\n",
    "for i in x:\n",
    "    cnt += 1\n",
    "    if i == '0':\n",
    "        print(cnt)\n",
    "        break # loop 중단"
   ]
  },
  {
   "cell_type": "markdown",
   "metadata": {},
   "source": [
    "구현할 수 있는 방법은 많다. 그러면 어떤 방법이 더 좋을까?"
   ]
  },
  {
   "cell_type": "markdown",
   "metadata": {},
   "source": [
    "1. 성능 (속도가 빠르다, 메모리가 작게 든다, CPI load가 작다)\n",
    "2. 코드 (코드가 작다, 가독성이 좋다.)"
   ]
  },
  {
   "cell_type": "markdown",
   "metadata": {},
   "source": [
    "`%%time`은 셀 안에 있는 코드를 실행하는데 걸린 시간을 측정한다."
   ]
  },
  {
   "cell_type": "code",
   "execution_count": 87,
   "metadata": {},
   "outputs": [
    {
     "name": "stdout",
     "output_type": "stream",
     "text": [
      "Wall time: 957 ms\n"
     ]
    }
   ],
   "source": [
    "%%time\n",
    "for i in range(10000000):\n",
    "    if i == 10000000:\n",
    "        print(i)"
   ]
  },
  {
   "cell_type": "markdown",
   "metadata": {},
   "source": [
    "`%%timeit`는 여러번 반복해서 실행 속도를 평균 측정한다."
   ]
  },
  {
   "cell_type": "code",
   "execution_count": 88,
   "metadata": {},
   "outputs": [
    {
     "name": "stdout",
     "output_type": "stream",
     "text": [
      "531 ms ± 60.4 ms per loop (mean ± std. dev. of 7 runs, 1 loop each)\n"
     ]
    }
   ],
   "source": [
    "%%timeit\n",
    "for i in range(10000000):\n",
    "    if i == 10000000:\n",
    "        print(i)"
   ]
  },
  {
   "cell_type": "markdown",
   "metadata": {},
   "source": [
    "### 임의의 숫자를 입력 받아서, 처음으로 3 또는 6 또는 9가 나온 번째를 구하세요."
   ]
  },
  {
   "cell_type": "code",
   "execution_count": 12,
   "metadata": {},
   "outputs": [
    {
     "name": "stdout",
     "output_type": "stream",
     "text": [
      "123456\n",
      "3\n"
     ]
    }
   ],
   "source": [
    "x = input()\n",
    "for i, j in enumerate(x):\n",
    "    if j =='3' or j=='6' or j=='9':\n",
    "        print(i+1)\n",
    "        break"
   ]
  },
  {
   "cell_type": "markdown",
   "metadata": {},
   "source": [
    "## 예외처리문"
   ]
  },
  {
   "cell_type": "markdown",
   "metadata": {},
   "source": [
    "예외처리문은 에러가 발생해도 코드를 중단하지 않고 실행한다."
   ]
  },
  {
   "cell_type": "code",
   "execution_count": 90,
   "metadata": {},
   "outputs": [
    {
     "ename": "ZeroDivisionError",
     "evalue": "division by zero",
     "output_type": "error",
     "traceback": [
      "\u001b[1;31m---------------------------------------------------------------------------\u001b[0m",
      "\u001b[1;31mZeroDivisionError\u001b[0m                         Traceback (most recent call last)",
      "\u001b[1;32m<ipython-input-90-6c16767f6731>\u001b[0m in \u001b[0;36m<module>\u001b[1;34m\u001b[0m\n\u001b[1;32m----> 1\u001b[1;33m \u001b[0ma\u001b[0m \u001b[1;33m=\u001b[0m \u001b[1;36m1\u001b[0m\u001b[1;33m/\u001b[0m\u001b[1;36m0\u001b[0m\u001b[1;33m\u001b[0m\u001b[1;33m\u001b[0m\u001b[0m\n\u001b[0m",
      "\u001b[1;31mZeroDivisionError\u001b[0m: division by zero"
     ]
    }
   ],
   "source": [
    "# Error\n",
    "a = 1/0"
   ]
  },
  {
   "cell_type": "markdown",
   "metadata": {},
   "source": [
    "예외처리문은 `try`와 `except`로 구성된다.  \n",
    "`try`에서 실행되는 코드가 에러가 발생할 경우, `except`가 실행된다."
   ]
  },
  {
   "cell_type": "code",
   "execution_count": 91,
   "metadata": {},
   "outputs": [
    {
     "name": "stdout",
     "output_type": "stream",
     "text": [
      "error\n"
     ]
    }
   ],
   "source": [
    "try:\n",
    "    a = 1/0\n",
    "except:\n",
    "    print('error')\n"
   ]
  },
  {
   "cell_type": "markdown",
   "metadata": {},
   "source": [
    "`else`는 python에서 3가지 의미를 가진다.  \n",
    "그 중, 예외처리문에서의 `else`는 에러가 발생하지 않았을 때 실행된다."
   ]
  },
  {
   "cell_type": "code",
   "execution_count": 89,
   "metadata": {},
   "outputs": [
    {
     "name": "stdout",
     "output_type": "stream",
     "text": [
      "error\n"
     ]
    }
   ],
   "source": [
    "try:\n",
    "    a = 1/0\n",
    "except:\n",
    "    print('error')\n",
    "else:\n",
    "    print('no error')"
   ]
  },
  {
   "cell_type": "code",
   "execution_count": 13,
   "metadata": {},
   "outputs": [
    {
     "name": "stdout",
     "output_type": "stream",
     "text": [
      "no error\n"
     ]
    }
   ],
   "source": [
    "try:\n",
    "    a = 1/1\n",
    "except:\n",
    "    print('error')\n",
    "else:\n",
    "    print('no error')"
   ]
  },
  {
   "cell_type": "markdown",
   "metadata": {},
   "source": [
    "`finally`는 에러 여부에 관계없이 무조건 실행된다. "
   ]
  },
  {
   "cell_type": "code",
   "execution_count": 92,
   "metadata": {},
   "outputs": [
    {
     "name": "stdout",
     "output_type": "stream",
     "text": [
      "error\n",
      "end\n"
     ]
    }
   ],
   "source": [
    "try:\n",
    "    a = 1/0\n",
    "except:\n",
    "    print('error')\n",
    "else:\n",
    "    print('no error')\n",
    "finally:\n",
    "    print('end')"
   ]
  },
  {
   "cell_type": "code",
   "execution_count": 14,
   "metadata": {},
   "outputs": [
    {
     "name": "stdout",
     "output_type": "stream",
     "text": [
      "no error\n",
      "end\n"
     ]
    }
   ],
   "source": [
    "try:\n",
    "    a = 1/1\n",
    "except:\n",
    "    print('error')\n",
    "else:\n",
    "    print('no error')\n",
    "finally:\n",
    "    print('end')"
   ]
  },
  {
   "cell_type": "markdown",
   "metadata": {},
   "source": [
    "`try`, `except`, `else`, `finally`의 순서는 반드시 지켜야한다."
   ]
  },
  {
   "cell_type": "code",
   "execution_count": 93,
   "metadata": {},
   "outputs": [
    {
     "ename": "SyntaxError",
     "evalue": "invalid syntax (<ipython-input-93-7eaa6795386f>, line 7)",
     "output_type": "error",
     "traceback": [
      "\u001b[1;36m  File \u001b[1;32m\"<ipython-input-93-7eaa6795386f>\"\u001b[1;36m, line \u001b[1;32m7\u001b[0m\n\u001b[1;33m    else:\u001b[0m\n\u001b[1;37m       ^\u001b[0m\n\u001b[1;31mSyntaxError\u001b[0m\u001b[1;31m:\u001b[0m invalid syntax\n"
     ]
    }
   ],
   "source": [
    "try:\n",
    "    a = 1/0\n",
    "except:\n",
    "    print('error')\n",
    "finally:\n",
    "    print('end')\n",
    "else:\n",
    "    print('no error')"
   ]
  },
  {
   "cell_type": "markdown",
   "metadata": {},
   "source": [
    "예외처리문도 중첩은 가능하지만, 중첩을 잘 안시킨다."
   ]
  },
  {
   "cell_type": "code",
   "execution_count": 95,
   "metadata": {},
   "outputs": [
    {
     "name": "stdout",
     "output_type": "stream",
     "text": [
      "error 1\n",
      "no error\n",
      "end\n"
     ]
    }
   ],
   "source": [
    "try:\n",
    "    try:\n",
    "        a = 1/0\n",
    "    except:\n",
    "        print('error 1')\n",
    "except:\n",
    "    print('error 2')\n",
    "else:\n",
    "    print(\"no error\")\n",
    "finally:\n",
    "    print('end')"
   ]
  },
  {
   "cell_type": "markdown",
   "metadata": {},
   "source": [
    "파이썬은 에러를 발생시키는 것을 좋아한다.  \n",
    "선언할때 오류를 일일히 체크하지 않고, 사용할 때 에러가 발생하면 디버깅하는 스타일이다.\n",
    "\n",
    ">**EAFP**  \n",
    "허락보다는 용서를 구하기가 쉽다 (Easier to ask for forgiveness than permission)\n",
    "\n",
    "출처: https://docs.python.org/ko/3/glossary.html#term-eafp"
   ]
  },
  {
   "cell_type": "markdown",
   "metadata": {},
   "source": [
    "`except` 뒤에 에러 이름을 넣으면, 해당하는 에러가 발생했을 때만 `except`를 실행시킨다."
   ]
  },
  {
   "cell_type": "code",
   "execution_count": 17,
   "metadata": {},
   "outputs": [
    {
     "name": "stdout",
     "output_type": "stream",
     "text": [
      "error\n"
     ]
    }
   ],
   "source": [
    "try:\n",
    "    a = 1/0 # ZeroDivisionError\n",
    "except ZeroDivisionError:\n",
    "    print(\"error\")\n",
    "except:\n",
    "    print(\"nonono\")"
   ]
  },
  {
   "cell_type": "code",
   "execution_count": 18,
   "metadata": {},
   "outputs": [
    {
     "name": "stdout",
     "output_type": "stream",
     "text": [
      "nonono\n"
     ]
    }
   ],
   "source": [
    "try:\n",
    "    a = 1j > 2j # TypeError\n",
    "except ZeroDivisionError:\n",
    "    print(\"error\")\n",
    "except:\n",
    "    print(\"nonono\")"
   ]
  },
  {
   "cell_type": "markdown",
   "metadata": {},
   "source": [
    "`except`뒤에 오는 `as`는 발생한 에러 이름을 받아온다.  \n",
    "`as`는 조금 까다로우므로 이에 대해서는 나중에 다시 공부할 것이다. "
   ]
  },
  {
   "cell_type": "code",
   "execution_count": 103,
   "metadata": {},
   "outputs": [
    {
     "name": "stdout",
     "output_type": "stream",
     "text": [
      "division by zero\n"
     ]
    }
   ],
   "source": [
    "try:\n",
    "    a = 1/0\n",
    "except ZeroDivisionError as e:\n",
    "    print(e)\n",
    "    error = e\n",
    "except:\n",
    "    print(\"nonono\")"
   ]
  },
  {
   "cell_type": "code",
   "execution_count": 104,
   "metadata": {},
   "outputs": [
    {
     "data": {
      "text/plain": [
       "ZeroDivisionError('division by zero')"
      ]
     },
     "execution_count": 104,
     "metadata": {},
     "output_type": "execute_result"
    }
   ],
   "source": [
    "error"
   ]
  },
  {
   "cell_type": "markdown",
   "metadata": {},
   "source": [
    "## functional programming"
   ]
  },
  {
   "cell_type": "markdown",
   "metadata": {},
   "source": [
    "function(함수)란?  \n",
    "1. programming 관점\n",
    "    - 재사용을 위해서 encapsulation한 것\n",
    "2. math 관점\n",
    "    - 정의역의 원소들을 공역의 원소로 사상시키는 것\n",
    "    - 일반적으로 수학시간에 배운 개념"
   ]
  },
  {
   "cell_type": "markdown",
   "metadata": {},
   "source": [
    "functional programming이란?  \n",
    "- math의 function 개념과 차이를 최대한 줄여서 programming하는 방법이다."
   ]
  },
  {
   "cell_type": "code",
   "execution_count": 112,
   "metadata": {},
   "outputs": [
    {
     "name": "stdout",
     "output_type": "stream",
     "text": [
      "asdfqwer\n",
      "a\n",
      "a\n",
      "asd\n"
     ]
    }
   ],
   "source": [
    "# 다음과 같은 여러 줄의 코드가 있다고 하자.\n",
    "\n",
    "x = input()\n",
    "print(x[0])\n",
    "print(x[:1])\n",
    "print(x[:3])"
   ]
  },
  {
   "cell_type": "code",
   "execution_count": 113,
   "metadata": {},
   "outputs": [],
   "source": [
    "# 함수는 여러 줄의 코드를 묶어준다. \n",
    "\n",
    "def x():\n",
    "    x = input()\n",
    "    print(x[0])\n",
    "    print(x[:1])\n",
    "    print(x[:3])"
   ]
  },
  {
   "cell_type": "code",
   "execution_count": 114,
   "metadata": {},
   "outputs": [
    {
     "name": "stdout",
     "output_type": "stream",
     "text": [
      "asdfqwer\n",
      "a\n",
      "a\n",
      "asd\n"
     ]
    }
   ],
   "source": [
    "# 함수를 사용하면, 코드 작성량이 줄어들고, 유지 보수가 편리해진다. \n",
    "\n",
    "x()"
   ]
  },
  {
   "cell_type": "markdown",
   "metadata": {},
   "source": [
    "## 선언(정의)문"
   ]
  },
  {
   "cell_type": "markdown",
   "metadata": {},
   "source": [
    "함수는 사용하기 전에 선언/정의를 먼저 해야한다.  \n",
    "함수를 선언할 때는 `def`를 이용한다. "
   ]
  },
  {
   "cell_type": "code",
   "execution_count": 20,
   "metadata": {},
   "outputs": [],
   "source": [
    "def sun_moon(): # 양식 → def 함수이름():\n",
    "    pass # pass는 구현을 안할 때 사용한다.\n",
    "         # 아무 것도 안 쓰면 에러가 발생한다."
   ]
  },
  {
   "cell_type": "markdown",
   "metadata": {},
   "source": [
    "함수에는 `return`이 있다. "
   ]
  },
  {
   "cell_type": "code",
   "execution_count": 116,
   "metadata": {},
   "outputs": [],
   "source": [
    "def sun_moon():\n",
    "    return 1"
   ]
  },
  {
   "cell_type": "code",
   "execution_count": 117,
   "metadata": {},
   "outputs": [
    {
     "data": {
      "text/plain": [
       "<function __main__.sun_moon()>"
      ]
     },
     "execution_count": 117,
     "metadata": {},
     "output_type": "execute_result"
    }
   ],
   "source": [
    "sun_moon"
   ]
  },
  {
   "cell_type": "markdown",
   "metadata": {},
   "source": [
    "이름 뒤에 괄호()를 붙이는 것을 call(호출)이라고 한다.  \n",
    "이름 뒤에 괄호()를 붙일 수 있는 것을 callable이라고 한다.  \n",
    "함수는 사용할 때 이름 뒤에 괄호를 붙인다.  \n",
    "함수는 callable이다. "
   ]
  },
  {
   "cell_type": "code",
   "execution_count": 119,
   "metadata": {},
   "outputs": [
    {
     "data": {
      "text/plain": [
       "1"
      ]
     },
     "execution_count": 119,
     "metadata": {},
     "output_type": "execute_result"
    }
   ],
   "source": [
    "# 함수를 호출하면 return에 정의된 것이 out에 보인다. \n",
    "sun_moon()"
   ]
  },
  {
   "cell_type": "markdown",
   "metadata": {},
   "source": [
    "### 매개변수(parameter), 인자(argument)"
   ]
  },
  {
   "cell_type": "markdown",
   "metadata": {},
   "source": [
    "용어를 정확하게 아는 것이 중요하다. 용어가 다르다는 것은 기능이 다르기 때문이다."
   ]
  },
  {
   "cell_type": "markdown",
   "metadata": {},
   "source": [
    "함수를 정의할 때 쓰는 변수를 매개변수(parameter),  \n",
    "함수를 사용할 때 쓰는 변수를 인자(argument) 라고 한다. "
   ]
  },
  {
   "cell_type": "code",
   "execution_count": 124,
   "metadata": {},
   "outputs": [],
   "source": [
    "def sun_moon(a): # ← a는 매개변수\n",
    "    return a"
   ]
  },
  {
   "cell_type": "markdown",
   "metadata": {},
   "source": [
    "함수를 정의할 때 parameter 개수와  \n",
    "함수를 사용할 때 argument 개수를 맞춰줘야한다. "
   ]
  },
  {
   "cell_type": "code",
   "execution_count": 125,
   "metadata": {},
   "outputs": [
    {
     "ename": "TypeError",
     "evalue": "sun_moon() missing 1 required positional argument: 'a'",
     "output_type": "error",
     "traceback": [
      "\u001b[1;31m---------------------------------------------------------------------------\u001b[0m",
      "\u001b[1;31mTypeError\u001b[0m                                 Traceback (most recent call last)",
      "\u001b[1;32m<ipython-input-125-cae2680e468f>\u001b[0m in \u001b[0;36m<module>\u001b[1;34m\u001b[0m\n\u001b[0;32m      2\u001b[0m \u001b[1;31m# 함수를 사용할 때 argument 개수를 맞춰줘야한다.\u001b[0m\u001b[1;33m\u001b[0m\u001b[1;33m\u001b[0m\u001b[1;33m\u001b[0m\u001b[0m\n\u001b[0;32m      3\u001b[0m \u001b[1;31m# Error\u001b[0m\u001b[1;33m\u001b[0m\u001b[1;33m\u001b[0m\u001b[1;33m\u001b[0m\u001b[0m\n\u001b[1;32m----> 4\u001b[1;33m \u001b[0msun_moon\u001b[0m\u001b[1;33m(\u001b[0m\u001b[1;33m)\u001b[0m\u001b[1;33m\u001b[0m\u001b[1;33m\u001b[0m\u001b[0m\n\u001b[0m",
      "\u001b[1;31mTypeError\u001b[0m: sun_moon() missing 1 required positional argument: 'a'"
     ]
    }
   ],
   "source": [
    "# 개수를 안 맞춰주면 Error\n",
    "sun_moon()"
   ]
  },
  {
   "cell_type": "code",
   "execution_count": 126,
   "metadata": {},
   "outputs": [
    {
     "data": {
      "text/plain": [
       "1"
      ]
     },
     "execution_count": 126,
     "metadata": {},
     "output_type": "execute_result"
    }
   ],
   "source": [
    "sun_moon(1) # ← 1은 인자"
   ]
  },
  {
   "cell_type": "markdown",
   "metadata": {},
   "source": [
    "parameter 3개면 argument도 3개 써야한다. "
   ]
  },
  {
   "cell_type": "code",
   "execution_count": 122,
   "metadata": {},
   "outputs": [],
   "source": [
    "def sun_moon(a,b,c):\n",
    "    return a"
   ]
  },
  {
   "cell_type": "code",
   "execution_count": 123,
   "metadata": {},
   "outputs": [
    {
     "data": {
      "text/plain": [
       "1"
      ]
     },
     "execution_count": 123,
     "metadata": {},
     "output_type": "execute_result"
    }
   ],
   "source": [
    "sun_moon(1,2,3)"
   ]
  },
  {
   "cell_type": "markdown",
   "metadata": {},
   "source": [
    "### signature"
   ]
  },
  {
   "cell_type": "markdown",
   "metadata": {},
   "source": [
    "함수 이름에 커서를 놓고 `shift` + `tab` 해보면 함수의 signature가 나온다. "
   ]
  },
  {
   "cell_type": "code",
   "execution_count": 128,
   "metadata": {},
   "outputs": [
    {
     "data": {
      "text/plain": [
       "<function sum(iterable, start=0, /)>"
      ]
     },
     "execution_count": 128,
     "metadata": {},
     "output_type": "execute_result"
    }
   ],
   "source": [
    "sum "
   ]
  },
  {
   "cell_type": "markdown",
   "metadata": {},
   "source": [
    "signature는 함수의 사용방법을 알려준다. \n",
    "`sum`의 signature는 다음과 같다.\n",
    "```\n",
    "Signature: sum(iterable, start=0, /)\n",
    "```"
   ]
  },
  {
   "cell_type": "markdown",
   "metadata": {},
   "source": [
    "### docstring"
   ]
  },
  {
   "cell_type": "markdown",
   "metadata": {},
   "source": [
    "함수를 선언할 때 signature 다음에 따옴표 3개를 쓸 수 있다. "
   ]
  },
  {
   "cell_type": "code",
   "execution_count": 129,
   "metadata": {},
   "outputs": [],
   "source": [
    "def sun_moon(a,b,c):\n",
    "    '''연습'''\n",
    "    return a"
   ]
  },
  {
   "cell_type": "markdown",
   "metadata": {},
   "source": [
    "`shift`+`tab` 해보면 Docstring에 해당 내용이 나온다.  \n",
    "다른 사람이 내가 만든 함수를 쓰게 하려면, 함수에 대한 설명을 잘 써야한다."
   ]
  },
  {
   "cell_type": "code",
   "execution_count": null,
   "metadata": {},
   "outputs": [],
   "source": [
    "sun_moon"
   ]
  },
  {
   "cell_type": "markdown",
   "metadata": {},
   "source": [
    "### 매개변수와 인자 사용법 7가지"
   ]
  },
  {
   "cell_type": "markdown",
   "metadata": {},
   "source": [
    "#### 1. positional 방식"
   ]
  },
  {
   "cell_type": "markdown",
   "metadata": {},
   "source": [
    "함수사용시:\n",
    "선언할때 파라미터의 순서와, 사용할때 인자의 입력 순서를 그대로 매칭한다."
   ]
  },
  {
   "cell_type": "code",
   "execution_count": 130,
   "metadata": {},
   "outputs": [],
   "source": [
    "def sun_moon(a, b):\n",
    "    '''연습'''\n",
    "    return a, b"
   ]
  },
  {
   "cell_type": "code",
   "execution_count": 131,
   "metadata": {},
   "outputs": [
    {
     "data": {
      "text/plain": [
       "(2, 3)"
      ]
     },
     "execution_count": 131,
     "metadata": {},
     "output_type": "execute_result"
    }
   ],
   "source": [
    "sun_moon(2, 3)"
   ]
  },
  {
   "cell_type": "markdown",
   "metadata": {},
   "source": [
    "에러 메시지를 보면, 매개변수 b에 대응하는 positional argument를 입력하지 않아서 에러가 발생하였다."
   ]
  },
  {
   "cell_type": "code",
   "execution_count": 132,
   "metadata": {},
   "outputs": [
    {
     "ename": "TypeError",
     "evalue": "sun_moon() missing 1 required positional argument: 'b'",
     "output_type": "error",
     "traceback": [
      "\u001b[1;31m---------------------------------------------------------------------------\u001b[0m",
      "\u001b[1;31mTypeError\u001b[0m                                 Traceback (most recent call last)",
      "\u001b[1;32m<ipython-input-132-e2c8efae00cd>\u001b[0m in \u001b[0;36m<module>\u001b[1;34m\u001b[0m\n\u001b[1;32m----> 1\u001b[1;33m \u001b[0msun_moon\u001b[0m\u001b[1;33m(\u001b[0m\u001b[1;36m2\u001b[0m\u001b[1;33m)\u001b[0m\u001b[1;33m\u001b[0m\u001b[1;33m\u001b[0m\u001b[0m\n\u001b[0m",
      "\u001b[1;31mTypeError\u001b[0m: sun_moon() missing 1 required positional argument: 'b'"
     ]
    }
   ],
   "source": [
    "# Error\n",
    "sun_moon(2)"
   ]
  },
  {
   "cell_type": "markdown",
   "metadata": {},
   "source": [
    "#### 2. keyword 방식"
   ]
  },
  {
   "cell_type": "markdown",
   "metadata": {},
   "source": [
    "keyword 방식을 이용하면 순서에 관계없이 파라미터 이름에 따라 값이 대입된다."
   ]
  },
  {
   "cell_type": "code",
   "execution_count": 133,
   "metadata": {},
   "outputs": [
    {
     "data": {
      "text/plain": [
       "(2, 3)"
      ]
     },
     "execution_count": 133,
     "metadata": {},
     "output_type": "execute_result"
    }
   ],
   "source": [
    "sun_moon(b=3, a=2)"
   ]
  },
  {
   "cell_type": "code",
   "execution_count": 134,
   "metadata": {},
   "outputs": [
    {
     "data": {
      "text/plain": [
       "(2, 3)"
      ]
     },
     "execution_count": 134,
     "metadata": {},
     "output_type": "execute_result"
    }
   ],
   "source": [
    "sun_moon(a=2, b=3)"
   ]
  },
  {
   "cell_type": "markdown",
   "metadata": {},
   "source": [
    "#### 3. positional과 keyword 혼합"
   ]
  },
  {
   "cell_type": "markdown",
   "metadata": {},
   "source": [
    "keyword 방식과 positional 방식을 혼합해서 사용할 수 있다. "
   ]
  },
  {
   "cell_type": "code",
   "execution_count": 22,
   "metadata": {},
   "outputs": [],
   "source": [
    "def sun_moon(a, b, c):\n",
    "    '''연습'''\n",
    "    return a, b, c"
   ]
  },
  {
   "cell_type": "code",
   "execution_count": 136,
   "metadata": {},
   "outputs": [
    {
     "data": {
      "text/plain": [
       "(2, 3, 2)"
      ]
     },
     "execution_count": 136,
     "metadata": {},
     "output_type": "execute_result"
    }
   ],
   "source": [
    "sun_moon(2, c=2, b=3)"
   ]
  },
  {
   "cell_type": "markdown",
   "metadata": {},
   "source": [
    "한번 keyword 방식을 사용하면, 그 다음은 다 keyword 방법만 사용할 수 있다."
   ]
  },
  {
   "cell_type": "code",
   "execution_count": 137,
   "metadata": {},
   "outputs": [
    {
     "ename": "SyntaxError",
     "evalue": "positional argument follows keyword argument (<ipython-input-137-e9769ef4ded3>, line 1)",
     "output_type": "error",
     "traceback": [
      "\u001b[1;36m  File \u001b[1;32m\"<ipython-input-137-e9769ef4ded3>\"\u001b[1;36m, line \u001b[1;32m1\u001b[0m\n\u001b[1;33m    sun_moon(c=2, 2, b=3)\u001b[0m\n\u001b[1;37m                 ^\u001b[0m\n\u001b[1;31mSyntaxError\u001b[0m\u001b[1;31m:\u001b[0m positional argument follows keyword argument\n"
     ]
    }
   ],
   "source": [
    "# (keyword, positional, keyword) → Error\n",
    "sun_moon(c=2, 2, b=3)"
   ]
  },
  {
   "cell_type": "markdown",
   "metadata": {},
   "source": [
    "####  default value"
   ]
  },
  {
   "cell_type": "markdown",
   "metadata": {},
   "source": [
    "선언할 때 파라미터에 기본값을 설정할 수 있다.  \n",
    "값을 안 넣으면 기본값이 사용된다."
   ]
  },
  {
   "cell_type": "code",
   "execution_count": 138,
   "metadata": {},
   "outputs": [],
   "source": [
    "def sun_moon(a, b, c=4): # 매개변수 b의 기본값은 4\n",
    "    '''연습'''\n",
    "    return a,b,c"
   ]
  },
  {
   "cell_type": "markdown",
   "metadata": {},
   "source": [
    "인자개수가 매개변수 개수와 일치하면 일반적인 사용법과 결과가 동일하다."
   ]
  },
  {
   "cell_type": "code",
   "execution_count": 139,
   "metadata": {},
   "outputs": [
    {
     "data": {
      "text/plain": [
       "(3, 4, 1)"
      ]
     },
     "execution_count": 139,
     "metadata": {},
     "output_type": "execute_result"
    }
   ],
   "source": [
    "sun_moon(3, 4, 1)"
   ]
  },
  {
   "cell_type": "markdown",
   "metadata": {},
   "source": [
    "값을 안 넣으면 에러를 일으키지 않고, 기본값이 사용된다. "
   ]
  },
  {
   "cell_type": "code",
   "execution_count": 140,
   "metadata": {},
   "outputs": [
    {
     "data": {
      "text/plain": [
       "(3, 4, 4)"
      ]
     },
     "execution_count": 140,
     "metadata": {},
     "output_type": "execute_result"
    }
   ],
   "source": [
    "sun_moon(3, 4) # c에 대응하는 인자가 없음, 기본값 4가 적용됨"
   ]
  },
  {
   "cell_type": "markdown",
   "metadata": {},
   "source": [
    "선언할 때 default value를 쓰면 그 뒤로는 모두 default value가 있어야 한다. "
   ]
  },
  {
   "cell_type": "code",
   "execution_count": 141,
   "metadata": {},
   "outputs": [
    {
     "ename": "SyntaxError",
     "evalue": "non-default argument follows default argument (<ipython-input-141-b4c2ea015893>, line 2)",
     "output_type": "error",
     "traceback": [
      "\u001b[1;36m  File \u001b[1;32m\"<ipython-input-141-b4c2ea015893>\"\u001b[1;36m, line \u001b[1;32m2\u001b[0m\n\u001b[1;33m    def sun_moon(a=4, b, c):\u001b[0m\n\u001b[1;37m                ^\u001b[0m\n\u001b[1;31mSyntaxError\u001b[0m\u001b[1;31m:\u001b[0m non-default argument follows default argument\n"
     ]
    }
   ],
   "source": [
    "def sun_moon(a=4, b, c): # a가 기본값이 있으므로 b,c도 기본값이 있어야 한다.\n",
    "    '''연습'''\n",
    "    return a,b,c"
   ]
  },
  {
   "cell_type": "markdown",
   "metadata": {},
   "source": [
    "#### 4. positional only"
   ]
  },
  {
   "cell_type": "markdown",
   "metadata": {},
   "source": [
    "positional only는 함수를 사용할 때 positional 방식으로만 인자를 쓸 수 있도록 강제하는 방법이다.  \n",
    "`/`의 앞에 오는 인자들은 positional 방식으로 입력할 수 있지만, keyword 방식으로 입력할 수 없다.  "
   ]
  },
  {
   "cell_type": "markdown",
   "metadata": {},
   "source": [
    "positional only 여부는 함수의 signature에서 확인할 수 있다. "
   ]
  },
  {
   "cell_type": "code",
   "execution_count": 23,
   "metadata": {},
   "outputs": [
    {
     "data": {
      "text/plain": [
       "<function sum(iterable, start=0, /)>"
      ]
     },
     "execution_count": 23,
     "metadata": {},
     "output_type": "execute_result"
    }
   ],
   "source": [
    "sum"
   ]
  },
  {
   "cell_type": "markdown",
   "metadata": {},
   "source": [
    "positional only 함수를 선언하는 것은 python 3.8부터 가능하다.  \n",
    "이전 버전에서는 사전 정의된 positional only 함수는 있지만, 사용자가 만들 수는 없었다."
   ]
  },
  {
   "cell_type": "code",
   "execution_count": null,
   "metadata": {},
   "outputs": [],
   "source": [
    "def sun_moon(a, b, c, /):\n",
    "    '''연습'''\n",
    "    return a,b,c"
   ]
  },
  {
   "cell_type": "markdown",
   "metadata": {},
   "source": [
    "#### 5. keword only"
   ]
  },
  {
   "cell_type": "markdown",
   "metadata": {},
   "source": [
    "keyword only 방식은 인자를 keyword 방식으로만 입력하도록 강제하는 방법이다.  \n",
    "`*` 이후로는 키워드 방식만 써야한다. "
   ]
  },
  {
   "cell_type": "code",
   "execution_count": 144,
   "metadata": {},
   "outputs": [],
   "source": [
    "# keyword only 함수는 3.8 미만 버전에서도 사용자가 정의할 수 있다.\n",
    "\n",
    "\n",
    "def sun_moon(*, a, b, c):\n",
    "    '''연습'''\n",
    "    return a,b,c"
   ]
  },
  {
   "cell_type": "code",
   "execution_count": 145,
   "metadata": {},
   "outputs": [
    {
     "ename": "TypeError",
     "evalue": "sun_moon() takes 0 positional arguments but 3 were given",
     "output_type": "error",
     "traceback": [
      "\u001b[1;31m---------------------------------------------------------------------------\u001b[0m",
      "\u001b[1;31mTypeError\u001b[0m                                 Traceback (most recent call last)",
      "\u001b[1;32m<ipython-input-145-7c3cdcfee8e4>\u001b[0m in \u001b[0;36m<module>\u001b[1;34m\u001b[0m\n\u001b[1;32m----> 1\u001b[1;33m \u001b[0msun_moon\u001b[0m\u001b[1;33m(\u001b[0m\u001b[1;36m1\u001b[0m\u001b[1;33m,\u001b[0m\u001b[1;36m2\u001b[0m\u001b[1;33m,\u001b[0m\u001b[1;36m3\u001b[0m\u001b[1;33m)\u001b[0m\u001b[1;33m\u001b[0m\u001b[1;33m\u001b[0m\u001b[0m\n\u001b[0m",
      "\u001b[1;31mTypeError\u001b[0m: sun_moon() takes 0 positional arguments but 3 were given"
     ]
    }
   ],
   "source": [
    "# positional 방식을 이용하면 Error\n",
    "sun_moon(1,2,3)"
   ]
  },
  {
   "cell_type": "code",
   "execution_count": 146,
   "metadata": {},
   "outputs": [
    {
     "data": {
      "text/plain": [
       "(1, 2, 3)"
      ]
     },
     "execution_count": 146,
     "metadata": {},
     "output_type": "execute_result"
    }
   ],
   "source": [
    "sun_moon(a=1,b=2,c=3)"
   ]
  },
  {
   "cell_type": "markdown",
   "metadata": {},
   "source": [
    "#### 6. 가변 포지셔널"
   ]
  },
  {
   "cell_type": "markdown",
   "metadata": {},
   "source": [
    "가변 포지셔널은 파라미터 이름에 `*`를 붙인다.  \n",
    "포지셔널 방식으로 입력되는 인자의 개수에 상관없이 모두 받아온다."
   ]
  },
  {
   "cell_type": "code",
   "execution_count": 152,
   "metadata": {},
   "outputs": [],
   "source": [
    "# keyword only와 달리 *에 이름이 붙었다. \n",
    "def a(*a):\n",
    "    return a"
   ]
  },
  {
   "cell_type": "code",
   "execution_count": 154,
   "metadata": {},
   "outputs": [
    {
     "data": {
      "text/plain": [
       "()"
      ]
     },
     "execution_count": 154,
     "metadata": {},
     "output_type": "execute_result"
    }
   ],
   "source": [
    "a()"
   ]
  },
  {
   "cell_type": "code",
   "execution_count": 155,
   "metadata": {},
   "outputs": [
    {
     "data": {
      "text/plain": [
       "(1,)"
      ]
     },
     "execution_count": 155,
     "metadata": {},
     "output_type": "execute_result"
    }
   ],
   "source": [
    "a(1)"
   ]
  },
  {
   "cell_type": "markdown",
   "metadata": {},
   "source": [
    "positional argument를 개수와 상관없이 집어넣을 수 있다. "
   ]
  },
  {
   "cell_type": "code",
   "execution_count": 153,
   "metadata": {},
   "outputs": [
    {
     "data": {
      "text/plain": [
       "(1, 2, 3, 4, 5)"
      ]
     },
     "execution_count": 153,
     "metadata": {},
     "output_type": "execute_result"
    }
   ],
   "source": [
    "a(1,2,3,4,5)"
   ]
  },
  {
   "cell_type": "markdown",
   "metadata": {},
   "source": [
    "#### 7. 가변 키워드"
   ]
  },
  {
   "cell_type": "markdown",
   "metadata": {},
   "source": [
    "가변 키워드는 파라미터 이름에 `**`를 붙인다.  \n",
    "키워드 방식으로 입력되는 인자의 개수에 상관없이 모두 받아온다."
   ]
  },
  {
   "cell_type": "code",
   "execution_count": 27,
   "metadata": {},
   "outputs": [],
   "source": [
    "def a(**a):\n",
    "    return a"
   ]
  },
  {
   "cell_type": "markdown",
   "metadata": {},
   "source": [
    "가변키워드는 매개변수를 key로, 인자를 value로 하는 dictionary를 만든다."
   ]
  },
  {
   "cell_type": "code",
   "execution_count": 28,
   "metadata": {},
   "outputs": [
    {
     "data": {
      "text/plain": [
       "{}"
      ]
     },
     "execution_count": 28,
     "metadata": {},
     "output_type": "execute_result"
    }
   ],
   "source": [
    "# 인자가 없어도 된다.\n",
    "a()"
   ]
  },
  {
   "cell_type": "code",
   "execution_count": 29,
   "metadata": {},
   "outputs": [
    {
     "data": {
      "text/plain": [
       "{'a': 1}"
      ]
     },
     "execution_count": 29,
     "metadata": {},
     "output_type": "execute_result"
    }
   ],
   "source": [
    "# 인자 1개일 때\n",
    "a(a=1)"
   ]
  },
  {
   "cell_type": "code",
   "execution_count": 158,
   "metadata": {},
   "outputs": [
    {
     "data": {
      "text/plain": [
       "{'b': 1, 'a': 1, 'c': 1}"
      ]
     },
     "execution_count": 158,
     "metadata": {},
     "output_type": "execute_result"
    }
   ],
   "source": [
    "# 인자 여러개일 때\n",
    "a(b=1, a=1, c=1)"
   ]
  },
  {
   "cell_type": "markdown",
   "metadata": {},
   "source": [
    "가변 키워드에 인자가 있는지 없는지에 따라서 함수의 기능을 다르게 할 수 있다."
   ]
  },
  {
   "cell_type": "code",
   "execution_count": 162,
   "metadata": {},
   "outputs": [],
   "source": [
    "# 가변 키워드에 color가 입력되면 print가 실행되는 함수\n",
    "\n",
    "def a(**a):\n",
    "    if \"color\" in a.keys():\n",
    "        print(a.keys())\n",
    "    return None"
   ]
  },
  {
   "cell_type": "code",
   "execution_count": 164,
   "metadata": {},
   "outputs": [],
   "source": [
    "# color가 없으므로 print가 실행되지 않음\n",
    "a()"
   ]
  },
  {
   "cell_type": "code",
   "execution_count": 163,
   "metadata": {},
   "outputs": [
    {
     "name": "stdout",
     "output_type": "stream",
     "text": [
      "dict_keys(['color'])\n"
     ]
    }
   ],
   "source": [
    "# color가 있으므로 print가 실행\n",
    "a(color=1)"
   ]
  },
  {
   "cell_type": "markdown",
   "metadata": {},
   "source": [
    "가변 키워드/가변 포지셔널은 한번만 쓸 수 있다. "
   ]
  },
  {
   "cell_type": "code",
   "execution_count": 30,
   "metadata": {},
   "outputs": [
    {
     "ename": "SyntaxError",
     "evalue": "invalid syntax (<ipython-input-30-5e0d63dca348>, line 2)",
     "output_type": "error",
     "traceback": [
      "\u001b[1;36m  File \u001b[1;32m\"<ipython-input-30-5e0d63dca348>\"\u001b[1;36m, line \u001b[1;32m2\u001b[0m\n\u001b[1;33m    def a(**a, **b):\u001b[0m\n\u001b[1;37m                ^\u001b[0m\n\u001b[1;31mSyntaxError\u001b[0m\u001b[1;31m:\u001b[0m invalid syntax\n"
     ]
    }
   ],
   "source": [
    "# Error\n",
    "def a(**a, **b):\n",
    "    pass"
   ]
  },
  {
   "cell_type": "markdown",
   "metadata": {},
   "source": [
    "가변 키워드 다음에 가변 포지셔널이 올 수 없다."
   ]
  },
  {
   "cell_type": "code",
   "execution_count": 31,
   "metadata": {},
   "outputs": [
    {
     "ename": "SyntaxError",
     "evalue": "invalid syntax (<ipython-input-31-61250a922fa5>, line 2)",
     "output_type": "error",
     "traceback": [
      "\u001b[1;36m  File \u001b[1;32m\"<ipython-input-31-61250a922fa5>\"\u001b[1;36m, line \u001b[1;32m2\u001b[0m\n\u001b[1;33m    def a(**a, *b):\u001b[0m\n\u001b[1;37m               ^\u001b[0m\n\u001b[1;31mSyntaxError\u001b[0m\u001b[1;31m:\u001b[0m invalid syntax\n"
     ]
    }
   ],
   "source": [
    "# Error\n",
    "def a(**a, *b):\n",
    "    pass"
   ]
  },
  {
   "cell_type": "markdown",
   "metadata": {},
   "source": [
    "가변 키워드 방식은 많이 사용되므로 중요한 기법이다."
   ]
  },
  {
   "cell_type": "code",
   "execution_count": 25,
   "metadata": {},
   "outputs": [],
   "source": [
    "import matplotlib.pyplot as plt"
   ]
  },
  {
   "cell_type": "markdown",
   "metadata": {},
   "source": [
    "앞으로 많이 사용하게 될 `plt.bar`는 그래프를 그리는 함수이다. \n",
    "signature를 보면 가변 키워드가 사용되었다."
   ]
  },
  {
   "cell_type": "code",
   "execution_count": 26,
   "metadata": {},
   "outputs": [
    {
     "data": {
      "text/plain": [
       "<function matplotlib.pyplot.bar(x, height, width=0.8, bottom=None, *, align='center', data=None, **kwargs)>"
      ]
     },
     "execution_count": 26,
     "metadata": {},
     "output_type": "execute_result"
    }
   ],
   "source": [
    "plt.bar"
   ]
  },
  {
   "cell_type": "code",
   "execution_count": 148,
   "metadata": {},
   "outputs": [
    {
     "data": {
      "text/plain": [
       "<BarContainer object of 3 artists>"
      ]
     },
     "execution_count": 148,
     "metadata": {},
     "output_type": "execute_result"
    },
    {
     "data": {
      "image/png": "[encoded data removed]",
      "text/plain": [
       "<Figure size 432x288 with 1 Axes>"
      ]
     },
     "metadata": {
      "needs_background": "light"
     },
     "output_type": "display_data"
    }
   ],
   "source": [
    "plt.bar([1,2,3], [2,3,4])"
   ]
  },
  {
   "cell_type": "code",
   "execution_count": 149,
   "metadata": {},
   "outputs": [
    {
     "data": {
      "text/plain": [
       "<BarContainer object of 3 artists>"
      ]
     },
     "execution_count": 149,
     "metadata": {},
     "output_type": "execute_result"
    },
    {
     "data": {
      "image/png": "[encoded data removed]",
      "text/plain": [
       "<Figure size 432x288 with 1 Axes>"
      ]
     },
     "metadata": {
      "needs_background": "light"
     },
     "output_type": "display_data"
    }
   ],
   "source": [
    "# 가변 키워드 edge 사용\n",
    "plt.bar([1,2,3], [2,3,4], align=\"edge\")"
   ]
  },
  {
   "cell_type": "code",
   "execution_count": 151,
   "metadata": {},
   "outputs": [
    {
     "data": {
      "text/plain": [
       "<BarContainer object of 3 artists>"
      ]
     },
     "execution_count": 151,
     "metadata": {},
     "output_type": "execute_result"
    },
    {
     "data": {
      "image/png": "[encoded data removed]",
      "text/plain": [
       "<Figure size 432x288 with 1 Axes>"
      ]
     },
     "metadata": {
      "needs_background": "light"
     },
     "output_type": "display_data"
    }
   ],
   "source": [
    "# 가변 키워드 edge, color 사용\n",
    "plt.bar([1,2,3], [2,3,4], align=\"edge\", color=\"pink\")"
   ]
  },
  {
   "cell_type": "code",
   "execution_count": null,
   "metadata": {},
   "outputs": [],
   "source": []
  }
 ],
 "metadata": {
  "kernelspec": {
   "display_name": "Python 3",
   "language": "python",
   "name": "python3"
  },
  "language_info": {
   "codemirror_mode": {
    "name": "ipython",
    "version": 3
   },
   "file_extension": ".py",
   "mimetype": "text/x-python",
   "name": "python",
   "nbconvert_exporter": "python",
   "pygments_lexer": "ipython3",
   "version": "3.7.3"
  },
  "toc": {
   "base_numbering": 1,
   "nav_menu": {},
   "number_sections": true,
   "sideBar": true,
   "skip_h1_title": true,
   "title_cell": "Table of Contents",
   "title_sidebar": "Contents",
   "toc_cell": true,
   "toc_position": {
    "height": "calc(100% - 180px)",
    "left": "10px",
    "top": "150px",
    "width": "307.2px"
   },
   "toc_section_display": true,
   "toc_window_display": true
  },
  "varInspector": {
   "cols": {
    "lenName": 16,
    "lenType": 16,
    "lenVar": 40
   },
   "kernels_config": {
    "python": {
     "delete_cmd_postfix": "",
     "delete_cmd_prefix": "del ",
     "library": "var_list.py",
     "varRefreshCmd": "print(var_dic_list())"
    },
    "r": {
     "delete_cmd_postfix": ") ",
     "delete_cmd_prefix": "rm(",
     "library": "var_list.r",
     "varRefreshCmd": "cat(var_dic_list()) "
    }
   },
   "types_to_exclude": [
    "module",
    "function",
    "builtin_function_or_method",
    "instance",
    "_Feature"
   ],
   "window_display": false
  }
 },
 "nbformat": 4,
 "nbformat_minor": 2
}
