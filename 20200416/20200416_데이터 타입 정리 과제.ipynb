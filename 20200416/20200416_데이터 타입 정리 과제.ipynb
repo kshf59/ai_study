{
 "cells": [
  {
   "cell_type": "markdown",
   "metadata": {},
   "source": [
    "|type|특성|container(collection)|sequence|\n",
    "|----|---|-------------------|-------|\n",
    "|int |number|x                  |x       |\n",
    "|float |number|x                  |x       |\n",
    "|complex |number|x                  |x       |\n",
    "|bool |number|x                  |x       |\n",
    "|str |string|o                  |x       |\n",
    "|bytes |string|o                  |x       |\n",
    "|bytearray |string|o                  |o       |\n",
    "|memoryview |string|o                  |o       |\n",
    "|tuple |???|o                  |o       |\n",
    "|range |???|o                  |o       |\n",
    "|list |???|o                  |o       |\n",
    "|set |???|o                  |o       |\n",
    "|dict |???|o                  |o       |"
   ]
  },
  {
   "cell_type": "code",
   "execution_count": null,
   "metadata": {},
   "outputs": [],
   "source": []
  }
 ],
 "metadata": {
  "kernelspec": {
   "display_name": "Python 3",
   "language": "python",
   "name": "python3"
  },
  "language_info": {
   "codemirror_mode": {
    "name": "ipython",
    "version": 3
   },
   "file_extension": ".py",
   "mimetype": "text/x-python",
   "name": "python",
   "nbconvert_exporter": "python",
   "pygments_lexer": "ipython3",
   "version": "3.7.6"
  }
 },
 "nbformat": 4,
 "nbformat_minor": 4
}
