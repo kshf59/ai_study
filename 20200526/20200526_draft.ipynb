{
 "cells": [
  {
   "cell_type": "markdown",
   "metadata": {
    "toc": true
   },
   "source": [
    "<h1>Table of Contents<span class=\"tocSkip\"></span></h1>\n",
    "<div class=\"toc\"><ul class=\"toc-item\"><li><span><a href=\"#iris-dataset\" data-toc-modified-id=\"iris-dataset-1\"><span class=\"toc-item-num\">1&nbsp;&nbsp;</span>iris dataset</a></span></li><li><span><a href=\"#score\" data-toc-modified-id=\"score-2\"><span class=\"toc-item-num\">2&nbsp;&nbsp;</span>score</a></span></li><li><span><a href=\"#Hyper-Parameter\" data-toc-modified-id=\"Hyper-Parameter-3\"><span class=\"toc-item-num\">3&nbsp;&nbsp;</span>Hyper Parameter</a></span><ul class=\"toc-item\"><li><span><a href=\"#3-way-holdout\" data-toc-modified-id=\"3-way-holdout-3.1\"><span class=\"toc-item-num\">3.1&nbsp;&nbsp;</span>3-way holdout</a></span></li><li><span><a href=\"#GridSearchCV\" data-toc-modified-id=\"GridSearchCV-3.2\"><span class=\"toc-item-num\">3.2&nbsp;&nbsp;</span>GridSearchCV</a></span></li></ul></li></ul></div>"
   ]
  },
  {
   "cell_type": "markdown",
   "metadata": {},
   "source": [
    "# [AI 오픈 이노베이션] 기본 저녁반<a class=\"tocSkip\">\n",
    "GitHub link: [https://github.com/realblack0/8th_ai_lecture_fundamental](https://github.com/realblack0/8th_ai_lecture_fundamental)  \n",
    "E-Mail: realblack0@gmail.com"
   ]
  },
  {
   "cell_type": "markdown",
   "metadata": {},
   "source": [
    "## iris dataset"
   ]
  },
  {
   "cell_type": "code",
   "execution_count": 4,
   "metadata": {},
   "outputs": [],
   "source": [
    "from sklearn.datasets import load_iris"
   ]
  },
  {
   "cell_type": "code",
   "execution_count": 5,
   "metadata": {},
   "outputs": [],
   "source": [
    "data = load_iris()"
   ]
  },
  {
   "cell_type": "code",
   "execution_count": 3,
   "metadata": {},
   "outputs": [],
   "source": [
    "import pandas as pd"
   ]
  },
  {
   "cell_type": "code",
   "execution_count": 6,
   "metadata": {},
   "outputs": [],
   "source": [
    "data_pd = pd.DataFrame(data.data, columns=data.feature_names)\n",
    "target_pd = pd.DataFrame(data.target, columns=['target'])\n",
    "iris = pd.concat([data_pd, target_pd], axis=1)"
   ]
  },
  {
   "cell_type": "code",
   "execution_count": 7,
   "metadata": {},
   "outputs": [
    {
     "data": {
      "text/html": [
       "<div>\n",
       "<style scoped>\n",
       "    .dataframe tbody tr th:only-of-type {\n",
       "        vertical-align: middle;\n",
       "    }\n",
       "\n",
       "    .dataframe tbody tr th {\n",
       "        vertical-align: top;\n",
       "    }\n",
       "\n",
       "    .dataframe thead th {\n",
       "        text-align: right;\n",
       "    }\n",
       "</style>\n",
       "<table border=\"1\" class=\"dataframe\">\n",
       "  <thead>\n",
       "    <tr style=\"text-align: right;\">\n",
       "      <th></th>\n",
       "      <th>sepal length (cm)</th>\n",
       "      <th>sepal width (cm)</th>\n",
       "      <th>petal length (cm)</th>\n",
       "      <th>petal width (cm)</th>\n",
       "      <th>target</th>\n",
       "    </tr>\n",
       "  </thead>\n",
       "  <tbody>\n",
       "    <tr>\n",
       "      <th>0</th>\n",
       "      <td>5.1</td>\n",
       "      <td>3.5</td>\n",
       "      <td>1.4</td>\n",
       "      <td>0.2</td>\n",
       "      <td>0</td>\n",
       "    </tr>\n",
       "    <tr>\n",
       "      <th>1</th>\n",
       "      <td>4.9</td>\n",
       "      <td>3.0</td>\n",
       "      <td>1.4</td>\n",
       "      <td>0.2</td>\n",
       "      <td>0</td>\n",
       "    </tr>\n",
       "    <tr>\n",
       "      <th>2</th>\n",
       "      <td>4.7</td>\n",
       "      <td>3.2</td>\n",
       "      <td>1.3</td>\n",
       "      <td>0.2</td>\n",
       "      <td>0</td>\n",
       "    </tr>\n",
       "    <tr>\n",
       "      <th>3</th>\n",
       "      <td>4.6</td>\n",
       "      <td>3.1</td>\n",
       "      <td>1.5</td>\n",
       "      <td>0.2</td>\n",
       "      <td>0</td>\n",
       "    </tr>\n",
       "    <tr>\n",
       "      <th>4</th>\n",
       "      <td>5.0</td>\n",
       "      <td>3.6</td>\n",
       "      <td>1.4</td>\n",
       "      <td>0.2</td>\n",
       "      <td>0</td>\n",
       "    </tr>\n",
       "    <tr>\n",
       "      <th>...</th>\n",
       "      <td>...</td>\n",
       "      <td>...</td>\n",
       "      <td>...</td>\n",
       "      <td>...</td>\n",
       "      <td>...</td>\n",
       "    </tr>\n",
       "    <tr>\n",
       "      <th>145</th>\n",
       "      <td>6.7</td>\n",
       "      <td>3.0</td>\n",
       "      <td>5.2</td>\n",
       "      <td>2.3</td>\n",
       "      <td>2</td>\n",
       "    </tr>\n",
       "    <tr>\n",
       "      <th>146</th>\n",
       "      <td>6.3</td>\n",
       "      <td>2.5</td>\n",
       "      <td>5.0</td>\n",
       "      <td>1.9</td>\n",
       "      <td>2</td>\n",
       "    </tr>\n",
       "    <tr>\n",
       "      <th>147</th>\n",
       "      <td>6.5</td>\n",
       "      <td>3.0</td>\n",
       "      <td>5.2</td>\n",
       "      <td>2.0</td>\n",
       "      <td>2</td>\n",
       "    </tr>\n",
       "    <tr>\n",
       "      <th>148</th>\n",
       "      <td>6.2</td>\n",
       "      <td>3.4</td>\n",
       "      <td>5.4</td>\n",
       "      <td>2.3</td>\n",
       "      <td>2</td>\n",
       "    </tr>\n",
       "    <tr>\n",
       "      <th>149</th>\n",
       "      <td>5.9</td>\n",
       "      <td>3.0</td>\n",
       "      <td>5.1</td>\n",
       "      <td>1.8</td>\n",
       "      <td>2</td>\n",
       "    </tr>\n",
       "  </tbody>\n",
       "</table>\n",
       "<p>150 rows × 5 columns</p>\n",
       "</div>"
      ],
      "text/plain": [
       "     sepal length (cm)  sepal width (cm)  petal length (cm)  petal width (cm)  \\\n",
       "0                  5.1               3.5                1.4               0.2   \n",
       "1                  4.9               3.0                1.4               0.2   \n",
       "2                  4.7               3.2                1.3               0.2   \n",
       "3                  4.6               3.1                1.5               0.2   \n",
       "4                  5.0               3.6                1.4               0.2   \n",
       "..                 ...               ...                ...               ...   \n",
       "145                6.7               3.0                5.2               2.3   \n",
       "146                6.3               2.5                5.0               1.9   \n",
       "147                6.5               3.0                5.2               2.0   \n",
       "148                6.2               3.4                5.4               2.3   \n",
       "149                5.9               3.0                5.1               1.8   \n",
       "\n",
       "     target  \n",
       "0         0  \n",
       "1         0  \n",
       "2         0  \n",
       "3         0  \n",
       "4         0  \n",
       "..      ...  \n",
       "145       2  \n",
       "146       2  \n",
       "147       2  \n",
       "148       2  \n",
       "149       2  \n",
       "\n",
       "[150 rows x 5 columns]"
      ]
     },
     "execution_count": 7,
     "metadata": {},
     "output_type": "execute_result"
    }
   ],
   "source": [
    "iris"
   ]
  },
  {
   "cell_type": "code",
   "execution_count": 8,
   "metadata": {},
   "outputs": [
    {
     "name": "stdout",
     "output_type": "stream",
     "text": [
      "<class 'pandas.core.frame.DataFrame'>\n",
      "RangeIndex: 150 entries, 0 to 149\n",
      "Data columns (total 5 columns):\n",
      " #   Column             Non-Null Count  Dtype  \n",
      "---  ------             --------------  -----  \n",
      " 0   sepal length (cm)  150 non-null    float64\n",
      " 1   sepal width (cm)   150 non-null    float64\n",
      " 2   petal length (cm)  150 non-null    float64\n",
      " 3   petal width (cm)   150 non-null    float64\n",
      " 4   target             150 non-null    int32  \n",
      "dtypes: float64(4), int32(1)\n",
      "memory usage: 5.4 KB\n"
     ]
    }
   ],
   "source": [
    "iris.info()"
   ]
  },
  {
   "cell_type": "markdown",
   "metadata": {},
   "source": [
    "## score"
   ]
  },
  {
   "cell_type": "markdown",
   "metadata": {},
   "source": [
    "- 대충의 성능 파악(dummy)"
   ]
  },
  {
   "cell_type": "markdown",
   "metadata": {},
   "source": [
    "- 실제 모델은 내가 가진 모든 데이터로 만든다. "
   ]
  },
  {
   "cell_type": "code",
   "execution_count": 9,
   "metadata": {},
   "outputs": [],
   "source": [
    "from sklearn.model_selection import train_test_split"
   ]
  },
  {
   "cell_type": "code",
   "execution_count": 23,
   "metadata": {},
   "outputs": [],
   "source": [
    "X_train, X_test, y_train, y_test = train_test_split(iris.iloc[:, :-1], iris.target)"
   ]
  },
  {
   "cell_type": "code",
   "execution_count": 24,
   "metadata": {},
   "outputs": [],
   "source": [
    "from sklearn.metrics import confusion_matrix"
   ]
  },
  {
   "cell_type": "code",
   "execution_count": 25,
   "metadata": {},
   "outputs": [],
   "source": [
    "from sklearn.neighbors import KNeighborsClassifier"
   ]
  },
  {
   "cell_type": "code",
   "execution_count": 26,
   "metadata": {},
   "outputs": [],
   "source": [
    "knn = KNeighborsClassifier()"
   ]
  },
  {
   "cell_type": "code",
   "execution_count": 27,
   "metadata": {},
   "outputs": [
    {
     "data": {
      "text/plain": [
       "KNeighborsClassifier(algorithm='auto', leaf_size=30, metric='minkowski',\n",
       "                     metric_params=None, n_jobs=None, n_neighbors=5, p=2,\n",
       "                     weights='uniform')"
      ]
     },
     "execution_count": 27,
     "metadata": {},
     "output_type": "execute_result"
    }
   ],
   "source": [
    "knn.fit(X_train, y_train)"
   ]
  },
  {
   "cell_type": "code",
   "execution_count": 28,
   "metadata": {},
   "outputs": [
    {
     "data": {
      "text/plain": [
       "array([[12,  0,  0],\n",
       "       [ 0,  9,  1],\n",
       "       [ 0,  1, 15]], dtype=int64)"
      ]
     },
     "execution_count": 28,
     "metadata": {},
     "output_type": "execute_result"
    }
   ],
   "source": [
    "# 행은 실제, 열은 예측한 값 이다.\n",
    "# 실제 0인데, 0으로 예측한 값 12개\n",
    "# 실제 1인데, 1로 예측한 값 9개 & 2로 예측한 값 1개\n",
    "# 실제 2인데, 1로 예측한 값 1개 & 2로 예측한 값 15개\n",
    "confusion_matrix(y_test, knn.predict(X_test))"
   ]
  },
  {
   "cell_type": "code",
   "execution_count": 16,
   "metadata": {},
   "outputs": [
    {
     "data": {
      "text/plain": [
       "array(['setosa', 'versicolor', 'virginica'], dtype='<U10')"
      ]
     },
     "execution_count": 16,
     "metadata": {},
     "output_type": "execute_result"
    }
   ],
   "source": [
    "# 0, 1, 2는 다음과 같다. \n",
    "data.target_names"
   ]
  },
  {
   "cell_type": "markdown",
   "metadata": {},
   "source": [
    "위의 confusion matirx는 다음과 같다.\n",
    "\n",
    "|   |setosa로 예측|versicolor로 예측|virginica로 예측|\n",
    "|---|---|---|---|\n",
    "|실제 setosa|12|0|0|\n",
    "|실제 versicolor|0|9|1|\n",
    "|실제 virginica|0|1|15|"
   ]
  },
  {
   "cell_type": "markdown",
   "metadata": {},
   "source": [
    "---"
   ]
  },
  {
   "cell_type": "markdown",
   "metadata": {},
   "source": [
    "이진 분류하는 confusion matrix에서 각 위치를 다음과 같이 이름 붙인다."
   ]
  },
  {
   "cell_type": "markdown",
   "metadata": {},
   "source": [
    "|||Predict||\n",
    "|---|---|---|---|\n",
    "|   |    |True|False|\n",
    "|Actual|True|True Positive|False Negative|\n",
    "|   |False|False Positive|True Negative|"
   ]
  },
  {
   "cell_type": "markdown",
   "metadata": {},
   "source": [
    "- False Positivie는 1종 오류  \n",
    "- False Negative는 2종 오류\n",
    "\n",
    "1종 오류와 2종 오류 중에서 어떤 것이 더 중요한지는, 의사결정자의 판단에 따라 다르다."
   ]
  },
  {
   "cell_type": "markdown",
   "metadata": {},
   "source": [
    "---"
   ]
  },
  {
   "cell_type": "markdown",
   "metadata": {},
   "source": [
    "\n",
    "\n",
    "- accuracy(정확도)\n",
    "\n",
    "    전체 데이터 중에 예측이 맞은 비율\n",
    "\n",
    "    $$accuracy = \\frac{TP+TN}{TP+FP+TN+FN}$$\n",
    "\n",
    "- precision(정밀도)\n",
    "\n",
    "    양성으로 예측한 것 중에서 양성이 맞는 비율\n",
    "\n",
    "    즉, 예측한 거 중에 맞은 비율\n",
    "\n",
    "    $$precision = \\frac{TP}{TP+FP}$$\n",
    "\n",
    "- recall(재현률)\n",
    "\n",
    "    실제 양성인 것  중에서 양성으로 예측한 비율\n",
    "\n",
    "    즉, 맞은 비율\n",
    "\n",
    "    $$reacll = \\frac{TP}{TP+FN}$$"
   ]
  },
  {
   "cell_type": "markdown",
   "metadata": {},
   "source": [
    "multi class 일 경우는, 각 클래스 별로 precision을 구하고 평균을 내면 최종 precision이 된다.  \n",
    "최종 recall도 마찬가지 방법으로 구한다."
   ]
  },
  {
   "cell_type": "code",
   "execution_count": 29,
   "metadata": {},
   "outputs": [],
   "source": [
    "from sklearn.model_selection import cross_val_score"
   ]
  },
  {
   "cell_type": "code",
   "execution_count": 30,
   "metadata": {},
   "outputs": [],
   "source": [
    "from sklearn.metrics import recall_score"
   ]
  },
  {
   "cell_type": "code",
   "execution_count": 31,
   "metadata": {},
   "outputs": [
    {
     "data": {
      "text/plain": [
       "array([1.        , 1.        , 0.95454545, 0.95454545, 0.95454545])"
      ]
     },
     "execution_count": 31,
     "metadata": {},
     "output_type": "execute_result"
    }
   ],
   "source": [
    "# accuracy 대신 recall로 cross validation score를 측정할 수 있다.\n",
    "cross_val_score(KNeighborsClassifier(), X_train, y_train, scoring='recall_micro')"
   ]
  },
  {
   "cell_type": "code",
   "execution_count": 32,
   "metadata": {},
   "outputs": [],
   "source": [
    "from sklearn.metrics import classification_report"
   ]
  },
  {
   "cell_type": "code",
   "execution_count": 33,
   "metadata": {},
   "outputs": [
    {
     "name": "stdout",
     "output_type": "stream",
     "text": [
      "              precision    recall  f1-score   support\n",
      "\n",
      "           0       1.00      1.00      1.00        12\n",
      "           1       0.90      0.90      0.90        10\n",
      "           2       0.94      0.94      0.94        16\n",
      "\n",
      "    accuracy                           0.95        38\n",
      "   macro avg       0.95      0.95      0.95        38\n",
      "weighted avg       0.95      0.95      0.95        38\n",
      "\n"
     ]
    }
   ],
   "source": [
    "# 내부적으로 confusion matrix를 만든 후 평가 지표별로 점수를 계산해준다.\n",
    "print(classification_report(y_test, knn.predict(X_test)))"
   ]
  },
  {
   "cell_type": "code",
   "execution_count": null,
   "metadata": {},
   "outputs": [],
   "source": []
  },
  {
   "cell_type": "markdown",
   "metadata": {},
   "source": [
    "## Hyper Parameter"
   ]
  },
  {
   "cell_type": "markdown",
   "metadata": {},
   "source": [
    "하이퍼 파라미터에 따라서 성능이 달라진다.  \n",
    "고로, 최적의 하이퍼 파라미터를 찾는 것이 중요하다."
   ]
  },
  {
   "cell_type": "code",
   "execution_count": 34,
   "metadata": {},
   "outputs": [],
   "source": [
    "# 단순하게 하이퍼 파라미터를 for문으로 찾는 방법을 생각할 수 있다.\n",
    "temp = []\n",
    "for i in range(1, 20):\n",
    "    knn = KNeighborsClassifier(n_neighbors=i)\n",
    "    knn.fit(X_train, y_train)\n",
    "    temp.append(knn.score(X_test, y_test))"
   ]
  },
  {
   "cell_type": "code",
   "execution_count": 35,
   "metadata": {},
   "outputs": [
    {
     "data": {
      "text/plain": [
       "[0.9473684210526315,\n",
       " 0.9473684210526315,\n",
       " 0.9473684210526315,\n",
       " 0.9473684210526315,\n",
       " 0.9473684210526315,\n",
       " 0.9473684210526315,\n",
       " 0.9210526315789473,\n",
       " 0.9473684210526315,\n",
       " 0.9210526315789473,\n",
       " 0.9210526315789473,\n",
       " 0.9473684210526315,\n",
       " 0.9210526315789473,\n",
       " 0.9473684210526315,\n",
       " 0.9473684210526315,\n",
       " 0.9473684210526315,\n",
       " 0.9210526315789473,\n",
       " 0.9473684210526315,\n",
       " 0.8947368421052632,\n",
       " 0.8947368421052632]"
      ]
     },
     "execution_count": 35,
     "metadata": {},
     "output_type": "execute_result"
    }
   ],
   "source": [
    "temp"
   ]
  },
  {
   "cell_type": "code",
   "execution_count": 36,
   "metadata": {},
   "outputs": [],
   "source": [
    "import numpy as np"
   ]
  },
  {
   "cell_type": "code",
   "execution_count": 37,
   "metadata": {},
   "outputs": [
    {
     "data": {
      "text/plain": [
       "0"
      ]
     },
     "execution_count": 37,
     "metadata": {},
     "output_type": "execute_result"
    }
   ],
   "source": [
    "# argmax는 가장 큰 값의 index를 알려준다. \n",
    "# n_neighbors가 1일때 성능이 가장 좋다. \n",
    "np.argmax(temp)"
   ]
  },
  {
   "cell_type": "markdown",
   "metadata": {},
   "source": [
    "### 3-way holdout"
   ]
  },
  {
   "cell_type": "markdown",
   "metadata": {},
   "source": [
    "데이터를 총 3등분한다. \n",
    "- train set : 모델 학습에 사용한다.\n",
    "- validationt set : 하이퍼 파라미터를 찾기 위해서 사용한다.\n",
    "- test set : 한번도 안 본 데이터로 모델의 성능을 측정하기 위해서 사용한다."
   ]
  },
  {
   "cell_type": "code",
   "execution_count": 38,
   "metadata": {},
   "outputs": [],
   "source": [
    "X_train, X_test, y_train, y_test = train_test_split(iris.iloc[:, :-1], iris.target)"
   ]
  },
  {
   "cell_type": "code",
   "execution_count": 39,
   "metadata": {},
   "outputs": [],
   "source": [
    "X_train, X_validation, y_train, y_validation = train_test_split(X_train, y_train)"
   ]
  },
  {
   "cell_type": "code",
   "execution_count": 43,
   "metadata": {},
   "outputs": [],
   "source": [
    "# 하이퍼 파라미터를 찾기 위해서 3-way holdout을 한다.\n",
    "temp = []\n",
    "for i in range(1, 20):\n",
    "    knn = KNeighborsClassifier(n_neighbors=i)\n",
    "    knn.fit(X_train, y_train)\n",
    "    temp.append(knn.score(X_validation, y_validation))"
   ]
  },
  {
   "cell_type": "code",
   "execution_count": 44,
   "metadata": {},
   "outputs": [
    {
     "data": {
      "text/plain": [
       "0"
      ]
     },
     "execution_count": 44,
     "metadata": {},
     "output_type": "execute_result"
    }
   ],
   "source": [
    "np.argmax(temp)"
   ]
  },
  {
   "cell_type": "code",
   "execution_count": 45,
   "metadata": {},
   "outputs": [],
   "source": [
    "# 이 방법은 모든 데이터를 사용하기 때문에 위의 temp 방식 보다 많이 사용한다. \n",
    "temp2 = []\n",
    "for i in range(1, 20):\n",
    "    temp2.append(cross_val_score(KNeighborsClassifier(n_neighbors=i), iris.iloc[:,:-1], iris.target).mean())"
   ]
  },
  {
   "cell_type": "code",
   "execution_count": 46,
   "metadata": {},
   "outputs": [
    {
     "data": {
      "text/plain": [
       "5"
      ]
     },
     "execution_count": 46,
     "metadata": {},
     "output_type": "execute_result"
    }
   ],
   "source": [
    "# temp와 최적의 하이퍼 파라미터가 다르게 나왔다. \n",
    "np.argmax(temp2)"
   ]
  },
  {
   "cell_type": "code",
   "execution_count": 47,
   "metadata": {},
   "outputs": [
    {
     "data": {
      "text/plain": [
       "[0.96,\n",
       " 0.9466666666666665,\n",
       " 0.9666666666666668,\n",
       " 0.9733333333333334,\n",
       " 0.9733333333333334,\n",
       " 0.9800000000000001,\n",
       " 0.9800000000000001,\n",
       " 0.9666666666666668,\n",
       " 0.9733333333333334,\n",
       " 0.9800000000000001,\n",
       " 0.9800000000000001,\n",
       " 0.9800000000000001,\n",
       " 0.9733333333333334,\n",
       " 0.9666666666666666,\n",
       " 0.9666666666666668,\n",
       " 0.9666666666666668,\n",
       " 0.9666666666666668,\n",
       " 0.9666666666666666,\n",
       " 0.9666666666666668]"
      ]
     },
     "execution_count": 47,
     "metadata": {},
     "output_type": "execute_result"
    }
   ],
   "source": [
    "temp2"
   ]
  },
  {
   "cell_type": "code",
   "execution_count": 48,
   "metadata": {},
   "outputs": [
    {
     "data": {
      "text/plain": [
       "KNeighborsClassifier(algorithm='auto', leaf_size=30, metric='minkowski',\n",
       "                     metric_params=None, n_jobs=None, n_neighbors=6, p=2,\n",
       "                     weights='uniform')"
      ]
     },
     "execution_count": 48,
     "metadata": {},
     "output_type": "execute_result"
    }
   ],
   "source": [
    "# 최종 모델은 모든 데이터를 써서 학습한다.\n",
    "knn_final = KNeighborsClassifier(n_neighbors=6)\n",
    "knn_final.fit(iris.iloc[:, :-1], iris.target)"
   ]
  },
  {
   "cell_type": "markdown",
   "metadata": {},
   "source": [
    "### GridSearchCV"
   ]
  },
  {
   "cell_type": "markdown",
   "metadata": {},
   "source": [
    "scikit-learn에서 하이퍼 파라미터를 편하게 찾는 기능을 제공하고 있다. "
   ]
  },
  {
   "cell_type": "code",
   "execution_count": 49,
   "metadata": {},
   "outputs": [],
   "source": [
    "from sklearn.model_selection import GridSearchCV"
   ]
  },
  {
   "cell_type": "code",
   "execution_count": 58,
   "metadata": {},
   "outputs": [],
   "source": [
    "knn = KNeighborsClassifier()"
   ]
  },
  {
   "cell_type": "code",
   "execution_count": 60,
   "metadata": {},
   "outputs": [
    {
     "data": {
      "text/plain": [
       "{'algorithm': 'auto',\n",
       " 'leaf_size': 30,\n",
       " 'metric': 'minkowski',\n",
       " 'metric_params': None,\n",
       " 'n_jobs': None,\n",
       " 'n_neighbors': 5,\n",
       " 'p': 2,\n",
       " 'weights': 'uniform'}"
      ]
     },
     "execution_count": 60,
     "metadata": {},
     "output_type": "execute_result"
    }
   ],
   "source": [
    "# scikit-learn의 모델들은 get_params를 공통적으로 가지고 있다.\n",
    "# 알고리즘이 사용할 수 있는 하이퍼 파라미터를 알려준다.\n",
    "knn.get_params()"
   ]
  },
  {
   "cell_type": "code",
   "execution_count": 50,
   "metadata": {},
   "outputs": [],
   "source": [
    "# param_grid의 key는 get_params에 나오는 하이퍼 파라미터만 쓸 수 있다.\n",
    "# param_grid의 value는 테스트해볼 하이퍼 파라미터를 리스트로 넣는다.\n",
    "grid = GridSearchCV(KNeighborsClassifier(), {'n_neighbors':[2,3,4,5,6,7]})"
   ]
  },
  {
   "cell_type": "code",
   "execution_count": 52,
   "metadata": {},
   "outputs": [
    {
     "data": {
      "text/plain": [
       "GridSearchCV(cv=None, error_score=nan,\n",
       "             estimator=KNeighborsClassifier(algorithm='auto', leaf_size=30,\n",
       "                                            metric='minkowski',\n",
       "                                            metric_params=None, n_jobs=None,\n",
       "                                            n_neighbors=5, p=2,\n",
       "                                            weights='uniform'),\n",
       "             iid='deprecated', n_jobs=None,\n",
       "             param_grid={'n_neighbors': [2, 3, 4, 5, 6, 7]},\n",
       "             pre_dispatch='2*n_jobs', refit=True, return_train_score=False,\n",
       "             scoring=None, verbose=0)"
      ]
     },
     "execution_count": 52,
     "metadata": {},
     "output_type": "execute_result"
    }
   ],
   "source": [
    "grid.fit(iris.iloc[:, :-1], iris.target)"
   ]
  },
  {
   "cell_type": "code",
   "execution_count": 53,
   "metadata": {},
   "outputs": [
    {
     "data": {
      "text/plain": [
       "{'n_neighbors': 6}"
      ]
     },
     "execution_count": 53,
     "metadata": {},
     "output_type": "execute_result"
    }
   ],
   "source": [
    "# 가장 좋은 하이퍼 파라미터를 한번에 찾아준다.\n",
    "grid.best_params_"
   ]
  },
  {
   "cell_type": "code",
   "execution_count": 54,
   "metadata": {},
   "outputs": [
    {
     "data": {
      "text/plain": [
       "0.9800000000000001"
      ]
     },
     "execution_count": 54,
     "metadata": {},
     "output_type": "execute_result"
    }
   ],
   "source": [
    "# 가장 좋은 하이퍼 파라미터의 성능을 알려준다.\n",
    "grid.best_score_"
   ]
  },
  {
   "cell_type": "code",
   "execution_count": 57,
   "metadata": {},
   "outputs": [
    {
     "data": {
      "text/plain": [
       "{'mean_fit_time': array([0.00259261, 0.0028038 , 0.00340114, 0.00339971, 0.0036006 ,\n",
       "        0.00259995]),\n",
       " 'std_fit_time': array([0.00049645, 0.00038461, 0.00049274, 0.00149542, 0.00049095,\n",
       "        0.00048998]),\n",
       " 'mean_score_time': array([0.00399919, 0.00440502, 0.00459146, 0.00459957, 0.00439868,\n",
       "        0.00400052]),\n",
       " 'std_score_time': array([0.00109671, 0.00101165, 0.00135298, 0.00149641, 0.00102036,\n",
       "        0.00063196]),\n",
       " 'param_n_neighbors': masked_array(data=[2, 3, 4, 5, 6, 7],\n",
       "              mask=[False, False, False, False, False, False],\n",
       "        fill_value='?',\n",
       "             dtype=object),\n",
       " 'params': [{'n_neighbors': 2},\n",
       "  {'n_neighbors': 3},\n",
       "  {'n_neighbors': 4},\n",
       "  {'n_neighbors': 5},\n",
       "  {'n_neighbors': 6},\n",
       "  {'n_neighbors': 7}],\n",
       " 'split0_test_score': array([0.96666667, 0.96666667, 0.96666667, 0.96666667, 0.96666667,\n",
       "        0.96666667]),\n",
       " 'split1_test_score': array([0.93333333, 0.96666667, 0.96666667, 1.        , 1.        ,\n",
       "        1.        ]),\n",
       " 'split2_test_score': array([0.93333333, 0.93333333, 0.96666667, 0.93333333, 0.96666667,\n",
       "        0.96666667]),\n",
       " 'split3_test_score': array([0.9       , 0.96666667, 0.96666667, 0.96666667, 0.96666667,\n",
       "        0.96666667]),\n",
       " 'split4_test_score': array([1., 1., 1., 1., 1., 1.]),\n",
       " 'mean_test_score': array([0.94666667, 0.96666667, 0.97333333, 0.97333333, 0.98      ,\n",
       "        0.98      ]),\n",
       " 'std_test_score': array([0.03399346, 0.02108185, 0.01333333, 0.02494438, 0.01632993,\n",
       "        0.01632993]),\n",
       " 'rank_test_score': array([6, 5, 3, 3, 1, 1])}"
      ]
     },
     "execution_count": 57,
     "metadata": {},
     "output_type": "execute_result"
    }
   ],
   "source": [
    "# grid search한 결과를 총 정리해준다.\n",
    "grid.cv_results_"
   ]
  },
  {
   "cell_type": "code",
   "execution_count": 56,
   "metadata": {},
   "outputs": [
    {
     "data": {
      "text/html": [
       "<div>\n",
       "<style scoped>\n",
       "    .dataframe tbody tr th:only-of-type {\n",
       "        vertical-align: middle;\n",
       "    }\n",
       "\n",
       "    .dataframe tbody tr th {\n",
       "        vertical-align: top;\n",
       "    }\n",
       "\n",
       "    .dataframe thead th {\n",
       "        text-align: right;\n",
       "    }\n",
       "</style>\n",
       "<table border=\"1\" class=\"dataframe\">\n",
       "  <thead>\n",
       "    <tr style=\"text-align: right;\">\n",
       "      <th></th>\n",
       "      <th>0</th>\n",
       "      <th>1</th>\n",
       "      <th>2</th>\n",
       "      <th>3</th>\n",
       "      <th>4</th>\n",
       "      <th>5</th>\n",
       "    </tr>\n",
       "  </thead>\n",
       "  <tbody>\n",
       "    <tr>\n",
       "      <th>mean_fit_time</th>\n",
       "      <td>0.00259261</td>\n",
       "      <td>0.0028038</td>\n",
       "      <td>0.00340114</td>\n",
       "      <td>0.00339971</td>\n",
       "      <td>0.0036006</td>\n",
       "      <td>0.00259995</td>\n",
       "    </tr>\n",
       "    <tr>\n",
       "      <th>std_fit_time</th>\n",
       "      <td>0.000496446</td>\n",
       "      <td>0.000384607</td>\n",
       "      <td>0.000492736</td>\n",
       "      <td>0.00149542</td>\n",
       "      <td>0.000490953</td>\n",
       "      <td>0.00048998</td>\n",
       "    </tr>\n",
       "    <tr>\n",
       "      <th>mean_score_time</th>\n",
       "      <td>0.00399919</td>\n",
       "      <td>0.00440502</td>\n",
       "      <td>0.00459146</td>\n",
       "      <td>0.00459957</td>\n",
       "      <td>0.00439868</td>\n",
       "      <td>0.00400052</td>\n",
       "    </tr>\n",
       "    <tr>\n",
       "      <th>std_score_time</th>\n",
       "      <td>0.00109671</td>\n",
       "      <td>0.00101165</td>\n",
       "      <td>0.00135298</td>\n",
       "      <td>0.00149641</td>\n",
       "      <td>0.00102036</td>\n",
       "      <td>0.000631962</td>\n",
       "    </tr>\n",
       "    <tr>\n",
       "      <th>param_n_neighbors</th>\n",
       "      <td>2</td>\n",
       "      <td>3</td>\n",
       "      <td>4</td>\n",
       "      <td>5</td>\n",
       "      <td>6</td>\n",
       "      <td>7</td>\n",
       "    </tr>\n",
       "    <tr>\n",
       "      <th>params</th>\n",
       "      <td>{'n_neighbors': 2}</td>\n",
       "      <td>{'n_neighbors': 3}</td>\n",
       "      <td>{'n_neighbors': 4}</td>\n",
       "      <td>{'n_neighbors': 5}</td>\n",
       "      <td>{'n_neighbors': 6}</td>\n",
       "      <td>{'n_neighbors': 7}</td>\n",
       "    </tr>\n",
       "    <tr>\n",
       "      <th>split0_test_score</th>\n",
       "      <td>0.966667</td>\n",
       "      <td>0.966667</td>\n",
       "      <td>0.966667</td>\n",
       "      <td>0.966667</td>\n",
       "      <td>0.966667</td>\n",
       "      <td>0.966667</td>\n",
       "    </tr>\n",
       "    <tr>\n",
       "      <th>split1_test_score</th>\n",
       "      <td>0.933333</td>\n",
       "      <td>0.966667</td>\n",
       "      <td>0.966667</td>\n",
       "      <td>1</td>\n",
       "      <td>1</td>\n",
       "      <td>1</td>\n",
       "    </tr>\n",
       "    <tr>\n",
       "      <th>split2_test_score</th>\n",
       "      <td>0.933333</td>\n",
       "      <td>0.933333</td>\n",
       "      <td>0.966667</td>\n",
       "      <td>0.933333</td>\n",
       "      <td>0.966667</td>\n",
       "      <td>0.966667</td>\n",
       "    </tr>\n",
       "    <tr>\n",
       "      <th>split3_test_score</th>\n",
       "      <td>0.9</td>\n",
       "      <td>0.966667</td>\n",
       "      <td>0.966667</td>\n",
       "      <td>0.966667</td>\n",
       "      <td>0.966667</td>\n",
       "      <td>0.966667</td>\n",
       "    </tr>\n",
       "    <tr>\n",
       "      <th>split4_test_score</th>\n",
       "      <td>1</td>\n",
       "      <td>1</td>\n",
       "      <td>1</td>\n",
       "      <td>1</td>\n",
       "      <td>1</td>\n",
       "      <td>1</td>\n",
       "    </tr>\n",
       "    <tr>\n",
       "      <th>mean_test_score</th>\n",
       "      <td>0.946667</td>\n",
       "      <td>0.966667</td>\n",
       "      <td>0.973333</td>\n",
       "      <td>0.973333</td>\n",
       "      <td>0.98</td>\n",
       "      <td>0.98</td>\n",
       "    </tr>\n",
       "    <tr>\n",
       "      <th>std_test_score</th>\n",
       "      <td>0.0339935</td>\n",
       "      <td>0.0210819</td>\n",
       "      <td>0.0133333</td>\n",
       "      <td>0.0249444</td>\n",
       "      <td>0.0163299</td>\n",
       "      <td>0.0163299</td>\n",
       "    </tr>\n",
       "    <tr>\n",
       "      <th>rank_test_score</th>\n",
       "      <td>6</td>\n",
       "      <td>5</td>\n",
       "      <td>3</td>\n",
       "      <td>3</td>\n",
       "      <td>1</td>\n",
       "      <td>1</td>\n",
       "    </tr>\n",
       "  </tbody>\n",
       "</table>\n",
       "</div>"
      ],
      "text/plain": [
       "                                    0                   1                   2  \\\n",
       "mean_fit_time              0.00259261           0.0028038          0.00340114   \n",
       "std_fit_time              0.000496446         0.000384607         0.000492736   \n",
       "mean_score_time            0.00399919          0.00440502          0.00459146   \n",
       "std_score_time             0.00109671          0.00101165          0.00135298   \n",
       "param_n_neighbors                   2                   3                   4   \n",
       "params             {'n_neighbors': 2}  {'n_neighbors': 3}  {'n_neighbors': 4}   \n",
       "split0_test_score            0.966667            0.966667            0.966667   \n",
       "split1_test_score            0.933333            0.966667            0.966667   \n",
       "split2_test_score            0.933333            0.933333            0.966667   \n",
       "split3_test_score                 0.9            0.966667            0.966667   \n",
       "split4_test_score                   1                   1                   1   \n",
       "mean_test_score              0.946667            0.966667            0.973333   \n",
       "std_test_score              0.0339935           0.0210819           0.0133333   \n",
       "rank_test_score                     6                   5                   3   \n",
       "\n",
       "                                    3                   4                   5  \n",
       "mean_fit_time              0.00339971           0.0036006          0.00259995  \n",
       "std_fit_time               0.00149542         0.000490953          0.00048998  \n",
       "mean_score_time            0.00459957          0.00439868          0.00400052  \n",
       "std_score_time             0.00149641          0.00102036         0.000631962  \n",
       "param_n_neighbors                   5                   6                   7  \n",
       "params             {'n_neighbors': 5}  {'n_neighbors': 6}  {'n_neighbors': 7}  \n",
       "split0_test_score            0.966667            0.966667            0.966667  \n",
       "split1_test_score                   1                   1                   1  \n",
       "split2_test_score            0.933333            0.966667            0.966667  \n",
       "split3_test_score            0.966667            0.966667            0.966667  \n",
       "split4_test_score                   1                   1                   1  \n",
       "mean_test_score              0.973333                0.98                0.98  \n",
       "std_test_score              0.0249444           0.0163299           0.0163299  \n",
       "rank_test_score                     3                   1                   1  "
      ]
     },
     "execution_count": 56,
     "metadata": {},
     "output_type": "execute_result"
    }
   ],
   "source": [
    "# pandas로 만들면 보기 쉽다.\n",
    "# column이 너무 많을때는 전치(T)해서 보면 편하다.\n",
    "pd.DataFrame(grid.cv_results_).T"
   ]
  },
  {
   "cell_type": "code",
   "execution_count": 61,
   "metadata": {},
   "outputs": [],
   "source": [
    "# 하이퍼 파라미터를 여러개 사용할 수 있다.\n",
    "grid = GridSearchCV(KNeighborsClassifier(), {'n_neighbors':[2,3,4,5,6,7], 'weights':['distance', 'uniform']})"
   ]
  },
  {
   "cell_type": "code",
   "execution_count": 62,
   "metadata": {},
   "outputs": [
    {
     "data": {
      "text/plain": [
       "GridSearchCV(cv=None, error_score=nan,\n",
       "             estimator=KNeighborsClassifier(algorithm='auto', leaf_size=30,\n",
       "                                            metric='minkowski',\n",
       "                                            metric_params=None, n_jobs=None,\n",
       "                                            n_neighbors=5, p=2,\n",
       "                                            weights='uniform'),\n",
       "             iid='deprecated', n_jobs=None,\n",
       "             param_grid={'n_neighbors': [2, 3, 4, 5, 6, 7],\n",
       "                         'weights': ['distance', 'uniform']},\n",
       "             pre_dispatch='2*n_jobs', refit=True, return_train_score=False,\n",
       "             scoring=None, verbose=0)"
      ]
     },
     "execution_count": 62,
     "metadata": {},
     "output_type": "execute_result"
    }
   ],
   "source": [
    "grid.fit(iris.iloc[:, :-1], iris.target)"
   ]
  },
  {
   "cell_type": "code",
   "execution_count": 63,
   "metadata": {},
   "outputs": [
    {
     "data": {
      "text/html": [
       "<div>\n",
       "<style scoped>\n",
       "    .dataframe tbody tr th:only-of-type {\n",
       "        vertical-align: middle;\n",
       "    }\n",
       "\n",
       "    .dataframe tbody tr th {\n",
       "        vertical-align: top;\n",
       "    }\n",
       "\n",
       "    .dataframe thead th {\n",
       "        text-align: right;\n",
       "    }\n",
       "</style>\n",
       "<table border=\"1\" class=\"dataframe\">\n",
       "  <thead>\n",
       "    <tr style=\"text-align: right;\">\n",
       "      <th></th>\n",
       "      <th>0</th>\n",
       "      <th>1</th>\n",
       "      <th>2</th>\n",
       "      <th>3</th>\n",
       "      <th>4</th>\n",
       "      <th>5</th>\n",
       "      <th>6</th>\n",
       "      <th>7</th>\n",
       "      <th>8</th>\n",
       "      <th>9</th>\n",
       "      <th>10</th>\n",
       "      <th>11</th>\n",
       "    </tr>\n",
       "  </thead>\n",
       "  <tbody>\n",
       "    <tr>\n",
       "      <th>mean_fit_time</th>\n",
       "      <td>0.00280075</td>\n",
       "      <td>0.00260053</td>\n",
       "      <td>0.00220118</td>\n",
       "      <td>0.00299983</td>\n",
       "      <td>0.00260005</td>\n",
       "      <td>0.00300012</td>\n",
       "      <td>0.00219831</td>\n",
       "      <td>0.00259514</td>\n",
       "      <td>0.00340018</td>\n",
       "      <td>0.0031981</td>\n",
       "      <td>0.00320091</td>\n",
       "      <td>0.00279636</td>\n",
       "    </tr>\n",
       "    <tr>\n",
       "      <th>std_fit_time</th>\n",
       "      <td>0.000399736</td>\n",
       "      <td>0.000800598</td>\n",
       "      <td>0.000402046</td>\n",
       "      <td>0.000631731</td>\n",
       "      <td>0.00080066</td>\n",
       "      <td>0.000631582</td>\n",
       "      <td>0.000398958</td>\n",
       "      <td>0.000479017</td>\n",
       "      <td>0.000502843</td>\n",
       "      <td>0.000980559</td>\n",
       "      <td>0.00074893</td>\n",
       "      <td>0.000743541</td>\n",
       "    </tr>\n",
       "    <tr>\n",
       "      <th>mean_score_time</th>\n",
       "      <td>0.00220037</td>\n",
       "      <td>0.00319891</td>\n",
       "      <td>0.00220089</td>\n",
       "      <td>0.00379953</td>\n",
       "      <td>0.00220008</td>\n",
       "      <td>0.00440893</td>\n",
       "      <td>0.00198145</td>\n",
       "      <td>0.00418992</td>\n",
       "      <td>0.00259848</td>\n",
       "      <td>0.0040009</td>\n",
       "      <td>0.0021986</td>\n",
       "      <td>0.00360026</td>\n",
       "    </tr>\n",
       "    <tr>\n",
       "      <th>std_score_time</th>\n",
       "      <td>0.000400188</td>\n",
       "      <td>0.00039897</td>\n",
       "      <td>0.00039969</td>\n",
       "      <td>0.000747972</td>\n",
       "      <td>0.000400096</td>\n",
       "      <td>0.000783867</td>\n",
       "      <td>2.25264e-05</td>\n",
       "      <td>0.000750529</td>\n",
       "      <td>0.000801423</td>\n",
       "      <td>0.000897951</td>\n",
       "      <td>0.000400711</td>\n",
       "      <td>0.000800327</td>\n",
       "    </tr>\n",
       "    <tr>\n",
       "      <th>param_n_neighbors</th>\n",
       "      <td>2</td>\n",
       "      <td>2</td>\n",
       "      <td>3</td>\n",
       "      <td>3</td>\n",
       "      <td>4</td>\n",
       "      <td>4</td>\n",
       "      <td>5</td>\n",
       "      <td>5</td>\n",
       "      <td>6</td>\n",
       "      <td>6</td>\n",
       "      <td>7</td>\n",
       "      <td>7</td>\n",
       "    </tr>\n",
       "    <tr>\n",
       "      <th>param_weights</th>\n",
       "      <td>distance</td>\n",
       "      <td>uniform</td>\n",
       "      <td>distance</td>\n",
       "      <td>uniform</td>\n",
       "      <td>distance</td>\n",
       "      <td>uniform</td>\n",
       "      <td>distance</td>\n",
       "      <td>uniform</td>\n",
       "      <td>distance</td>\n",
       "      <td>uniform</td>\n",
       "      <td>distance</td>\n",
       "      <td>uniform</td>\n",
       "    </tr>\n",
       "    <tr>\n",
       "      <th>params</th>\n",
       "      <td>{'n_neighbors': 2, 'weights': 'distance'}</td>\n",
       "      <td>{'n_neighbors': 2, 'weights': 'uniform'}</td>\n",
       "      <td>{'n_neighbors': 3, 'weights': 'distance'}</td>\n",
       "      <td>{'n_neighbors': 3, 'weights': 'uniform'}</td>\n",
       "      <td>{'n_neighbors': 4, 'weights': 'distance'}</td>\n",
       "      <td>{'n_neighbors': 4, 'weights': 'uniform'}</td>\n",
       "      <td>{'n_neighbors': 5, 'weights': 'distance'}</td>\n",
       "      <td>{'n_neighbors': 5, 'weights': 'uniform'}</td>\n",
       "      <td>{'n_neighbors': 6, 'weights': 'distance'}</td>\n",
       "      <td>{'n_neighbors': 6, 'weights': 'uniform'}</td>\n",
       "      <td>{'n_neighbors': 7, 'weights': 'distance'}</td>\n",
       "      <td>{'n_neighbors': 7, 'weights': 'uniform'}</td>\n",
       "    </tr>\n",
       "    <tr>\n",
       "      <th>split0_test_score</th>\n",
       "      <td>0.966667</td>\n",
       "      <td>0.966667</td>\n",
       "      <td>0.966667</td>\n",
       "      <td>0.966667</td>\n",
       "      <td>0.966667</td>\n",
       "      <td>0.966667</td>\n",
       "      <td>0.966667</td>\n",
       "      <td>0.966667</td>\n",
       "      <td>0.966667</td>\n",
       "      <td>0.966667</td>\n",
       "      <td>0.966667</td>\n",
       "      <td>0.966667</td>\n",
       "    </tr>\n",
       "    <tr>\n",
       "      <th>split1_test_score</th>\n",
       "      <td>0.966667</td>\n",
       "      <td>0.933333</td>\n",
       "      <td>0.966667</td>\n",
       "      <td>0.966667</td>\n",
       "      <td>0.966667</td>\n",
       "      <td>0.966667</td>\n",
       "      <td>1</td>\n",
       "      <td>1</td>\n",
       "      <td>1</td>\n",
       "      <td>1</td>\n",
       "      <td>1</td>\n",
       "      <td>1</td>\n",
       "    </tr>\n",
       "    <tr>\n",
       "      <th>split2_test_score</th>\n",
       "      <td>0.933333</td>\n",
       "      <td>0.933333</td>\n",
       "      <td>0.933333</td>\n",
       "      <td>0.933333</td>\n",
       "      <td>0.933333</td>\n",
       "      <td>0.966667</td>\n",
       "      <td>0.9</td>\n",
       "      <td>0.933333</td>\n",
       "      <td>0.966667</td>\n",
       "      <td>0.966667</td>\n",
       "      <td>0.966667</td>\n",
       "      <td>0.966667</td>\n",
       "    </tr>\n",
       "    <tr>\n",
       "      <th>split3_test_score</th>\n",
       "      <td>0.933333</td>\n",
       "      <td>0.9</td>\n",
       "      <td>0.966667</td>\n",
       "      <td>0.966667</td>\n",
       "      <td>0.966667</td>\n",
       "      <td>0.966667</td>\n",
       "      <td>0.966667</td>\n",
       "      <td>0.966667</td>\n",
       "      <td>0.966667</td>\n",
       "      <td>0.966667</td>\n",
       "      <td>0.966667</td>\n",
       "      <td>0.966667</td>\n",
       "    </tr>\n",
       "    <tr>\n",
       "      <th>split4_test_score</th>\n",
       "      <td>1</td>\n",
       "      <td>1</td>\n",
       "      <td>1</td>\n",
       "      <td>1</td>\n",
       "      <td>1</td>\n",
       "      <td>1</td>\n",
       "      <td>1</td>\n",
       "      <td>1</td>\n",
       "      <td>1</td>\n",
       "      <td>1</td>\n",
       "      <td>1</td>\n",
       "      <td>1</td>\n",
       "    </tr>\n",
       "    <tr>\n",
       "      <th>mean_test_score</th>\n",
       "      <td>0.96</td>\n",
       "      <td>0.946667</td>\n",
       "      <td>0.966667</td>\n",
       "      <td>0.966667</td>\n",
       "      <td>0.966667</td>\n",
       "      <td>0.973333</td>\n",
       "      <td>0.966667</td>\n",
       "      <td>0.973333</td>\n",
       "      <td>0.98</td>\n",
       "      <td>0.98</td>\n",
       "      <td>0.98</td>\n",
       "      <td>0.98</td>\n",
       "    </tr>\n",
       "    <tr>\n",
       "      <th>std_test_score</th>\n",
       "      <td>0.0249444</td>\n",
       "      <td>0.0339935</td>\n",
       "      <td>0.0210819</td>\n",
       "      <td>0.0210819</td>\n",
       "      <td>0.0210819</td>\n",
       "      <td>0.0133333</td>\n",
       "      <td>0.0365148</td>\n",
       "      <td>0.0249444</td>\n",
       "      <td>0.0163299</td>\n",
       "      <td>0.0163299</td>\n",
       "      <td>0.0163299</td>\n",
       "      <td>0.0163299</td>\n",
       "    </tr>\n",
       "    <tr>\n",
       "      <th>rank_test_score</th>\n",
       "      <td>11</td>\n",
       "      <td>12</td>\n",
       "      <td>7</td>\n",
       "      <td>7</td>\n",
       "      <td>7</td>\n",
       "      <td>5</td>\n",
       "      <td>7</td>\n",
       "      <td>5</td>\n",
       "      <td>1</td>\n",
       "      <td>1</td>\n",
       "      <td>1</td>\n",
       "      <td>1</td>\n",
       "    </tr>\n",
       "  </tbody>\n",
       "</table>\n",
       "</div>"
      ],
      "text/plain": [
       "                                                           0  \\\n",
       "mean_fit_time                                     0.00280075   \n",
       "std_fit_time                                     0.000399736   \n",
       "mean_score_time                                   0.00220037   \n",
       "std_score_time                                   0.000400188   \n",
       "param_n_neighbors                                          2   \n",
       "param_weights                                       distance   \n",
       "params             {'n_neighbors': 2, 'weights': 'distance'}   \n",
       "split0_test_score                                   0.966667   \n",
       "split1_test_score                                   0.966667   \n",
       "split2_test_score                                   0.933333   \n",
       "split3_test_score                                   0.933333   \n",
       "split4_test_score                                          1   \n",
       "mean_test_score                                         0.96   \n",
       "std_test_score                                     0.0249444   \n",
       "rank_test_score                                           11   \n",
       "\n",
       "                                                          1  \\\n",
       "mean_fit_time                                    0.00260053   \n",
       "std_fit_time                                    0.000800598   \n",
       "mean_score_time                                  0.00319891   \n",
       "std_score_time                                   0.00039897   \n",
       "param_n_neighbors                                         2   \n",
       "param_weights                                       uniform   \n",
       "params             {'n_neighbors': 2, 'weights': 'uniform'}   \n",
       "split0_test_score                                  0.966667   \n",
       "split1_test_score                                  0.933333   \n",
       "split2_test_score                                  0.933333   \n",
       "split3_test_score                                       0.9   \n",
       "split4_test_score                                         1   \n",
       "mean_test_score                                    0.946667   \n",
       "std_test_score                                    0.0339935   \n",
       "rank_test_score                                          12   \n",
       "\n",
       "                                                           2  \\\n",
       "mean_fit_time                                     0.00220118   \n",
       "std_fit_time                                     0.000402046   \n",
       "mean_score_time                                   0.00220089   \n",
       "std_score_time                                    0.00039969   \n",
       "param_n_neighbors                                          3   \n",
       "param_weights                                       distance   \n",
       "params             {'n_neighbors': 3, 'weights': 'distance'}   \n",
       "split0_test_score                                   0.966667   \n",
       "split1_test_score                                   0.966667   \n",
       "split2_test_score                                   0.933333   \n",
       "split3_test_score                                   0.966667   \n",
       "split4_test_score                                          1   \n",
       "mean_test_score                                     0.966667   \n",
       "std_test_score                                     0.0210819   \n",
       "rank_test_score                                            7   \n",
       "\n",
       "                                                          3  \\\n",
       "mean_fit_time                                    0.00299983   \n",
       "std_fit_time                                    0.000631731   \n",
       "mean_score_time                                  0.00379953   \n",
       "std_score_time                                  0.000747972   \n",
       "param_n_neighbors                                         3   \n",
       "param_weights                                       uniform   \n",
       "params             {'n_neighbors': 3, 'weights': 'uniform'}   \n",
       "split0_test_score                                  0.966667   \n",
       "split1_test_score                                  0.966667   \n",
       "split2_test_score                                  0.933333   \n",
       "split3_test_score                                  0.966667   \n",
       "split4_test_score                                         1   \n",
       "mean_test_score                                    0.966667   \n",
       "std_test_score                                    0.0210819   \n",
       "rank_test_score                                           7   \n",
       "\n",
       "                                                           4  \\\n",
       "mean_fit_time                                     0.00260005   \n",
       "std_fit_time                                      0.00080066   \n",
       "mean_score_time                                   0.00220008   \n",
       "std_score_time                                   0.000400096   \n",
       "param_n_neighbors                                          4   \n",
       "param_weights                                       distance   \n",
       "params             {'n_neighbors': 4, 'weights': 'distance'}   \n",
       "split0_test_score                                   0.966667   \n",
       "split1_test_score                                   0.966667   \n",
       "split2_test_score                                   0.933333   \n",
       "split3_test_score                                   0.966667   \n",
       "split4_test_score                                          1   \n",
       "mean_test_score                                     0.966667   \n",
       "std_test_score                                     0.0210819   \n",
       "rank_test_score                                            7   \n",
       "\n",
       "                                                          5  \\\n",
       "mean_fit_time                                    0.00300012   \n",
       "std_fit_time                                    0.000631582   \n",
       "mean_score_time                                  0.00440893   \n",
       "std_score_time                                  0.000783867   \n",
       "param_n_neighbors                                         4   \n",
       "param_weights                                       uniform   \n",
       "params             {'n_neighbors': 4, 'weights': 'uniform'}   \n",
       "split0_test_score                                  0.966667   \n",
       "split1_test_score                                  0.966667   \n",
       "split2_test_score                                  0.966667   \n",
       "split3_test_score                                  0.966667   \n",
       "split4_test_score                                         1   \n",
       "mean_test_score                                    0.973333   \n",
       "std_test_score                                    0.0133333   \n",
       "rank_test_score                                           5   \n",
       "\n",
       "                                                           6  \\\n",
       "mean_fit_time                                     0.00219831   \n",
       "std_fit_time                                     0.000398958   \n",
       "mean_score_time                                   0.00198145   \n",
       "std_score_time                                   2.25264e-05   \n",
       "param_n_neighbors                                          5   \n",
       "param_weights                                       distance   \n",
       "params             {'n_neighbors': 5, 'weights': 'distance'}   \n",
       "split0_test_score                                   0.966667   \n",
       "split1_test_score                                          1   \n",
       "split2_test_score                                        0.9   \n",
       "split3_test_score                                   0.966667   \n",
       "split4_test_score                                          1   \n",
       "mean_test_score                                     0.966667   \n",
       "std_test_score                                     0.0365148   \n",
       "rank_test_score                                            7   \n",
       "\n",
       "                                                          7  \\\n",
       "mean_fit_time                                    0.00259514   \n",
       "std_fit_time                                    0.000479017   \n",
       "mean_score_time                                  0.00418992   \n",
       "std_score_time                                  0.000750529   \n",
       "param_n_neighbors                                         5   \n",
       "param_weights                                       uniform   \n",
       "params             {'n_neighbors': 5, 'weights': 'uniform'}   \n",
       "split0_test_score                                  0.966667   \n",
       "split1_test_score                                         1   \n",
       "split2_test_score                                  0.933333   \n",
       "split3_test_score                                  0.966667   \n",
       "split4_test_score                                         1   \n",
       "mean_test_score                                    0.973333   \n",
       "std_test_score                                    0.0249444   \n",
       "rank_test_score                                           5   \n",
       "\n",
       "                                                           8  \\\n",
       "mean_fit_time                                     0.00340018   \n",
       "std_fit_time                                     0.000502843   \n",
       "mean_score_time                                   0.00259848   \n",
       "std_score_time                                   0.000801423   \n",
       "param_n_neighbors                                          6   \n",
       "param_weights                                       distance   \n",
       "params             {'n_neighbors': 6, 'weights': 'distance'}   \n",
       "split0_test_score                                   0.966667   \n",
       "split1_test_score                                          1   \n",
       "split2_test_score                                   0.966667   \n",
       "split3_test_score                                   0.966667   \n",
       "split4_test_score                                          1   \n",
       "mean_test_score                                         0.98   \n",
       "std_test_score                                     0.0163299   \n",
       "rank_test_score                                            1   \n",
       "\n",
       "                                                          9  \\\n",
       "mean_fit_time                                     0.0031981   \n",
       "std_fit_time                                    0.000980559   \n",
       "mean_score_time                                   0.0040009   \n",
       "std_score_time                                  0.000897951   \n",
       "param_n_neighbors                                         6   \n",
       "param_weights                                       uniform   \n",
       "params             {'n_neighbors': 6, 'weights': 'uniform'}   \n",
       "split0_test_score                                  0.966667   \n",
       "split1_test_score                                         1   \n",
       "split2_test_score                                  0.966667   \n",
       "split3_test_score                                  0.966667   \n",
       "split4_test_score                                         1   \n",
       "mean_test_score                                        0.98   \n",
       "std_test_score                                    0.0163299   \n",
       "rank_test_score                                           1   \n",
       "\n",
       "                                                          10  \\\n",
       "mean_fit_time                                     0.00320091   \n",
       "std_fit_time                                      0.00074893   \n",
       "mean_score_time                                    0.0021986   \n",
       "std_score_time                                   0.000400711   \n",
       "param_n_neighbors                                          7   \n",
       "param_weights                                       distance   \n",
       "params             {'n_neighbors': 7, 'weights': 'distance'}   \n",
       "split0_test_score                                   0.966667   \n",
       "split1_test_score                                          1   \n",
       "split2_test_score                                   0.966667   \n",
       "split3_test_score                                   0.966667   \n",
       "split4_test_score                                          1   \n",
       "mean_test_score                                         0.98   \n",
       "std_test_score                                     0.0163299   \n",
       "rank_test_score                                            1   \n",
       "\n",
       "                                                         11  \n",
       "mean_fit_time                                    0.00279636  \n",
       "std_fit_time                                    0.000743541  \n",
       "mean_score_time                                  0.00360026  \n",
       "std_score_time                                  0.000800327  \n",
       "param_n_neighbors                                         7  \n",
       "param_weights                                       uniform  \n",
       "params             {'n_neighbors': 7, 'weights': 'uniform'}  \n",
       "split0_test_score                                  0.966667  \n",
       "split1_test_score                                         1  \n",
       "split2_test_score                                  0.966667  \n",
       "split3_test_score                                  0.966667  \n",
       "split4_test_score                                         1  \n",
       "mean_test_score                                        0.98  \n",
       "std_test_score                                    0.0163299  \n",
       "rank_test_score                                           1  "
      ]
     },
     "execution_count": 63,
     "metadata": {},
     "output_type": "execute_result"
    }
   ],
   "source": [
    "# params를 보면 하이퍼 파라미터들의 가능한 조합을 모두 계산했다. \n",
    "pd.DataFrame(grid.cv_results_).T"
   ]
  },
  {
   "cell_type": "code",
   "execution_count": 1,
   "metadata": {},
   "outputs": [],
   "source": [
    "from sklearn.datasets import load_wine"
   ]
  },
  {
   "cell_type": "code",
   "execution_count": 2,
   "metadata": {},
   "outputs": [],
   "source": [
    "data = load_wine()"
   ]
  },
  {
   "cell_type": "code",
   "execution_count": 3,
   "metadata": {},
   "outputs": [
    {
     "name": "stderr",
     "output_type": "stream",
     "text": [
      "/Users/sangkim/opt/anaconda3/lib/python3.7/importlib/_bootstrap.py:219: RuntimeWarning: numpy.ufunc size changed, may indicate binary incompatibility. Expected 192 from C header, got 216 from PyObject\n",
      "  return f(*args, **kwds)\n"
     ]
    }
   ],
   "source": [
    "import pandas as pd"
   ]
  },
  {
   "cell_type": "code",
   "execution_count": 4,
   "metadata": {},
   "outputs": [],
   "source": [
    "data_pd = pd.DataFrame(data.data, columns = data.feature_names)"
   ]
  },
  {
   "cell_type": "code",
   "execution_count": 5,
   "metadata": {},
   "outputs": [],
   "source": [
    "data_pd['target'] = pd.DataFrame(data.target, columns = ['target'])"
   ]
  },
  {
   "cell_type": "code",
   "execution_count": 6,
   "metadata": {},
   "outputs": [],
   "source": [
    "wine = data_pd.copy()"
   ]
  },
  {
   "cell_type": "code",
   "execution_count": 7,
   "metadata": {},
   "outputs": [
    {
     "data": {
      "text/html": [
       "<div>\n",
       "<style scoped>\n",
       "    .dataframe tbody tr th:only-of-type {\n",
       "        vertical-align: middle;\n",
       "    }\n",
       "\n",
       "    .dataframe tbody tr th {\n",
       "        vertical-align: top;\n",
       "    }\n",
       "\n",
       "    .dataframe thead th {\n",
       "        text-align: right;\n",
       "    }\n",
       "</style>\n",
       "<table border=\"1\" class=\"dataframe\">\n",
       "  <thead>\n",
       "    <tr style=\"text-align: right;\">\n",
       "      <th></th>\n",
       "      <th>alcohol</th>\n",
       "      <th>malic_acid</th>\n",
       "      <th>ash</th>\n",
       "      <th>alcalinity_of_ash</th>\n",
       "      <th>magnesium</th>\n",
       "      <th>total_phenols</th>\n",
       "      <th>flavanoids</th>\n",
       "      <th>nonflavanoid_phenols</th>\n",
       "      <th>proanthocyanins</th>\n",
       "      <th>color_intensity</th>\n",
       "      <th>hue</th>\n",
       "      <th>od280/od315_of_diluted_wines</th>\n",
       "      <th>proline</th>\n",
       "      <th>target</th>\n",
       "    </tr>\n",
       "  </thead>\n",
       "  <tbody>\n",
       "    <tr>\n",
       "      <th>0</th>\n",
       "      <td>14.23</td>\n",
       "      <td>1.71</td>\n",
       "      <td>2.43</td>\n",
       "      <td>15.6</td>\n",
       "      <td>127.0</td>\n",
       "      <td>2.80</td>\n",
       "      <td>3.06</td>\n",
       "      <td>0.28</td>\n",
       "      <td>2.29</td>\n",
       "      <td>5.64</td>\n",
       "      <td>1.04</td>\n",
       "      <td>3.92</td>\n",
       "      <td>1065.0</td>\n",
       "      <td>0</td>\n",
       "    </tr>\n",
       "    <tr>\n",
       "      <th>1</th>\n",
       "      <td>13.20</td>\n",
       "      <td>1.78</td>\n",
       "      <td>2.14</td>\n",
       "      <td>11.2</td>\n",
       "      <td>100.0</td>\n",
       "      <td>2.65</td>\n",
       "      <td>2.76</td>\n",
       "      <td>0.26</td>\n",
       "      <td>1.28</td>\n",
       "      <td>4.38</td>\n",
       "      <td>1.05</td>\n",
       "      <td>3.40</td>\n",
       "      <td>1050.0</td>\n",
       "      <td>0</td>\n",
       "    </tr>\n",
       "    <tr>\n",
       "      <th>2</th>\n",
       "      <td>13.16</td>\n",
       "      <td>2.36</td>\n",
       "      <td>2.67</td>\n",
       "      <td>18.6</td>\n",
       "      <td>101.0</td>\n",
       "      <td>2.80</td>\n",
       "      <td>3.24</td>\n",
       "      <td>0.30</td>\n",
       "      <td>2.81</td>\n",
       "      <td>5.68</td>\n",
       "      <td>1.03</td>\n",
       "      <td>3.17</td>\n",
       "      <td>1185.0</td>\n",
       "      <td>0</td>\n",
       "    </tr>\n",
       "    <tr>\n",
       "      <th>3</th>\n",
       "      <td>14.37</td>\n",
       "      <td>1.95</td>\n",
       "      <td>2.50</td>\n",
       "      <td>16.8</td>\n",
       "      <td>113.0</td>\n",
       "      <td>3.85</td>\n",
       "      <td>3.49</td>\n",
       "      <td>0.24</td>\n",
       "      <td>2.18</td>\n",
       "      <td>7.80</td>\n",
       "      <td>0.86</td>\n",
       "      <td>3.45</td>\n",
       "      <td>1480.0</td>\n",
       "      <td>0</td>\n",
       "    </tr>\n",
       "    <tr>\n",
       "      <th>4</th>\n",
       "      <td>13.24</td>\n",
       "      <td>2.59</td>\n",
       "      <td>2.87</td>\n",
       "      <td>21.0</td>\n",
       "      <td>118.0</td>\n",
       "      <td>2.80</td>\n",
       "      <td>2.69</td>\n",
       "      <td>0.39</td>\n",
       "      <td>1.82</td>\n",
       "      <td>4.32</td>\n",
       "      <td>1.04</td>\n",
       "      <td>2.93</td>\n",
       "      <td>735.0</td>\n",
       "      <td>0</td>\n",
       "    </tr>\n",
       "    <tr>\n",
       "      <th>...</th>\n",
       "      <td>...</td>\n",
       "      <td>...</td>\n",
       "      <td>...</td>\n",
       "      <td>...</td>\n",
       "      <td>...</td>\n",
       "      <td>...</td>\n",
       "      <td>...</td>\n",
       "      <td>...</td>\n",
       "      <td>...</td>\n",
       "      <td>...</td>\n",
       "      <td>...</td>\n",
       "      <td>...</td>\n",
       "      <td>...</td>\n",
       "      <td>...</td>\n",
       "    </tr>\n",
       "    <tr>\n",
       "      <th>173</th>\n",
       "      <td>13.71</td>\n",
       "      <td>5.65</td>\n",
       "      <td>2.45</td>\n",
       "      <td>20.5</td>\n",
       "      <td>95.0</td>\n",
       "      <td>1.68</td>\n",
       "      <td>0.61</td>\n",
       "      <td>0.52</td>\n",
       "      <td>1.06</td>\n",
       "      <td>7.70</td>\n",
       "      <td>0.64</td>\n",
       "      <td>1.74</td>\n",
       "      <td>740.0</td>\n",
       "      <td>2</td>\n",
       "    </tr>\n",
       "    <tr>\n",
       "      <th>174</th>\n",
       "      <td>13.40</td>\n",
       "      <td>3.91</td>\n",
       "      <td>2.48</td>\n",
       "      <td>23.0</td>\n",
       "      <td>102.0</td>\n",
       "      <td>1.80</td>\n",
       "      <td>0.75</td>\n",
       "      <td>0.43</td>\n",
       "      <td>1.41</td>\n",
       "      <td>7.30</td>\n",
       "      <td>0.70</td>\n",
       "      <td>1.56</td>\n",
       "      <td>750.0</td>\n",
       "      <td>2</td>\n",
       "    </tr>\n",
       "    <tr>\n",
       "      <th>175</th>\n",
       "      <td>13.27</td>\n",
       "      <td>4.28</td>\n",
       "      <td>2.26</td>\n",
       "      <td>20.0</td>\n",
       "      <td>120.0</td>\n",
       "      <td>1.59</td>\n",
       "      <td>0.69</td>\n",
       "      <td>0.43</td>\n",
       "      <td>1.35</td>\n",
       "      <td>10.20</td>\n",
       "      <td>0.59</td>\n",
       "      <td>1.56</td>\n",
       "      <td>835.0</td>\n",
       "      <td>2</td>\n",
       "    </tr>\n",
       "    <tr>\n",
       "      <th>176</th>\n",
       "      <td>13.17</td>\n",
       "      <td>2.59</td>\n",
       "      <td>2.37</td>\n",
       "      <td>20.0</td>\n",
       "      <td>120.0</td>\n",
       "      <td>1.65</td>\n",
       "      <td>0.68</td>\n",
       "      <td>0.53</td>\n",
       "      <td>1.46</td>\n",
       "      <td>9.30</td>\n",
       "      <td>0.60</td>\n",
       "      <td>1.62</td>\n",
       "      <td>840.0</td>\n",
       "      <td>2</td>\n",
       "    </tr>\n",
       "    <tr>\n",
       "      <th>177</th>\n",
       "      <td>14.13</td>\n",
       "      <td>4.10</td>\n",
       "      <td>2.74</td>\n",
       "      <td>24.5</td>\n",
       "      <td>96.0</td>\n",
       "      <td>2.05</td>\n",
       "      <td>0.76</td>\n",
       "      <td>0.56</td>\n",
       "      <td>1.35</td>\n",
       "      <td>9.20</td>\n",
       "      <td>0.61</td>\n",
       "      <td>1.60</td>\n",
       "      <td>560.0</td>\n",
       "      <td>2</td>\n",
       "    </tr>\n",
       "  </tbody>\n",
       "</table>\n",
       "<p>178 rows × 14 columns</p>\n",
       "</div>"
      ],
      "text/plain": [
       "     alcohol  malic_acid   ash  alcalinity_of_ash  magnesium  total_phenols  \\\n",
       "0      14.23        1.71  2.43               15.6      127.0           2.80   \n",
       "1      13.20        1.78  2.14               11.2      100.0           2.65   \n",
       "2      13.16        2.36  2.67               18.6      101.0           2.80   \n",
       "3      14.37        1.95  2.50               16.8      113.0           3.85   \n",
       "4      13.24        2.59  2.87               21.0      118.0           2.80   \n",
       "..       ...         ...   ...                ...        ...            ...   \n",
       "173    13.71        5.65  2.45               20.5       95.0           1.68   \n",
       "174    13.40        3.91  2.48               23.0      102.0           1.80   \n",
       "175    13.27        4.28  2.26               20.0      120.0           1.59   \n",
       "176    13.17        2.59  2.37               20.0      120.0           1.65   \n",
       "177    14.13        4.10  2.74               24.5       96.0           2.05   \n",
       "\n",
       "     flavanoids  nonflavanoid_phenols  proanthocyanins  color_intensity   hue  \\\n",
       "0          3.06                  0.28             2.29             5.64  1.04   \n",
       "1          2.76                  0.26             1.28             4.38  1.05   \n",
       "2          3.24                  0.30             2.81             5.68  1.03   \n",
       "3          3.49                  0.24             2.18             7.80  0.86   \n",
       "4          2.69                  0.39             1.82             4.32  1.04   \n",
       "..          ...                   ...              ...              ...   ...   \n",
       "173        0.61                  0.52             1.06             7.70  0.64   \n",
       "174        0.75                  0.43             1.41             7.30  0.70   \n",
       "175        0.69                  0.43             1.35            10.20  0.59   \n",
       "176        0.68                  0.53             1.46             9.30  0.60   \n",
       "177        0.76                  0.56             1.35             9.20  0.61   \n",
       "\n",
       "     od280/od315_of_diluted_wines  proline  target  \n",
       "0                            3.92   1065.0       0  \n",
       "1                            3.40   1050.0       0  \n",
       "2                            3.17   1185.0       0  \n",
       "3                            3.45   1480.0       0  \n",
       "4                            2.93    735.0       0  \n",
       "..                            ...      ...     ...  \n",
       "173                          1.74    740.0       2  \n",
       "174                          1.56    750.0       2  \n",
       "175                          1.56    835.0       2  \n",
       "176                          1.62    840.0       2  \n",
       "177                          1.60    560.0       2  \n",
       "\n",
       "[178 rows x 14 columns]"
      ]
     },
     "execution_count": 7,
     "metadata": {},
     "output_type": "execute_result"
    }
   ],
   "source": [
    "wine"
   ]
  },
  {
   "cell_type": "code",
   "execution_count": 8,
   "metadata": {},
   "outputs": [],
   "source": [
    "from sklearn.model_selection import GridSearchCV"
   ]
  },
  {
   "cell_type": "code",
   "execution_count": 9,
   "metadata": {},
   "outputs": [],
   "source": [
    "from sklearn.linear_model import LogisticRegression"
   ]
  },
  {
   "cell_type": "code",
   "execution_count": 12,
   "metadata": {},
   "outputs": [],
   "source": [
    "from sklearn.neighbors import KNeighborsClassifier"
   ]
  },
  {
   "cell_type": "code",
   "execution_count": 14,
   "metadata": {},
   "outputs": [],
   "source": [
    "def all_models(X_train, y_train, X_validation, y_validation, cv=10):\n",
    "    #1 Logistic Regression\n",
    "    grid_lr = GridSearchCV(LogisticRegression(), cv=cv)\n",
    "    grid_lr.fit(X_train, y_train)\n",
    "    lr_pd = pd.DataFrame(grid_lr.cv_results_)\n",
    "    # 2. knn\n",
    "    grid_knn = GridSearchCV(KNeighborsClassifier(), cv=cv)\n",
    "    grid_knn.fit(X_train, y_train)\n",
    "    knn_pd = pd.DataFrame(grid_knn.cv_results_)"
   ]
  },
  {
   "cell_type": "code",
   "execution_count": 16,
   "metadata": {},
   "outputs": [],
   "source": [
    "grid = GridSearchCV(KNeighborsClassifier(), [{'n_neighbors':[2,3,4,5]},{'n_neighbors':[2,3,4,5],'weights':['uniform','distance']}])"
   ]
  },
  {
   "cell_type": "code",
   "execution_count": 18,
   "metadata": {},
   "outputs": [
    {
     "data": {
      "text/plain": [
       "GridSearchCV(cv=None, error_score=nan,\n",
       "             estimator=KNeighborsClassifier(algorithm='auto', leaf_size=30,\n",
       "                                            metric='minkowski',\n",
       "                                            metric_params=None, n_jobs=None,\n",
       "                                            n_neighbors=5, p=2,\n",
       "                                            weights='uniform'),\n",
       "             iid='deprecated', n_jobs=None,\n",
       "             param_grid=[{'n_neighbors': [2, 3, 4, 5]},\n",
       "                         {'n_neighbors': [2, 3, 4, 5],\n",
       "                          'weights': ['uniform', 'distance']}],\n",
       "             pre_dispatch='2*n_jobs', refit=True, return_train_score=False,\n",
       "             scoring=None, verbose=0)"
      ]
     },
     "execution_count": 18,
     "metadata": {},
     "output_type": "execute_result"
    }
   ],
   "source": [
    "grid.fit(wine.iloc[:,:-1], wine.target)"
   ]
  },
  {
   "cell_type": "code",
   "execution_count": 20,
   "metadata": {},
   "outputs": [
    {
     "data": {
      "text/html": [
       "<div>\n",
       "<style scoped>\n",
       "    .dataframe tbody tr th:only-of-type {\n",
       "        vertical-align: middle;\n",
       "    }\n",
       "\n",
       "    .dataframe tbody tr th {\n",
       "        vertical-align: top;\n",
       "    }\n",
       "\n",
       "    .dataframe thead th {\n",
       "        text-align: right;\n",
       "    }\n",
       "</style>\n",
       "<table border=\"1\" class=\"dataframe\">\n",
       "  <thead>\n",
       "    <tr style=\"text-align: right;\">\n",
       "      <th></th>\n",
       "      <th>mean_fit_time</th>\n",
       "      <th>std_fit_time</th>\n",
       "      <th>mean_score_time</th>\n",
       "      <th>std_score_time</th>\n",
       "      <th>param_n_neighbors</th>\n",
       "      <th>param_weights</th>\n",
       "      <th>params</th>\n",
       "      <th>split0_test_score</th>\n",
       "      <th>split1_test_score</th>\n",
       "      <th>split2_test_score</th>\n",
       "      <th>split3_test_score</th>\n",
       "      <th>split4_test_score</th>\n",
       "      <th>mean_test_score</th>\n",
       "      <th>std_test_score</th>\n",
       "      <th>rank_test_score</th>\n",
       "    </tr>\n",
       "  </thead>\n",
       "  <tbody>\n",
       "    <tr>\n",
       "      <th>0</th>\n",
       "      <td>0.001884</td>\n",
       "      <td>0.000242</td>\n",
       "      <td>0.002658</td>\n",
       "      <td>0.000463</td>\n",
       "      <td>2</td>\n",
       "      <td>NaN</td>\n",
       "      <td>{'n_neighbors': 2}</td>\n",
       "      <td>0.611111</td>\n",
       "      <td>0.611111</td>\n",
       "      <td>0.638889</td>\n",
       "      <td>0.657143</td>\n",
       "      <td>0.800000</td>\n",
       "      <td>0.663651</td>\n",
       "      <td>0.070381</td>\n",
       "      <td>11</td>\n",
       "    </tr>\n",
       "    <tr>\n",
       "      <th>1</th>\n",
       "      <td>0.001519</td>\n",
       "      <td>0.000064</td>\n",
       "      <td>0.002014</td>\n",
       "      <td>0.000040</td>\n",
       "      <td>3</td>\n",
       "      <td>NaN</td>\n",
       "      <td>{'n_neighbors': 3}</td>\n",
       "      <td>0.638889</td>\n",
       "      <td>0.694444</td>\n",
       "      <td>0.666667</td>\n",
       "      <td>0.657143</td>\n",
       "      <td>0.857143</td>\n",
       "      <td>0.702857</td>\n",
       "      <td>0.079204</td>\n",
       "      <td>5</td>\n",
       "    </tr>\n",
       "    <tr>\n",
       "      <th>2</th>\n",
       "      <td>0.001458</td>\n",
       "      <td>0.000152</td>\n",
       "      <td>0.001990</td>\n",
       "      <td>0.000133</td>\n",
       "      <td>4</td>\n",
       "      <td>NaN</td>\n",
       "      <td>{'n_neighbors': 4}</td>\n",
       "      <td>0.638889</td>\n",
       "      <td>0.694444</td>\n",
       "      <td>0.638889</td>\n",
       "      <td>0.657143</td>\n",
       "      <td>0.771429</td>\n",
       "      <td>0.680159</td>\n",
       "      <td>0.049941</td>\n",
       "      <td>9</td>\n",
       "    </tr>\n",
       "    <tr>\n",
       "      <th>3</th>\n",
       "      <td>0.001456</td>\n",
       "      <td>0.000135</td>\n",
       "      <td>0.001959</td>\n",
       "      <td>0.000062</td>\n",
       "      <td>5</td>\n",
       "      <td>NaN</td>\n",
       "      <td>{'n_neighbors': 5}</td>\n",
       "      <td>0.722222</td>\n",
       "      <td>0.666667</td>\n",
       "      <td>0.638889</td>\n",
       "      <td>0.657143</td>\n",
       "      <td>0.771429</td>\n",
       "      <td>0.691270</td>\n",
       "      <td>0.048780</td>\n",
       "      <td>7</td>\n",
       "    </tr>\n",
       "    <tr>\n",
       "      <th>4</th>\n",
       "      <td>0.001325</td>\n",
       "      <td>0.000099</td>\n",
       "      <td>0.001919</td>\n",
       "      <td>0.000156</td>\n",
       "      <td>2</td>\n",
       "      <td>uniform</td>\n",
       "      <td>{'n_neighbors': 2, 'weights': 'uniform'}</td>\n",
       "      <td>0.611111</td>\n",
       "      <td>0.611111</td>\n",
       "      <td>0.638889</td>\n",
       "      <td>0.657143</td>\n",
       "      <td>0.800000</td>\n",
       "      <td>0.663651</td>\n",
       "      <td>0.070381</td>\n",
       "      <td>11</td>\n",
       "    </tr>\n",
       "    <tr>\n",
       "      <th>5</th>\n",
       "      <td>0.001216</td>\n",
       "      <td>0.000056</td>\n",
       "      <td>0.001086</td>\n",
       "      <td>0.000173</td>\n",
       "      <td>2</td>\n",
       "      <td>distance</td>\n",
       "      <td>{'n_neighbors': 2, 'weights': 'distance'}</td>\n",
       "      <td>0.805556</td>\n",
       "      <td>0.638889</td>\n",
       "      <td>0.666667</td>\n",
       "      <td>0.685714</td>\n",
       "      <td>0.828571</td>\n",
       "      <td>0.725079</td>\n",
       "      <td>0.076912</td>\n",
       "      <td>1</td>\n",
       "    </tr>\n",
       "    <tr>\n",
       "      <th>6</th>\n",
       "      <td>0.001255</td>\n",
       "      <td>0.000135</td>\n",
       "      <td>0.001864</td>\n",
       "      <td>0.000209</td>\n",
       "      <td>3</td>\n",
       "      <td>uniform</td>\n",
       "      <td>{'n_neighbors': 3, 'weights': 'uniform'}</td>\n",
       "      <td>0.638889</td>\n",
       "      <td>0.694444</td>\n",
       "      <td>0.666667</td>\n",
       "      <td>0.657143</td>\n",
       "      <td>0.857143</td>\n",
       "      <td>0.702857</td>\n",
       "      <td>0.079204</td>\n",
       "      <td>5</td>\n",
       "    </tr>\n",
       "    <tr>\n",
       "      <th>7</th>\n",
       "      <td>0.001244</td>\n",
       "      <td>0.000106</td>\n",
       "      <td>0.001076</td>\n",
       "      <td>0.000137</td>\n",
       "      <td>3</td>\n",
       "      <td>distance</td>\n",
       "      <td>{'n_neighbors': 3, 'weights': 'distance'}</td>\n",
       "      <td>0.722222</td>\n",
       "      <td>0.722222</td>\n",
       "      <td>0.666667</td>\n",
       "      <td>0.657143</td>\n",
       "      <td>0.857143</td>\n",
       "      <td>0.725079</td>\n",
       "      <td>0.071393</td>\n",
       "      <td>1</td>\n",
       "    </tr>\n",
       "    <tr>\n",
       "      <th>8</th>\n",
       "      <td>0.001268</td>\n",
       "      <td>0.000176</td>\n",
       "      <td>0.001827</td>\n",
       "      <td>0.000242</td>\n",
       "      <td>4</td>\n",
       "      <td>uniform</td>\n",
       "      <td>{'n_neighbors': 4, 'weights': 'uniform'}</td>\n",
       "      <td>0.638889</td>\n",
       "      <td>0.694444</td>\n",
       "      <td>0.638889</td>\n",
       "      <td>0.657143</td>\n",
       "      <td>0.771429</td>\n",
       "      <td>0.680159</td>\n",
       "      <td>0.049941</td>\n",
       "      <td>9</td>\n",
       "    </tr>\n",
       "    <tr>\n",
       "      <th>9</th>\n",
       "      <td>0.001321</td>\n",
       "      <td>0.000143</td>\n",
       "      <td>0.001062</td>\n",
       "      <td>0.000133</td>\n",
       "      <td>4</td>\n",
       "      <td>distance</td>\n",
       "      <td>{'n_neighbors': 4, 'weights': 'distance'}</td>\n",
       "      <td>0.666667</td>\n",
       "      <td>0.694444</td>\n",
       "      <td>0.694444</td>\n",
       "      <td>0.657143</td>\n",
       "      <td>0.857143</td>\n",
       "      <td>0.713968</td>\n",
       "      <td>0.073113</td>\n",
       "      <td>4</td>\n",
       "    </tr>\n",
       "    <tr>\n",
       "      <th>10</th>\n",
       "      <td>0.001278</td>\n",
       "      <td>0.000100</td>\n",
       "      <td>0.001953</td>\n",
       "      <td>0.000170</td>\n",
       "      <td>5</td>\n",
       "      <td>uniform</td>\n",
       "      <td>{'n_neighbors': 5, 'weights': 'uniform'}</td>\n",
       "      <td>0.722222</td>\n",
       "      <td>0.666667</td>\n",
       "      <td>0.638889</td>\n",
       "      <td>0.657143</td>\n",
       "      <td>0.771429</td>\n",
       "      <td>0.691270</td>\n",
       "      <td>0.048780</td>\n",
       "      <td>7</td>\n",
       "    </tr>\n",
       "    <tr>\n",
       "      <th>11</th>\n",
       "      <td>0.001238</td>\n",
       "      <td>0.000076</td>\n",
       "      <td>0.001033</td>\n",
       "      <td>0.000108</td>\n",
       "      <td>5</td>\n",
       "      <td>distance</td>\n",
       "      <td>{'n_neighbors': 5, 'weights': 'distance'}</td>\n",
       "      <td>0.777778</td>\n",
       "      <td>0.638889</td>\n",
       "      <td>0.666667</td>\n",
       "      <td>0.657143</td>\n",
       "      <td>0.857143</td>\n",
       "      <td>0.719524</td>\n",
       "      <td>0.084285</td>\n",
       "      <td>3</td>\n",
       "    </tr>\n",
       "  </tbody>\n",
       "</table>\n",
       "</div>"
      ],
      "text/plain": [
       "    mean_fit_time  std_fit_time  mean_score_time  std_score_time  \\\n",
       "0        0.001884      0.000242         0.002658        0.000463   \n",
       "1        0.001519      0.000064         0.002014        0.000040   \n",
       "2        0.001458      0.000152         0.001990        0.000133   \n",
       "3        0.001456      0.000135         0.001959        0.000062   \n",
       "4        0.001325      0.000099         0.001919        0.000156   \n",
       "5        0.001216      0.000056         0.001086        0.000173   \n",
       "6        0.001255      0.000135         0.001864        0.000209   \n",
       "7        0.001244      0.000106         0.001076        0.000137   \n",
       "8        0.001268      0.000176         0.001827        0.000242   \n",
       "9        0.001321      0.000143         0.001062        0.000133   \n",
       "10       0.001278      0.000100         0.001953        0.000170   \n",
       "11       0.001238      0.000076         0.001033        0.000108   \n",
       "\n",
       "   param_n_neighbors param_weights                                     params  \\\n",
       "0                  2           NaN                         {'n_neighbors': 2}   \n",
       "1                  3           NaN                         {'n_neighbors': 3}   \n",
       "2                  4           NaN                         {'n_neighbors': 4}   \n",
       "3                  5           NaN                         {'n_neighbors': 5}   \n",
       "4                  2       uniform   {'n_neighbors': 2, 'weights': 'uniform'}   \n",
       "5                  2      distance  {'n_neighbors': 2, 'weights': 'distance'}   \n",
       "6                  3       uniform   {'n_neighbors': 3, 'weights': 'uniform'}   \n",
       "7                  3      distance  {'n_neighbors': 3, 'weights': 'distance'}   \n",
       "8                  4       uniform   {'n_neighbors': 4, 'weights': 'uniform'}   \n",
       "9                  4      distance  {'n_neighbors': 4, 'weights': 'distance'}   \n",
       "10                 5       uniform   {'n_neighbors': 5, 'weights': 'uniform'}   \n",
       "11                 5      distance  {'n_neighbors': 5, 'weights': 'distance'}   \n",
       "\n",
       "    split0_test_score  split1_test_score  split2_test_score  \\\n",
       "0            0.611111           0.611111           0.638889   \n",
       "1            0.638889           0.694444           0.666667   \n",
       "2            0.638889           0.694444           0.638889   \n",
       "3            0.722222           0.666667           0.638889   \n",
       "4            0.611111           0.611111           0.638889   \n",
       "5            0.805556           0.638889           0.666667   \n",
       "6            0.638889           0.694444           0.666667   \n",
       "7            0.722222           0.722222           0.666667   \n",
       "8            0.638889           0.694444           0.638889   \n",
       "9            0.666667           0.694444           0.694444   \n",
       "10           0.722222           0.666667           0.638889   \n",
       "11           0.777778           0.638889           0.666667   \n",
       "\n",
       "    split3_test_score  split4_test_score  mean_test_score  std_test_score  \\\n",
       "0            0.657143           0.800000         0.663651        0.070381   \n",
       "1            0.657143           0.857143         0.702857        0.079204   \n",
       "2            0.657143           0.771429         0.680159        0.049941   \n",
       "3            0.657143           0.771429         0.691270        0.048780   \n",
       "4            0.657143           0.800000         0.663651        0.070381   \n",
       "5            0.685714           0.828571         0.725079        0.076912   \n",
       "6            0.657143           0.857143         0.702857        0.079204   \n",
       "7            0.657143           0.857143         0.725079        0.071393   \n",
       "8            0.657143           0.771429         0.680159        0.049941   \n",
       "9            0.657143           0.857143         0.713968        0.073113   \n",
       "10           0.657143           0.771429         0.691270        0.048780   \n",
       "11           0.657143           0.857143         0.719524        0.084285   \n",
       "\n",
       "    rank_test_score  \n",
       "0                11  \n",
       "1                 5  \n",
       "2                 9  \n",
       "3                 7  \n",
       "4                11  \n",
       "5                 1  \n",
       "6                 5  \n",
       "7                 1  \n",
       "8                 9  \n",
       "9                 4  \n",
       "10                7  \n",
       "11                3  "
      ]
     },
     "execution_count": 20,
     "metadata": {},
     "output_type": "execute_result"
    }
   ],
   "source": [
    "pd.DataFrame(grid.cv_results_)"
   ]
  },
  {
   "cell_type": "code",
   "execution_count": 21,
   "metadata": {},
   "outputs": [],
   "source": [
    "from sklearn.pipeline import Pipeline"
   ]
  },
  {
   "cell_type": "code",
   "execution_count": 23,
   "metadata": {},
   "outputs": [],
   "source": [
    "from sklearn.preprocessing import StandardScaler"
   ]
  },
  {
   "cell_type": "code",
   "execution_count": 25,
   "metadata": {},
   "outputs": [],
   "source": [
    "pipe = Pipeline([('ss', StandardScaler()), ('knn', KNeighborsClassifier())])"
   ]
  },
  {
   "cell_type": "code",
   "execution_count": 27,
   "metadata": {},
   "outputs": [
    {
     "data": {
      "text/plain": [
       "{'steps': [('ss', StandardScaler(copy=True, with_mean=True, with_std=True)),\n",
       "  ('knn',\n",
       "   KNeighborsClassifier(algorithm='auto', leaf_size=30, metric='minkowski',\n",
       "                        metric_params=None, n_jobs=None, n_neighbors=5, p=2,\n",
       "                        weights='uniform'))],\n",
       " 'memory': None,\n",
       " 'verbose': False}"
      ]
     },
     "execution_count": 27,
     "metadata": {},
     "output_type": "execute_result"
    }
   ],
   "source": [
    "vars(pipe)"
   ]
  },
  {
   "cell_type": "code",
   "execution_count": 30,
   "metadata": {},
   "outputs": [
    {
     "data": {
      "text/plain": [
       "<bound method BaseEstimator.get_params of KNeighborsClassifier(algorithm='auto', leaf_size=30, metric='minkowski',\n",
       "                     metric_params=None, n_jobs=None, n_neighbors=5, p=2,\n",
       "                     weights='uniform')>"
      ]
     },
     "execution_count": 30,
     "metadata": {},
     "output_type": "execute_result"
    }
   ],
   "source": [
    "pipe.steps[-1][-1].get_params"
   ]
  },
  {
   "cell_type": "code",
   "execution_count": 36,
   "metadata": {},
   "outputs": [],
   "source": [
    "grid = GridSearchCV(pipe, {'knn__n_neighbors':[2,3,4,5]}) ## pipe는 언더바 2개 __ 넣어줘야 된다?"
   ]
  },
  {
   "cell_type": "code",
   "execution_count": 37,
   "metadata": {},
   "outputs": [
    {
     "data": {
      "text/plain": [
       "GridSearchCV(cv=None, error_score=nan,\n",
       "             estimator=Pipeline(memory=None,\n",
       "                                steps=[('ss',\n",
       "                                        StandardScaler(copy=True,\n",
       "                                                       with_mean=True,\n",
       "                                                       with_std=True)),\n",
       "                                       ('knn',\n",
       "                                        KNeighborsClassifier(algorithm='auto',\n",
       "                                                             leaf_size=30,\n",
       "                                                             metric='minkowski',\n",
       "                                                             metric_params=None,\n",
       "                                                             n_jobs=None,\n",
       "                                                             n_neighbors=5, p=2,\n",
       "                                                             weights='uniform'))],\n",
       "                                verbose=False),\n",
       "             iid='deprecated', n_jobs=None,\n",
       "             param_grid={'knn__n_neighbors': [2, 3, 4, 5]},\n",
       "             pre_dispatch='2*n_jobs', refit=True, return_train_score=False,\n",
       "             scoring=None, verbose=0)"
      ]
     },
     "execution_count": 37,
     "metadata": {},
     "output_type": "execute_result"
    }
   ],
   "source": [
    "grid.fit(wine.iloc[:,:-1], wine.target)"
   ]
  },
  {
   "cell_type": "code",
   "execution_count": 38,
   "metadata": {},
   "outputs": [],
   "source": [
    "pipe = Pipeline([('ss', StandardScaler()), ('clf', KNeighborsClassifier())])"
   ]
  },
  {
   "cell_type": "code",
   "execution_count": 39,
   "metadata": {},
   "outputs": [],
   "source": [
    "from sklearn.linear_model import LogisticRegression"
   ]
  },
  {
   "cell_type": "code",
   "execution_count": 40,
   "metadata": {},
   "outputs": [],
   "source": [
    "grid = GridSearchCV(pipe, {'clf':[KNeighborsClassifier(), LogisticRegression()]})"
   ]
  },
  {
   "cell_type": "code",
   "execution_count": 41,
   "metadata": {},
   "outputs": [
    {
     "data": {
      "text/plain": [
       "GridSearchCV(cv=None, error_score=nan,\n",
       "             estimator=Pipeline(memory=None,\n",
       "                                steps=[('ss',\n",
       "                                        StandardScaler(copy=True,\n",
       "                                                       with_mean=True,\n",
       "                                                       with_std=True)),\n",
       "                                       ('clf',\n",
       "                                        KNeighborsClassifier(algorithm='auto',\n",
       "                                                             leaf_size=30,\n",
       "                                                             metric='minkowski',\n",
       "                                                             metric_params=None,\n",
       "                                                             n_jobs=None,\n",
       "                                                             n_neighbors=5, p=2,\n",
       "                                                             weights='uniform'))],\n",
       "                                verbose=False),\n",
       "             iid='deprecated', n_jobs=None,\n",
       "             param_grid={'clf': [KNe...\n",
       "                                                      n_neighbors=5, p=2,\n",
       "                                                      weights='uniform'),\n",
       "                                 LogisticRegression(C=1.0, class_weight=None,\n",
       "                                                    dual=False,\n",
       "                                                    fit_intercept=True,\n",
       "                                                    intercept_scaling=1,\n",
       "                                                    l1_ratio=None, max_iter=100,\n",
       "                                                    multi_class='auto',\n",
       "                                                    n_jobs=None, penalty='l2',\n",
       "                                                    random_state=None,\n",
       "                                                    solver='lbfgs', tol=0.0001,\n",
       "                                                    verbose=0,\n",
       "                                                    warm_start=False)]},\n",
       "             pre_dispatch='2*n_jobs', refit=True, return_train_score=False,\n",
       "             scoring=None, verbose=0)"
      ]
     },
     "execution_count": 41,
     "metadata": {},
     "output_type": "execute_result"
    }
   ],
   "source": [
    "grid.fit(wine.iloc[:,:-1], wine.target)"
   ]
  },
  {
   "cell_type": "code",
   "execution_count": 43,
   "metadata": {},
   "outputs": [
    {
     "data": {
      "text/html": [
       "<div>\n",
       "<style scoped>\n",
       "    .dataframe tbody tr th:only-of-type {\n",
       "        vertical-align: middle;\n",
       "    }\n",
       "\n",
       "    .dataframe tbody tr th {\n",
       "        vertical-align: top;\n",
       "    }\n",
       "\n",
       "    .dataframe thead th {\n",
       "        text-align: right;\n",
       "    }\n",
       "</style>\n",
       "<table border=\"1\" class=\"dataframe\">\n",
       "  <thead>\n",
       "    <tr style=\"text-align: right;\">\n",
       "      <th></th>\n",
       "      <th>mean_fit_time</th>\n",
       "      <th>std_fit_time</th>\n",
       "      <th>mean_score_time</th>\n",
       "      <th>std_score_time</th>\n",
       "      <th>param_clf</th>\n",
       "      <th>params</th>\n",
       "      <th>split0_test_score</th>\n",
       "      <th>split1_test_score</th>\n",
       "      <th>split2_test_score</th>\n",
       "      <th>split3_test_score</th>\n",
       "      <th>split4_test_score</th>\n",
       "      <th>mean_test_score</th>\n",
       "      <th>std_test_score</th>\n",
       "      <th>rank_test_score</th>\n",
       "    </tr>\n",
       "  </thead>\n",
       "  <tbody>\n",
       "    <tr>\n",
       "      <th>0</th>\n",
       "      <td>0.002863</td>\n",
       "      <td>0.000375</td>\n",
       "      <td>0.002604</td>\n",
       "      <td>0.000391</td>\n",
       "      <td>KNeighborsClassifier(algorithm='auto', leaf_si...</td>\n",
       "      <td>{'clf': KNeighborsClassifier(algorithm='auto',...</td>\n",
       "      <td>0.944444</td>\n",
       "      <td>0.944444</td>\n",
       "      <td>0.972222</td>\n",
       "      <td>1.000000</td>\n",
       "      <td>0.885714</td>\n",
       "      <td>0.949365</td>\n",
       "      <td>0.037911</td>\n",
       "      <td>2</td>\n",
       "    </tr>\n",
       "    <tr>\n",
       "      <th>1</th>\n",
       "      <td>0.014453</td>\n",
       "      <td>0.013450</td>\n",
       "      <td>0.001059</td>\n",
       "      <td>0.000523</td>\n",
       "      <td>LogisticRegression(C=1.0, class_weight=None, d...</td>\n",
       "      <td>{'clf': LogisticRegression(C=1.0, class_weight...</td>\n",
       "      <td>0.972222</td>\n",
       "      <td>0.972222</td>\n",
       "      <td>1.000000</td>\n",
       "      <td>0.971429</td>\n",
       "      <td>1.000000</td>\n",
       "      <td>0.983175</td>\n",
       "      <td>0.013741</td>\n",
       "      <td>1</td>\n",
       "    </tr>\n",
       "  </tbody>\n",
       "</table>\n",
       "</div>"
      ],
      "text/plain": [
       "   mean_fit_time  std_fit_time  mean_score_time  std_score_time  \\\n",
       "0       0.002863      0.000375         0.002604        0.000391   \n",
       "1       0.014453      0.013450         0.001059        0.000523   \n",
       "\n",
       "                                           param_clf  \\\n",
       "0  KNeighborsClassifier(algorithm='auto', leaf_si...   \n",
       "1  LogisticRegression(C=1.0, class_weight=None, d...   \n",
       "\n",
       "                                              params  split0_test_score  \\\n",
       "0  {'clf': KNeighborsClassifier(algorithm='auto',...           0.944444   \n",
       "1  {'clf': LogisticRegression(C=1.0, class_weight...           0.972222   \n",
       "\n",
       "   split1_test_score  split2_test_score  split3_test_score  split4_test_score  \\\n",
       "0           0.944444           0.972222           1.000000           0.885714   \n",
       "1           0.972222           1.000000           0.971429           1.000000   \n",
       "\n",
       "   mean_test_score  std_test_score  rank_test_score  \n",
       "0         0.949365        0.037911                2  \n",
       "1         0.983175        0.013741                1  "
      ]
     },
     "execution_count": 43,
     "metadata": {},
     "output_type": "execute_result"
    }
   ],
   "source": [
    "pd.DataFrame(grid.cv_results_)"
   ]
  },
  {
   "cell_type": "code",
   "execution_count": 49,
   "metadata": {},
   "outputs": [],
   "source": [
    "grid = GridSearchCV(pipe, \n",
    "                    [{'clf':[KNeighborsClassifier()], 'clf__n_neighbors':[2,3,4,5]}, \n",
    "                     {'clf':[LogisticRegression()]}])"
   ]
  },
  {
   "cell_type": "code",
   "execution_count": 50,
   "metadata": {},
   "outputs": [
    {
     "data": {
      "text/plain": [
       "GridSearchCV(cv=None, error_score=nan,\n",
       "             estimator=Pipeline(memory=None,\n",
       "                                steps=[('ss',\n",
       "                                        StandardScaler(copy=True,\n",
       "                                                       with_mean=True,\n",
       "                                                       with_std=True)),\n",
       "                                       ('clf',\n",
       "                                        KNeighborsClassifier(algorithm='auto',\n",
       "                                                             leaf_size=30,\n",
       "                                                             metric='minkowski',\n",
       "                                                             metric_params=None,\n",
       "                                                             n_jobs=None,\n",
       "                                                             n_neighbors=5, p=2,\n",
       "                                                             weights='uniform'))],\n",
       "                                verbose=False),\n",
       "             iid='deprecated', n_jobs=None,\n",
       "             param_grid=[{'clf': [KN...\n",
       "                          'clf__n_neighbors': [2, 3, 4, 5]},\n",
       "                         {'clf': [LogisticRegression(C=1.0, class_weight=None,\n",
       "                                                     dual=False,\n",
       "                                                     fit_intercept=True,\n",
       "                                                     intercept_scaling=1,\n",
       "                                                     l1_ratio=None,\n",
       "                                                     max_iter=100,\n",
       "                                                     multi_class='auto',\n",
       "                                                     n_jobs=None, penalty='l2',\n",
       "                                                     random_state=None,\n",
       "                                                     solver='lbfgs', tol=0.0001,\n",
       "                                                     verbose=0,\n",
       "                                                     warm_start=False)]}],\n",
       "             pre_dispatch='2*n_jobs', refit=True, return_train_score=False,\n",
       "             scoring=None, verbose=0)"
      ]
     },
     "execution_count": 50,
     "metadata": {},
     "output_type": "execute_result"
    }
   ],
   "source": [
    "grid.fit(wine.iloc[:,:-1], wine.target)"
   ]
  },
  {
   "cell_type": "code",
   "execution_count": 52,
   "metadata": {},
   "outputs": [
    {
     "data": {
      "text/html": [
       "<div>\n",
       "<style scoped>\n",
       "    .dataframe tbody tr th:only-of-type {\n",
       "        vertical-align: middle;\n",
       "    }\n",
       "\n",
       "    .dataframe tbody tr th {\n",
       "        vertical-align: top;\n",
       "    }\n",
       "\n",
       "    .dataframe thead th {\n",
       "        text-align: right;\n",
       "    }\n",
       "</style>\n",
       "<table border=\"1\" class=\"dataframe\">\n",
       "  <thead>\n",
       "    <tr style=\"text-align: right;\">\n",
       "      <th></th>\n",
       "      <th>mean_fit_time</th>\n",
       "      <th>std_fit_time</th>\n",
       "      <th>mean_score_time</th>\n",
       "      <th>std_score_time</th>\n",
       "      <th>param_clf</th>\n",
       "      <th>param_clf__n_neighbors</th>\n",
       "      <th>params</th>\n",
       "      <th>split0_test_score</th>\n",
       "      <th>split1_test_score</th>\n",
       "      <th>split2_test_score</th>\n",
       "      <th>split3_test_score</th>\n",
       "      <th>split4_test_score</th>\n",
       "      <th>mean_test_score</th>\n",
       "      <th>std_test_score</th>\n",
       "      <th>rank_test_score</th>\n",
       "    </tr>\n",
       "  </thead>\n",
       "  <tbody>\n",
       "    <tr>\n",
       "      <th>0</th>\n",
       "      <td>0.002952</td>\n",
       "      <td>0.000269</td>\n",
       "      <td>0.002651</td>\n",
       "      <td>0.000219</td>\n",
       "      <td>KNeighborsClassifier(algorithm='auto', leaf_si...</td>\n",
       "      <td>2</td>\n",
       "      <td>{'clf': KNeighborsClassifier(algorithm='auto',...</td>\n",
       "      <td>0.916667</td>\n",
       "      <td>0.944444</td>\n",
       "      <td>0.944444</td>\n",
       "      <td>1.000000</td>\n",
       "      <td>0.914286</td>\n",
       "      <td>0.943968</td>\n",
       "      <td>0.030875</td>\n",
       "      <td>3</td>\n",
       "    </tr>\n",
       "    <tr>\n",
       "      <th>1</th>\n",
       "      <td>0.002361</td>\n",
       "      <td>0.000164</td>\n",
       "      <td>0.002224</td>\n",
       "      <td>0.000214</td>\n",
       "      <td>KNeighborsClassifier(algorithm='auto', leaf_si...</td>\n",
       "      <td>3</td>\n",
       "      <td>{'clf': KNeighborsClassifier(algorithm='auto',...</td>\n",
       "      <td>0.888889</td>\n",
       "      <td>0.944444</td>\n",
       "      <td>0.972222</td>\n",
       "      <td>1.000000</td>\n",
       "      <td>0.914286</td>\n",
       "      <td>0.943968</td>\n",
       "      <td>0.039630</td>\n",
       "      <td>3</td>\n",
       "    </tr>\n",
       "    <tr>\n",
       "      <th>2</th>\n",
       "      <td>0.002338</td>\n",
       "      <td>0.000082</td>\n",
       "      <td>0.002192</td>\n",
       "      <td>0.000134</td>\n",
       "      <td>KNeighborsClassifier(algorithm='auto', leaf_si...</td>\n",
       "      <td>4</td>\n",
       "      <td>{'clf': KNeighborsClassifier(algorithm='auto',...</td>\n",
       "      <td>0.888889</td>\n",
       "      <td>0.944444</td>\n",
       "      <td>0.972222</td>\n",
       "      <td>1.000000</td>\n",
       "      <td>0.914286</td>\n",
       "      <td>0.943968</td>\n",
       "      <td>0.039630</td>\n",
       "      <td>3</td>\n",
       "    </tr>\n",
       "    <tr>\n",
       "      <th>3</th>\n",
       "      <td>0.002363</td>\n",
       "      <td>0.000095</td>\n",
       "      <td>0.002216</td>\n",
       "      <td>0.000088</td>\n",
       "      <td>KNeighborsClassifier(algorithm='auto', leaf_si...</td>\n",
       "      <td>5</td>\n",
       "      <td>{'clf': KNeighborsClassifier(algorithm='auto',...</td>\n",
       "      <td>0.944444</td>\n",
       "      <td>0.944444</td>\n",
       "      <td>0.972222</td>\n",
       "      <td>1.000000</td>\n",
       "      <td>0.885714</td>\n",
       "      <td>0.949365</td>\n",
       "      <td>0.037911</td>\n",
       "      <td>2</td>\n",
       "    </tr>\n",
       "    <tr>\n",
       "      <th>4</th>\n",
       "      <td>0.007885</td>\n",
       "      <td>0.000320</td>\n",
       "      <td>0.000881</td>\n",
       "      <td>0.000148</td>\n",
       "      <td>LogisticRegression(C=1.0, class_weight=None, d...</td>\n",
       "      <td>NaN</td>\n",
       "      <td>{'clf': LogisticRegression(C=1.0, class_weight...</td>\n",
       "      <td>0.972222</td>\n",
       "      <td>0.972222</td>\n",
       "      <td>1.000000</td>\n",
       "      <td>0.971429</td>\n",
       "      <td>1.000000</td>\n",
       "      <td>0.983175</td>\n",
       "      <td>0.013741</td>\n",
       "      <td>1</td>\n",
       "    </tr>\n",
       "  </tbody>\n",
       "</table>\n",
       "</div>"
      ],
      "text/plain": [
       "   mean_fit_time  std_fit_time  mean_score_time  std_score_time  \\\n",
       "0       0.002952      0.000269         0.002651        0.000219   \n",
       "1       0.002361      0.000164         0.002224        0.000214   \n",
       "2       0.002338      0.000082         0.002192        0.000134   \n",
       "3       0.002363      0.000095         0.002216        0.000088   \n",
       "4       0.007885      0.000320         0.000881        0.000148   \n",
       "\n",
       "                                           param_clf param_clf__n_neighbors  \\\n",
       "0  KNeighborsClassifier(algorithm='auto', leaf_si...                      2   \n",
       "1  KNeighborsClassifier(algorithm='auto', leaf_si...                      3   \n",
       "2  KNeighborsClassifier(algorithm='auto', leaf_si...                      4   \n",
       "3  KNeighborsClassifier(algorithm='auto', leaf_si...                      5   \n",
       "4  LogisticRegression(C=1.0, class_weight=None, d...                    NaN   \n",
       "\n",
       "                                              params  split0_test_score  \\\n",
       "0  {'clf': KNeighborsClassifier(algorithm='auto',...           0.916667   \n",
       "1  {'clf': KNeighborsClassifier(algorithm='auto',...           0.888889   \n",
       "2  {'clf': KNeighborsClassifier(algorithm='auto',...           0.888889   \n",
       "3  {'clf': KNeighborsClassifier(algorithm='auto',...           0.944444   \n",
       "4  {'clf': LogisticRegression(C=1.0, class_weight...           0.972222   \n",
       "\n",
       "   split1_test_score  split2_test_score  split3_test_score  split4_test_score  \\\n",
       "0           0.944444           0.944444           1.000000           0.914286   \n",
       "1           0.944444           0.972222           1.000000           0.914286   \n",
       "2           0.944444           0.972222           1.000000           0.914286   \n",
       "3           0.944444           0.972222           1.000000           0.885714   \n",
       "4           0.972222           1.000000           0.971429           1.000000   \n",
       "\n",
       "   mean_test_score  std_test_score  rank_test_score  \n",
       "0         0.943968        0.030875                3  \n",
       "1         0.943968        0.039630                3  \n",
       "2         0.943968        0.039630                3  \n",
       "3         0.949365        0.037911                2  \n",
       "4         0.983175        0.013741                1  "
      ]
     },
     "execution_count": 52,
     "metadata": {},
     "output_type": "execute_result"
    }
   ],
   "source": [
    "pd.DataFrame(grid.cv_results_)"
   ]
  },
  {
   "cell_type": "code",
   "execution_count": null,
   "metadata": {},
   "outputs": [],
   "source": []
  }
 ],
 "metadata": {
  "kernelspec": {
   "display_name": "Python 3",
   "language": "python",
   "name": "python3"
  },
  "language_info": {
   "codemirror_mode": {
    "name": "ipython",
    "version": 3
   },
   "file_extension": ".py",
   "mimetype": "text/x-python",
   "name": "python",
   "nbconvert_exporter": "python",
   "pygments_lexer": "ipython3",
   "version": "3.7.6"
  },
  "toc": {
   "base_numbering": 1,
   "nav_menu": {},
   "number_sections": true,
   "sideBar": true,
   "skip_h1_title": true,
   "title_cell": "Table of Contents",
   "title_sidebar": "Contents",
   "toc_cell": true,
   "toc_position": {},
   "toc_section_display": true,
   "toc_window_display": true
  },
  "varInspector": {
   "cols": {
    "lenName": 16,
    "lenType": 16,
    "lenVar": 40
   },
   "kernels_config": {
    "python": {
     "delete_cmd_postfix": "",
     "delete_cmd_prefix": "del ",
     "library": "var_list.py",
     "varRefreshCmd": "print(var_dic_list())"
    },
    "r": {
     "delete_cmd_postfix": ") ",
     "delete_cmd_prefix": "rm(",
     "library": "var_list.r",
     "varRefreshCmd": "cat(var_dic_list()) "
    }
   },
   "types_to_exclude": [
    "module",
    "function",
    "builtin_function_or_method",
    "instance",
    "_Feature"
   ],
   "window_display": false
  }
 },
 "nbformat": 4,
 "nbformat_minor": 2
}
